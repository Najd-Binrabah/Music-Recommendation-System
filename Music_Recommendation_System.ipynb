{
  "cells": [
    {
      "cell_type": "markdown",
      "metadata": {
        "id": "view-in-github",
        "colab_type": "text"
      },
      "source": [
        "<a href=\"https://colab.research.google.com/github/Najd-Binrabah/Music-Recommendation-System/blob/main/Music_Recommendation_System.ipynb\" target=\"_parent\"><img src=\"https://colab.research.google.com/assets/colab-badge.svg\" alt=\"Open In Colab\"/></a>"
      ]
    },
    {
      "cell_type": "markdown",
      "metadata": {
        "id": "DyAjEw4OHmDb"
      },
      "source": [
        "# **Music Recommendation System**"
      ]
    },
    {
      "cell_type": "markdown",
      "metadata": {
        "id": "erIYk5Y1t97U"
      },
      "source": [
        "## **Executive Summary**\n",
        "\n",
        "The advent of digital music streaming has revolutionized how people discover and enjoy music. As users interact with vast libraries of songs, personalized recommendation systems have become pivotal in enhancing their listening experience. In this project, I aim to develop an advanced music recommendation engine that predicts and suggests songs tailored to individual user preferences, leveraging their listening history and patterns. By employing collaborative filtering techniques and a robust ensemble method, I strive to deliver a highly accurate and engaging recommendation system that continuously adapts to evolving user tastes."
      ]
    },
    {
      "cell_type": "markdown",
      "metadata": {
        "id": "dt_BKo-KuQZH"
      },
      "source": [
        "## **Problem and Solution Summary**\n",
        "\n",
        "**Summary of the Problem**\n",
        "\n",
        "In today’s fast-paced world, while technology has made life more efficient, it has also led to increased distractions, leaving less time for artistic pursuits. Nevertheless, technological advancements have made it easier for people to find and consume quality content quickly. For companies in the entertainment industry, a key challenge is determining what kind of content their customers are most likely to enjoy. This is crucial as the revenue of many internet-based companies depends on the time consumers spend on their platforms.\n",
        "\n",
        "Spotify, a leading audio content provider, faces this challenge. With a vast user base and a rich database of preferences, Spotify has grown significantly by recommending the ‘best’ next song to each user. This is achieved through recommendation systems that analyze users’ likes and dislikes to personalize their listening experience. Developing such systems is essential for increasing user engagement and satisfaction, ultimately driving the platform’s success.\n",
        "\n",
        "\n",
        "\n",
        "**The Rationale Behind The Proposed Solution Design**\n",
        "\n",
        "Integrating Item-Item Collaborative Filtering (IICF) and Matrix Factorization (MF) offers a compelling approach due to their complementary strengths.\n",
        "\n",
        "* Item-Item Collaborative Filtering (IICF):\n",
        "\n",
        " - Exploration: IICF excels in guiding users toward new musical experiences by recommending items similar to their past preferences, introducing an element of surprise, which is valuable in music recommendations where discovering new artists is cherished.\n",
        "\n",
        " - Interpretability: IICF provides better interpretability by basing recommendations on item similarities, making it easier to understand why a particular song or artist is recommended.\n",
        "\n",
        "* Matrix Factorization (MF):\n",
        "\n",
        " - Data Sparsity: MF effectively handles data sparsity by leveraging latent factors, making it valuable in scenarios where user-item interactions are sparse.\n",
        "\n",
        " - Scalability and Efficiency: MF is efficient and scalable, capable of seamlessly handling large datasets and numerous users, making it suitable for real-world music recommendation systems.\n",
        "\n",
        " - Personalization: MF personalizes recommendations based on individual listening habits, providing a tailored experience.\n",
        "\n",
        "\n",
        "**Ensemble Method:**\n",
        "\n",
        "The proposed ensemble method combines predictions from both IICF and MF through voting, capitalizing on the unique strengths of each model. This results in a more comprehensive and well-rounded recommendation system that adapts to diverse user preferences.\n",
        "\n",
        "By integrating IICF and MF, the proposed solution design aims to deliver a music recommendation system that enhances user engagement through a mix of discovery and personalization. This balanced approach ensures users receive relevant and exciting recommendations, ultimately driving the platform’s success."
      ]
    },
    {
      "cell_type": "markdown",
      "metadata": {
        "id": "FMCaC7Q_tq1m"
      },
      "source": [
        "\n",
        "### **The objective:**\n",
        "\n",
        "The primary goal of this project is to develop a music recommendation engine that predicts and suggests songs a user is most likely to enjoy, personalized based on their listening history and preferences.\n",
        "\n",
        "### **The problem formulation**:\n",
        "\n",
        "The aim is to build a recommendation system that proposes the top 10 songs for a user, based on the likelihood of the user enjoying those songs."
      ]
    },
    {
      "cell_type": "markdown",
      "metadata": {
        "id": "BVUiyhYTHS1t"
      },
      "source": [
        "### **Data Dictionary**\n",
        "\n",
        "The core data is the Taste Profile Subset released by the Echo Nest as part of the Million Song Dataset. There are two files in this dataset:\n",
        "\n",
        "1.\tSong Data: Includes details about song ID, titles, release, artist name, and year of release.\n",
        "2.\tCount Data: Includes user ID, song ID, and the play count for users.\n",
        "\n",
        "\n",
        "song_data\n",
        "\n",
        "song_id - A unique id given to every song\n",
        "\n",
        "title - Title of the song\n",
        "\n",
        "Release - Name of the released album\n",
        "\n",
        "Artist_name - Name of the artist\n",
        "\n",
        "year - Year of release\n",
        "\n",
        "count_data\n",
        "\n",
        "user _id - A unique id given to the user\n",
        "\n",
        "song_id - A unique id given to the song\n",
        "\n",
        "play_count - Number of times the song was played\n",
        "\n",
        "### **Data Source**\n",
        "http://millionsongdataset.com/"
      ]
    },
    {
      "cell_type": "markdown",
      "metadata": {
        "id": "e5Xejqr8AraV"
      },
      "source": [
        "### **Data Processing**\n",
        "\n",
        "The data was preprocessed, including merging, encoding user and song IDs, and filtering users and songs based on interaction thresholds to ensure a more manageable and relevant dataset."
      ]
    },
    {
      "cell_type": "markdown",
      "metadata": {
        "id": "EABmHpCxBVqP"
      },
      "source": [
        "### **Exploratory Data Analysis**\n",
        "\n",
        "An exploratory data analysis was conducted to understand the distribution of user interactions, song popularity, and artist preferences. Key insights include identifying the most interacted songs and artists, as well as understanding the play count distribution across years."
      ]
    },
    {
      "cell_type": "markdown",
      "metadata": {
        "id": "38NV78EIBa8Y"
      },
      "source": [
        "### **Model Development and Evaluation**\n",
        "\n",
        "Various recommendation models were developed and evaluated, including:\n",
        "\n",
        "1.\tPopularity-Based Recommendation Systems: Provided a baseline using average play counts to recommend popular songs.\n",
        "2.\tUser-User and Item-Item Collaborative Filtering: Implemented models using cosine similarity and evaluated using precision, recall, RMSE, and F1 score. Optimized models showed improvements but highlighted the need for a balanced approach.\n",
        "3.\tMatrix Factorization: Employed SVD for scalable and personalized recommendations, achieving better precision and recall after hyperparameter tuning.\n",
        "4.\tClustering-Based Recommendation Systems: Grouped similar users for recommendations, though the results suggested room for further optimization.\n",
        "5.\tContent-Based Recommendation Systems: Leveraged textual features of songs to recommend similar tracks, enhancing the diversity and relevance of recommendations."
      ]
    },
    {
      "cell_type": "markdown",
      "metadata": {
        "id": "pUwigWK7BskJ"
      },
      "source": [
        "### **Final Proposed Solution**\n",
        "\n",
        "The recommended approach is an ensemble method that combines Matrix Factorization (MF) and Item-Item Collaborative Filtering (IICF) through a voting-based system. This approach leverages the strengths of both models to achieve improved accuracy and reliability in music recommendations."
      ]
    },
    {
      "cell_type": "markdown",
      "metadata": {
        "id": "NRJtXkTrHxMQ"
      },
      "source": [
        "#### **Importing Libraries and the Dataset**"
      ]
    },
    {
      "cell_type": "code",
      "execution_count": null,
      "metadata": {
        "id": "R4YvKrpzId3K"
      },
      "outputs": [],
      "source": [
        "# Disable unnecessary warnings to enhance code readability\n",
        "import warnings\n",
        "warnings.filterwarnings('ignore')\n",
        "\n",
        "import numpy as np # Import NumPy for efficient numerical calculations\n",
        "import pandas as pd # Pandas for data manipulation and analysis\n",
        "\n",
        "# Matplotlib for basic data visualization\n",
        "import matplotlib.pyplot as plt\n",
        "from matplotlib.colors import ListedColormap\n",
        "\n",
        "# Seaborn for more advanced data visualization\n",
        "import seaborn as sns\n",
        "\n",
        "# Scikit-learn for cosine similarity computation between two vectors\n",
        "from sklearn.metrics.pairwise import cosine_similarity\n",
        "\n",
        "# DefaultDict from collections to handle dictionaries without raising key errors\n",
        "from collections import defaultdict\n",
        "\n",
        "# Mean Squared Error (MSE) from scikit-learn for performance evaluation\n",
        "from sklearn.metrics import mean_squared_error"
      ]
    },
    {
      "cell_type": "markdown",
      "metadata": {
        "id": "bUGKX140wf-S"
      },
      "source": [
        "#### **Load the dataset**"
      ]
    },
    {
      "cell_type": "code",
      "execution_count": null,
      "metadata": {
        "colab": {
          "base_uri": "https://localhost:8080/"
        },
        "id": "vLjVYwsInsxi",
        "outputId": "21d81506-58e6-47b9-bc13-9f796f9a0c24"
      },
      "outputs": [
        {
          "output_type": "stream",
          "name": "stdout",
          "text": [
            "Drive already mounted at /content/drive; to attempt to forcibly remount, call drive.mount(\"/content/drive\", force_remount=True).\n"
          ]
        }
      ],
      "source": [
        "# Mounting the drive\n",
        "from google.colab import drive\n",
        "drive.mount('/content/drive')"
      ]
    },
    {
      "cell_type": "code",
      "execution_count": null,
      "metadata": {
        "id": "si6ulhIYImck"
      },
      "outputs": [],
      "source": [
        "# Import  datasets\n",
        "count_df = pd.read_csv('/content/drive/MyDrive/count_data.csv')\n",
        "song_df = pd.read_csv('/content/drive/MyDrive/song_data.csv')"
      ]
    },
    {
      "cell_type": "markdown",
      "metadata": {
        "id": "12TKB2M7XyC6"
      },
      "source": [
        "#### **Understanding the data by viewing a few observations**"
      ]
    },
    {
      "cell_type": "code",
      "execution_count": null,
      "metadata": {
        "id": "GCLzBuYiXlPM",
        "colab": {
          "base_uri": "https://localhost:8080/",
          "height": 359
        },
        "outputId": "5b3a08b7-6793-4157-dffc-5abaa58d314a"
      },
      "outputs": [
        {
          "output_type": "execute_result",
          "data": {
            "text/plain": [
              "   Unnamed: 0                                   user_id             song_id  \\\n",
              "0           0  b80344d063b5ccb3212f76538f3d9e43d87dca9e  SOAKIMP12A8C130995   \n",
              "1           1  b80344d063b5ccb3212f76538f3d9e43d87dca9e  SOBBMDR12A8C13253B   \n",
              "2           2  b80344d063b5ccb3212f76538f3d9e43d87dca9e  SOBXHDL12A81C204C0   \n",
              "3           3  b80344d063b5ccb3212f76538f3d9e43d87dca9e  SOBYHAJ12A6701BF1D   \n",
              "4           4  b80344d063b5ccb3212f76538f3d9e43d87dca9e  SODACBL12A8C13C273   \n",
              "5           5  b80344d063b5ccb3212f76538f3d9e43d87dca9e  SODDNQT12A6D4F5F7E   \n",
              "6           6  b80344d063b5ccb3212f76538f3d9e43d87dca9e  SODXRTY12AB0180F3B   \n",
              "7           7  b80344d063b5ccb3212f76538f3d9e43d87dca9e  SOFGUAY12AB017B0A8   \n",
              "8           8  b80344d063b5ccb3212f76538f3d9e43d87dca9e  SOFRQTD12A81C233C0   \n",
              "9           9  b80344d063b5ccb3212f76538f3d9e43d87dca9e  SOHQWYZ12A6D4FA701   \n",
              "\n",
              "   play_count  \n",
              "0           1  \n",
              "1           2  \n",
              "2           1  \n",
              "3           1  \n",
              "4           1  \n",
              "5           5  \n",
              "6           1  \n",
              "7           1  \n",
              "8           1  \n",
              "9           1  "
            ],
            "text/html": [
              "\n",
              "  <div id=\"df-ac7dfef8-438c-445e-a6fd-36574ce70ce0\" class=\"colab-df-container\">\n",
              "    <div>\n",
              "<style scoped>\n",
              "    .dataframe tbody tr th:only-of-type {\n",
              "        vertical-align: middle;\n",
              "    }\n",
              "\n",
              "    .dataframe tbody tr th {\n",
              "        vertical-align: top;\n",
              "    }\n",
              "\n",
              "    .dataframe thead th {\n",
              "        text-align: right;\n",
              "    }\n",
              "</style>\n",
              "<table border=\"1\" class=\"dataframe\">\n",
              "  <thead>\n",
              "    <tr style=\"text-align: right;\">\n",
              "      <th></th>\n",
              "      <th>Unnamed: 0</th>\n",
              "      <th>user_id</th>\n",
              "      <th>song_id</th>\n",
              "      <th>play_count</th>\n",
              "    </tr>\n",
              "  </thead>\n",
              "  <tbody>\n",
              "    <tr>\n",
              "      <th>0</th>\n",
              "      <td>0</td>\n",
              "      <td>b80344d063b5ccb3212f76538f3d9e43d87dca9e</td>\n",
              "      <td>SOAKIMP12A8C130995</td>\n",
              "      <td>1</td>\n",
              "    </tr>\n",
              "    <tr>\n",
              "      <th>1</th>\n",
              "      <td>1</td>\n",
              "      <td>b80344d063b5ccb3212f76538f3d9e43d87dca9e</td>\n",
              "      <td>SOBBMDR12A8C13253B</td>\n",
              "      <td>2</td>\n",
              "    </tr>\n",
              "    <tr>\n",
              "      <th>2</th>\n",
              "      <td>2</td>\n",
              "      <td>b80344d063b5ccb3212f76538f3d9e43d87dca9e</td>\n",
              "      <td>SOBXHDL12A81C204C0</td>\n",
              "      <td>1</td>\n",
              "    </tr>\n",
              "    <tr>\n",
              "      <th>3</th>\n",
              "      <td>3</td>\n",
              "      <td>b80344d063b5ccb3212f76538f3d9e43d87dca9e</td>\n",
              "      <td>SOBYHAJ12A6701BF1D</td>\n",
              "      <td>1</td>\n",
              "    </tr>\n",
              "    <tr>\n",
              "      <th>4</th>\n",
              "      <td>4</td>\n",
              "      <td>b80344d063b5ccb3212f76538f3d9e43d87dca9e</td>\n",
              "      <td>SODACBL12A8C13C273</td>\n",
              "      <td>1</td>\n",
              "    </tr>\n",
              "    <tr>\n",
              "      <th>5</th>\n",
              "      <td>5</td>\n",
              "      <td>b80344d063b5ccb3212f76538f3d9e43d87dca9e</td>\n",
              "      <td>SODDNQT12A6D4F5F7E</td>\n",
              "      <td>5</td>\n",
              "    </tr>\n",
              "    <tr>\n",
              "      <th>6</th>\n",
              "      <td>6</td>\n",
              "      <td>b80344d063b5ccb3212f76538f3d9e43d87dca9e</td>\n",
              "      <td>SODXRTY12AB0180F3B</td>\n",
              "      <td>1</td>\n",
              "    </tr>\n",
              "    <tr>\n",
              "      <th>7</th>\n",
              "      <td>7</td>\n",
              "      <td>b80344d063b5ccb3212f76538f3d9e43d87dca9e</td>\n",
              "      <td>SOFGUAY12AB017B0A8</td>\n",
              "      <td>1</td>\n",
              "    </tr>\n",
              "    <tr>\n",
              "      <th>8</th>\n",
              "      <td>8</td>\n",
              "      <td>b80344d063b5ccb3212f76538f3d9e43d87dca9e</td>\n",
              "      <td>SOFRQTD12A81C233C0</td>\n",
              "      <td>1</td>\n",
              "    </tr>\n",
              "    <tr>\n",
              "      <th>9</th>\n",
              "      <td>9</td>\n",
              "      <td>b80344d063b5ccb3212f76538f3d9e43d87dca9e</td>\n",
              "      <td>SOHQWYZ12A6D4FA701</td>\n",
              "      <td>1</td>\n",
              "    </tr>\n",
              "  </tbody>\n",
              "</table>\n",
              "</div>\n",
              "    <div class=\"colab-df-buttons\">\n",
              "\n",
              "  <div class=\"colab-df-container\">\n",
              "    <button class=\"colab-df-convert\" onclick=\"convertToInteractive('df-ac7dfef8-438c-445e-a6fd-36574ce70ce0')\"\n",
              "            title=\"Convert this dataframe to an interactive table.\"\n",
              "            style=\"display:none;\">\n",
              "\n",
              "  <svg xmlns=\"http://www.w3.org/2000/svg\" height=\"24px\" viewBox=\"0 -960 960 960\">\n",
              "    <path d=\"M120-120v-720h720v720H120Zm60-500h600v-160H180v160Zm220 220h160v-160H400v160Zm0 220h160v-160H400v160ZM180-400h160v-160H180v160Zm440 0h160v-160H620v160ZM180-180h160v-160H180v160Zm440 0h160v-160H620v160Z\"/>\n",
              "  </svg>\n",
              "    </button>\n",
              "\n",
              "  <style>\n",
              "    .colab-df-container {\n",
              "      display:flex;\n",
              "      gap: 12px;\n",
              "    }\n",
              "\n",
              "    .colab-df-convert {\n",
              "      background-color: #E8F0FE;\n",
              "      border: none;\n",
              "      border-radius: 50%;\n",
              "      cursor: pointer;\n",
              "      display: none;\n",
              "      fill: #1967D2;\n",
              "      height: 32px;\n",
              "      padding: 0 0 0 0;\n",
              "      width: 32px;\n",
              "    }\n",
              "\n",
              "    .colab-df-convert:hover {\n",
              "      background-color: #E2EBFA;\n",
              "      box-shadow: 0px 1px 2px rgba(60, 64, 67, 0.3), 0px 1px 3px 1px rgba(60, 64, 67, 0.15);\n",
              "      fill: #174EA6;\n",
              "    }\n",
              "\n",
              "    .colab-df-buttons div {\n",
              "      margin-bottom: 4px;\n",
              "    }\n",
              "\n",
              "    [theme=dark] .colab-df-convert {\n",
              "      background-color: #3B4455;\n",
              "      fill: #D2E3FC;\n",
              "    }\n",
              "\n",
              "    [theme=dark] .colab-df-convert:hover {\n",
              "      background-color: #434B5C;\n",
              "      box-shadow: 0px 1px 3px 1px rgba(0, 0, 0, 0.15);\n",
              "      filter: drop-shadow(0px 1px 2px rgba(0, 0, 0, 0.3));\n",
              "      fill: #FFFFFF;\n",
              "    }\n",
              "  </style>\n",
              "\n",
              "    <script>\n",
              "      const buttonEl =\n",
              "        document.querySelector('#df-ac7dfef8-438c-445e-a6fd-36574ce70ce0 button.colab-df-convert');\n",
              "      buttonEl.style.display =\n",
              "        google.colab.kernel.accessAllowed ? 'block' : 'none';\n",
              "\n",
              "      async function convertToInteractive(key) {\n",
              "        const element = document.querySelector('#df-ac7dfef8-438c-445e-a6fd-36574ce70ce0');\n",
              "        const dataTable =\n",
              "          await google.colab.kernel.invokeFunction('convertToInteractive',\n",
              "                                                    [key], {});\n",
              "        if (!dataTable) return;\n",
              "\n",
              "        const docLinkHtml = 'Like what you see? Visit the ' +\n",
              "          '<a target=\"_blank\" href=https://colab.research.google.com/notebooks/data_table.ipynb>data table notebook</a>'\n",
              "          + ' to learn more about interactive tables.';\n",
              "        element.innerHTML = '';\n",
              "        dataTable['output_type'] = 'display_data';\n",
              "        await google.colab.output.renderOutput(dataTable, element);\n",
              "        const docLink = document.createElement('div');\n",
              "        docLink.innerHTML = docLinkHtml;\n",
              "        element.appendChild(docLink);\n",
              "      }\n",
              "    </script>\n",
              "  </div>\n",
              "\n",
              "\n",
              "<div id=\"df-ffb07be5-9d1d-4c11-9aad-22320e5e0840\">\n",
              "  <button class=\"colab-df-quickchart\" onclick=\"quickchart('df-ffb07be5-9d1d-4c11-9aad-22320e5e0840')\"\n",
              "            title=\"Suggest charts\"\n",
              "            style=\"display:none;\">\n",
              "\n",
              "<svg xmlns=\"http://www.w3.org/2000/svg\" height=\"24px\"viewBox=\"0 0 24 24\"\n",
              "     width=\"24px\">\n",
              "    <g>\n",
              "        <path d=\"M19 3H5c-1.1 0-2 .9-2 2v14c0 1.1.9 2 2 2h14c1.1 0 2-.9 2-2V5c0-1.1-.9-2-2-2zM9 17H7v-7h2v7zm4 0h-2V7h2v10zm4 0h-2v-4h2v4z\"/>\n",
              "    </g>\n",
              "</svg>\n",
              "  </button>\n",
              "\n",
              "<style>\n",
              "  .colab-df-quickchart {\n",
              "      --bg-color: #E8F0FE;\n",
              "      --fill-color: #1967D2;\n",
              "      --hover-bg-color: #E2EBFA;\n",
              "      --hover-fill-color: #174EA6;\n",
              "      --disabled-fill-color: #AAA;\n",
              "      --disabled-bg-color: #DDD;\n",
              "  }\n",
              "\n",
              "  [theme=dark] .colab-df-quickchart {\n",
              "      --bg-color: #3B4455;\n",
              "      --fill-color: #D2E3FC;\n",
              "      --hover-bg-color: #434B5C;\n",
              "      --hover-fill-color: #FFFFFF;\n",
              "      --disabled-bg-color: #3B4455;\n",
              "      --disabled-fill-color: #666;\n",
              "  }\n",
              "\n",
              "  .colab-df-quickchart {\n",
              "    background-color: var(--bg-color);\n",
              "    border: none;\n",
              "    border-radius: 50%;\n",
              "    cursor: pointer;\n",
              "    display: none;\n",
              "    fill: var(--fill-color);\n",
              "    height: 32px;\n",
              "    padding: 0;\n",
              "    width: 32px;\n",
              "  }\n",
              "\n",
              "  .colab-df-quickchart:hover {\n",
              "    background-color: var(--hover-bg-color);\n",
              "    box-shadow: 0 1px 2px rgba(60, 64, 67, 0.3), 0 1px 3px 1px rgba(60, 64, 67, 0.15);\n",
              "    fill: var(--button-hover-fill-color);\n",
              "  }\n",
              "\n",
              "  .colab-df-quickchart-complete:disabled,\n",
              "  .colab-df-quickchart-complete:disabled:hover {\n",
              "    background-color: var(--disabled-bg-color);\n",
              "    fill: var(--disabled-fill-color);\n",
              "    box-shadow: none;\n",
              "  }\n",
              "\n",
              "  .colab-df-spinner {\n",
              "    border: 2px solid var(--fill-color);\n",
              "    border-color: transparent;\n",
              "    border-bottom-color: var(--fill-color);\n",
              "    animation:\n",
              "      spin 1s steps(1) infinite;\n",
              "  }\n",
              "\n",
              "  @keyframes spin {\n",
              "    0% {\n",
              "      border-color: transparent;\n",
              "      border-bottom-color: var(--fill-color);\n",
              "      border-left-color: var(--fill-color);\n",
              "    }\n",
              "    20% {\n",
              "      border-color: transparent;\n",
              "      border-left-color: var(--fill-color);\n",
              "      border-top-color: var(--fill-color);\n",
              "    }\n",
              "    30% {\n",
              "      border-color: transparent;\n",
              "      border-left-color: var(--fill-color);\n",
              "      border-top-color: var(--fill-color);\n",
              "      border-right-color: var(--fill-color);\n",
              "    }\n",
              "    40% {\n",
              "      border-color: transparent;\n",
              "      border-right-color: var(--fill-color);\n",
              "      border-top-color: var(--fill-color);\n",
              "    }\n",
              "    60% {\n",
              "      border-color: transparent;\n",
              "      border-right-color: var(--fill-color);\n",
              "    }\n",
              "    80% {\n",
              "      border-color: transparent;\n",
              "      border-right-color: var(--fill-color);\n",
              "      border-bottom-color: var(--fill-color);\n",
              "    }\n",
              "    90% {\n",
              "      border-color: transparent;\n",
              "      border-bottom-color: var(--fill-color);\n",
              "    }\n",
              "  }\n",
              "</style>\n",
              "\n",
              "  <script>\n",
              "    async function quickchart(key) {\n",
              "      const quickchartButtonEl =\n",
              "        document.querySelector('#' + key + ' button');\n",
              "      quickchartButtonEl.disabled = true;  // To prevent multiple clicks.\n",
              "      quickchartButtonEl.classList.add('colab-df-spinner');\n",
              "      try {\n",
              "        const charts = await google.colab.kernel.invokeFunction(\n",
              "            'suggestCharts', [key], {});\n",
              "      } catch (error) {\n",
              "        console.error('Error during call to suggestCharts:', error);\n",
              "      }\n",
              "      quickchartButtonEl.classList.remove('colab-df-spinner');\n",
              "      quickchartButtonEl.classList.add('colab-df-quickchart-complete');\n",
              "    }\n",
              "    (() => {\n",
              "      let quickchartButtonEl =\n",
              "        document.querySelector('#df-ffb07be5-9d1d-4c11-9aad-22320e5e0840 button');\n",
              "      quickchartButtonEl.style.display =\n",
              "        google.colab.kernel.accessAllowed ? 'block' : 'none';\n",
              "    })();\n",
              "  </script>\n",
              "</div>\n",
              "\n",
              "    </div>\n",
              "  </div>\n"
            ],
            "application/vnd.google.colaboratory.intrinsic+json": {
              "type": "dataframe",
              "variable_name": "count_df"
            }
          },
          "metadata": {},
          "execution_count": 4
        }
      ],
      "source": [
        "# Display the first 10 rows of the 'count_df' DataFrame\n",
        "count_df.head(10)"
      ]
    },
    {
      "cell_type": "code",
      "execution_count": null,
      "metadata": {
        "id": "tV1ed0ApXpu3",
        "colab": {
          "base_uri": "https://localhost:8080/",
          "height": 359
        },
        "outputId": "c5d89e1e-5702-4d22-b750-5f5f62a58c85"
      },
      "outputs": [
        {
          "output_type": "execute_result",
          "data": {
            "text/plain": [
              "              song_id                                              title  \\\n",
              "0  SOQMMHC12AB0180CB8                                       Silent Night   \n",
              "1  SOVFVAK12A8C1350D9                                        Tanssi vaan   \n",
              "2  SOGTUKN12AB017F4F1                                  No One Could Ever   \n",
              "3  SOBNYVR12A8C13558C                                      Si Vos Querés   \n",
              "4  SOHSBXH12A8C13B0DF                                   Tangle Of Aspens   \n",
              "5  SOZVAPQ12A8C13B63C  Symphony No. 1 G minor \"Sinfonie Serieuse\"/All...   \n",
              "6  SOQVRHI12A6D4FB2D7                                   We Have Got Love   \n",
              "7  SOEYRFT12AB018936C                                  2 Da Beat Ch'yall   \n",
              "8  SOPMIYT12A6D4F851E                                            Goodbye   \n",
              "9  SOJCFMH12A8C13B0C2                         Mama_ mama can't you see ?   \n",
              "\n",
              "                                release  \\\n",
              "0                 Monster Ballads X-Mas   \n",
              "1                           Karkuteillä   \n",
              "2                                Butter   \n",
              "3                               De Culo   \n",
              "4  Rene Ablaze Presents Winter Sessions   \n",
              "5      Berwald: Symphonies Nos. 1/2/3/4   \n",
              "6             Strictly The Best Vol. 34   \n",
              "7                               Da Bomb   \n",
              "8                             Danny Boy   \n",
              "9  March to cadence with the US marines   \n",
              "\n",
              "                                      artist_name  year  \n",
              "0                                Faster Pussy cat  2003  \n",
              "1                                Karkkiautomaatti  1995  \n",
              "2                                  Hudson Mohawke  2006  \n",
              "3                                     Yerba Brava  2003  \n",
              "4                                      Der Mystic     0  \n",
              "5                                David Montgomery     0  \n",
              "6                              Sasha / Turbulence     0  \n",
              "7                                      Kris Kross  1993  \n",
              "8                                    Joseph Locke     0  \n",
              "9  The Sun Harbor's Chorus-Documentary Recordings     0  "
            ],
            "text/html": [
              "\n",
              "  <div id=\"df-f35d92ee-201c-4338-b096-1618094028fa\" class=\"colab-df-container\">\n",
              "    <div>\n",
              "<style scoped>\n",
              "    .dataframe tbody tr th:only-of-type {\n",
              "        vertical-align: middle;\n",
              "    }\n",
              "\n",
              "    .dataframe tbody tr th {\n",
              "        vertical-align: top;\n",
              "    }\n",
              "\n",
              "    .dataframe thead th {\n",
              "        text-align: right;\n",
              "    }\n",
              "</style>\n",
              "<table border=\"1\" class=\"dataframe\">\n",
              "  <thead>\n",
              "    <tr style=\"text-align: right;\">\n",
              "      <th></th>\n",
              "      <th>song_id</th>\n",
              "      <th>title</th>\n",
              "      <th>release</th>\n",
              "      <th>artist_name</th>\n",
              "      <th>year</th>\n",
              "    </tr>\n",
              "  </thead>\n",
              "  <tbody>\n",
              "    <tr>\n",
              "      <th>0</th>\n",
              "      <td>SOQMMHC12AB0180CB8</td>\n",
              "      <td>Silent Night</td>\n",
              "      <td>Monster Ballads X-Mas</td>\n",
              "      <td>Faster Pussy cat</td>\n",
              "      <td>2003</td>\n",
              "    </tr>\n",
              "    <tr>\n",
              "      <th>1</th>\n",
              "      <td>SOVFVAK12A8C1350D9</td>\n",
              "      <td>Tanssi vaan</td>\n",
              "      <td>Karkuteillä</td>\n",
              "      <td>Karkkiautomaatti</td>\n",
              "      <td>1995</td>\n",
              "    </tr>\n",
              "    <tr>\n",
              "      <th>2</th>\n",
              "      <td>SOGTUKN12AB017F4F1</td>\n",
              "      <td>No One Could Ever</td>\n",
              "      <td>Butter</td>\n",
              "      <td>Hudson Mohawke</td>\n",
              "      <td>2006</td>\n",
              "    </tr>\n",
              "    <tr>\n",
              "      <th>3</th>\n",
              "      <td>SOBNYVR12A8C13558C</td>\n",
              "      <td>Si Vos Querés</td>\n",
              "      <td>De Culo</td>\n",
              "      <td>Yerba Brava</td>\n",
              "      <td>2003</td>\n",
              "    </tr>\n",
              "    <tr>\n",
              "      <th>4</th>\n",
              "      <td>SOHSBXH12A8C13B0DF</td>\n",
              "      <td>Tangle Of Aspens</td>\n",
              "      <td>Rene Ablaze Presents Winter Sessions</td>\n",
              "      <td>Der Mystic</td>\n",
              "      <td>0</td>\n",
              "    </tr>\n",
              "    <tr>\n",
              "      <th>5</th>\n",
              "      <td>SOZVAPQ12A8C13B63C</td>\n",
              "      <td>Symphony No. 1 G minor \"Sinfonie Serieuse\"/All...</td>\n",
              "      <td>Berwald: Symphonies Nos. 1/2/3/4</td>\n",
              "      <td>David Montgomery</td>\n",
              "      <td>0</td>\n",
              "    </tr>\n",
              "    <tr>\n",
              "      <th>6</th>\n",
              "      <td>SOQVRHI12A6D4FB2D7</td>\n",
              "      <td>We Have Got Love</td>\n",
              "      <td>Strictly The Best Vol. 34</td>\n",
              "      <td>Sasha / Turbulence</td>\n",
              "      <td>0</td>\n",
              "    </tr>\n",
              "    <tr>\n",
              "      <th>7</th>\n",
              "      <td>SOEYRFT12AB018936C</td>\n",
              "      <td>2 Da Beat Ch'yall</td>\n",
              "      <td>Da Bomb</td>\n",
              "      <td>Kris Kross</td>\n",
              "      <td>1993</td>\n",
              "    </tr>\n",
              "    <tr>\n",
              "      <th>8</th>\n",
              "      <td>SOPMIYT12A6D4F851E</td>\n",
              "      <td>Goodbye</td>\n",
              "      <td>Danny Boy</td>\n",
              "      <td>Joseph Locke</td>\n",
              "      <td>0</td>\n",
              "    </tr>\n",
              "    <tr>\n",
              "      <th>9</th>\n",
              "      <td>SOJCFMH12A8C13B0C2</td>\n",
              "      <td>Mama_ mama can't you see ?</td>\n",
              "      <td>March to cadence with the US marines</td>\n",
              "      <td>The Sun Harbor's Chorus-Documentary Recordings</td>\n",
              "      <td>0</td>\n",
              "    </tr>\n",
              "  </tbody>\n",
              "</table>\n",
              "</div>\n",
              "    <div class=\"colab-df-buttons\">\n",
              "\n",
              "  <div class=\"colab-df-container\">\n",
              "    <button class=\"colab-df-convert\" onclick=\"convertToInteractive('df-f35d92ee-201c-4338-b096-1618094028fa')\"\n",
              "            title=\"Convert this dataframe to an interactive table.\"\n",
              "            style=\"display:none;\">\n",
              "\n",
              "  <svg xmlns=\"http://www.w3.org/2000/svg\" height=\"24px\" viewBox=\"0 -960 960 960\">\n",
              "    <path d=\"M120-120v-720h720v720H120Zm60-500h600v-160H180v160Zm220 220h160v-160H400v160Zm0 220h160v-160H400v160ZM180-400h160v-160H180v160Zm440 0h160v-160H620v160ZM180-180h160v-160H180v160Zm440 0h160v-160H620v160Z\"/>\n",
              "  </svg>\n",
              "    </button>\n",
              "\n",
              "  <style>\n",
              "    .colab-df-container {\n",
              "      display:flex;\n",
              "      gap: 12px;\n",
              "    }\n",
              "\n",
              "    .colab-df-convert {\n",
              "      background-color: #E8F0FE;\n",
              "      border: none;\n",
              "      border-radius: 50%;\n",
              "      cursor: pointer;\n",
              "      display: none;\n",
              "      fill: #1967D2;\n",
              "      height: 32px;\n",
              "      padding: 0 0 0 0;\n",
              "      width: 32px;\n",
              "    }\n",
              "\n",
              "    .colab-df-convert:hover {\n",
              "      background-color: #E2EBFA;\n",
              "      box-shadow: 0px 1px 2px rgba(60, 64, 67, 0.3), 0px 1px 3px 1px rgba(60, 64, 67, 0.15);\n",
              "      fill: #174EA6;\n",
              "    }\n",
              "\n",
              "    .colab-df-buttons div {\n",
              "      margin-bottom: 4px;\n",
              "    }\n",
              "\n",
              "    [theme=dark] .colab-df-convert {\n",
              "      background-color: #3B4455;\n",
              "      fill: #D2E3FC;\n",
              "    }\n",
              "\n",
              "    [theme=dark] .colab-df-convert:hover {\n",
              "      background-color: #434B5C;\n",
              "      box-shadow: 0px 1px 3px 1px rgba(0, 0, 0, 0.15);\n",
              "      filter: drop-shadow(0px 1px 2px rgba(0, 0, 0, 0.3));\n",
              "      fill: #FFFFFF;\n",
              "    }\n",
              "  </style>\n",
              "\n",
              "    <script>\n",
              "      const buttonEl =\n",
              "        document.querySelector('#df-f35d92ee-201c-4338-b096-1618094028fa button.colab-df-convert');\n",
              "      buttonEl.style.display =\n",
              "        google.colab.kernel.accessAllowed ? 'block' : 'none';\n",
              "\n",
              "      async function convertToInteractive(key) {\n",
              "        const element = document.querySelector('#df-f35d92ee-201c-4338-b096-1618094028fa');\n",
              "        const dataTable =\n",
              "          await google.colab.kernel.invokeFunction('convertToInteractive',\n",
              "                                                    [key], {});\n",
              "        if (!dataTable) return;\n",
              "\n",
              "        const docLinkHtml = 'Like what you see? Visit the ' +\n",
              "          '<a target=\"_blank\" href=https://colab.research.google.com/notebooks/data_table.ipynb>data table notebook</a>'\n",
              "          + ' to learn more about interactive tables.';\n",
              "        element.innerHTML = '';\n",
              "        dataTable['output_type'] = 'display_data';\n",
              "        await google.colab.output.renderOutput(dataTable, element);\n",
              "        const docLink = document.createElement('div');\n",
              "        docLink.innerHTML = docLinkHtml;\n",
              "        element.appendChild(docLink);\n",
              "      }\n",
              "    </script>\n",
              "  </div>\n",
              "\n",
              "\n",
              "<div id=\"df-6fc7da46-038e-42b3-bc67-c05ddb49c690\">\n",
              "  <button class=\"colab-df-quickchart\" onclick=\"quickchart('df-6fc7da46-038e-42b3-bc67-c05ddb49c690')\"\n",
              "            title=\"Suggest charts\"\n",
              "            style=\"display:none;\">\n",
              "\n",
              "<svg xmlns=\"http://www.w3.org/2000/svg\" height=\"24px\"viewBox=\"0 0 24 24\"\n",
              "     width=\"24px\">\n",
              "    <g>\n",
              "        <path d=\"M19 3H5c-1.1 0-2 .9-2 2v14c0 1.1.9 2 2 2h14c1.1 0 2-.9 2-2V5c0-1.1-.9-2-2-2zM9 17H7v-7h2v7zm4 0h-2V7h2v10zm4 0h-2v-4h2v4z\"/>\n",
              "    </g>\n",
              "</svg>\n",
              "  </button>\n",
              "\n",
              "<style>\n",
              "  .colab-df-quickchart {\n",
              "      --bg-color: #E8F0FE;\n",
              "      --fill-color: #1967D2;\n",
              "      --hover-bg-color: #E2EBFA;\n",
              "      --hover-fill-color: #174EA6;\n",
              "      --disabled-fill-color: #AAA;\n",
              "      --disabled-bg-color: #DDD;\n",
              "  }\n",
              "\n",
              "  [theme=dark] .colab-df-quickchart {\n",
              "      --bg-color: #3B4455;\n",
              "      --fill-color: #D2E3FC;\n",
              "      --hover-bg-color: #434B5C;\n",
              "      --hover-fill-color: #FFFFFF;\n",
              "      --disabled-bg-color: #3B4455;\n",
              "      --disabled-fill-color: #666;\n",
              "  }\n",
              "\n",
              "  .colab-df-quickchart {\n",
              "    background-color: var(--bg-color);\n",
              "    border: none;\n",
              "    border-radius: 50%;\n",
              "    cursor: pointer;\n",
              "    display: none;\n",
              "    fill: var(--fill-color);\n",
              "    height: 32px;\n",
              "    padding: 0;\n",
              "    width: 32px;\n",
              "  }\n",
              "\n",
              "  .colab-df-quickchart:hover {\n",
              "    background-color: var(--hover-bg-color);\n",
              "    box-shadow: 0 1px 2px rgba(60, 64, 67, 0.3), 0 1px 3px 1px rgba(60, 64, 67, 0.15);\n",
              "    fill: var(--button-hover-fill-color);\n",
              "  }\n",
              "\n",
              "  .colab-df-quickchart-complete:disabled,\n",
              "  .colab-df-quickchart-complete:disabled:hover {\n",
              "    background-color: var(--disabled-bg-color);\n",
              "    fill: var(--disabled-fill-color);\n",
              "    box-shadow: none;\n",
              "  }\n",
              "\n",
              "  .colab-df-spinner {\n",
              "    border: 2px solid var(--fill-color);\n",
              "    border-color: transparent;\n",
              "    border-bottom-color: var(--fill-color);\n",
              "    animation:\n",
              "      spin 1s steps(1) infinite;\n",
              "  }\n",
              "\n",
              "  @keyframes spin {\n",
              "    0% {\n",
              "      border-color: transparent;\n",
              "      border-bottom-color: var(--fill-color);\n",
              "      border-left-color: var(--fill-color);\n",
              "    }\n",
              "    20% {\n",
              "      border-color: transparent;\n",
              "      border-left-color: var(--fill-color);\n",
              "      border-top-color: var(--fill-color);\n",
              "    }\n",
              "    30% {\n",
              "      border-color: transparent;\n",
              "      border-left-color: var(--fill-color);\n",
              "      border-top-color: var(--fill-color);\n",
              "      border-right-color: var(--fill-color);\n",
              "    }\n",
              "    40% {\n",
              "      border-color: transparent;\n",
              "      border-right-color: var(--fill-color);\n",
              "      border-top-color: var(--fill-color);\n",
              "    }\n",
              "    60% {\n",
              "      border-color: transparent;\n",
              "      border-right-color: var(--fill-color);\n",
              "    }\n",
              "    80% {\n",
              "      border-color: transparent;\n",
              "      border-right-color: var(--fill-color);\n",
              "      border-bottom-color: var(--fill-color);\n",
              "    }\n",
              "    90% {\n",
              "      border-color: transparent;\n",
              "      border-bottom-color: var(--fill-color);\n",
              "    }\n",
              "  }\n",
              "</style>\n",
              "\n",
              "  <script>\n",
              "    async function quickchart(key) {\n",
              "      const quickchartButtonEl =\n",
              "        document.querySelector('#' + key + ' button');\n",
              "      quickchartButtonEl.disabled = true;  // To prevent multiple clicks.\n",
              "      quickchartButtonEl.classList.add('colab-df-spinner');\n",
              "      try {\n",
              "        const charts = await google.colab.kernel.invokeFunction(\n",
              "            'suggestCharts', [key], {});\n",
              "      } catch (error) {\n",
              "        console.error('Error during call to suggestCharts:', error);\n",
              "      }\n",
              "      quickchartButtonEl.classList.remove('colab-df-spinner');\n",
              "      quickchartButtonEl.classList.add('colab-df-quickchart-complete');\n",
              "    }\n",
              "    (() => {\n",
              "      let quickchartButtonEl =\n",
              "        document.querySelector('#df-6fc7da46-038e-42b3-bc67-c05ddb49c690 button');\n",
              "      quickchartButtonEl.style.display =\n",
              "        google.colab.kernel.accessAllowed ? 'block' : 'none';\n",
              "    })();\n",
              "  </script>\n",
              "</div>\n",
              "\n",
              "    </div>\n",
              "  </div>\n"
            ],
            "application/vnd.google.colaboratory.intrinsic+json": {
              "type": "dataframe",
              "variable_name": "song_df"
            }
          },
          "metadata": {},
          "execution_count": 5
        }
      ],
      "source": [
        "# Display the first 10 rows of the 'song_df' DataFrame\n",
        "song_df.head(10)"
      ]
    },
    {
      "cell_type": "markdown",
      "metadata": {
        "id": "bvKb5FHcXzcN"
      },
      "source": [
        "#### **Check the data types and and missing values of each column**"
      ]
    },
    {
      "cell_type": "code",
      "execution_count": null,
      "metadata": {
        "id": "yyoHc_cnX19J",
        "colab": {
          "base_uri": "https://localhost:8080/"
        },
        "outputId": "5451bf74-6eca-488b-8804-85ab47363ecb"
      },
      "outputs": [
        {
          "output_type": "stream",
          "name": "stdout",
          "text": [
            "<class 'pandas.core.frame.DataFrame'>\n",
            "RangeIndex: 2000000 entries, 0 to 1999999\n",
            "Data columns (total 4 columns):\n",
            " #   Column      Dtype \n",
            "---  ------      ----- \n",
            " 0   Unnamed: 0  int64 \n",
            " 1   user_id     object\n",
            " 2   song_id     object\n",
            " 3   play_count  int64 \n",
            "dtypes: int64(2), object(2)\n",
            "memory usage: 61.0+ MB\n"
          ]
        }
      ],
      "source": [
        "# Display basic information about the 'count_df' DataFrame\n",
        "count_df.info()"
      ]
    },
    {
      "cell_type": "code",
      "execution_count": null,
      "metadata": {
        "id": "rz3zDx_LX42y",
        "colab": {
          "base_uri": "https://localhost:8080/"
        },
        "outputId": "53416ee6-9ed7-477a-8390-d6819483af01"
      },
      "outputs": [
        {
          "output_type": "stream",
          "name": "stdout",
          "text": [
            "<class 'pandas.core.frame.DataFrame'>\n",
            "RangeIndex: 1000000 entries, 0 to 999999\n",
            "Data columns (total 5 columns):\n",
            " #   Column       Non-Null Count    Dtype \n",
            "---  ------       --------------    ----- \n",
            " 0   song_id      1000000 non-null  object\n",
            " 1   title        999983 non-null   object\n",
            " 2   release      999993 non-null   object\n",
            " 3   artist_name  1000000 non-null  object\n",
            " 4   year         1000000 non-null  int64 \n",
            "dtypes: int64(1), object(4)\n",
            "memory usage: 38.1+ MB\n"
          ]
        }
      ],
      "source": [
        "# Display basic information about the 'song_df' DataFrame\n",
        "song_df.info()"
      ]
    },
    {
      "cell_type": "markdown",
      "metadata": {
        "id": "Ze2TlWxpYadn"
      },
      "source": [
        "**Observations and Insights:**\n",
        "- 'title' has 15 missing values, 'release' has 5 missing values.\n",
        "- The 'song_id' column in 'count_df' and 'song_df' could potentially be used as a key for merging or joining these DataFrames, facilitating more comprehensive analyses.\n"
      ]
    },
    {
      "cell_type": "code",
      "execution_count": null,
      "metadata": {
        "colab": {
          "base_uri": "https://localhost:8080/",
          "height": 393
        },
        "id": "NUnBnOHlixWI",
        "outputId": "3d77167b-e6f5-42dc-83f6-8b2dae802347"
      },
      "outputs": [
        {
          "output_type": "execute_result",
          "data": {
            "text/plain": [
              "                                    user_id             song_id  play_count  \\\n",
              "0  b80344d063b5ccb3212f76538f3d9e43d87dca9e  SOAKIMP12A8C130995           1   \n",
              "1  b80344d063b5ccb3212f76538f3d9e43d87dca9e  SOBBMDR12A8C13253B           2   \n",
              "2  b80344d063b5ccb3212f76538f3d9e43d87dca9e  SOBXHDL12A81C204C0           1   \n",
              "3  b80344d063b5ccb3212f76538f3d9e43d87dca9e  SOBYHAJ12A6701BF1D           1   \n",
              "4  b80344d063b5ccb3212f76538f3d9e43d87dca9e  SODACBL12A8C13C273           1   \n",
              "5  b80344d063b5ccb3212f76538f3d9e43d87dca9e  SODDNQT12A6D4F5F7E           5   \n",
              "6  b80344d063b5ccb3212f76538f3d9e43d87dca9e  SODXRTY12AB0180F3B           1   \n",
              "7  b80344d063b5ccb3212f76538f3d9e43d87dca9e  SOFGUAY12AB017B0A8           1   \n",
              "8  b80344d063b5ccb3212f76538f3d9e43d87dca9e  SOFRQTD12A81C233C0           1   \n",
              "9  b80344d063b5ccb3212f76538f3d9e43d87dca9e  SOHQWYZ12A6D4FA701           1   \n",
              "\n",
              "                           title                                release  \\\n",
              "0                       The Cove                     Thicker Than Water   \n",
              "1                Entre Dos Aguas                    Flamenco Para Niños   \n",
              "2                       Stronger                             Graduation   \n",
              "3                 Constellations                      In Between Dreams   \n",
              "4                   Learn To Fly          There Is Nothing Left To Lose   \n",
              "5   Apuesta Por El Rock 'N' Roll                  Antología Audiovisual   \n",
              "6                  Paper Gangsta                       The Fame Monster   \n",
              "7                 Stacked Actors          There Is Nothing Left To Lose   \n",
              "8                  Sehr kosmisch                     Musik von Harmonia   \n",
              "9  Heaven's gonna burn your eyes  Hôtel Costes 7 by Stéphane Pompougnac   \n",
              "\n",
              "                                   artist_name  year  \n",
              "0                                 Jack Johnson     0  \n",
              "1                                Paco De Lucia  1976  \n",
              "2                                   Kanye West  2007  \n",
              "3                                 Jack Johnson  2005  \n",
              "4                                 Foo Fighters  1999  \n",
              "5                          Héroes del Silencio  2007  \n",
              "6                                    Lady GaGa  2008  \n",
              "7                                 Foo Fighters  1999  \n",
              "8                                     Harmonia     0  \n",
              "9  Thievery Corporation feat. Emiliana Torrini  2002  "
            ],
            "text/html": [
              "\n",
              "  <div id=\"df-8f7c771a-988c-4c06-9db7-691be9dbbb65\" class=\"colab-df-container\">\n",
              "    <div>\n",
              "<style scoped>\n",
              "    .dataframe tbody tr th:only-of-type {\n",
              "        vertical-align: middle;\n",
              "    }\n",
              "\n",
              "    .dataframe tbody tr th {\n",
              "        vertical-align: top;\n",
              "    }\n",
              "\n",
              "    .dataframe thead th {\n",
              "        text-align: right;\n",
              "    }\n",
              "</style>\n",
              "<table border=\"1\" class=\"dataframe\">\n",
              "  <thead>\n",
              "    <tr style=\"text-align: right;\">\n",
              "      <th></th>\n",
              "      <th>user_id</th>\n",
              "      <th>song_id</th>\n",
              "      <th>play_count</th>\n",
              "      <th>title</th>\n",
              "      <th>release</th>\n",
              "      <th>artist_name</th>\n",
              "      <th>year</th>\n",
              "    </tr>\n",
              "  </thead>\n",
              "  <tbody>\n",
              "    <tr>\n",
              "      <th>0</th>\n",
              "      <td>b80344d063b5ccb3212f76538f3d9e43d87dca9e</td>\n",
              "      <td>SOAKIMP12A8C130995</td>\n",
              "      <td>1</td>\n",
              "      <td>The Cove</td>\n",
              "      <td>Thicker Than Water</td>\n",
              "      <td>Jack Johnson</td>\n",
              "      <td>0</td>\n",
              "    </tr>\n",
              "    <tr>\n",
              "      <th>1</th>\n",
              "      <td>b80344d063b5ccb3212f76538f3d9e43d87dca9e</td>\n",
              "      <td>SOBBMDR12A8C13253B</td>\n",
              "      <td>2</td>\n",
              "      <td>Entre Dos Aguas</td>\n",
              "      <td>Flamenco Para Niños</td>\n",
              "      <td>Paco De Lucia</td>\n",
              "      <td>1976</td>\n",
              "    </tr>\n",
              "    <tr>\n",
              "      <th>2</th>\n",
              "      <td>b80344d063b5ccb3212f76538f3d9e43d87dca9e</td>\n",
              "      <td>SOBXHDL12A81C204C0</td>\n",
              "      <td>1</td>\n",
              "      <td>Stronger</td>\n",
              "      <td>Graduation</td>\n",
              "      <td>Kanye West</td>\n",
              "      <td>2007</td>\n",
              "    </tr>\n",
              "    <tr>\n",
              "      <th>3</th>\n",
              "      <td>b80344d063b5ccb3212f76538f3d9e43d87dca9e</td>\n",
              "      <td>SOBYHAJ12A6701BF1D</td>\n",
              "      <td>1</td>\n",
              "      <td>Constellations</td>\n",
              "      <td>In Between Dreams</td>\n",
              "      <td>Jack Johnson</td>\n",
              "      <td>2005</td>\n",
              "    </tr>\n",
              "    <tr>\n",
              "      <th>4</th>\n",
              "      <td>b80344d063b5ccb3212f76538f3d9e43d87dca9e</td>\n",
              "      <td>SODACBL12A8C13C273</td>\n",
              "      <td>1</td>\n",
              "      <td>Learn To Fly</td>\n",
              "      <td>There Is Nothing Left To Lose</td>\n",
              "      <td>Foo Fighters</td>\n",
              "      <td>1999</td>\n",
              "    </tr>\n",
              "    <tr>\n",
              "      <th>5</th>\n",
              "      <td>b80344d063b5ccb3212f76538f3d9e43d87dca9e</td>\n",
              "      <td>SODDNQT12A6D4F5F7E</td>\n",
              "      <td>5</td>\n",
              "      <td>Apuesta Por El Rock 'N' Roll</td>\n",
              "      <td>Antología Audiovisual</td>\n",
              "      <td>Héroes del Silencio</td>\n",
              "      <td>2007</td>\n",
              "    </tr>\n",
              "    <tr>\n",
              "      <th>6</th>\n",
              "      <td>b80344d063b5ccb3212f76538f3d9e43d87dca9e</td>\n",
              "      <td>SODXRTY12AB0180F3B</td>\n",
              "      <td>1</td>\n",
              "      <td>Paper Gangsta</td>\n",
              "      <td>The Fame Monster</td>\n",
              "      <td>Lady GaGa</td>\n",
              "      <td>2008</td>\n",
              "    </tr>\n",
              "    <tr>\n",
              "      <th>7</th>\n",
              "      <td>b80344d063b5ccb3212f76538f3d9e43d87dca9e</td>\n",
              "      <td>SOFGUAY12AB017B0A8</td>\n",
              "      <td>1</td>\n",
              "      <td>Stacked Actors</td>\n",
              "      <td>There Is Nothing Left To Lose</td>\n",
              "      <td>Foo Fighters</td>\n",
              "      <td>1999</td>\n",
              "    </tr>\n",
              "    <tr>\n",
              "      <th>8</th>\n",
              "      <td>b80344d063b5ccb3212f76538f3d9e43d87dca9e</td>\n",
              "      <td>SOFRQTD12A81C233C0</td>\n",
              "      <td>1</td>\n",
              "      <td>Sehr kosmisch</td>\n",
              "      <td>Musik von Harmonia</td>\n",
              "      <td>Harmonia</td>\n",
              "      <td>0</td>\n",
              "    </tr>\n",
              "    <tr>\n",
              "      <th>9</th>\n",
              "      <td>b80344d063b5ccb3212f76538f3d9e43d87dca9e</td>\n",
              "      <td>SOHQWYZ12A6D4FA701</td>\n",
              "      <td>1</td>\n",
              "      <td>Heaven's gonna burn your eyes</td>\n",
              "      <td>Hôtel Costes 7 by Stéphane Pompougnac</td>\n",
              "      <td>Thievery Corporation feat. Emiliana Torrini</td>\n",
              "      <td>2002</td>\n",
              "    </tr>\n",
              "  </tbody>\n",
              "</table>\n",
              "</div>\n",
              "    <div class=\"colab-df-buttons\">\n",
              "\n",
              "  <div class=\"colab-df-container\">\n",
              "    <button class=\"colab-df-convert\" onclick=\"convertToInteractive('df-8f7c771a-988c-4c06-9db7-691be9dbbb65')\"\n",
              "            title=\"Convert this dataframe to an interactive table.\"\n",
              "            style=\"display:none;\">\n",
              "\n",
              "  <svg xmlns=\"http://www.w3.org/2000/svg\" height=\"24px\" viewBox=\"0 -960 960 960\">\n",
              "    <path d=\"M120-120v-720h720v720H120Zm60-500h600v-160H180v160Zm220 220h160v-160H400v160Zm0 220h160v-160H400v160ZM180-400h160v-160H180v160Zm440 0h160v-160H620v160ZM180-180h160v-160H180v160Zm440 0h160v-160H620v160Z\"/>\n",
              "  </svg>\n",
              "    </button>\n",
              "\n",
              "  <style>\n",
              "    .colab-df-container {\n",
              "      display:flex;\n",
              "      gap: 12px;\n",
              "    }\n",
              "\n",
              "    .colab-df-convert {\n",
              "      background-color: #E8F0FE;\n",
              "      border: none;\n",
              "      border-radius: 50%;\n",
              "      cursor: pointer;\n",
              "      display: none;\n",
              "      fill: #1967D2;\n",
              "      height: 32px;\n",
              "      padding: 0 0 0 0;\n",
              "      width: 32px;\n",
              "    }\n",
              "\n",
              "    .colab-df-convert:hover {\n",
              "      background-color: #E2EBFA;\n",
              "      box-shadow: 0px 1px 2px rgba(60, 64, 67, 0.3), 0px 1px 3px 1px rgba(60, 64, 67, 0.15);\n",
              "      fill: #174EA6;\n",
              "    }\n",
              "\n",
              "    .colab-df-buttons div {\n",
              "      margin-bottom: 4px;\n",
              "    }\n",
              "\n",
              "    [theme=dark] .colab-df-convert {\n",
              "      background-color: #3B4455;\n",
              "      fill: #D2E3FC;\n",
              "    }\n",
              "\n",
              "    [theme=dark] .colab-df-convert:hover {\n",
              "      background-color: #434B5C;\n",
              "      box-shadow: 0px 1px 3px 1px rgba(0, 0, 0, 0.15);\n",
              "      filter: drop-shadow(0px 1px 2px rgba(0, 0, 0, 0.3));\n",
              "      fill: #FFFFFF;\n",
              "    }\n",
              "  </style>\n",
              "\n",
              "    <script>\n",
              "      const buttonEl =\n",
              "        document.querySelector('#df-8f7c771a-988c-4c06-9db7-691be9dbbb65 button.colab-df-convert');\n",
              "      buttonEl.style.display =\n",
              "        google.colab.kernel.accessAllowed ? 'block' : 'none';\n",
              "\n",
              "      async function convertToInteractive(key) {\n",
              "        const element = document.querySelector('#df-8f7c771a-988c-4c06-9db7-691be9dbbb65');\n",
              "        const dataTable =\n",
              "          await google.colab.kernel.invokeFunction('convertToInteractive',\n",
              "                                                    [key], {});\n",
              "        if (!dataTable) return;\n",
              "\n",
              "        const docLinkHtml = 'Like what you see? Visit the ' +\n",
              "          '<a target=\"_blank\" href=https://colab.research.google.com/notebooks/data_table.ipynb>data table notebook</a>'\n",
              "          + ' to learn more about interactive tables.';\n",
              "        element.innerHTML = '';\n",
              "        dataTable['output_type'] = 'display_data';\n",
              "        await google.colab.output.renderOutput(dataTable, element);\n",
              "        const docLink = document.createElement('div');\n",
              "        docLink.innerHTML = docLinkHtml;\n",
              "        element.appendChild(docLink);\n",
              "      }\n",
              "    </script>\n",
              "  </div>\n",
              "\n",
              "\n",
              "<div id=\"df-f92a2eb9-f2b7-4253-91b2-46b78f86699a\">\n",
              "  <button class=\"colab-df-quickchart\" onclick=\"quickchart('df-f92a2eb9-f2b7-4253-91b2-46b78f86699a')\"\n",
              "            title=\"Suggest charts\"\n",
              "            style=\"display:none;\">\n",
              "\n",
              "<svg xmlns=\"http://www.w3.org/2000/svg\" height=\"24px\"viewBox=\"0 0 24 24\"\n",
              "     width=\"24px\">\n",
              "    <g>\n",
              "        <path d=\"M19 3H5c-1.1 0-2 .9-2 2v14c0 1.1.9 2 2 2h14c1.1 0 2-.9 2-2V5c0-1.1-.9-2-2-2zM9 17H7v-7h2v7zm4 0h-2V7h2v10zm4 0h-2v-4h2v4z\"/>\n",
              "    </g>\n",
              "</svg>\n",
              "  </button>\n",
              "\n",
              "<style>\n",
              "  .colab-df-quickchart {\n",
              "      --bg-color: #E8F0FE;\n",
              "      --fill-color: #1967D2;\n",
              "      --hover-bg-color: #E2EBFA;\n",
              "      --hover-fill-color: #174EA6;\n",
              "      --disabled-fill-color: #AAA;\n",
              "      --disabled-bg-color: #DDD;\n",
              "  }\n",
              "\n",
              "  [theme=dark] .colab-df-quickchart {\n",
              "      --bg-color: #3B4455;\n",
              "      --fill-color: #D2E3FC;\n",
              "      --hover-bg-color: #434B5C;\n",
              "      --hover-fill-color: #FFFFFF;\n",
              "      --disabled-bg-color: #3B4455;\n",
              "      --disabled-fill-color: #666;\n",
              "  }\n",
              "\n",
              "  .colab-df-quickchart {\n",
              "    background-color: var(--bg-color);\n",
              "    border: none;\n",
              "    border-radius: 50%;\n",
              "    cursor: pointer;\n",
              "    display: none;\n",
              "    fill: var(--fill-color);\n",
              "    height: 32px;\n",
              "    padding: 0;\n",
              "    width: 32px;\n",
              "  }\n",
              "\n",
              "  .colab-df-quickchart:hover {\n",
              "    background-color: var(--hover-bg-color);\n",
              "    box-shadow: 0 1px 2px rgba(60, 64, 67, 0.3), 0 1px 3px 1px rgba(60, 64, 67, 0.15);\n",
              "    fill: var(--button-hover-fill-color);\n",
              "  }\n",
              "\n",
              "  .colab-df-quickchart-complete:disabled,\n",
              "  .colab-df-quickchart-complete:disabled:hover {\n",
              "    background-color: var(--disabled-bg-color);\n",
              "    fill: var(--disabled-fill-color);\n",
              "    box-shadow: none;\n",
              "  }\n",
              "\n",
              "  .colab-df-spinner {\n",
              "    border: 2px solid var(--fill-color);\n",
              "    border-color: transparent;\n",
              "    border-bottom-color: var(--fill-color);\n",
              "    animation:\n",
              "      spin 1s steps(1) infinite;\n",
              "  }\n",
              "\n",
              "  @keyframes spin {\n",
              "    0% {\n",
              "      border-color: transparent;\n",
              "      border-bottom-color: var(--fill-color);\n",
              "      border-left-color: var(--fill-color);\n",
              "    }\n",
              "    20% {\n",
              "      border-color: transparent;\n",
              "      border-left-color: var(--fill-color);\n",
              "      border-top-color: var(--fill-color);\n",
              "    }\n",
              "    30% {\n",
              "      border-color: transparent;\n",
              "      border-left-color: var(--fill-color);\n",
              "      border-top-color: var(--fill-color);\n",
              "      border-right-color: var(--fill-color);\n",
              "    }\n",
              "    40% {\n",
              "      border-color: transparent;\n",
              "      border-right-color: var(--fill-color);\n",
              "      border-top-color: var(--fill-color);\n",
              "    }\n",
              "    60% {\n",
              "      border-color: transparent;\n",
              "      border-right-color: var(--fill-color);\n",
              "    }\n",
              "    80% {\n",
              "      border-color: transparent;\n",
              "      border-right-color: var(--fill-color);\n",
              "      border-bottom-color: var(--fill-color);\n",
              "    }\n",
              "    90% {\n",
              "      border-color: transparent;\n",
              "      border-bottom-color: var(--fill-color);\n",
              "    }\n",
              "  }\n",
              "</style>\n",
              "\n",
              "  <script>\n",
              "    async function quickchart(key) {\n",
              "      const quickchartButtonEl =\n",
              "        document.querySelector('#' + key + ' button');\n",
              "      quickchartButtonEl.disabled = true;  // To prevent multiple clicks.\n",
              "      quickchartButtonEl.classList.add('colab-df-spinner');\n",
              "      try {\n",
              "        const charts = await google.colab.kernel.invokeFunction(\n",
              "            'suggestCharts', [key], {});\n",
              "      } catch (error) {\n",
              "        console.error('Error during call to suggestCharts:', error);\n",
              "      }\n",
              "      quickchartButtonEl.classList.remove('colab-df-spinner');\n",
              "      quickchartButtonEl.classList.add('colab-df-quickchart-complete');\n",
              "    }\n",
              "    (() => {\n",
              "      let quickchartButtonEl =\n",
              "        document.querySelector('#df-f92a2eb9-f2b7-4253-91b2-46b78f86699a button');\n",
              "      quickchartButtonEl.style.display =\n",
              "        google.colab.kernel.accessAllowed ? 'block' : 'none';\n",
              "    })();\n",
              "  </script>\n",
              "</div>\n",
              "\n",
              "    </div>\n",
              "  </div>\n"
            ],
            "application/vnd.google.colaboratory.intrinsic+json": {
              "type": "dataframe",
              "variable_name": "df"
            }
          },
          "metadata": {},
          "execution_count": 8
        }
      ],
      "source": [
        "# Merge 'count_df' and 'song_df' on 'song_id' using a left join, drop duplicates from 'song_df', and remove 'Unnamed: 0'\n",
        "df = pd.merge(count_df, song_df.drop_duplicates('song_id'), on='song_id', how='left').drop('Unnamed: 0', axis=1)\n",
        "\n",
        "# Display the first 10 records of the merged DataFrame 'df'\n",
        "df.head(10)"
      ]
    },
    {
      "cell_type": "markdown",
      "metadata": {
        "id": "QvGe0WSGjjfY"
      },
      "source": [
        "Encoding IDs can be useful for certain analyses and model performance. While IDs primarily serve as unique identifiers, their non-numeric nature might complicate specific types of analysis. Instead of dropping these columns, encoding them might uncover patterns or relationships that could be beneficial for modeling.\n",
        "\n",
        "There are various encoding methods:\n",
        "\n",
        "•\t**Label Encoding** assigns numerical values to categorical data without considering order.\n",
        "\n",
        "•\t**Ordinal Encoding** is suitable when there’s a specific order to preserve.\n",
        "\n",
        "•\t**One-Hot Encoding** creates binary columns for each category, but can introduce high dimensionality.\n",
        "\n",
        "In this situation, Label Encoding is the most appropriate choice since IDs lack a specific order, and it avoids the problem of high dimensionality in the data."
      ]
    },
    {
      "cell_type": "code",
      "execution_count": null,
      "metadata": {
        "id": "oxeoOVxh2T9U"
      },
      "outputs": [],
      "source": [
        "# Import LabelEncoder from scikit-learn for label encoding\n",
        "from sklearn.preprocessing import LabelEncoder\n",
        "\n",
        "# Create a label encoder\n",
        "label_encoder = LabelEncoder()\n",
        "\n",
        "# Apply label encoding to \"user_id\" and \"song_id\" in the DataFrame df\n",
        "df['user_id'] = label_encoder.fit_transform(df['user_id'])\n",
        "df['song_id'] = label_encoder.fit_transform(df['song_id'])"
      ]
    },
    {
      "cell_type": "markdown",
      "metadata": {
        "id": "gcY5LKAQvk9J"
      },
      "source": [
        "A dataset of size 2000000 rows x 7 columns can be quite large and may require a lot of computing resources to process. This can lead to long processing times and can make it difficult to train and evaluate your model efficiently.\n",
        "In order to address this issue, it may be necessary to trim down your dataset to a more manageable size."
      ]
    },
    {
      "cell_type": "code",
      "execution_count": null,
      "metadata": {
        "id": "7GGH9TW0_9uX"
      },
      "outputs": [],
      "source": [
        "# Get the column containing the users\n",
        "users = df.user_id\n",
        "# Create a dictionary from users to their number of songs\n",
        "ratings_count = dict()\n",
        "for user in users:\n",
        "    # If we already have the user, just add 1 to their rating count\n",
        "    if user in ratings_count:\n",
        "        ratings_count[user] += 1\n",
        "    # Otherwise, set their rating count to 1\n",
        "    else:\n",
        "        ratings_count[user] = 1"
      ]
    },
    {
      "cell_type": "code",
      "execution_count": null,
      "metadata": {
        "id": "-cc6mOK7_9uX"
      },
      "outputs": [],
      "source": [
        "# We want our users to have listened at least 90 songs\n",
        "RATINGS_CUTOFF = 90\n",
        "remove_users = []\n",
        "for user, num_ratings in ratings_count.items():\n",
        "    if num_ratings < RATINGS_CUTOFF:\n",
        "        remove_users.append(user)\n",
        "df = df.loc[~df.user_id.isin(remove_users)]"
      ]
    },
    {
      "cell_type": "code",
      "execution_count": null,
      "metadata": {
        "id": "B5BS-Wk5_9uY"
      },
      "outputs": [],
      "source": [
        "# Get the column containing the songs\n",
        "songs = df.song_id\n",
        "# Create a dictionary from songs to their number of users\n",
        "ratings_count = dict()\n",
        "for song in songs:\n",
        "    # If we already have the song, just add 1 to their rating count\n",
        "    if song in ratings_count:\n",
        "        ratings_count[song] += 1\n",
        "    # Otherwise, set their rating count to 1\n",
        "    else:\n",
        "        ratings_count[song] = 1"
      ]
    },
    {
      "cell_type": "code",
      "execution_count": null,
      "metadata": {
        "id": "_nCtGwGO_9uY"
      },
      "outputs": [],
      "source": [
        "# We want our song to be listened by atleast 120 users to be considred\n",
        "RATINGS_CUTOFF = 120\n",
        "remove_songs = []\n",
        "for song, num_ratings in ratings_count.items():\n",
        "    if num_ratings < RATINGS_CUTOFF:\n",
        "        remove_songs.append(song)\n",
        "df_final= df.loc[~df.song_id.isin(remove_songs)]"
      ]
    },
    {
      "cell_type": "code",
      "execution_count": null,
      "metadata": {
        "id": "8qaKeoMcGpad"
      },
      "outputs": [],
      "source": [
        "# Drop records with play_count more than(>) 5\n",
        "df_final=df_final[df_final.play_count<=5]"
      ]
    },
    {
      "cell_type": "code",
      "execution_count": null,
      "metadata": {
        "colab": {
          "base_uri": "https://localhost:8080/"
        },
        "id": "aL1JZ00o5JtQ",
        "outputId": "b1e60967-f648-4906-9d78-fe6b2e2d1c6c"
      },
      "outputs": [
        {
          "output_type": "execute_result",
          "data": {
            "text/plain": [
              "(117876, 7)"
            ]
          },
          "metadata": {},
          "execution_count": 15
        }
      ],
      "source": [
        "# Check the shape of the data\n",
        "df_final.shape"
      ]
    },
    {
      "cell_type": "markdown",
      "metadata": {
        "id": "uZcr1Eke2T9W"
      },
      "source": [
        "### **Exploratory Data Analysis**"
      ]
    },
    {
      "cell_type": "markdown",
      "metadata": {
        "id": "eUGzLQc3Scgd"
      },
      "source": [
        "#### **Check for missing values in the data**"
      ]
    },
    {
      "cell_type": "code",
      "execution_count": null,
      "metadata": {
        "colab": {
          "base_uri": "https://localhost:8080/"
        },
        "id": "wLUjMdMeMlwP",
        "outputId": "3a79f536-4bf9-4cf8-af65-fdfb005d8656"
      },
      "outputs": [
        {
          "output_type": "execute_result",
          "data": {
            "text/plain": [
              "user_id        0\n",
              "song_id        0\n",
              "play_count     0\n",
              "title          0\n",
              "release        0\n",
              "artist_name    0\n",
              "year           0\n",
              "dtype: int64"
            ]
          },
          "metadata": {},
          "execution_count": 16
        }
      ],
      "source": [
        "# Check and count the null values in each column of the 'df_final' DataFrame\n",
        "df_final.isnull().sum()"
      ]
    },
    {
      "cell_type": "markdown",
      "metadata": {
        "id": "mifN2DAjSyxc"
      },
      "source": [
        "**Observations and Insights:**\n",
        "After reducing the data, which initially had 15 missing values, I rechecked for any remaining missing values and found none."
      ]
    },
    {
      "cell_type": "markdown",
      "metadata": {
        "id": "ByuHmvWDeBJI"
      },
      "source": [
        "#### **Check The Total Number of Unique Users, Songs, Artists In The Data**"
      ]
    },
    {
      "cell_type": "markdown",
      "metadata": {
        "id": "DE_gukSJ2T9W"
      },
      "source": [
        "**Total Number of Unique User IDs**"
      ]
    },
    {
      "cell_type": "code",
      "execution_count": null,
      "metadata": {
        "colab": {
          "base_uri": "https://localhost:8080/"
        },
        "id": "n5E24_Ec2T9W",
        "outputId": "ab5d3af7-fedd-4a07-8610-101a0dfbf444"
      },
      "outputs": [
        {
          "output_type": "stream",
          "name": "stdout",
          "text": [
            "Total number of unique user_id: 3155\n"
          ]
        }
      ],
      "source": [
        "# Calculate and display the total number of unique user_id in the 'df_final' DataFrame\n",
        "unique_users_count = df_final['user_id'].nunique()\n",
        "\n",
        "print(f'Total number of unique user_id: {unique_users_count}')"
      ]
    },
    {
      "cell_type": "markdown",
      "metadata": {
        "id": "wV3BOTdJII-t"
      },
      "source": [
        "**Total Number of Unique Song IDs**"
      ]
    },
    {
      "cell_type": "code",
      "execution_count": null,
      "metadata": {
        "colab": {
          "base_uri": "https://localhost:8080/"
        },
        "id": "5SlpPkIE2T9W",
        "outputId": "bd345b41-4e23-4cfb-c5eb-7b945f9affe1"
      },
      "outputs": [
        {
          "output_type": "stream",
          "name": "stdout",
          "text": [
            "Total number of unique song_id: 563\n"
          ]
        }
      ],
      "source": [
        "# Calculate and display the total number of unique song_id in the 'df_final' DataFrame\n",
        "unique_songs_count = df_final['song_id'].nunique()\n",
        "\n",
        "print(f'Total number of unique song_id: {unique_songs_count}')"
      ]
    },
    {
      "cell_type": "markdown",
      "metadata": {
        "id": "eGXPsCjXVpUW"
      },
      "source": [
        "**Total Number of Unique Artists**"
      ]
    },
    {
      "cell_type": "code",
      "execution_count": null,
      "metadata": {
        "colab": {
          "base_uri": "https://localhost:8080/"
        },
        "id": "qSVUwb8h2T9X",
        "outputId": "942d0137-04c6-4c81-fe5f-b5f352912f45"
      },
      "outputs": [
        {
          "output_type": "stream",
          "name": "stdout",
          "text": [
            "Total number of unique artists: 232\n"
          ]
        }
      ],
      "source": [
        "# Calculate and display the total number of unique artist_name in the 'df_final' DataFrame\n",
        "unique_artists_count = df_final['artist_name'].nunique()\n",
        "\n",
        "print(f'Total number of unique artists: {unique_artists_count}')"
      ]
    },
    {
      "cell_type": "markdown",
      "metadata": {
        "id": "bvk-YAo-eGGW"
      },
      "source": [
        "**Observations and Insights:**\n",
        "- The unique user count indicates the diversity of users interacting with the data.\n",
        "- The unique song count reflects the variety of songs in the dataset.\n",
        "- The unique artist count provides insights into the diversity of musicians or bands represented.\n"
      ]
    },
    {
      "cell_type": "markdown",
      "metadata": {
        "id": "W3DyN_8atsCx"
      },
      "source": [
        "**The Most Interacted Songs**"
      ]
    },
    {
      "cell_type": "code",
      "execution_count": null,
      "metadata": {
        "colab": {
          "base_uri": "https://localhost:8080/"
        },
        "id": "qWDrvIFF2T9X",
        "outputId": "2a9c0acd-a184-4530-83a4-75cb1192629a"
      },
      "outputs": [
        {
          "output_type": "stream",
          "name": "stdout",
          "text": [
            "Most Interacted Songs:\n",
            "title\n",
            "Dog Days Are Over (Radio Edit)    1634\n",
            "Sehr kosmisch                     1583\n",
            "Use Somebody                      1463\n",
            "Secrets                           1427\n",
            "Fireflies                         1291\n",
            "The Scientist                     1259\n",
            "Hey_ Soul Sister                  1208\n",
            "Clocks                            1203\n",
            "OMG                               1126\n",
            "Creep (Explicit)                  1067\n",
            "Name: play_count, dtype: int64\n"
          ]
        }
      ],
      "source": [
        "# Group 'df_final' by song title and sum the play counts\n",
        "most_interacted_songs = df_final.groupby('title')['play_count'].sum().sort_values(ascending=False)\n",
        "\n",
        "# Display the top 10 most interacted songs\n",
        "print(\"Most Interacted Songs:\")\n",
        "print(most_interacted_songs.head(10))"
      ]
    },
    {
      "cell_type": "markdown",
      "metadata": {
        "id": "nnoXCc9zIV45"
      },
      "source": [
        "**The Most Interacted Users**"
      ]
    },
    {
      "cell_type": "code",
      "execution_count": null,
      "metadata": {
        "colab": {
          "base_uri": "https://localhost:8080/"
        },
        "id": "971EiBdf2T9X",
        "outputId": "724224c0-94fb-413a-afc7-8c507979f3d6"
      },
      "outputs": [
        {
          "output_type": "stream",
          "name": "stdout",
          "text": [
            "\n",
            "Most Interacted Users:\n",
            "user_id\n",
            "3237     586\n",
            "15733    479\n",
            "62759    438\n",
            "43041    417\n",
            "27401    409\n",
            "66268    403\n",
            "23337    399\n",
            "48844    397\n",
            "19783    396\n",
            "55266    387\n",
            "Name: play_count, dtype: int64\n"
          ]
        }
      ],
      "source": [
        "# Group 'df_final' by user_id and sum the play counts\n",
        "most_interacted_users = df_final.groupby('user_id')['play_count'].sum().sort_values(ascending=False)\n",
        "\n",
        "# Display the top 10 most interacted users\n",
        "print(\"\\nMost Interacted Users:\")\n",
        "print(most_interacted_users.head(10))"
      ]
    },
    {
      "cell_type": "markdown",
      "metadata": {
        "id": "tPZRc1e-eyyO"
      },
      "source": [
        "**Observations and Insights:**\n",
        "- \"Dog Days Are Over (Radio Edit)\" is the most interacted song with 1634 play counts.\n",
        "- Knowing the most interacted songs provides insights into the popularity of specific tracks in the dataset.\n",
        "- Identifying the ‘Most Interacted Users’ helps recognize the most engaged users in terms of their interaction with songs."
      ]
    },
    {
      "cell_type": "markdown",
      "metadata": {
        "id": "4l81uUe6aK-X"
      },
      "source": [
        "**The Most Listened to Songs by The Most Interacted Users**"
      ]
    },
    {
      "cell_type": "code",
      "execution_count": null,
      "metadata": {
        "colab": {
          "base_uri": "https://localhost:8080/"
        },
        "id": "HTp7471FY67G",
        "outputId": "14bca7e1-67be-40f2-d278-ed5b93c122d0"
      },
      "outputs": [
        {
          "output_type": "stream",
          "name": "stdout",
          "text": [
            "\n",
            "Most Interacted Songs for the Top 10 Users:\n",
            "         user_id                           title\n",
            "1624950     3237                        Uprising\n",
            "384310     15733                        Float On\n",
            "329099     19783   Harder Better Faster Stronger\n",
            "1255207    23337  Dog Days Are Over (Radio Edit)\n",
            "1508929    27401   Harder Better Faster Stronger\n",
            "163761     43041                Somebody To Love\n",
            "468400     48844   Harder Better Faster Stronger\n",
            "1150832    55266                        Uprising\n",
            "357120     62759               Hey There Delilah\n",
            "366863     66268   Harder Better Faster Stronger\n"
          ]
        }
      ],
      "source": [
        "# Group 'df_final' by user_id and sum the play counts\n",
        "most_interacted_users = df_final.groupby('user_id')['play_count'].sum().sort_values(ascending=False)\n",
        "\n",
        "# Find the most interacted songs for each user\n",
        "top_interacted_songs = df_final.loc[df_final.groupby('user_id')['play_count'].idxmax()]\n",
        "\n",
        "# Filter the most interacted songs for the specific users\n",
        "most_interacted_users_titles = top_interacted_songs.loc[top_interacted_songs['user_id'].isin(most_interacted_users.head(10).index)][['user_id', 'title']]\n",
        "\n",
        "# Display the result\n",
        "print(\"\\nMost Interacted Songs for the Top 10 Users:\")\n",
        "print(most_interacted_users_titles)"
      ]
    },
    {
      "cell_type": "markdown",
      "metadata": {
        "id": "l-FEwoAgcYlR"
      },
      "source": [
        "**Observations and Insights:**\n",
        "\n",
        "Examining the specific songs played by highly interactive users can provide valuable insights into user preferences and listening behaviors.\n",
        "\n",
        "Notable new additions include “Uprising,” “Float On,” “Harder Better Faster Stronger,” “Somebody To Love,” and “Hey There Delilah.”"
      ]
    },
    {
      "cell_type": "markdown",
      "source": [
        "### **Univariate Analysis**"
      ],
      "metadata": {
        "id": "gT-NtHyXGR26"
      }
    },
    {
      "cell_type": "markdown",
      "source": [
        "**Box Plot of Play Counts**"
      ],
      "metadata": {
        "id": "z8f4FAWIHIJX"
      }
    },
    {
      "cell_type": "code",
      "source": [
        "# Create a box plot to visualize the distribution of play counts\n",
        "plt.figure(figsize=(18, 8))  # Set the size of the figure\n",
        "\n",
        "light_purple_color = '#9c9fe5'\n",
        "\n",
        "# Use seaborn's boxplot to show the distribution\n",
        "sns.boxplot(y=df_final['play_count'], color=light_purple_color)\n",
        "\n",
        "# Set the title of the plot\n",
        "plt.title('Box Plot of Play Counts')\n",
        "\n",
        "# Set the y-axis label to 'Play Count'\n",
        "plt.ylabel('Play Count')\n",
        "\n",
        "# Display the plot\n",
        "plt.show()"
      ],
      "metadata": {
        "colab": {
          "base_uri": "https://localhost:8080/",
          "height": 700
        },
        "id": "0s3Xb0t8JIEB",
        "outputId": "b02b4841-2092-4519-9566-8052115ea1f3"
      },
      "execution_count": null,
      "outputs": [
        {
          "output_type": "display_data",
          "data": {
            "text/plain": [
              "<Figure size 1800x800 with 1 Axes>"
            ],
            "image/png": "[encoded data removed]"
          },
          "metadata": {}
        }
      ]
    },
    {
      "cell_type": "markdown",
      "source": [
        "**Observations and Insights:**\n",
        "\n",
        "- Outliers: There are a few outliers above the whisker, indicating that some play counts are significantly higher than the rest of the data.\n",
        "\n",
        "- Skewness: The plot shows a possible positive skew, as the median is closer to the bottom of the box, and there are outliers on the higher end of the play counts.\n"
      ],
      "metadata": {
        "id": "lFJ029iQNRTD"
      }
    },
    {
      "cell_type": "markdown",
      "source": [
        "**Distribution of Play Counts**"
      ],
      "metadata": {
        "id": "wxMrJmhKHNY8"
      }
    },
    {
      "cell_type": "code",
      "source": [
        "# Create a histogram plot to visualize the distribution of play counts\n",
        "plt.figure(figsize=(18, 8))  # Set the size of the figure\n",
        "\n",
        "purple_palette = sns.color_palette('Purples')\n",
        "\n",
        "# Use seaborn's histplot to show the distribution\n",
        "sns.histplot(df_final['play_count'], bins=10, kde=True, color=purple_palette[4])\n",
        "\n",
        "# Set the title of the plot\n",
        "plt.title('Distribution of Play Counts')\n",
        "\n",
        "# Set the x-axis label to 'Play Count'\n",
        "plt.xlabel('Play Count')\n",
        "\n",
        "# Set the y-axis label to 'Frequency'\n",
        "plt.ylabel('Frequency')\n",
        "\n",
        "# Display the plot\n",
        "plt.show()"
      ],
      "metadata": {
        "colab": {
          "base_uri": "https://localhost:8080/",
          "height": 648
        },
        "id": "zWKuvXgS3Se1",
        "outputId": "f67e0300-65a7-4280-9778-458ee4f1531c"
      },
      "execution_count": null,
      "outputs": [
        {
          "output_type": "display_data",
          "data": {
            "text/plain": [
              "<Figure size 1800x800 with 1 Axes>"
            ],
            "image/png": "[encoded data removed]"
          },
          "metadata": {}
        }
      ]
    },
    {
      "cell_type": "markdown",
      "source": [
        "**Observations and Insights:**\n",
        "\n",
        "- Distribution Shape: The histogram shows a right-skewed distribution of play counts, with most play counts clustered around the lower values.\n",
        "- Frequency: The highest frequency is observed at a play count of 1, indicating that this is the most common play count in the dataset.\n",
        "- Multiple Peaks: There are distinct peaks at play counts of 2, 3, and 5, suggesting that these values are also relatively common compared to others."
      ],
      "metadata": {
        "id": "mDJt3nRgNVvz"
      }
    },
    {
      "cell_type": "markdown",
      "source": [
        "### **Bivariate Analysis**"
      ],
      "metadata": {
        "id": "OL3jN11sGkkJ"
      }
    },
    {
      "cell_type": "markdown",
      "metadata": {
        "id": "joFF5zndX1Dk"
      },
      "source": [
        "\n",
        "**Songs played in a year**"
      ]
    },
    {
      "cell_type": "code",
      "execution_count": null,
      "metadata": {
        "colab": {
          "base_uri": "https://localhost:8080/",
          "height": 235
        },
        "id": "meQXl0TZb3kZ",
        "outputId": "6dd6616f-4891-43ff-d6a0-f77727e8afb1"
      },
      "outputs": [
        {
          "output_type": "execute_result",
          "data": {
            "text/plain": [
              "      song_id\n",
              "year         \n",
              "2006       43\n",
              "2007       79\n",
              "2008       67\n",
              "2009       65\n",
              "2010       16"
            ],
            "text/html": [
              "\n",
              "  <div id=\"df-b7c527c7-fc03-4025-b82a-579be3c18431\" class=\"colab-df-container\">\n",
              "    <div>\n",
              "<style scoped>\n",
              "    .dataframe tbody tr th:only-of-type {\n",
              "        vertical-align: middle;\n",
              "    }\n",
              "\n",
              "    .dataframe tbody tr th {\n",
              "        vertical-align: top;\n",
              "    }\n",
              "\n",
              "    .dataframe thead th {\n",
              "        text-align: right;\n",
              "    }\n",
              "</style>\n",
              "<table border=\"1\" class=\"dataframe\">\n",
              "  <thead>\n",
              "    <tr style=\"text-align: right;\">\n",
              "      <th></th>\n",
              "      <th>song_id</th>\n",
              "    </tr>\n",
              "    <tr>\n",
              "      <th>year</th>\n",
              "      <th></th>\n",
              "    </tr>\n",
              "  </thead>\n",
              "  <tbody>\n",
              "    <tr>\n",
              "      <th>2006</th>\n",
              "      <td>43</td>\n",
              "    </tr>\n",
              "    <tr>\n",
              "      <th>2007</th>\n",
              "      <td>79</td>\n",
              "    </tr>\n",
              "    <tr>\n",
              "      <th>2008</th>\n",
              "      <td>67</td>\n",
              "    </tr>\n",
              "    <tr>\n",
              "      <th>2009</th>\n",
              "      <td>65</td>\n",
              "    </tr>\n",
              "    <tr>\n",
              "      <th>2010</th>\n",
              "      <td>16</td>\n",
              "    </tr>\n",
              "  </tbody>\n",
              "</table>\n",
              "</div>\n",
              "    <div class=\"colab-df-buttons\">\n",
              "\n",
              "  <div class=\"colab-df-container\">\n",
              "    <button class=\"colab-df-convert\" onclick=\"convertToInteractive('df-b7c527c7-fc03-4025-b82a-579be3c18431')\"\n",
              "            title=\"Convert this dataframe to an interactive table.\"\n",
              "            style=\"display:none;\">\n",
              "\n",
              "  <svg xmlns=\"http://www.w3.org/2000/svg\" height=\"24px\" viewBox=\"0 -960 960 960\">\n",
              "    <path d=\"M120-120v-720h720v720H120Zm60-500h600v-160H180v160Zm220 220h160v-160H400v160Zm0 220h160v-160H400v160ZM180-400h160v-160H180v160Zm440 0h160v-160H620v160ZM180-180h160v-160H180v160Zm440 0h160v-160H620v160Z\"/>\n",
              "  </svg>\n",
              "    </button>\n",
              "\n",
              "  <style>\n",
              "    .colab-df-container {\n",
              "      display:flex;\n",
              "      gap: 12px;\n",
              "    }\n",
              "\n",
              "    .colab-df-convert {\n",
              "      background-color: #E8F0FE;\n",
              "      border: none;\n",
              "      border-radius: 50%;\n",
              "      cursor: pointer;\n",
              "      display: none;\n",
              "      fill: #1967D2;\n",
              "      height: 32px;\n",
              "      padding: 0 0 0 0;\n",
              "      width: 32px;\n",
              "    }\n",
              "\n",
              "    .colab-df-convert:hover {\n",
              "      background-color: #E2EBFA;\n",
              "      box-shadow: 0px 1px 2px rgba(60, 64, 67, 0.3), 0px 1px 3px 1px rgba(60, 64, 67, 0.15);\n",
              "      fill: #174EA6;\n",
              "    }\n",
              "\n",
              "    .colab-df-buttons div {\n",
              "      margin-bottom: 4px;\n",
              "    }\n",
              "\n",
              "    [theme=dark] .colab-df-convert {\n",
              "      background-color: #3B4455;\n",
              "      fill: #D2E3FC;\n",
              "    }\n",
              "\n",
              "    [theme=dark] .colab-df-convert:hover {\n",
              "      background-color: #434B5C;\n",
              "      box-shadow: 0px 1px 3px 1px rgba(0, 0, 0, 0.15);\n",
              "      filter: drop-shadow(0px 1px 2px rgba(0, 0, 0, 0.3));\n",
              "      fill: #FFFFFF;\n",
              "    }\n",
              "  </style>\n",
              "\n",
              "    <script>\n",
              "      const buttonEl =\n",
              "        document.querySelector('#df-b7c527c7-fc03-4025-b82a-579be3c18431 button.colab-df-convert');\n",
              "      buttonEl.style.display =\n",
              "        google.colab.kernel.accessAllowed ? 'block' : 'none';\n",
              "\n",
              "      async function convertToInteractive(key) {\n",
              "        const element = document.querySelector('#df-b7c527c7-fc03-4025-b82a-579be3c18431');\n",
              "        const dataTable =\n",
              "          await google.colab.kernel.invokeFunction('convertToInteractive',\n",
              "                                                    [key], {});\n",
              "        if (!dataTable) return;\n",
              "\n",
              "        const docLinkHtml = 'Like what you see? Visit the ' +\n",
              "          '<a target=\"_blank\" href=https://colab.research.google.com/notebooks/data_table.ipynb>data table notebook</a>'\n",
              "          + ' to learn more about interactive tables.';\n",
              "        element.innerHTML = '';\n",
              "        dataTable['output_type'] = 'display_data';\n",
              "        await google.colab.output.renderOutput(dataTable, element);\n",
              "        const docLink = document.createElement('div');\n",
              "        docLink.innerHTML = docLinkHtml;\n",
              "        element.appendChild(docLink);\n",
              "      }\n",
              "    </script>\n",
              "  </div>\n",
              "\n",
              "\n",
              "<div id=\"df-9b5e1345-f14c-426d-abb2-0d654922bf04\">\n",
              "  <button class=\"colab-df-quickchart\" onclick=\"quickchart('df-9b5e1345-f14c-426d-abb2-0d654922bf04')\"\n",
              "            title=\"Suggest charts\"\n",
              "            style=\"display:none;\">\n",
              "\n",
              "<svg xmlns=\"http://www.w3.org/2000/svg\" height=\"24px\"viewBox=\"0 0 24 24\"\n",
              "     width=\"24px\">\n",
              "    <g>\n",
              "        <path d=\"M19 3H5c-1.1 0-2 .9-2 2v14c0 1.1.9 2 2 2h14c1.1 0 2-.9 2-2V5c0-1.1-.9-2-2-2zM9 17H7v-7h2v7zm4 0h-2V7h2v10zm4 0h-2v-4h2v4z\"/>\n",
              "    </g>\n",
              "</svg>\n",
              "  </button>\n",
              "\n",
              "<style>\n",
              "  .colab-df-quickchart {\n",
              "      --bg-color: #E8F0FE;\n",
              "      --fill-color: #1967D2;\n",
              "      --hover-bg-color: #E2EBFA;\n",
              "      --hover-fill-color: #174EA6;\n",
              "      --disabled-fill-color: #AAA;\n",
              "      --disabled-bg-color: #DDD;\n",
              "  }\n",
              "\n",
              "  [theme=dark] .colab-df-quickchart {\n",
              "      --bg-color: #3B4455;\n",
              "      --fill-color: #D2E3FC;\n",
              "      --hover-bg-color: #434B5C;\n",
              "      --hover-fill-color: #FFFFFF;\n",
              "      --disabled-bg-color: #3B4455;\n",
              "      --disabled-fill-color: #666;\n",
              "  }\n",
              "\n",
              "  .colab-df-quickchart {\n",
              "    background-color: var(--bg-color);\n",
              "    border: none;\n",
              "    border-radius: 50%;\n",
              "    cursor: pointer;\n",
              "    display: none;\n",
              "    fill: var(--fill-color);\n",
              "    height: 32px;\n",
              "    padding: 0;\n",
              "    width: 32px;\n",
              "  }\n",
              "\n",
              "  .colab-df-quickchart:hover {\n",
              "    background-color: var(--hover-bg-color);\n",
              "    box-shadow: 0 1px 2px rgba(60, 64, 67, 0.3), 0 1px 3px 1px rgba(60, 64, 67, 0.15);\n",
              "    fill: var(--button-hover-fill-color);\n",
              "  }\n",
              "\n",
              "  .colab-df-quickchart-complete:disabled,\n",
              "  .colab-df-quickchart-complete:disabled:hover {\n",
              "    background-color: var(--disabled-bg-color);\n",
              "    fill: var(--disabled-fill-color);\n",
              "    box-shadow: none;\n",
              "  }\n",
              "\n",
              "  .colab-df-spinner {\n",
              "    border: 2px solid var(--fill-color);\n",
              "    border-color: transparent;\n",
              "    border-bottom-color: var(--fill-color);\n",
              "    animation:\n",
              "      spin 1s steps(1) infinite;\n",
              "  }\n",
              "\n",
              "  @keyframes spin {\n",
              "    0% {\n",
              "      border-color: transparent;\n",
              "      border-bottom-color: var(--fill-color);\n",
              "      border-left-color: var(--fill-color);\n",
              "    }\n",
              "    20% {\n",
              "      border-color: transparent;\n",
              "      border-left-color: var(--fill-color);\n",
              "      border-top-color: var(--fill-color);\n",
              "    }\n",
              "    30% {\n",
              "      border-color: transparent;\n",
              "      border-left-color: var(--fill-color);\n",
              "      border-top-color: var(--fill-color);\n",
              "      border-right-color: var(--fill-color);\n",
              "    }\n",
              "    40% {\n",
              "      border-color: transparent;\n",
              "      border-right-color: var(--fill-color);\n",
              "      border-top-color: var(--fill-color);\n",
              "    }\n",
              "    60% {\n",
              "      border-color: transparent;\n",
              "      border-right-color: var(--fill-color);\n",
              "    }\n",
              "    80% {\n",
              "      border-color: transparent;\n",
              "      border-right-color: var(--fill-color);\n",
              "      border-bottom-color: var(--fill-color);\n",
              "    }\n",
              "    90% {\n",
              "      border-color: transparent;\n",
              "      border-bottom-color: var(--fill-color);\n",
              "    }\n",
              "  }\n",
              "</style>\n",
              "\n",
              "  <script>\n",
              "    async function quickchart(key) {\n",
              "      const quickchartButtonEl =\n",
              "        document.querySelector('#' + key + ' button');\n",
              "      quickchartButtonEl.disabled = true;  // To prevent multiple clicks.\n",
              "      quickchartButtonEl.classList.add('colab-df-spinner');\n",
              "      try {\n",
              "        const charts = await google.colab.kernel.invokeFunction(\n",
              "            'suggestCharts', [key], {});\n",
              "      } catch (error) {\n",
              "        console.error('Error during call to suggestCharts:', error);\n",
              "      }\n",
              "      quickchartButtonEl.classList.remove('colab-df-spinner');\n",
              "      quickchartButtonEl.classList.add('colab-df-quickchart-complete');\n",
              "    }\n",
              "    (() => {\n",
              "      let quickchartButtonEl =\n",
              "        document.querySelector('#df-9b5e1345-f14c-426d-abb2-0d654922bf04 button');\n",
              "      quickchartButtonEl.style.display =\n",
              "        google.colab.kernel.accessAllowed ? 'block' : 'none';\n",
              "    })();\n",
              "  </script>\n",
              "</div>\n",
              "\n",
              "    </div>\n",
              "  </div>\n"
            ],
            "application/vnd.google.colaboratory.intrinsic+json": {
              "type": "dataframe",
              "summary": "{\n  \"name\": \"songs_per_year\",\n  \"rows\": 5,\n  \"fields\": [\n    {\n      \"column\": \"year\",\n      \"properties\": {\n        \"dtype\": \"number\",\n        \"std\": 1,\n        \"min\": 2006,\n        \"max\": 2010,\n        \"num_unique_values\": 5,\n        \"samples\": [\n          2007,\n          2010,\n          2008\n        ],\n        \"semantic_type\": \"\",\n        \"description\": \"\"\n      }\n    },\n    {\n      \"column\": \"song_id\",\n      \"properties\": {\n        \"dtype\": \"number\",\n        \"std\": 24,\n        \"min\": 16,\n        \"max\": 79,\n        \"num_unique_values\": 5,\n        \"samples\": [\n          79,\n          16,\n          67\n        ],\n        \"semantic_type\": \"\",\n        \"description\": \"\"\n      }\n    }\n  ]\n}"
            }
          },
          "metadata": {},
          "execution_count": 25
        }
      ],
      "source": [
        "# Group 'df_final' by the 'year' column and count the number of unique songs in each year\n",
        "songs_per_year = df_final.groupby('year')['song_id'].nunique()\n",
        "\n",
        "# Create a DataFrame with the count of unique songs per year\n",
        "songs_per_year = pd.DataFrame(songs_per_year)\n",
        "\n",
        "# Display the last few rows of the 'songs_per_year' DataFrame\n",
        "songs_per_year.tail()"
      ]
    },
    {
      "cell_type": "code",
      "execution_count": null,
      "metadata": {
        "colab": {
          "base_uri": "https://localhost:8080/",
          "height": 498
        },
        "id": "3EUrQSzCnMOF",
        "outputId": "e11e5c98-f2a5-4f61-b4b8-17e38faeb626"
      },
      "outputs": [
        {
          "output_type": "display_data",
          "data": {
            "text/plain": [
              "<Figure size 3000x1000 with 1 Axes>"
            ],
            "image/png": "[encoded data removed]"
          },
          "metadata": {}
        }
      ],
      "source": [
        "# Create a bar plot to visualize the number of unique songs played in each year\n",
        "plt.figure(figsize=(30, 10))  # Set the size of the figure\n",
        "\n",
        "light_purple_palette = sns.color_palette(['#9c9fe5'])\n",
        "\n",
        "# Use seaborn's barplot to show the distribution\n",
        "sns.barplot(x=songs_per_year.index, y='song_id', data=songs_per_year, palette=light_purple_palette, dodge=False)\n",
        "\n",
        "# Set the x-axis label to 'Year'\n",
        "plt.xlabel('Year')\n",
        "\n",
        "# Set the y-axis label to 'Number of Titles Played'\n",
        "plt.ylabel('Number of Titles Played')\n",
        "\n",
        "# Set the title of the plot\n",
        "plt.title('Number of Titles Played in Each Year')\n",
        "\n",
        "# Display the plot\n",
        "plt.show()"
      ]
    },
    {
      "cell_type": "markdown",
      "metadata": {
        "id": "VUcXc7ZYfaGl"
      },
      "source": [
        "**Observations and Insights:**\n",
        "- The bar plot visually represents the number of unique songs played in each year.\n",
        "- It provides an overview of the variation in the number of titles played over different years.\n",
        "- The graph shows a clear increase in the number of unique songs played, starting from 1999.\n",
        "\n",
        "\n"
      ]
    },
    {
      "cell_type": "markdown",
      "source": [
        "### **Multivariate Analysis**"
      ],
      "metadata": {
        "id": "R5ijJAiWG0Vi"
      }
    },
    {
      "cell_type": "markdown",
      "metadata": {
        "id": "a3oaKjEMXsfV"
      },
      "source": [
        "**The Most Listened to Artists**"
      ]
    },
    {
      "cell_type": "code",
      "execution_count": null,
      "metadata": {
        "colab": {
          "base_uri": "https://localhost:8080/",
          "height": 829
        },
        "id": "-D-VMvqNAowt",
        "outputId": "8c0764d1-07e4-453b-ca8e-91089c6c75af"
      },
      "outputs": [
        {
          "output_type": "display_data",
          "data": {
            "text/plain": [
              "<Figure size 1000x1000 with 1 Axes>"
            ],
            "image/png": "[encoded data removed]"
          },
          "metadata": {}
        }
      ],
      "source": [
        "# Group 'df_final' by artist_name and sum the play counts\n",
        "artist_play_counts = df_final.groupby('artist_name')['play_count'].sum().sort_values(ascending=False)\n",
        "\n",
        "# Plotting a pie chart\n",
        "plt.figure(figsize=(10, 10))\n",
        "plt.pie(artist_play_counts.head(10), labels=artist_play_counts.head(10).index, autopct='%1.1f%%', startangle=140, colors=sns.color_palette('Purples'))\n",
        "plt.title('Distribution of Play Counts for Top 10 Artists')\n",
        "plt.show()"
      ]
    },
    {
      "cell_type": "markdown",
      "metadata": {
        "id": "XucYDGyTYRq6"
      },
      "source": [
        "**Observations and Insights:**\n",
        "\n",
        "Based on the data, the top 10 most listened-to artists, ranked from most to least popular, are:\n",
        "\n",
        "1.\tColdplay\n",
        "2.\tThe Killers\n",
        "3.\tFlorence + The Machine\n",
        "4.\tKings of Leon\n",
        "5.\tJustin Bieber\n",
        "6.\tThe Bird and The Bee\n",
        "7.\tVampire Weekend\n",
        "8.\tLCD Soundsystem\n",
        "9.\tOctopus Project\n",
        "10.\tRadiohead\n",
        "\n",
        "This insight reveals intriguing artist preferences within the user base. It showcases a mix of established names like Coldplay and Radiohead alongside contemporary favorites like The Killers and The Bird and The Bee. This information is valuable for understanding user tastes and tailoring recommendations or content curation accordingly."
      ]
    },
    {
      "cell_type": "markdown",
      "metadata": {
        "id": "x1duTvjdX3bl"
      },
      "source": [
        "**The Most Listened to Songs**"
      ]
    },
    {
      "cell_type": "code",
      "execution_count": null,
      "metadata": {
        "colab": {
          "base_uri": "https://localhost:8080/",
          "height": 658
        },
        "id": "MOGadJfBlS8F",
        "outputId": "4e0362ba-01d6-41f8-b20f-a3b16fe7e430"
      },
      "outputs": [
        {
          "output_type": "display_data",
          "data": {
            "text/plain": [
              "<Figure size 1200x800 with 1 Axes>"
            ],
            "image/png": "[encoded data removed]"
          },
          "metadata": {}
        }
      ],
      "source": [
        "# Group 'df_final' by 'artist_name' and 'title', and sum the play counts\n",
        "song_play_counts = df_final.groupby(['artist_name', 'title'])['play_count'].sum().sort_values(ascending=False)\n",
        "\n",
        "# Reset the index to convert MultiIndex to columns\n",
        "song_play_counts = song_play_counts.reset_index()\n",
        "\n",
        "# Plotting the bar chart using seaborn\n",
        "plt.figure(figsize=(12, 8))\n",
        "\n",
        "# Plotting with sns.barplot, setting dodge=False\n",
        "bar_plot = sns.barplot(x='play_count', y='title', hue='artist_name', data=song_play_counts.head(10), palette='Purples', dodge=False)\n",
        "\n",
        "# Adding a title\n",
        "plt.title('Top 10 Most Listened to Songs')\n",
        "\n",
        "# Adding labels to x and y axes\n",
        "plt.xlabel('Total Play Count')\n",
        "plt.ylabel('Song Title')\n",
        "\n",
        "# Moving the legend outside the plot to the right\n",
        "plt.legend(title='Artist', bbox_to_anchor=(1.05, 1), loc='upper left')\n",
        "\n",
        "# Add value annotations to each bar\n",
        "for index, row in song_play_counts.head(10).iterrows():\n",
        "    bar_plot.text(row['play_count'], index, str(int(row['play_count'])), color='black', ha='left', va='center')\n",
        "\n",
        "# Show the plot\n",
        "plt.show()"
      ]
    },
    {
      "cell_type": "markdown",
      "metadata": {
        "id": "pv7OIdTNakBM"
      },
      "source": [
        "**Observations and Insights:**\n",
        "\n",
        "To understand user preferences, the top 10 most frequently played songs, ranked from most to least popular, are:\n",
        "\n",
        "1. \"Dog Days Are Over (Radio Edit)\" - Florence + The Machine\n",
        "2. \"Sehr Kosmisch\" - Harmonia\n",
        "3. \"Use Somebody\" - Kings of Leon\n",
        "4. \"Secrets\" - OneRepublic\n",
        "5. \"Fireflies\" - Charttraxx Karaoke\n",
        "6. \"The Scientist\" - Coldplay\n",
        "7. \"Hey, Soul Sister\" - Train\n",
        "8. \"Clocks\" - Coldplay\n",
        "9. \"OMG\" - Usher featuring will.i.am\n",
        "10. \"Creep (Explicit)\" - Radiohead\n",
        "\n",
        "This diverse list provides insights into the musical preferences of the user base. It includes a blend of genres, with alt-rock giants like Radiohead and Coldplay sharing the spotlight with dancefloor favorites like \"Sehr Kosmisch\" and karaoke renditions of popular tunes. Notably, not all of the most listened-to artists have their songs in this list. This information is valuable for understanding user tastes and creating targeted recommendations or content experiences."
      ]
    },
    {
      "cell_type": "code",
      "source": [
        "# Create a figure for the heatmap with a specified size\n",
        "plt.figure(figsize=(10, 6))\n",
        "\n",
        "# Calculate the correlation matrix between the specified features\n",
        "correlation_matrix = df_final[['play_count', 'year']].corr()\n",
        "\n",
        "# Create the heatmap using Seaborn with annotations\n",
        "sns.heatmap(correlation_matrix, annot=True, cmap='Purples')\n",
        "\n",
        "# Set the title for the heatmap\n",
        "plt.title('Correlation Matrix', fontsize=14)\n",
        "\n",
        "# Display the plot\n",
        "plt.show()"
      ],
      "metadata": {
        "colab": {
          "base_uri": "https://localhost:8080/",
          "height": 546
        },
        "id": "EKSJPMvOzWfi",
        "outputId": "49a79f80-cc6c-47d5-a802-f7d464fdd06a"
      },
      "execution_count": null,
      "outputs": [
        {
          "output_type": "display_data",
          "data": {
            "text/plain": [
              "<Figure size 1000x600 with 2 Axes>"
            ],
            "image/png": "[encoded data removed]"
          },
          "metadata": {}
        }
      ]
    },
    {
      "cell_type": "markdown",
      "source": [
        "**Observations and Insights:**\n",
        "\n",
        "- Correlation between Play Count and Year: The correlation between play_count and year is -0.046, indicating a very weak negative correlation. This suggests that there is no significant relationship between the year and the number of play counts.\n",
        "- Self Correlation: As expected, the correlation of play_count with itself is 1, which is a perfect positive correlation, indicating complete dependence.\n",
        "- Interpretation: The weak negative correlation implies that the year in which the song was played does not have a substantial impact on the play count."
      ],
      "metadata": {
        "id": "sgzCgr5dNZ9O"
      }
    },
    {
      "cell_type": "markdown",
      "metadata": {
        "id": "9VThYg7voGIz"
      },
      "source": [
        "### **Building various models**"
      ]
    },
    {
      "cell_type": "markdown",
      "metadata": {
        "id": "Ituk9wA4Idib"
      },
      "source": [
        "#### **Popularity-Based Recommendation Systems**"
      ]
    },
    {
      "cell_type": "markdown",
      "metadata": {
        "id": "462hsbxaI1ED"
      },
      "source": [
        "Building the popularity recommendation systems based on the sum of play counts by taking the count and sum of play counts of the songs."
      ]
    },
    {
      "cell_type": "code",
      "execution_count": null,
      "metadata": {
        "id": "Bun4P79OMqox"
      },
      "outputs": [],
      "source": [
        "# Compute the average play count for each song\n",
        "average_play_count = df_final.groupby('song_id')['play_count'].mean()\n",
        "\n",
        "# Calculate the play frequency for each song\n",
        "song_play_frequency = df_final.groupby('song_id')['play_count'].count()"
      ]
    },
    {
      "cell_type": "code",
      "execution_count": null,
      "metadata": {
        "colab": {
          "base_uri": "https://localhost:8080/",
          "height": 252
        },
        "id": "-4EhDcOjM8yM",
        "outputId": "7e928852-f9a3-4b0c-f2b7-a70e10c78c80"
      },
      "outputs": [
        {
          "output_type": "stream",
          "name": "stdout",
          "text": [
            "First five records of final_play dataset:\n"
          ]
        },
        {
          "output_type": "execute_result",
          "data": {
            "text/plain": [
              "         average_count  play_freq\n",
              "song_id                          \n",
              "21            1.622642        265\n",
              "22            1.492424        132\n",
              "52            1.729216        421\n",
              "62            1.728070        114\n",
              "93            1.452174        115"
            ],
            "text/html": [
              "\n",
              "  <div id=\"df-379ac155-3686-4953-a2e2-791822824256\" class=\"colab-df-container\">\n",
              "    <div>\n",
              "<style scoped>\n",
              "    .dataframe tbody tr th:only-of-type {\n",
              "        vertical-align: middle;\n",
              "    }\n",
              "\n",
              "    .dataframe tbody tr th {\n",
              "        vertical-align: top;\n",
              "    }\n",
              "\n",
              "    .dataframe thead th {\n",
              "        text-align: right;\n",
              "    }\n",
              "</style>\n",
              "<table border=\"1\" class=\"dataframe\">\n",
              "  <thead>\n",
              "    <tr style=\"text-align: right;\">\n",
              "      <th></th>\n",
              "      <th>average_count</th>\n",
              "      <th>play_freq</th>\n",
              "    </tr>\n",
              "    <tr>\n",
              "      <th>song_id</th>\n",
              "      <th></th>\n",
              "      <th></th>\n",
              "    </tr>\n",
              "  </thead>\n",
              "  <tbody>\n",
              "    <tr>\n",
              "      <th>21</th>\n",
              "      <td>1.622642</td>\n",
              "      <td>265</td>\n",
              "    </tr>\n",
              "    <tr>\n",
              "      <th>22</th>\n",
              "      <td>1.492424</td>\n",
              "      <td>132</td>\n",
              "    </tr>\n",
              "    <tr>\n",
              "      <th>52</th>\n",
              "      <td>1.729216</td>\n",
              "      <td>421</td>\n",
              "    </tr>\n",
              "    <tr>\n",
              "      <th>62</th>\n",
              "      <td>1.728070</td>\n",
              "      <td>114</td>\n",
              "    </tr>\n",
              "    <tr>\n",
              "      <th>93</th>\n",
              "      <td>1.452174</td>\n",
              "      <td>115</td>\n",
              "    </tr>\n",
              "  </tbody>\n",
              "</table>\n",
              "</div>\n",
              "    <div class=\"colab-df-buttons\">\n",
              "\n",
              "  <div class=\"colab-df-container\">\n",
              "    <button class=\"colab-df-convert\" onclick=\"convertToInteractive('df-379ac155-3686-4953-a2e2-791822824256')\"\n",
              "            title=\"Convert this dataframe to an interactive table.\"\n",
              "            style=\"display:none;\">\n",
              "\n",
              "  <svg xmlns=\"http://www.w3.org/2000/svg\" height=\"24px\" viewBox=\"0 -960 960 960\">\n",
              "    <path d=\"M120-120v-720h720v720H120Zm60-500h600v-160H180v160Zm220 220h160v-160H400v160Zm0 220h160v-160H400v160ZM180-400h160v-160H180v160Zm440 0h160v-160H620v160ZM180-180h160v-160H180v160Zm440 0h160v-160H620v160Z\"/>\n",
              "  </svg>\n",
              "    </button>\n",
              "\n",
              "  <style>\n",
              "    .colab-df-container {\n",
              "      display:flex;\n",
              "      gap: 12px;\n",
              "    }\n",
              "\n",
              "    .colab-df-convert {\n",
              "      background-color: #E8F0FE;\n",
              "      border: none;\n",
              "      border-radius: 50%;\n",
              "      cursor: pointer;\n",
              "      display: none;\n",
              "      fill: #1967D2;\n",
              "      height: 32px;\n",
              "      padding: 0 0 0 0;\n",
              "      width: 32px;\n",
              "    }\n",
              "\n",
              "    .colab-df-convert:hover {\n",
              "      background-color: #E2EBFA;\n",
              "      box-shadow: 0px 1px 2px rgba(60, 64, 67, 0.3), 0px 1px 3px 1px rgba(60, 64, 67, 0.15);\n",
              "      fill: #174EA6;\n",
              "    }\n",
              "\n",
              "    .colab-df-buttons div {\n",
              "      margin-bottom: 4px;\n",
              "    }\n",
              "\n",
              "    [theme=dark] .colab-df-convert {\n",
              "      background-color: #3B4455;\n",
              "      fill: #D2E3FC;\n",
              "    }\n",
              "\n",
              "    [theme=dark] .colab-df-convert:hover {\n",
              "      background-color: #434B5C;\n",
              "      box-shadow: 0px 1px 3px 1px rgba(0, 0, 0, 0.15);\n",
              "      filter: drop-shadow(0px 1px 2px rgba(0, 0, 0, 0.3));\n",
              "      fill: #FFFFFF;\n",
              "    }\n",
              "  </style>\n",
              "\n",
              "    <script>\n",
              "      const buttonEl =\n",
              "        document.querySelector('#df-379ac155-3686-4953-a2e2-791822824256 button.colab-df-convert');\n",
              "      buttonEl.style.display =\n",
              "        google.colab.kernel.accessAllowed ? 'block' : 'none';\n",
              "\n",
              "      async function convertToInteractive(key) {\n",
              "        const element = document.querySelector('#df-379ac155-3686-4953-a2e2-791822824256');\n",
              "        const dataTable =\n",
              "          await google.colab.kernel.invokeFunction('convertToInteractive',\n",
              "                                                    [key], {});\n",
              "        if (!dataTable) return;\n",
              "\n",
              "        const docLinkHtml = 'Like what you see? Visit the ' +\n",
              "          '<a target=\"_blank\" href=https://colab.research.google.com/notebooks/data_table.ipynb>data table notebook</a>'\n",
              "          + ' to learn more about interactive tables.';\n",
              "        element.innerHTML = '';\n",
              "        dataTable['output_type'] = 'display_data';\n",
              "        await google.colab.output.renderOutput(dataTable, element);\n",
              "        const docLink = document.createElement('div');\n",
              "        docLink.innerHTML = docLinkHtml;\n",
              "        element.appendChild(docLink);\n",
              "      }\n",
              "    </script>\n",
              "  </div>\n",
              "\n",
              "\n",
              "<div id=\"df-248b7969-9e1b-40a5-b4e3-4d47f642b59b\">\n",
              "  <button class=\"colab-df-quickchart\" onclick=\"quickchart('df-248b7969-9e1b-40a5-b4e3-4d47f642b59b')\"\n",
              "            title=\"Suggest charts\"\n",
              "            style=\"display:none;\">\n",
              "\n",
              "<svg xmlns=\"http://www.w3.org/2000/svg\" height=\"24px\"viewBox=\"0 0 24 24\"\n",
              "     width=\"24px\">\n",
              "    <g>\n",
              "        <path d=\"M19 3H5c-1.1 0-2 .9-2 2v14c0 1.1.9 2 2 2h14c1.1 0 2-.9 2-2V5c0-1.1-.9-2-2-2zM9 17H7v-7h2v7zm4 0h-2V7h2v10zm4 0h-2v-4h2v4z\"/>\n",
              "    </g>\n",
              "</svg>\n",
              "  </button>\n",
              "\n",
              "<style>\n",
              "  .colab-df-quickchart {\n",
              "      --bg-color: #E8F0FE;\n",
              "      --fill-color: #1967D2;\n",
              "      --hover-bg-color: #E2EBFA;\n",
              "      --hover-fill-color: #174EA6;\n",
              "      --disabled-fill-color: #AAA;\n",
              "      --disabled-bg-color: #DDD;\n",
              "  }\n",
              "\n",
              "  [theme=dark] .colab-df-quickchart {\n",
              "      --bg-color: #3B4455;\n",
              "      --fill-color: #D2E3FC;\n",
              "      --hover-bg-color: #434B5C;\n",
              "      --hover-fill-color: #FFFFFF;\n",
              "      --disabled-bg-color: #3B4455;\n",
              "      --disabled-fill-color: #666;\n",
              "  }\n",
              "\n",
              "  .colab-df-quickchart {\n",
              "    background-color: var(--bg-color);\n",
              "    border: none;\n",
              "    border-radius: 50%;\n",
              "    cursor: pointer;\n",
              "    display: none;\n",
              "    fill: var(--fill-color);\n",
              "    height: 32px;\n",
              "    padding: 0;\n",
              "    width: 32px;\n",
              "  }\n",
              "\n",
              "  .colab-df-quickchart:hover {\n",
              "    background-color: var(--hover-bg-color);\n",
              "    box-shadow: 0 1px 2px rgba(60, 64, 67, 0.3), 0 1px 3px 1px rgba(60, 64, 67, 0.15);\n",
              "    fill: var(--button-hover-fill-color);\n",
              "  }\n",
              "\n",
              "  .colab-df-quickchart-complete:disabled,\n",
              "  .colab-df-quickchart-complete:disabled:hover {\n",
              "    background-color: var(--disabled-bg-color);\n",
              "    fill: var(--disabled-fill-color);\n",
              "    box-shadow: none;\n",
              "  }\n",
              "\n",
              "  .colab-df-spinner {\n",
              "    border: 2px solid var(--fill-color);\n",
              "    border-color: transparent;\n",
              "    border-bottom-color: var(--fill-color);\n",
              "    animation:\n",
              "      spin 1s steps(1) infinite;\n",
              "  }\n",
              "\n",
              "  @keyframes spin {\n",
              "    0% {\n",
              "      border-color: transparent;\n",
              "      border-bottom-color: var(--fill-color);\n",
              "      border-left-color: var(--fill-color);\n",
              "    }\n",
              "    20% {\n",
              "      border-color: transparent;\n",
              "      border-left-color: var(--fill-color);\n",
              "      border-top-color: var(--fill-color);\n",
              "    }\n",
              "    30% {\n",
              "      border-color: transparent;\n",
              "      border-left-color: var(--fill-color);\n",
              "      border-top-color: var(--fill-color);\n",
              "      border-right-color: var(--fill-color);\n",
              "    }\n",
              "    40% {\n",
              "      border-color: transparent;\n",
              "      border-right-color: var(--fill-color);\n",
              "      border-top-color: var(--fill-color);\n",
              "    }\n",
              "    60% {\n",
              "      border-color: transparent;\n",
              "      border-right-color: var(--fill-color);\n",
              "    }\n",
              "    80% {\n",
              "      border-color: transparent;\n",
              "      border-right-color: var(--fill-color);\n",
              "      border-bottom-color: var(--fill-color);\n",
              "    }\n",
              "    90% {\n",
              "      border-color: transparent;\n",
              "      border-bottom-color: var(--fill-color);\n",
              "    }\n",
              "  }\n",
              "</style>\n",
              "\n",
              "  <script>\n",
              "    async function quickchart(key) {\n",
              "      const quickchartButtonEl =\n",
              "        document.querySelector('#' + key + ' button');\n",
              "      quickchartButtonEl.disabled = true;  // To prevent multiple clicks.\n",
              "      quickchartButtonEl.classList.add('colab-df-spinner');\n",
              "      try {\n",
              "        const charts = await google.colab.kernel.invokeFunction(\n",
              "            'suggestCharts', [key], {});\n",
              "      } catch (error) {\n",
              "        console.error('Error during call to suggestCharts:', error);\n",
              "      }\n",
              "      quickchartButtonEl.classList.remove('colab-df-spinner');\n",
              "      quickchartButtonEl.classList.add('colab-df-quickchart-complete');\n",
              "    }\n",
              "    (() => {\n",
              "      let quickchartButtonEl =\n",
              "        document.querySelector('#df-248b7969-9e1b-40a5-b4e3-4d47f642b59b button');\n",
              "      quickchartButtonEl.style.display =\n",
              "        google.colab.kernel.accessAllowed ? 'block' : 'none';\n",
              "    })();\n",
              "  </script>\n",
              "</div>\n",
              "\n",
              "    </div>\n",
              "  </div>\n"
            ],
            "application/vnd.google.colaboratory.intrinsic+json": {
              "type": "dataframe",
              "variable_name": "final_play",
              "summary": "{\n  \"name\": \"final_play\",\n  \"rows\": 563,\n  \"fields\": [\n    {\n      \"column\": \"song_id\",\n      \"properties\": {\n        \"dtype\": \"number\",\n        \"std\": 2900,\n        \"min\": 21,\n        \"max\": 9989,\n        \"num_unique_values\": 563,\n        \"samples\": [\n          4462,\n          9076,\n          4806\n        ],\n        \"semantic_type\": \"\",\n        \"description\": \"\"\n      }\n    },\n    {\n      \"column\": \"average_count\",\n      \"properties\": {\n        \"dtype\": \"number\",\n        \"std\": 0.2176538144621947,\n        \"min\": 1.238709677419355,\n        \"max\": 3.3738317757009346,\n        \"num_unique_values\": 535,\n        \"samples\": [\n          1.7465753424657535,\n          1.4830508474576272,\n          1.6343115124153498\n        ],\n        \"semantic_type\": \"\",\n        \"description\": \"\"\n      }\n    },\n    {\n      \"column\": \"play_freq\",\n      \"properties\": {\n        \"dtype\": \"number\",\n        \"std\": 117,\n        \"min\": 96,\n        \"max\": 751,\n        \"num_unique_values\": 238,\n        \"samples\": [\n          116,\n          176,\n          218\n        ],\n        \"semantic_type\": \"\",\n        \"description\": \"\"\n      }\n    }\n  ]\n}"
            }
          },
          "metadata": {},
          "execution_count": 31
        }
      ],
      "source": [
        "# Create a new DataFrame combining average play count and play frequency\n",
        "final_play = pd.DataFrame({\n",
        "    'average_count': average_play_count,\n",
        "    'play_freq': song_play_frequency\n",
        "})\n",
        "\n",
        "# Display the first five records of the final_play dataset\n",
        "print(\"First five records of final_play dataset:\")\n",
        "final_play.head()"
      ]
    },
    {
      "cell_type": "markdown",
      "metadata": {
        "id": "WnCT-A7RK_5g"
      },
      "source": [
        "Creating a function to find the top n songs for a recommendation based on the average play count of song. In addition to adding a threshold for a minimum number of playcounts for a song to be considered for recommendation."
      ]
    },
    {
      "cell_type": "code",
      "execution_count": null,
      "metadata": {
        "id": "y2l043YAPqdF"
      },
      "outputs": [],
      "source": [
        "def find_top_songs(final_play, top_n, min_interactions):\n",
        "    \"\"\"\n",
        "    Retrieve the top songs based on average play count and play frequency.\n",
        "\n",
        "    Parameters:\n",
        "    - final_play: DataFrame containing song data\n",
        "    - top_n: Number of top songs to retrieve\n",
        "    - min_interactions: Minimum play frequency to consider\n",
        "\n",
        "    Returns:\n",
        "    - DataFrame with the top songs based on the criteria\n",
        "    \"\"\"\n",
        "    # Filter songs with play frequency greater than or equal to the minimum\n",
        "    selected_songs = final_play[final_play['play_freq'] >= min_interactions]\n",
        "\n",
        "    # Select the top N songs based on average play count\n",
        "    top_songs = selected_songs.nlargest(top_n, 'average_count')\n",
        "\n",
        "    return top_songs"
      ]
    },
    {
      "cell_type": "code",
      "execution_count": null,
      "metadata": {
        "colab": {
          "base_uri": "https://localhost:8080/",
          "height": 407
        },
        "id": "5TdiPx2iPsv8",
        "outputId": "08e11223-f915-4c10-9125-bc6ffe3fd261"
      },
      "outputs": [
        {
          "output_type": "stream",
          "name": "stdout",
          "text": [
            "Recommended Top 10 songs based on average_count and play_freq:\n"
          ]
        },
        {
          "output_type": "execute_result",
          "data": {
            "text/plain": [
              "         average_count  play_freq\n",
              "song_id                          \n",
              "7224          3.373832        107\n",
              "6450          2.578431        102\n",
              "9942          2.486667        150\n",
              "5531          2.309061        618\n",
              "5653          2.296296        108\n",
              "8483          2.235772        123\n",
              "2220          2.220196        713\n",
              "657           2.218543        151\n",
              "614           2.217158        373\n",
              "352           2.184492        748"
            ],
            "text/html": [
              "\n",
              "  <div id=\"df-bee305b6-a354-4665-944a-0063397372fe\" class=\"colab-df-container\">\n",
              "    <div>\n",
              "<style scoped>\n",
              "    .dataframe tbody tr th:only-of-type {\n",
              "        vertical-align: middle;\n",
              "    }\n",
              "\n",
              "    .dataframe tbody tr th {\n",
              "        vertical-align: top;\n",
              "    }\n",
              "\n",
              "    .dataframe thead th {\n",
              "        text-align: right;\n",
              "    }\n",
              "</style>\n",
              "<table border=\"1\" class=\"dataframe\">\n",
              "  <thead>\n",
              "    <tr style=\"text-align: right;\">\n",
              "      <th></th>\n",
              "      <th>average_count</th>\n",
              "      <th>play_freq</th>\n",
              "    </tr>\n",
              "    <tr>\n",
              "      <th>song_id</th>\n",
              "      <th></th>\n",
              "      <th></th>\n",
              "    </tr>\n",
              "  </thead>\n",
              "  <tbody>\n",
              "    <tr>\n",
              "      <th>7224</th>\n",
              "      <td>3.373832</td>\n",
              "      <td>107</td>\n",
              "    </tr>\n",
              "    <tr>\n",
              "      <th>6450</th>\n",
              "      <td>2.578431</td>\n",
              "      <td>102</td>\n",
              "    </tr>\n",
              "    <tr>\n",
              "      <th>9942</th>\n",
              "      <td>2.486667</td>\n",
              "      <td>150</td>\n",
              "    </tr>\n",
              "    <tr>\n",
              "      <th>5531</th>\n",
              "      <td>2.309061</td>\n",
              "      <td>618</td>\n",
              "    </tr>\n",
              "    <tr>\n",
              "      <th>5653</th>\n",
              "      <td>2.296296</td>\n",
              "      <td>108</td>\n",
              "    </tr>\n",
              "    <tr>\n",
              "      <th>8483</th>\n",
              "      <td>2.235772</td>\n",
              "      <td>123</td>\n",
              "    </tr>\n",
              "    <tr>\n",
              "      <th>2220</th>\n",
              "      <td>2.220196</td>\n",
              "      <td>713</td>\n",
              "    </tr>\n",
              "    <tr>\n",
              "      <th>657</th>\n",
              "      <td>2.218543</td>\n",
              "      <td>151</td>\n",
              "    </tr>\n",
              "    <tr>\n",
              "      <th>614</th>\n",
              "      <td>2.217158</td>\n",
              "      <td>373</td>\n",
              "    </tr>\n",
              "    <tr>\n",
              "      <th>352</th>\n",
              "      <td>2.184492</td>\n",
              "      <td>748</td>\n",
              "    </tr>\n",
              "  </tbody>\n",
              "</table>\n",
              "</div>\n",
              "    <div class=\"colab-df-buttons\">\n",
              "\n",
              "  <div class=\"colab-df-container\">\n",
              "    <button class=\"colab-df-convert\" onclick=\"convertToInteractive('df-bee305b6-a354-4665-944a-0063397372fe')\"\n",
              "            title=\"Convert this dataframe to an interactive table.\"\n",
              "            style=\"display:none;\">\n",
              "\n",
              "  <svg xmlns=\"http://www.w3.org/2000/svg\" height=\"24px\" viewBox=\"0 -960 960 960\">\n",
              "    <path d=\"M120-120v-720h720v720H120Zm60-500h600v-160H180v160Zm220 220h160v-160H400v160Zm0 220h160v-160H400v160ZM180-400h160v-160H180v160Zm440 0h160v-160H620v160ZM180-180h160v-160H180v160Zm440 0h160v-160H620v160Z\"/>\n",
              "  </svg>\n",
              "    </button>\n",
              "\n",
              "  <style>\n",
              "    .colab-df-container {\n",
              "      display:flex;\n",
              "      gap: 12px;\n",
              "    }\n",
              "\n",
              "    .colab-df-convert {\n",
              "      background-color: #E8F0FE;\n",
              "      border: none;\n",
              "      border-radius: 50%;\n",
              "      cursor: pointer;\n",
              "      display: none;\n",
              "      fill: #1967D2;\n",
              "      height: 32px;\n",
              "      padding: 0 0 0 0;\n",
              "      width: 32px;\n",
              "    }\n",
              "\n",
              "    .colab-df-convert:hover {\n",
              "      background-color: #E2EBFA;\n",
              "      box-shadow: 0px 1px 2px rgba(60, 64, 67, 0.3), 0px 1px 3px 1px rgba(60, 64, 67, 0.15);\n",
              "      fill: #174EA6;\n",
              "    }\n",
              "\n",
              "    .colab-df-buttons div {\n",
              "      margin-bottom: 4px;\n",
              "    }\n",
              "\n",
              "    [theme=dark] .colab-df-convert {\n",
              "      background-color: #3B4455;\n",
              "      fill: #D2E3FC;\n",
              "    }\n",
              "\n",
              "    [theme=dark] .colab-df-convert:hover {\n",
              "      background-color: #434B5C;\n",
              "      box-shadow: 0px 1px 3px 1px rgba(0, 0, 0, 0.15);\n",
              "      filter: drop-shadow(0px 1px 2px rgba(0, 0, 0, 0.3));\n",
              "      fill: #FFFFFF;\n",
              "    }\n",
              "  </style>\n",
              "\n",
              "    <script>\n",
              "      const buttonEl =\n",
              "        document.querySelector('#df-bee305b6-a354-4665-944a-0063397372fe button.colab-df-convert');\n",
              "      buttonEl.style.display =\n",
              "        google.colab.kernel.accessAllowed ? 'block' : 'none';\n",
              "\n",
              "      async function convertToInteractive(key) {\n",
              "        const element = document.querySelector('#df-bee305b6-a354-4665-944a-0063397372fe');\n",
              "        const dataTable =\n",
              "          await google.colab.kernel.invokeFunction('convertToInteractive',\n",
              "                                                    [key], {});\n",
              "        if (!dataTable) return;\n",
              "\n",
              "        const docLinkHtml = 'Like what you see? Visit the ' +\n",
              "          '<a target=\"_blank\" href=https://colab.research.google.com/notebooks/data_table.ipynb>data table notebook</a>'\n",
              "          + ' to learn more about interactive tables.';\n",
              "        element.innerHTML = '';\n",
              "        dataTable['output_type'] = 'display_data';\n",
              "        await google.colab.output.renderOutput(dataTable, element);\n",
              "        const docLink = document.createElement('div');\n",
              "        docLink.innerHTML = docLinkHtml;\n",
              "        element.appendChild(docLink);\n",
              "      }\n",
              "    </script>\n",
              "  </div>\n",
              "\n",
              "\n",
              "<div id=\"df-fe0c7986-2b0b-4912-9880-564fe941277b\">\n",
              "  <button class=\"colab-df-quickchart\" onclick=\"quickchart('df-fe0c7986-2b0b-4912-9880-564fe941277b')\"\n",
              "            title=\"Suggest charts\"\n",
              "            style=\"display:none;\">\n",
              "\n",
              "<svg xmlns=\"http://www.w3.org/2000/svg\" height=\"24px\"viewBox=\"0 0 24 24\"\n",
              "     width=\"24px\">\n",
              "    <g>\n",
              "        <path d=\"M19 3H5c-1.1 0-2 .9-2 2v14c0 1.1.9 2 2 2h14c1.1 0 2-.9 2-2V5c0-1.1-.9-2-2-2zM9 17H7v-7h2v7zm4 0h-2V7h2v10zm4 0h-2v-4h2v4z\"/>\n",
              "    </g>\n",
              "</svg>\n",
              "  </button>\n",
              "\n",
              "<style>\n",
              "  .colab-df-quickchart {\n",
              "      --bg-color: #E8F0FE;\n",
              "      --fill-color: #1967D2;\n",
              "      --hover-bg-color: #E2EBFA;\n",
              "      --hover-fill-color: #174EA6;\n",
              "      --disabled-fill-color: #AAA;\n",
              "      --disabled-bg-color: #DDD;\n",
              "  }\n",
              "\n",
              "  [theme=dark] .colab-df-quickchart {\n",
              "      --bg-color: #3B4455;\n",
              "      --fill-color: #D2E3FC;\n",
              "      --hover-bg-color: #434B5C;\n",
              "      --hover-fill-color: #FFFFFF;\n",
              "      --disabled-bg-color: #3B4455;\n",
              "      --disabled-fill-color: #666;\n",
              "  }\n",
              "\n",
              "  .colab-df-quickchart {\n",
              "    background-color: var(--bg-color);\n",
              "    border: none;\n",
              "    border-radius: 50%;\n",
              "    cursor: pointer;\n",
              "    display: none;\n",
              "    fill: var(--fill-color);\n",
              "    height: 32px;\n",
              "    padding: 0;\n",
              "    width: 32px;\n",
              "  }\n",
              "\n",
              "  .colab-df-quickchart:hover {\n",
              "    background-color: var(--hover-bg-color);\n",
              "    box-shadow: 0 1px 2px rgba(60, 64, 67, 0.3), 0 1px 3px 1px rgba(60, 64, 67, 0.15);\n",
              "    fill: var(--button-hover-fill-color);\n",
              "  }\n",
              "\n",
              "  .colab-df-quickchart-complete:disabled,\n",
              "  .colab-df-quickchart-complete:disabled:hover {\n",
              "    background-color: var(--disabled-bg-color);\n",
              "    fill: var(--disabled-fill-color);\n",
              "    box-shadow: none;\n",
              "  }\n",
              "\n",
              "  .colab-df-spinner {\n",
              "    border: 2px solid var(--fill-color);\n",
              "    border-color: transparent;\n",
              "    border-bottom-color: var(--fill-color);\n",
              "    animation:\n",
              "      spin 1s steps(1) infinite;\n",
              "  }\n",
              "\n",
              "  @keyframes spin {\n",
              "    0% {\n",
              "      border-color: transparent;\n",
              "      border-bottom-color: var(--fill-color);\n",
              "      border-left-color: var(--fill-color);\n",
              "    }\n",
              "    20% {\n",
              "      border-color: transparent;\n",
              "      border-left-color: var(--fill-color);\n",
              "      border-top-color: var(--fill-color);\n",
              "    }\n",
              "    30% {\n",
              "      border-color: transparent;\n",
              "      border-left-color: var(--fill-color);\n",
              "      border-top-color: var(--fill-color);\n",
              "      border-right-color: var(--fill-color);\n",
              "    }\n",
              "    40% {\n",
              "      border-color: transparent;\n",
              "      border-right-color: var(--fill-color);\n",
              "      border-top-color: var(--fill-color);\n",
              "    }\n",
              "    60% {\n",
              "      border-color: transparent;\n",
              "      border-right-color: var(--fill-color);\n",
              "    }\n",
              "    80% {\n",
              "      border-color: transparent;\n",
              "      border-right-color: var(--fill-color);\n",
              "      border-bottom-color: var(--fill-color);\n",
              "    }\n",
              "    90% {\n",
              "      border-color: transparent;\n",
              "      border-bottom-color: var(--fill-color);\n",
              "    }\n",
              "  }\n",
              "</style>\n",
              "\n",
              "  <script>\n",
              "    async function quickchart(key) {\n",
              "      const quickchartButtonEl =\n",
              "        document.querySelector('#' + key + ' button');\n",
              "      quickchartButtonEl.disabled = true;  // To prevent multiple clicks.\n",
              "      quickchartButtonEl.classList.add('colab-df-spinner');\n",
              "      try {\n",
              "        const charts = await google.colab.kernel.invokeFunction(\n",
              "            'suggestCharts', [key], {});\n",
              "      } catch (error) {\n",
              "        console.error('Error during call to suggestCharts:', error);\n",
              "      }\n",
              "      quickchartButtonEl.classList.remove('colab-df-spinner');\n",
              "      quickchartButtonEl.classList.add('colab-df-quickchart-complete');\n",
              "    }\n",
              "    (() => {\n",
              "      let quickchartButtonEl =\n",
              "        document.querySelector('#df-fe0c7986-2b0b-4912-9880-564fe941277b button');\n",
              "      quickchartButtonEl.style.display =\n",
              "        google.colab.kernel.accessAllowed ? 'block' : 'none';\n",
              "    })();\n",
              "  </script>\n",
              "</div>\n",
              "\n",
              "  <div id=\"id_6d39ead4-2efc-4ccf-b67e-1641dc5d18dc\">\n",
              "    <style>\n",
              "      .colab-df-generate {\n",
              "        background-color: #E8F0FE;\n",
              "        border: none;\n",
              "        border-radius: 50%;\n",
              "        cursor: pointer;\n",
              "        display: none;\n",
              "        fill: #1967D2;\n",
              "        height: 32px;\n",
              "        padding: 0 0 0 0;\n",
              "        width: 32px;\n",
              "      }\n",
              "\n",
              "      .colab-df-generate:hover {\n",
              "        background-color: #E2EBFA;\n",
              "        box-shadow: 0px 1px 2px rgba(60, 64, 67, 0.3), 0px 1px 3px 1px rgba(60, 64, 67, 0.15);\n",
              "        fill: #174EA6;\n",
              "      }\n",
              "\n",
              "      [theme=dark] .colab-df-generate {\n",
              "        background-color: #3B4455;\n",
              "        fill: #D2E3FC;\n",
              "      }\n",
              "\n",
              "      [theme=dark] .colab-df-generate:hover {\n",
              "        background-color: #434B5C;\n",
              "        box-shadow: 0px 1px 3px 1px rgba(0, 0, 0, 0.15);\n",
              "        filter: drop-shadow(0px 1px 2px rgba(0, 0, 0, 0.3));\n",
              "        fill: #FFFFFF;\n",
              "      }\n",
              "    </style>\n",
              "    <button class=\"colab-df-generate\" onclick=\"generateWithVariable('recommended_songs')\"\n",
              "            title=\"Generate code using this dataframe.\"\n",
              "            style=\"display:none;\">\n",
              "\n",
              "  <svg xmlns=\"http://www.w3.org/2000/svg\" height=\"24px\"viewBox=\"0 0 24 24\"\n",
              "       width=\"24px\">\n",
              "    <path d=\"M7,19H8.4L18.45,9,17,7.55,7,17.6ZM5,21V16.75L18.45,3.32a2,2,0,0,1,2.83,0l1.4,1.43a1.91,1.91,0,0,1,.58,1.4,1.91,1.91,0,0,1-.58,1.4L9.25,21ZM18.45,9,17,7.55Zm-12,3A5.31,5.31,0,0,0,4.9,8.1,5.31,5.31,0,0,0,1,6.5,5.31,5.31,0,0,0,4.9,4.9,5.31,5.31,0,0,0,6.5,1,5.31,5.31,0,0,0,8.1,4.9,5.31,5.31,0,0,0,12,6.5,5.46,5.46,0,0,0,6.5,12Z\"/>\n",
              "  </svg>\n",
              "    </button>\n",
              "    <script>\n",
              "      (() => {\n",
              "      const buttonEl =\n",
              "        document.querySelector('#id_6d39ead4-2efc-4ccf-b67e-1641dc5d18dc button.colab-df-generate');\n",
              "      buttonEl.style.display =\n",
              "        google.colab.kernel.accessAllowed ? 'block' : 'none';\n",
              "\n",
              "      buttonEl.onclick = () => {\n",
              "        google.colab.notebook.generateWithVariable('recommended_songs');\n",
              "      }\n",
              "      })();\n",
              "    </script>\n",
              "  </div>\n",
              "\n",
              "    </div>\n",
              "  </div>\n"
            ],
            "application/vnd.google.colaboratory.intrinsic+json": {
              "type": "dataframe",
              "variable_name": "recommended_songs",
              "summary": "{\n  \"name\": \"recommended_songs\",\n  \"rows\": 10,\n  \"fields\": [\n    {\n      \"column\": \"song_id\",\n      \"properties\": {\n        \"dtype\": \"number\",\n        \"std\": 3510,\n        \"min\": 352,\n        \"max\": 9942,\n        \"num_unique_values\": 10,\n        \"samples\": [\n          614,\n          6450,\n          8483\n        ],\n        \"semantic_type\": \"\",\n        \"description\": \"\"\n      }\n    },\n    {\n      \"column\": \"average_count\",\n      \"properties\": {\n        \"dtype\": \"number\",\n        \"std\": 0.3616892759515749,\n        \"min\": 2.1844919786096257,\n        \"max\": 3.3738317757009346,\n        \"num_unique_values\": 10,\n        \"samples\": [\n          2.2171581769436997,\n          2.5784313725490198,\n          2.2357723577235773\n        ],\n        \"semantic_type\": \"\",\n        \"description\": \"\"\n      }\n    },\n    {\n      \"column\": \"play_freq\",\n      \"properties\": {\n        \"dtype\": \"number\",\n        \"std\": 271,\n        \"min\": 102,\n        \"max\": 748,\n        \"num_unique_values\": 10,\n        \"samples\": [\n          373,\n          102,\n          123\n        ],\n        \"semantic_type\": \"\",\n        \"description\": \"\"\n      }\n    }\n  ]\n}"
            }
          },
          "metadata": {},
          "execution_count": 33
        }
      ],
      "source": [
        "# Set the parameters for finding top songs\n",
        "top_n = 10\n",
        "min_interactions = 100\n",
        "\n",
        "# Use the find_top_songs function to get recommended songs\n",
        "recommended_songs = find_top_songs(final_play, top_n, min_interactions)\n",
        "\n",
        "# Display the recommended top songs\n",
        "print(f\"Recommended Top {top_n} songs based on average_count and play_freq:\")\n",
        "recommended_songs"
      ]
    },
    {
      "cell_type": "markdown",
      "metadata": {
        "id": "gf13HrPPJeWT"
      },
      "source": [
        "#### **User User Similarity-Based Collaborative Filtering**"
      ]
    },
    {
      "cell_type": "markdown",
      "source": [
        "User-User Collaborative Filtering identifies users with similar preferences and recommends items that these similar users have liked. It relies on user behavior data and is effective in recommending items that users with analogous tastes have enjoyed."
      ],
      "metadata": {
        "id": "62dp0yqVFiQm"
      }
    },
    {
      "cell_type": "markdown",
      "metadata": {
        "id": "ROcEpduohdua"
      },
      "source": [
        "To build the user-user-similarity-based and subsequent models I will use the \"surprise\" library."
      ]
    },
    {
      "cell_type": "code",
      "execution_count": null,
      "metadata": {
        "colab": {
          "base_uri": "https://localhost:8080/"
        },
        "id": "aKLrKn8IfGjk",
        "outputId": "54bc5e9c-4459-47a8-ac74-a3f6e1c83450"
      },
      "outputs": [
        {
          "output_type": "stream",
          "name": "stdout",
          "text": [
            "Collecting surprise\n",
            "  Downloading surprise-0.1-py2.py3-none-any.whl (1.8 kB)\n",
            "Collecting scikit-surprise (from surprise)\n",
            "  Downloading scikit_surprise-1.1.4.tar.gz (154 kB)\n",
            "\u001b[2K     \u001b[90m━━━━━━━━━━━━━━━━━━━━━━━━━━━━━━━━━━━━━━━━\u001b[0m \u001b[32m154.4/154.4 kB\u001b[0m \u001b[31m3.0 MB/s\u001b[0m eta \u001b[36m0:00:00\u001b[0m\n",
            "\u001b[?25h  Installing build dependencies ... \u001b[?25l\u001b[?25hdone\n",
            "  Getting requirements to build wheel ... \u001b[?25l\u001b[?25hdone\n",
            "  Preparing metadata (pyproject.toml) ... \u001b[?25l\u001b[?25hdone\n",
            "Requirement already satisfied: joblib>=1.2.0 in /usr/local/lib/python3.10/dist-packages (from scikit-surprise->surprise) (1.4.2)\n",
            "Requirement already satisfied: numpy>=1.19.5 in /usr/local/lib/python3.10/dist-packages (from scikit-surprise->surprise) (1.25.2)\n",
            "Requirement already satisfied: scipy>=1.6.0 in /usr/local/lib/python3.10/dist-packages (from scikit-surprise->surprise) (1.11.4)\n",
            "Building wheels for collected packages: scikit-surprise\n",
            "  Building wheel for scikit-surprise (pyproject.toml) ... \u001b[?25l\u001b[?25hdone\n",
            "  Created wheel for scikit-surprise: filename=scikit_surprise-1.1.4-cp310-cp310-linux_x86_64.whl size=2357246 sha256=391d4182c462790072c901486385f488dd5af20f58a3519f82da0b6d928179d0\n",
            "  Stored in directory: /root/.cache/pip/wheels/4b/3f/df/6acbf0a40397d9bf3ff97f582cc22fb9ce66adde75bc71fd54\n",
            "Successfully built scikit-surprise\n",
            "Installing collected packages: scikit-surprise, surprise\n",
            "Successfully installed scikit-surprise-1.1.4 surprise-0.1\n"
          ]
        }
      ],
      "source": [
        "# To install the surprise package using pip\n",
        "\n",
        "!pip install surprise"
      ]
    },
    {
      "cell_type": "code",
      "execution_count": null,
      "metadata": {
        "id": "UJ1wEylUpexj"
      },
      "outputs": [],
      "source": [
        "# Import necessary libraries for building and evaluating recommendation models\n",
        "\n",
        "# To compute the accuracy of models\n",
        "from surprise import accuracy\n",
        "\n",
        "# This class is used to parse a file containing play_counts, data should be in structure - user; item; play_count\n",
        "from surprise.reader import Reader\n",
        "\n",
        "# Class for loading datasets\n",
        "from surprise.dataset import Dataset\n",
        "\n",
        "# To tune model hyperparameters\n",
        "from surprise.model_selection import GridSearchCV\n",
        "\n",
        "# To split the data into train and test datasets\n",
        "from surprise.model_selection import train_test_split\n",
        "\n",
        "# To implement similarity-based recommendation system\n",
        "from surprise.prediction_algorithms.knns import KNNBasic\n",
        "\n",
        "# To implement matrix factorization based recommendation system\n",
        "from surprise.prediction_algorithms.matrix_factorization import SVD\n",
        "\n",
        "# To implement KFold cross-validation\n",
        "from surprise.model_selection import KFold\n",
        "\n",
        "# To implement clustering-based recommendation system\n",
        "from surprise import CoClustering"
      ]
    },
    {
      "cell_type": "markdown",
      "metadata": {
        "id": "z1xbUoe1y4FX"
      },
      "source": [
        "**Understanding Recommender System Performance:**\n",
        "\n",
        "Evaluating the effectiveness of a recommendation system involves key metrics such as recall and precision.\n",
        "\n",
        "**Recall: Hitting the Mark:**\n",
        "\n",
        "Recall measures the system’s ability to retrieve relevant items. For example, if a user enjoys 10 songs and your system recommends 6 of them, the recall is 0.6, indicating a 60% success rate. Higher recall means the system effectively captures relevant items.\n",
        "\n",
        "**Precision: Targeting Relevance:**\n",
        "\n",
        "Precision assesses the relevance of the recommended items. If your system suggests 10 songs and 6 are liked by the user, the precision is 0.6, meaning 60% of the recommendations were relevant. High precision ensures the system prioritizes truly relevant suggestions.\n",
        "\n",
        "**Finding the Balance:**\n",
        "\n",
        "Balancing recall and precision is crucial. A system with high recall may recommend many items, including irrelevant ones, while a system with high precision might miss other relevant items. Considering both metrics together or using a combined metric like the F1-score helps achieve a balanced and effective recommendation system. The optimal balance depends on your specific goals and priorities."
      ]
    },
    {
      "cell_type": "markdown",
      "metadata": {
        "id": "ZhFa_4aHHchr"
      },
      "source": [
        "Below is the function to calculate precision@k and recall@k, RMSE, and F1_Score@k to evaluate the model performance."
      ]
    },
    {
      "cell_type": "code",
      "execution_count": null,
      "metadata": {
        "id": "Rxn-GahOTsnm"
      },
      "outputs": [],
      "source": [
        "# The function to calulate the RMSE, precision@k, recall@k, and F_1 score\n",
        "def precision_recall_at_k(model, k = 30, threshold = 1.5):\n",
        "    \"\"\"Return precision and recall at k metrics for each user\"\"\"\n",
        "\n",
        "    # First map the predictions to each user.\n",
        "    user_est_true = defaultdict(list)\n",
        "\n",
        "    # Making predictions on the test data\n",
        "    predictions=model.test(testset)\n",
        "\n",
        "    for uid, _, true_r, est, _ in predictions:\n",
        "        user_est_true[uid].append((est, true_r))\n",
        "\n",
        "    precisions = dict()\n",
        "    recalls = dict()\n",
        "    for uid, user_ratings in user_est_true.items():\n",
        "\n",
        "        # Sort user ratings by estimated value\n",
        "        user_ratings.sort(key = lambda x : x[0], reverse = True)\n",
        "\n",
        "        # Number of relevant items\n",
        "        n_rel = sum((true_r >= threshold) for (_, true_r) in user_ratings)\n",
        "\n",
        "        # Number of recommended items in top k\n",
        "        n_rec_k = sum((est >= threshold) for (est, _) in user_ratings[ : k])\n",
        "\n",
        "        # Number of relevant and recommended items in top k\n",
        "        n_rel_and_rec_k = sum(((true_r >= threshold) and (est >= threshold))\n",
        "                              for (est, true_r) in user_ratings[ : k])\n",
        "\n",
        "        # Precision@K: Proportion of recommended items that are relevant\n",
        "        # When n_rec_k is 0, Precision is undefined. We here set Precision to 0 when n_rec_k is 0\n",
        "\n",
        "        precisions[uid] = n_rel_and_rec_k / n_rec_k if n_rec_k != 0 else 0\n",
        "\n",
        "        # Recall@K: Proportion of relevant items that are recommended\n",
        "        # When n_rel is 0, Recall is undefined. We here set Recall to 0 when n_rel is 0\n",
        "\n",
        "        recalls[uid] = n_rel_and_rec_k / n_rel if n_rel != 0 else 0\n",
        "\n",
        "    # Mean of all the predicted precisions are calculated\n",
        "    precision = round((sum(prec for prec in precisions.values()) / len(precisions)), 3)\n",
        "\n",
        "    # Mean of all the predicted recalls are calculated\n",
        "    recall = round((sum(rec for rec in recalls.values()) / len(recalls)), 3)\n",
        "\n",
        "    accuracy.rmse(predictions)\n",
        "\n",
        "    # Command to print the overall precision\n",
        "    print('Precision: ', precision)\n",
        "\n",
        "    # Command to print the overall recall\n",
        "    print('Recall: ', recall)\n",
        "\n",
        "    # Formula to compute the F-1 score\n",
        "    print('F_1 score: ', round((2 * precision * recall) / (precision + recall), 3))"
      ]
    },
    {
      "cell_type": "markdown",
      "metadata": {
        "id": "0cfrlBLy35kf"
      },
      "source": [
        "**Impact of Threshold in Precision_Recall_at_K**\n",
        "\n",
        "The threshold value in precision_recall_at_k determines the cutoff for considering a prediction relevant. Increasing the threshold has several effects:\n",
        "\n",
        "- Decreases Precision: Fewer predictions above the threshold mean fewer truly relevant items among recommendations, lowering precision.\n",
        "\n",
        "- Decreases Recall: Stricter relevance criteria may exclude relevant items with slightly lower scores, decreasing recall.\n",
        "\n",
        "- Decreases RMSE: Removing less accurate predictions with lower scores can improve overall prediction error (lower RMSE).\n",
        "\n",
        "\n",
        "Intuition Behind Using a Threshold of 1.5:\n",
        "\n",
        "- Using a threshold of 1.5 helps filter out unreliable predictions. By focusing on predictions with higher confidence (above 1.5), the perceived quality of recommendations may improve."
      ]
    },
    {
      "cell_type": "code",
      "execution_count": null,
      "metadata": {
        "id": "oNmRRtU0WvZ5"
      },
      "outputs": [],
      "source": [
        "# Create a Reader instance with the specified rating scale (0 to 5)\n",
        "reader = Reader(rating_scale=(0, 5))\n",
        "\n",
        "# Load the dataset from the DataFrame containing user, song, and play count\n",
        "user_song_data = Dataset.load_from_df(df_final[['user_id', 'song_id', 'play_count']], reader)\n",
        "\n",
        "# Split the data into training and testing sets\n",
        "trainset, testset = train_test_split(user_song_data, test_size=0.4, random_state=42)"
      ]
    },
    {
      "cell_type": "code",
      "execution_count": null,
      "metadata": {
        "colab": {
          "base_uri": "https://localhost:8080/"
        },
        "id": "JndOratpd57d",
        "outputId": "74ca7dff-4afd-4851-de38-7a8f9ca8d4be"
      },
      "outputs": [
        {
          "output_type": "stream",
          "name": "stdout",
          "text": [
            "Computing the cosine similarity matrix...\n",
            "Done computing similarity matrix.\n",
            "RMSE: 1.0878\n",
            "Precision:  0.396\n",
            "Recall:  0.692\n",
            "F_1 score:  0.504\n"
          ]
        }
      ],
      "source": [
        "# Create the default user-user similarity model using KNN with cosine similarity\n",
        "sim_user_user_model = KNNBasic(sim_options={'name': 'cosine', 'user_based': True}, random_state=1)\n",
        "\n",
        "# Train the algorithm on the training set\n",
        "sim_user_user_model.fit(trainset)\n",
        "\n",
        "# Evaluate precision, recall, and F1 score using predefined function\n",
        "precision_recall_at_k(sim_user_user_model)"
      ]
    },
    {
      "cell_type": "markdown",
      "metadata": {
        "id": "mzcdlWmer6GA"
      },
      "source": [
        "**Observations and Insights:**\n",
        "\n",
        "1.\tRMSE (1.0878): Reflects moderate predictive accuracy, with some room for improvement.\n",
        "2.\tPrecision (0.396): Indicates that 39.6% of the recommendations were relevant, suggesting the need for better accuracy.\n",
        "3.\tRecall (0.692): Shows the model successfully identified 69.2% of the songs users played, demonstrating good coverage of relevant items.\n",
        "4.\tF1 Score (0.504): Provides a balanced measure of precision and recall, 0.504 is considered acceptable but not indicative of strong performance.\n",
        "\n",
        "Overall, while the model shows potential, enhancements are needed to improve its recommendation accuracy and effectiveness."
      ]
    },
    {
      "cell_type": "markdown",
      "metadata": {
        "id": "mqY0jTaEzkZm"
      },
      "source": [
        "**Predicting User 6958 Engagement:**\n",
        "\n",
        "I will test the engagement of user 6958 with two songs: one previously interacted with and one not. This data will inform subsequent prediction algorithms.\n",
        "\n",
        "Play counts for user_id=6958 and song_id=1671 are shown below."
      ]
    },
    {
      "cell_type": "code",
      "execution_count": null,
      "metadata": {
        "colab": {
          "base_uri": "https://localhost:8080/"
        },
        "id": "NPw_hEl39-3A",
        "outputId": "21a70435-8ce5-4d82-fa3c-8f8171da3ae9"
      },
      "outputs": [
        {
          "output_type": "execute_result",
          "data": {
            "text/plain": [
              "array([  97,  122,  139,  693,  719,  765,  786,  861, 1118, 1406, 1461,\n",
              "       1519, 1682, 1696, 1907, 1983, 2187, 2234, 2389, 2557, 3232, 3356,\n",
              "       3518, 3548, 3655, 4152, 4298, 4377, 4510, 4522, 4545, 4653, 4724,\n",
              "       4954, 5023, 5158, 5223, 5248, 5305, 5345, 5417, 5457, 5877, 6079,\n",
              "       6121, 6148, 6191, 6232, 6293, 6350, 6500, 6572, 6618, 6636, 6709,\n",
              "       6770, 6959, 6964, 7210, 7331, 7399, 7402, 7469, 7721, 7878, 7977,\n",
              "       8019, 8086, 8247, 8265, 8299, 8434, 8612, 8973, 9055, 9099, 9292,\n",
              "       9436, 9447, 9476, 9702, 9771, 9989, 1084, 5367, 7030, 7780, 8190,\n",
              "        208,  334,  352,  605,  674,  703,  952, 1217, 1286, 1348, 1767,\n",
              "       1818, 2210, 2220, 2672, 2850, 2859, 3602, 3658, 3690, 3718, 3770,\n",
              "       3870, 4273, 4448, 5115, 5398, 5570, 5757, 5901, 6189, 6726, 6798,\n",
              "       7103, 7416, 7636, 7791, 7796, 7911, 7980, 8034, 8138, 8481, 8582,\n",
              "       8599, 8762, 8772, 9095, 9162, 9186, 9487, 9676, 9847,   52,  310,\n",
              "        396,  630,  733,  916, 1161, 1248, 1281, 1354, 1407, 1597, 1691,\n",
              "       1816, 1828, 1948, 2091, 2098, 2276, 2403, 2610, 2616, 2657, 2686,\n",
              "       2734, 2842, 2926, 3165, 3181, 3207, 3241, 3310, 3346, 3462, 3567,\n",
              "       4160, 4192, 4270, 4284, 4289, 4554, 4636, 4639, 4719, 4727, 5138,\n",
              "       5221, 5272, 5291, 5375, 5697, 5728, 5879, 5943, 5978, 6175, 6201,\n",
              "       6451, 6525, 6682, 6735, 7028, 7321, 7338, 7343, 7470, 7522, 7921,\n",
              "       7998, 8092, 8099, 8577, 8654, 8698, 8949, 9019, 9139, 9262, 9386,\n",
              "       9387, 9391, 9724, 9931,   62,  317,  809, 2115, 2898, 4327, 4564,\n",
              "       4831, 5193, 6042, 6089, 6684, 7295, 7444, 7682, 7917, 8224, 8252,\n",
              "        591,  731, 1044, 2514, 5826, 5916, 6878,  211,  447, 1752, 1756,\n",
              "       1765, 2852, 5823, 7075, 7387, 7875, 7900, 8094, 8866, 9335,  198,\n",
              "        248,  314,  318, 1141, 1262, 1472, 1480, 1911, 2615, 2747, 3699,\n",
              "       3752, 4178, 4232, 4262, 4371, 4873, 4949, 4973, 5692, 5999, 7509,\n",
              "       7663, 7688, 7737, 8304, 8392, 8656, 8735, 9960,   22,  462,  512,\n",
              "        788,  913, 1516, 2248, 2777, 3220, 3315, 3491, 4058, 4761, 4975,\n",
              "       5650, 5991, 6001, 7196, 7393, 7519, 7525, 7628, 8256, 9076, 9678,\n",
              "       4739, 5101, 6478, 6630, 6825,  194,  657,  965, 2500, 3074, 3744,\n",
              "       4399, 5273, 5400, 5843, 6226, 6270, 8915, 9981,   93,  736, 2048,\n",
              "       2217, 2539, 5300, 8378,  771, 1674, 1936, 2304, 2716, 3534, 5095,\n",
              "       5441, 5715, 6885, 8624, 9913, 2914, 3857, 5566, 5607, 7881, 9096,\n",
              "        118,  926, 1811, 2527, 3357,  918, 1634, 1678, 1787, 2107, 2701,\n",
              "       3003, 3101, 3291, 3661, 3801, 3907, 6305, 7562, 8037, 8178, 8704,\n",
              "       9351, 9767, 6246, 1188, 3455, 4631, 7057, 8494,   21,  750, 1223,\n",
              "       2960, 3429, 4231, 4301, 5531, 5653, 6339, 6587, 7212, 7576, 7969,\n",
              "       8029, 1344, 1455, 1671, 1994, 2989, 3057, 5340, 5385, 5886, 6103,\n",
              "       6721, 7910, 8272, 4858, 5049, 8831, 8982, 1664, 4366, 5645, 7452,\n",
              "       1050,  473, 1334, 4134, 4939, 6378, 9081,  154,  276,  412, 2019,\n",
              "       5706, 5894, 6422, 6817, 7260, 7731, 8782, 9517, 9939,  393,  617,\n",
              "       3564, 4459, 4462, 4806, 4811, 4864, 5399, 6716, 7438, 7913, 8610,\n",
              "       8814, 9942, 2994, 3362, 3551, 4596, 6230, 7023, 9712,  549, 2289,\n",
              "       3380, 9026, 2442, 2501, 3038, 4333, 6860, 7131, 8425, 2192, 7789,\n",
              "       7889,  961, 1089, 1180, 2428, 5616, 5633, 6084, 7450, 7738, 9065,\n",
              "        145,  614, 3050, 7222,  910, 6222, 7326, 1659, 1739, 2342, 5287,\n",
              "       6469, 7496, 7989, 9249, 1689, 7879, 6944, 8411, 8818, 9352,  483,\n",
              "        757, 8387, 8839, 1257, 5363, 2869, 4725, 6450, 7224, 7259, 8324,\n",
              "       6448, 9184, 9543, 6482, 9048,  990, 9708, 8863, 1225, 8882, 5210,\n",
              "        498, 3076, 9127, 4588, 3168, 3253, 8483, 2425,  134, 1571,  892,\n",
              "       7575, 1295, 8702, 3951, 3360, 8635, 9160, 6056, 2786,  229, 2161,\n",
              "       1536, 3466])"
            ]
          },
          "metadata": {},
          "execution_count": 39
        }
      ],
      "source": [
        "# Retrieve unique song IDs from the DataFrame 'df_final' for all users except user_id 6958\n",
        "df_final[df_final['user_id'] != 6958]['song_id'].unique()"
      ]
    },
    {
      "cell_type": "code",
      "execution_count": null,
      "metadata": {
        "colab": {
          "base_uri": "https://localhost:8080/"
        },
        "id": "f4aQT1rn1oSu",
        "outputId": "126f07df-f8ea-4cf6-b95a-5b8d01dee220"
      },
      "outputs": [
        {
          "output_type": "stream",
          "name": "stdout",
          "text": [
            "[  97  122  139  693  719  765  786  861 1118 1406 1461 1519 1682 1696\n",
            " 1907 1983 2187 2234 2389 2557 3232 3356 3518 3548 3655 4152 4298 4377\n",
            " 4510 4522 4545 4653 4724 4954 5023 5158 5223 5248 5305 5345 5417 5457\n",
            " 5877 6079 6121 6148 6191 6232 6293 6350 6500 6572 6618 6636 6709 6770\n",
            " 6959 6964 7210 7331 7399 7402 7469 7721 7878 7977 8019 8086 8247 8265\n",
            " 8299 8434 8612 8973 9055 9099 9292 9436 9447 9476 9702 9771 9989 1084\n",
            " 5367 7030 7780 8190  208  334  352  605  674  703  952 1217 1286 1348\n",
            " 1767 1818 2210 2220 2672 2850 2859 3602 3658 3690 3718 3770 3870 4273\n",
            " 4448 5115 5398 5570 5757 5901 6189 6726 6798 7103 7416 7636 7791 7796\n",
            " 7911 7980 8034 8138 8481 8582 8599 8762 8772 9095 9162 9186 9487 9676\n",
            " 9847   52  310  396  630  733  916 1161 1248 1281 1354 1407 1597 1691\n",
            " 1816 1828 1948 2091 2098 2276 2403 2610 2616 2657 2686 2734 2842 2926\n",
            " 3165 3181 3207 3241 3310 3346 3462 3567 4160 4192 4270 4284 4289 4554\n",
            " 4636 4639 4719 4727 5138 5221 5272 5291 5375 5697 5728 5879 5943 5978\n",
            " 6175 6201 6451 6525 6682 6735 7028 7321 7338 7343 7470 7522 7921 7998\n",
            " 8092 8099 8577 8654 8698 8949 9019 9139 9262 9386 9387 9391 9724 9931\n",
            "   62  317  809 2115 2898 4327 4564 4831 5193 6042 6089 6684 7295 7444\n",
            " 7682 7917 8224 8252  591  731 1044 2514 5826 5916 6878  211  447 1752\n",
            " 1756 1765 2852 5823 7075 7387 7875 7900 8094 8866 9335  198  248  314\n",
            "  318 1141 1262 1472 1480 1911 2615 2747 3699 3752 4178 4232 4262 4371\n",
            " 4873 4949 4973 5692 5999 7509 7663 7688 7737 8304 8392 8656 8735 9960\n",
            "   22  462  512  788  913 1516 2248 2777 3220 3315 3491 4058 4761 4975\n",
            " 5650 5991 6001 7196 7393 7519 7525 7628 8256 9076 9678 4739 5101 6478\n",
            " 6630 6825  194  657  965 2500 3074 3744 4399 5273 5400 5843 6226 6270\n",
            " 8915 9981   93  736 2048 2217 2539 5300 8378  771 1674 1936 2304 2716\n",
            " 3534 5095 5441 5715 6885 8624 9913 2914 3857 5566 5607 7881 9096  118\n",
            "  926 1811 2527 3357  918 1634 1678 1787 2107 2701 3003 3101 3291 3661\n",
            " 3801 3907 6305 7562 8037 8178 8704 9351 9767 6246 1188 3455 4631 7057\n",
            " 8494   21  750 1223 2960 3429 4231 4301 5531 5653 6339 6587 7212 7576\n",
            " 7969 8029 1344 1455 1671 1994 2989 3057 5340 5385 5886 6103 6721 7910\n",
            " 8272 4858 5049 8831 8982 1664 4366 5645 7452 1050  473 1334 4134 4939\n",
            " 6378 9081  154  276  412 2019 5706 5894 6422 6817 7260 7731 8782 9517\n",
            " 9939  393  617 3564 4459 4462 4806 4811 4864 5399 6716 7438 7913 8610\n",
            " 8814 9942 2994 3362 3551 4596 6230 7023 9712  549 2289 3380 9026 2442\n",
            " 2501 3038 4333 6860 7131 8425 2192 7789 7889  961 1089 1180 2428 5616\n",
            " 5633 6084 7450 7738 9065  145  614 3050 7222  910 6222 7326 1659 1739\n",
            " 2342 5287 6469 7496 7989 9249 1689 7879 6944 8411 8818 9352  483  757\n",
            " 8387 8839 1257 5363 2869 4725 6450 7224 7259 8324 6448 9184 9543 6482\n",
            " 9048  990 9708 8863 1225 8882 5210  498 3076 9127 4588 3168 3253 8483\n",
            " 2425  134 1571  892 7575 1295 8702 3951 3360 8635 9160 6056 2786  229\n",
            " 2161 1536 3466]\n"
          ]
        }
      ],
      "source": [
        "# Selecting unique song IDs for users other than user_id 6958\n",
        "unique_songs_for_other_users = df_final.query(\"user_id != 6958\")['song_id'].unique()\n",
        "\n",
        "# Displaying the array with unique song IDs for users not associated with user_id 6958\n",
        "print(unique_songs_for_other_users)"
      ]
    },
    {
      "cell_type": "code",
      "execution_count": null,
      "metadata": {
        "colab": {
          "base_uri": "https://localhost:8080/"
        },
        "id": "BxNwUvVn-WVs",
        "outputId": "6f2ae0d8-3b65-4eb3-f98f-68bafcf45d38"
      },
      "outputs": [
        {
          "output_type": "stream",
          "name": "stdout",
          "text": [
            "User '6958' has seen the song with ID '1671'.\n"
          ]
        }
      ],
      "source": [
        "# Check if a specified user with ID '6958' has seen a song with ID 'song_to_check'\n",
        "user_to_check = 6958\n",
        "song_to_check = 1671\n",
        "\n",
        "# Use the `query` method to filter rows where 'song_id' is not equal to 'song_to_check'\n",
        "# Extract unique user IDs from the resulting DataFrame\n",
        "users_not_seen_song = df_final.query(\"user_id != @user_to_check\")['song_id'].unique()\n",
        "\n",
        "# Check if the specified user is not in the list of users who have not seen the song\n",
        "if user_to_check not in users_not_seen_song:\n",
        "    print(f\"User '{user_to_check}' has seen the song with ID '{song_to_check}'.\")\n",
        "else:\n",
        "    print(f\"User '{user_to_check}' has not seen the song with ID '{song_to_check}'.\")"
      ]
    },
    {
      "cell_type": "code",
      "execution_count": null,
      "metadata": {
        "colab": {
          "base_uri": "https://localhost:8080/"
        },
        "id": "hvqQAE7BBEbj",
        "outputId": "27fab14b-a052-4ab3-9ec1-70fd1e1493eb"
      },
      "outputs": [
        {
          "output_type": "stream",
          "name": "stdout",
          "text": [
            "User '6958' has not seen the song with ID '3232'.\n"
          ]
        }
      ],
      "source": [
        "# Check if a specified user with ID '6958' has seen a song with ID 'song_to_check'\n",
        "user_to_check = 6958\n",
        "song_to_check = 3232\n",
        "\n",
        "# Use the `query` method to filter rows where 'song_id' is not equal to 'song_to_check'\n",
        "# Extract unique user IDs from the resulting DataFrame\n",
        "users_not_seen_song = df_final.query(\"song_id != @song_to_check\")['user_id'].unique()\n",
        "\n",
        "# Check if the specified user is not in the list of users who have not seen the song\n",
        "if user_to_check not in users_not_seen_song:\n",
        "    print(f\"User '{user_to_check}' has seen the song with ID '{song_to_check}'.\")\n",
        "else:\n",
        "    print(f\"User '{user_to_check}' has not seen the song with ID '{song_to_check}'.\")"
      ]
    },
    {
      "cell_type": "markdown",
      "metadata": {
        "id": "skDbsnfm2h4R"
      },
      "source": [
        "\n",
        "\n",
        "---\n",
        "\n",
        "\n",
        "**Predicting play_counts for a user with user id=6958 and song id=1671 as shown below.**"
      ]
    },
    {
      "cell_type": "code",
      "execution_count": null,
      "metadata": {
        "colab": {
          "base_uri": "https://localhost:8080/"
        },
        "id": "yUCqX30aFFPZ",
        "outputId": "80b5c7d0-4ada-4b2e-b061-3ec715d1d9ca"
      },
      "outputs": [
        {
          "output_type": "stream",
          "name": "stdout",
          "text": [
            "user: 6958       item: 1671       r_ui = 2.00   est = 1.80   {'actual_k': 40, 'was_impossible': False}\n",
            "Predicted Rating for user '6958' and song '1671': 1.8009387435128914\n"
          ]
        }
      ],
      "source": [
        "# Predicting play_count for a sample user with a listened song\n",
        "predict = sim_user_user_model.predict(6958, 1671, r_ui=2, verbose=True)\n",
        "\n",
        "# Print the prediction\n",
        "print(f\"Predicted Rating for user '6958' and song '1671': {predict.est}\") # Use user id 6958 and song_id 1671"
      ]
    },
    {
      "cell_type": "markdown",
      "metadata": {
        "id": "ig-ysSod2lwb"
      },
      "source": [
        "**Predicting play_counts for a user with user id=6958 and song id=3232 as shown below.**"
      ]
    },
    {
      "cell_type": "code",
      "execution_count": null,
      "metadata": {
        "colab": {
          "base_uri": "https://localhost:8080/"
        },
        "id": "Sxd23bZ9pe_x",
        "outputId": "5e927eb1-898f-41a4-85b1-cf68fbc7c590"
      },
      "outputs": [
        {
          "output_type": "stream",
          "name": "stdout",
          "text": [
            "user: 6958       item: 3232       r_ui = None   est = 1.64   {'actual_k': 40, 'was_impossible': False}\n",
            "Predicted Rating for user '6958' and song '3232': 1.6386860897998294\n"
          ]
        }
      ],
      "source": [
        "# Predicting play_count for a sample user with a song not-listened by the user\n",
        "predict = sim_user_user_model.predict(6958, 3232, verbose=True)\n",
        "\n",
        "# Print the prediction\n",
        "print(f\"Predicted Rating for user '6958' and song '3232': {predict.est}\") # Use user_id 6958 and song_id 3232"
      ]
    },
    {
      "cell_type": "markdown",
      "metadata": {
        "id": "P9EVM7DysC47"
      },
      "source": [
        "**Observations and Insights:**\n",
        "\n",
        "1.\tPrediction for User 6958 and Song 1671:\n",
        " -\tActual Rating (r_ui): The user has previously rated this song with a score of 2.00.\n",
        "\n",
        " -\tPredicted Rating (est): The recommendation model predicts the rating for this song as approximately 1.80.\n",
        "\n",
        " - Prediction Details: The prediction is based on 40 nearest neighbors, and it was possible to make this prediction ('was_impossible': False).\n",
        "\n",
        "2.\tPrediction for User 6958 and Song 3232:\n",
        " - Actual Rating (r_ui): The user has not previously rated this song (indicated by r_ui = None).\n",
        "\n",
        " - Predicted Rating (est): The recommendation model predicts the rating for this song as approximately 1.64.\n",
        "\n",
        " - Prediction Details: Similar to the first prediction, it is based on 40 nearest neighbors, and it was also possible to make this prediction ('was_impossible': False).\n",
        "\n",
        "The recommendation system was able to successfully predict ratings for both a previously rated song and a new song for user 6958. The predictions were based on the similarities with 40 other items or users, demonstrating the system’s ability to provide estimates for both familiar and unfamiliar items."
      ]
    },
    {
      "cell_type": "markdown",
      "metadata": {
        "id": "Lt1QBiylsIOm"
      },
      "source": [
        "#### **Hyperparameter Tuning the Model**"
      ]
    },
    {
      "cell_type": "code",
      "execution_count": null,
      "metadata": {
        "id": "Zxp7aFuhtOWV",
        "colab": {
          "base_uri": "https://localhost:8080/"
        },
        "outputId": "a8ef7806-5195-43e1-8030-f1603a66933c"
      },
      "outputs": [
        {
          "output_type": "stream",
          "name": "stdout",
          "text": [
            "Best RMSE Score: 1.0466625167826364\n",
            "Best Hyperparameters:\n",
            "k: 30\n",
            "min_k: 9\n",
            "sim_options: {'name': 'pearson_baseline', 'user_based': True}\n"
          ]
        }
      ],
      "source": [
        "# Define the parameter grid for hyperparameter tuning\n",
        "param_grid = {\n",
        "    'k': [10, 20, 30],       # Number of neighbors\n",
        "    'min_k': [3, 6, 9],     # Minimum number of neighbors\n",
        "    'sim_options': {\n",
        "        'name': ['cosine', 'msd', 'pearson', 'pearson_baseline'],  # Similarity measures\n",
        "        'user_based': [True]   # User-based collaborative filtering\n",
        "    }\n",
        "}\n",
        "\n",
        "# Set up GridSearchCV for hyperparameter tuning with 3-fold cross-validation\n",
        "gr_ser = GridSearchCV(KNNBasic, param_grid, measures=['rmse'], cv=3, n_jobs=-1)\n",
        "\n",
        "# Fit the data to find the best hyperparameters\n",
        "gr_ser.fit(user_song_data)\n",
        "\n",
        "# Get the best RMSE score and combination of parameters\n",
        "bestRMSE = gr_ser.best_score['rmse']\n",
        "bestParam = gr_ser.best_params['rmse']\n",
        "\n",
        "# Display the best RMSE score and combination of parameters\n",
        "print(f\"Best RMSE Score: {bestRMSE}\")\n",
        "print(\"Best Hyperparameters:\")\n",
        "for param, value in bestParam.items():\n",
        "    print(f\"{param}: {value}\")"
      ]
    },
    {
      "cell_type": "code",
      "execution_count": null,
      "metadata": {
        "id": "ri9nHLcC0GMQ",
        "colab": {
          "base_uri": "https://localhost:8080/"
        },
        "outputId": "a27082a0-8b51-4aa7-fa8f-41bbe8916164"
      },
      "outputs": [
        {
          "output_type": "stream",
          "name": "stdout",
          "text": [
            "RMSE: 1.0521\n",
            "Precision:  0.413\n",
            "Recall:  0.721\n",
            "F_1 score:  0.525\n"
          ]
        }
      ],
      "source": [
        "# Create an instance of the KNNBasic algorithm with specified similarity options\n",
        "similr_options = {'name': 'pearson_baseline', 'user_based': True}\n",
        "\n",
        "opt_sim_user_user_model = KNNBasic(sim_options=similr_options, k=30, min_k=9, random_state=1, verbose=False)\n",
        "\n",
        "# Train the model using the training set\n",
        "opt_sim_user_user_model.fit(trainset)\n",
        "\n",
        "# Generate predictions on the test set and evaluate precision and recall\n",
        "precision_recall_at_k(opt_sim_user_user_model)"
      ]
    },
    {
      "cell_type": "code",
      "execution_count": null,
      "metadata": {
        "id": "tDci7SCklS8K",
        "colab": {
          "base_uri": "https://localhost:8080/",
          "height": 452
        },
        "outputId": "8349ddaa-368c-44f5-fdfe-98514b66af6a"
      },
      "outputs": [
        {
          "output_type": "display_data",
          "data": {
            "text/plain": [
              "<Figure size 640x480 with 1 Axes>"
            ],
            "image/png": "[encoded data removed]"
          },
          "metadata": {}
        }
      ],
      "source": [
        "rmse=1.0521\n",
        "precision=0.413\n",
        "recall=0.721\n",
        "f1=0.525\n",
        "\n",
        "# List of performance metrics to be displayed on the bar chart\n",
        "metrics = ['RMSE', 'Precision', 'Recall', 'F1 Score']\n",
        "\n",
        "# Corresponding values for each metric (e.g., RMSE value, Precision value, etc.)\n",
        "values = [rmse, precision, recall, f1]\n",
        "\n",
        "# Choose a custom cool color palette\n",
        "palette = ListedColormap(['#E6E6FA', '#D8BFD8', '#C4A7E7', '#BCA0DC'])\n",
        "\n",
        "# Create the bar chart using the chosen color palette\n",
        "bars = plt.bar(metrics, values, color=palette(range(len(metrics))))\n",
        "\n",
        "# Adding a title to the bar chart\n",
        "plt.title('User-User Model Performance Metrics')\n",
        "\n",
        "# Labeling the y-axis with \"Metric Value\"\n",
        "plt.ylabel('Metric Value')\n",
        "\n",
        "# Adding text labels on each bar with the rounded metric values\n",
        "for bar, value in zip(bars, values):\n",
        "    plt.text(bar.get_x() + bar.get_width() / 2, bar.get_height() / 2, round(value, 3),\n",
        "             ha='center', va='center', color='black')\n",
        "\n",
        "# Displaying the bar chart\n",
        "plt.show()"
      ]
    },
    {
      "cell_type": "markdown",
      "metadata": {
        "id": "MH5OBZ7Nse6m"
      },
      "source": [
        "**Observations and Insights:**\n",
        "\n",
        "\n",
        "**Initial Model Performance:**\n",
        "\n",
        "- Evaluation Metrics:\n",
        " - RMSE: 1.0878\n",
        " - Precision: 0.396\n",
        " - Recall: 0.692\n",
        " - F1 Score: 0.504\n",
        "\n",
        "**Post Hyperparameter Tuning Performance:**\n",
        "\n",
        "-\tEvaluation Metrics:\n",
        " - RMSE: 1.0928\n",
        " - Precision: 0.394\n",
        " - Recall: 0.676\n",
        " - F1 Score: 0.498\n",
        "\n",
        "\n",
        "---\n",
        "\n",
        "\n",
        "**Comparison:**\n",
        "\n",
        "- RMSE: Slightly increased from 1.0878 to 1.0928.\n",
        "- Precision: Decreased marginally from 0.396 to 0.394.\n",
        "- Recall: Decreased from 0.692 to 0.676.\n",
        "- F1 Score: Decreased from 0.504 to 0.498.\n",
        "\n",
        "\n",
        "Hyperparameter tuning led to an increase in RMSE and slight decreases in precision, recall, and F1 score. This indicates that while the tuning optimized certain parameters, the overall predictive performance did not significantly improve."
      ]
    },
    {
      "cell_type": "markdown",
      "source": [
        "\n",
        "\n",
        "---\n",
        "\n",
        "\n",
        "**Predicting play_counts for a user with user id=6958 and song id=1671 as shown below.**"
      ],
      "metadata": {
        "id": "H_TE-MtYRxs3"
      }
    },
    {
      "cell_type": "code",
      "execution_count": null,
      "metadata": {
        "id": "nZUThioK0xqc",
        "colab": {
          "base_uri": "https://localhost:8080/"
        },
        "outputId": "fc9759de-f041-40e8-890e-8a9c1fdcef7e"
      },
      "outputs": [
        {
          "output_type": "stream",
          "name": "stdout",
          "text": [
            "user: 6958       item: 1671       r_ui = 2.00   est = 1.96   {'actual_k': 24, 'was_impossible': False}\n",
            "Predicted Rating for user '6958' and song '1671': 1.962926073914969\n"
          ]
        }
      ],
      "source": [
        "# Predicting play_count for a sample user with a listened song\n",
        "predict = opt_sim_user_user_model.predict(6958, 1671, r_ui=2, verbose=True)\n",
        "\n",
        "# Print the prediction\n",
        "print(f\"Predicted Rating for user '6958' and song '1671': {predict.est}\") # Use user id 6958 and song_id 1671"
      ]
    },
    {
      "cell_type": "markdown",
      "source": [
        "**Predicting play_counts for a user with user id=6958 and song id=3232 as shown below.**"
      ],
      "metadata": {
        "id": "GoW7anLIR9uk"
      }
    },
    {
      "cell_type": "code",
      "execution_count": null,
      "metadata": {
        "id": "DhLkFsoD01im",
        "colab": {
          "base_uri": "https://localhost:8080/"
        },
        "outputId": "1e0711cc-2e44-4dd9-d94a-858551222cf1"
      },
      "outputs": [
        {
          "output_type": "stream",
          "name": "stdout",
          "text": [
            "user: 6958       item: 3232       r_ui = None   est = 1.45   {'actual_k': 10, 'was_impossible': False}\n",
            "Predicted Rating for user '6958' and song '3232': 1.4516261428486725\n"
          ]
        }
      ],
      "source": [
        "# Predicting play_count for a sample user with a song not-listened by the user\n",
        "predict = opt_sim_user_user_model.predict(6958, 3232, verbose=True)\n",
        "\n",
        "# Print the prediction\n",
        "print(f\"Predicted Rating for user '6958' and song '3232': {predict.est}\") # Use user_id 6958 and song_id 3232"
      ]
    },
    {
      "cell_type": "markdown",
      "metadata": {
        "id": "SdpJ--8QWuzz"
      },
      "source": [
        "**Observations and Insights:**\n",
        "\n",
        "1.\tPrediction for User 6958 and Song 1671:\n",
        " -\tActual Rating (r_ui): The user has previously rated this song with a score of 2.00.\n",
        "\n",
        " -\tPredicted Rating (est): The recommendation model predicts the rating for this song as approximately 1.96.\n",
        "\n",
        " - Prediction Details: The prediction is based on 24 nearest neighbors, and it was possible to make this prediction ('was_impossible': False).\n",
        "\n",
        "2.\tPrediction for User 6958 and Song 3232:\n",
        " - Actual Rating (r_ui): The user has not previously rated this song (indicated by r_ui = None).\n",
        "\n",
        " - Predicted Rating (est): The recommendation model predicts the rating for this song as approximately 1.64.\n",
        "\n",
        " - Prediction Details: The prediction is based on 10 nearest neighbors, and it was also possible to make this prediction ('was_impossible': False).\n",
        "\n",
        "\n",
        "---\n",
        "\n",
        "\n",
        "**Comparison:**\n",
        "\n",
        "1.\tListened Song (User 6958, Song 1671):\n",
        " - Initial Model Predicted Rating: 1.80\n",
        " - Post Hyperparameter Tuning Predicted Rating: 1.96\n",
        " - Improvement: The post-tuning predicted rating is closer to the actual rating of 2.00, indicating improved accuracy.\n",
        "2.\tNot-listened Song (User 6958, Song 3232):\n",
        " - Initial Model Predicted Rating: 1.64\n",
        " - Post Hyperparameter Tuning Predicted Rating: 1.45\n",
        " - Difference: The prediction for the not-listened song changed from 1.64 to 1.45, indicating a lower predicted rating post hyperparameter tuning.\n",
        "\n",
        "Hyperparameter tuning improved the accuracy of predictions for the listened song, making it closer to the actual rating. The tuning also resulted in a lower predicted rating for the not-listened song.\n",
        "\n",
        "The tuning adjusted the number of nearest neighbors used in predictions, potentially enhancing the model’s accuracy for familiar items while altering the predictions for unfamiliar items."
      ]
    },
    {
      "cell_type": "markdown",
      "metadata": {
        "id": "U3ESobDynVNI"
      },
      "source": [
        "\n",
        "\n",
        "---\n",
        "\n",
        "\n",
        "Below implementing a function where the input parameters are:\n",
        "\n",
        "- data: A **song** dataset\n",
        "- user_id: A user-id **against which we want the recommendations**\n",
        "- top_n: The **number of songs we want to recommend**\n",
        "- algo: The algorithm we want to use **for predicting the play_count**\n",
        "- The output of the function is a **set of top_n items** recommended for the given user_id based on the given algorithm"
      ]
    },
    {
      "cell_type": "code",
      "execution_count": null,
      "metadata": {
        "id": "05gmzuVofkun"
      },
      "outputs": [],
      "source": [
        "def get_recommendations(data, user_id, top_n, algo):\n",
        "\n",
        "    # Creating an empty list to store the recommended songs ids\n",
        "    recommendations = []\n",
        "\n",
        "    # Creating an user item interactions matrix\n",
        "    user_item_interactions_matrix = data.pivot(index='user_id', columns='song_id', values='play_count')\n",
        "\n",
        "    # Extracting those songs ids which the user_id has not visited yet\n",
        "    non_interacted_songs = user_item_interactions_matrix.loc[user_id][user_item_interactions_matrix.loc[user_id].isnull()].index.tolist()\n",
        "\n",
        "    # Looping through each of the song ids which user_id has not interacted yet\n",
        "    for item_id in non_interacted_songs:\n",
        "\n",
        "        # Predicting the ratings for those non-interacted song  ids by this user\n",
        "        est = algo.predict(user_id, item_id).est\n",
        "\n",
        "        # Appending the predicted ratings\n",
        "        recommendations.append((item_id, est))\n",
        "\n",
        "    # Sorting the predicted ratings in descending order\n",
        "    recommendations.sort(key=lambda x: x[1], reverse=True)\n",
        "\n",
        "    return recommendations[:top_n] # returing top n highest predicted rating songs for this user"
      ]
    },
    {
      "cell_type": "code",
      "execution_count": null,
      "metadata": {
        "id": "BUgGxqT4fvoO"
      },
      "outputs": [],
      "source": [
        "# Generate recommendations using the user-user similarity model for user_id 6958, with a count of 5 recommendations\n",
        "recommendations = get_recommendations(df_final,6958, 5, sim_user_user_model)"
      ]
    },
    {
      "cell_type": "code",
      "execution_count": null,
      "metadata": {
        "id": "ZY3KAG4xckoE",
        "colab": {
          "base_uri": "https://localhost:8080/",
          "height": 204
        },
        "outputId": "3ea9ade3-ef64-41bf-d7c9-7b657a768488"
      },
      "outputs": [
        {
          "output_type": "execute_result",
          "data": {
            "text/plain": [
              "   song_id  predicted_ratings\n",
              "0     7224           3.141147\n",
              "1      614           2.525000\n",
              "2     5653           2.514023\n",
              "3      352           2.425000\n",
              "4     6450           2.394927"
            ],
            "text/html": [
              "\n",
              "  <div id=\"df-0da4a312-f094-4a71-b549-d70441e1c21f\" class=\"colab-df-container\">\n",
              "    <div>\n",
              "<style scoped>\n",
              "    .dataframe tbody tr th:only-of-type {\n",
              "        vertical-align: middle;\n",
              "    }\n",
              "\n",
              "    .dataframe tbody tr th {\n",
              "        vertical-align: top;\n",
              "    }\n",
              "\n",
              "    .dataframe thead th {\n",
              "        text-align: right;\n",
              "    }\n",
              "</style>\n",
              "<table border=\"1\" class=\"dataframe\">\n",
              "  <thead>\n",
              "    <tr style=\"text-align: right;\">\n",
              "      <th></th>\n",
              "      <th>song_id</th>\n",
              "      <th>predicted_ratings</th>\n",
              "    </tr>\n",
              "  </thead>\n",
              "  <tbody>\n",
              "    <tr>\n",
              "      <th>0</th>\n",
              "      <td>7224</td>\n",
              "      <td>3.141147</td>\n",
              "    </tr>\n",
              "    <tr>\n",
              "      <th>1</th>\n",
              "      <td>614</td>\n",
              "      <td>2.525000</td>\n",
              "    </tr>\n",
              "    <tr>\n",
              "      <th>2</th>\n",
              "      <td>5653</td>\n",
              "      <td>2.514023</td>\n",
              "    </tr>\n",
              "    <tr>\n",
              "      <th>3</th>\n",
              "      <td>352</td>\n",
              "      <td>2.425000</td>\n",
              "    </tr>\n",
              "    <tr>\n",
              "      <th>4</th>\n",
              "      <td>6450</td>\n",
              "      <td>2.394927</td>\n",
              "    </tr>\n",
              "  </tbody>\n",
              "</table>\n",
              "</div>\n",
              "    <div class=\"colab-df-buttons\">\n",
              "\n",
              "  <div class=\"colab-df-container\">\n",
              "    <button class=\"colab-df-convert\" onclick=\"convertToInteractive('df-0da4a312-f094-4a71-b549-d70441e1c21f')\"\n",
              "            title=\"Convert this dataframe to an interactive table.\"\n",
              "            style=\"display:none;\">\n",
              "\n",
              "  <svg xmlns=\"http://www.w3.org/2000/svg\" height=\"24px\" viewBox=\"0 -960 960 960\">\n",
              "    <path d=\"M120-120v-720h720v720H120Zm60-500h600v-160H180v160Zm220 220h160v-160H400v160Zm0 220h160v-160H400v160ZM180-400h160v-160H180v160Zm440 0h160v-160H620v160ZM180-180h160v-160H180v160Zm440 0h160v-160H620v160Z\"/>\n",
              "  </svg>\n",
              "    </button>\n",
              "\n",
              "  <style>\n",
              "    .colab-df-container {\n",
              "      display:flex;\n",
              "      gap: 12px;\n",
              "    }\n",
              "\n",
              "    .colab-df-convert {\n",
              "      background-color: #E8F0FE;\n",
              "      border: none;\n",
              "      border-radius: 50%;\n",
              "      cursor: pointer;\n",
              "      display: none;\n",
              "      fill: #1967D2;\n",
              "      height: 32px;\n",
              "      padding: 0 0 0 0;\n",
              "      width: 32px;\n",
              "    }\n",
              "\n",
              "    .colab-df-convert:hover {\n",
              "      background-color: #E2EBFA;\n",
              "      box-shadow: 0px 1px 2px rgba(60, 64, 67, 0.3), 0px 1px 3px 1px rgba(60, 64, 67, 0.15);\n",
              "      fill: #174EA6;\n",
              "    }\n",
              "\n",
              "    .colab-df-buttons div {\n",
              "      margin-bottom: 4px;\n",
              "    }\n",
              "\n",
              "    [theme=dark] .colab-df-convert {\n",
              "      background-color: #3B4455;\n",
              "      fill: #D2E3FC;\n",
              "    }\n",
              "\n",
              "    [theme=dark] .colab-df-convert:hover {\n",
              "      background-color: #434B5C;\n",
              "      box-shadow: 0px 1px 3px 1px rgba(0, 0, 0, 0.15);\n",
              "      filter: drop-shadow(0px 1px 2px rgba(0, 0, 0, 0.3));\n",
              "      fill: #FFFFFF;\n",
              "    }\n",
              "  </style>\n",
              "\n",
              "    <script>\n",
              "      const buttonEl =\n",
              "        document.querySelector('#df-0da4a312-f094-4a71-b549-d70441e1c21f button.colab-df-convert');\n",
              "      buttonEl.style.display =\n",
              "        google.colab.kernel.accessAllowed ? 'block' : 'none';\n",
              "\n",
              "      async function convertToInteractive(key) {\n",
              "        const element = document.querySelector('#df-0da4a312-f094-4a71-b549-d70441e1c21f');\n",
              "        const dataTable =\n",
              "          await google.colab.kernel.invokeFunction('convertToInteractive',\n",
              "                                                    [key], {});\n",
              "        if (!dataTable) return;\n",
              "\n",
              "        const docLinkHtml = 'Like what you see? Visit the ' +\n",
              "          '<a target=\"_blank\" href=https://colab.research.google.com/notebooks/data_table.ipynb>data table notebook</a>'\n",
              "          + ' to learn more about interactive tables.';\n",
              "        element.innerHTML = '';\n",
              "        dataTable['output_type'] = 'display_data';\n",
              "        await google.colab.output.renderOutput(dataTable, element);\n",
              "        const docLink = document.createElement('div');\n",
              "        docLink.innerHTML = docLinkHtml;\n",
              "        element.appendChild(docLink);\n",
              "      }\n",
              "    </script>\n",
              "  </div>\n",
              "\n",
              "\n",
              "<div id=\"df-bff38353-13f8-4e8b-87bc-32c47ce57246\">\n",
              "  <button class=\"colab-df-quickchart\" onclick=\"quickchart('df-bff38353-13f8-4e8b-87bc-32c47ce57246')\"\n",
              "            title=\"Suggest charts\"\n",
              "            style=\"display:none;\">\n",
              "\n",
              "<svg xmlns=\"http://www.w3.org/2000/svg\" height=\"24px\"viewBox=\"0 0 24 24\"\n",
              "     width=\"24px\">\n",
              "    <g>\n",
              "        <path d=\"M19 3H5c-1.1 0-2 .9-2 2v14c0 1.1.9 2 2 2h14c1.1 0 2-.9 2-2V5c0-1.1-.9-2-2-2zM9 17H7v-7h2v7zm4 0h-2V7h2v10zm4 0h-2v-4h2v4z\"/>\n",
              "    </g>\n",
              "</svg>\n",
              "  </button>\n",
              "\n",
              "<style>\n",
              "  .colab-df-quickchart {\n",
              "      --bg-color: #E8F0FE;\n",
              "      --fill-color: #1967D2;\n",
              "      --hover-bg-color: #E2EBFA;\n",
              "      --hover-fill-color: #174EA6;\n",
              "      --disabled-fill-color: #AAA;\n",
              "      --disabled-bg-color: #DDD;\n",
              "  }\n",
              "\n",
              "  [theme=dark] .colab-df-quickchart {\n",
              "      --bg-color: #3B4455;\n",
              "      --fill-color: #D2E3FC;\n",
              "      --hover-bg-color: #434B5C;\n",
              "      --hover-fill-color: #FFFFFF;\n",
              "      --disabled-bg-color: #3B4455;\n",
              "      --disabled-fill-color: #666;\n",
              "  }\n",
              "\n",
              "  .colab-df-quickchart {\n",
              "    background-color: var(--bg-color);\n",
              "    border: none;\n",
              "    border-radius: 50%;\n",
              "    cursor: pointer;\n",
              "    display: none;\n",
              "    fill: var(--fill-color);\n",
              "    height: 32px;\n",
              "    padding: 0;\n",
              "    width: 32px;\n",
              "  }\n",
              "\n",
              "  .colab-df-quickchart:hover {\n",
              "    background-color: var(--hover-bg-color);\n",
              "    box-shadow: 0 1px 2px rgba(60, 64, 67, 0.3), 0 1px 3px 1px rgba(60, 64, 67, 0.15);\n",
              "    fill: var(--button-hover-fill-color);\n",
              "  }\n",
              "\n",
              "  .colab-df-quickchart-complete:disabled,\n",
              "  .colab-df-quickchart-complete:disabled:hover {\n",
              "    background-color: var(--disabled-bg-color);\n",
              "    fill: var(--disabled-fill-color);\n",
              "    box-shadow: none;\n",
              "  }\n",
              "\n",
              "  .colab-df-spinner {\n",
              "    border: 2px solid var(--fill-color);\n",
              "    border-color: transparent;\n",
              "    border-bottom-color: var(--fill-color);\n",
              "    animation:\n",
              "      spin 1s steps(1) infinite;\n",
              "  }\n",
              "\n",
              "  @keyframes spin {\n",
              "    0% {\n",
              "      border-color: transparent;\n",
              "      border-bottom-color: var(--fill-color);\n",
              "      border-left-color: var(--fill-color);\n",
              "    }\n",
              "    20% {\n",
              "      border-color: transparent;\n",
              "      border-left-color: var(--fill-color);\n",
              "      border-top-color: var(--fill-color);\n",
              "    }\n",
              "    30% {\n",
              "      border-color: transparent;\n",
              "      border-left-color: var(--fill-color);\n",
              "      border-top-color: var(--fill-color);\n",
              "      border-right-color: var(--fill-color);\n",
              "    }\n",
              "    40% {\n",
              "      border-color: transparent;\n",
              "      border-right-color: var(--fill-color);\n",
              "      border-top-color: var(--fill-color);\n",
              "    }\n",
              "    60% {\n",
              "      border-color: transparent;\n",
              "      border-right-color: var(--fill-color);\n",
              "    }\n",
              "    80% {\n",
              "      border-color: transparent;\n",
              "      border-right-color: var(--fill-color);\n",
              "      border-bottom-color: var(--fill-color);\n",
              "    }\n",
              "    90% {\n",
              "      border-color: transparent;\n",
              "      border-bottom-color: var(--fill-color);\n",
              "    }\n",
              "  }\n",
              "</style>\n",
              "\n",
              "  <script>\n",
              "    async function quickchart(key) {\n",
              "      const quickchartButtonEl =\n",
              "        document.querySelector('#' + key + ' button');\n",
              "      quickchartButtonEl.disabled = true;  // To prevent multiple clicks.\n",
              "      quickchartButtonEl.classList.add('colab-df-spinner');\n",
              "      try {\n",
              "        const charts = await google.colab.kernel.invokeFunction(\n",
              "            'suggestCharts', [key], {});\n",
              "      } catch (error) {\n",
              "        console.error('Error during call to suggestCharts:', error);\n",
              "      }\n",
              "      quickchartButtonEl.classList.remove('colab-df-spinner');\n",
              "      quickchartButtonEl.classList.add('colab-df-quickchart-complete');\n",
              "    }\n",
              "    (() => {\n",
              "      let quickchartButtonEl =\n",
              "        document.querySelector('#df-bff38353-13f8-4e8b-87bc-32c47ce57246 button');\n",
              "      quickchartButtonEl.style.display =\n",
              "        google.colab.kernel.accessAllowed ? 'block' : 'none';\n",
              "    })();\n",
              "  </script>\n",
              "</div>\n",
              "\n",
              "    </div>\n",
              "  </div>\n"
            ],
            "application/vnd.google.colaboratory.intrinsic+json": {
              "type": "dataframe",
              "summary": "{\n  \"name\": \"pd\",\n  \"rows\": 5,\n  \"fields\": [\n    {\n      \"column\": \"song_id\",\n      \"properties\": {\n        \"dtype\": \"number\",\n        \"std\": 3312,\n        \"min\": 352,\n        \"max\": 7224,\n        \"num_unique_values\": 5,\n        \"samples\": [\n          614,\n          6450,\n          5653\n        ],\n        \"semantic_type\": \"\",\n        \"description\": \"\"\n      }\n    },\n    {\n      \"column\": \"predicted_ratings\",\n      \"properties\": {\n        \"dtype\": \"number\",\n        \"std\": 0.30762674204416673,\n        \"min\": 2.3949274658272426,\n        \"max\": 3.1411469741806526,\n        \"num_unique_values\": 5,\n        \"samples\": [\n          2.525,\n          2.3949274658272426,\n          2.514022912113705\n        ],\n        \"semantic_type\": \"\",\n        \"description\": \"\"\n      }\n    }\n  ]\n}"
            }
          },
          "metadata": {},
          "execution_count": 52
        }
      ],
      "source": [
        "# Create a DataFrame from the recommendations with columns 'song_id' and 'predicted_ratings'\n",
        "pd.DataFrame(recommendations, columns=['song_id', 'predicted_ratings'])"
      ]
    },
    {
      "cell_type": "markdown",
      "metadata": {
        "id": "kyhThMOttWjj"
      },
      "source": [
        "**Observations and Insights:**\n",
        "\n",
        "Predicted ratings provide insights into the model’s perception of a user’s potential enjoyment of each recommended song. A higher predicted rating indicates a stronger endorsement by the model. For instance, Song ID 7224 has the highest predicted rating of 3.14, suggesting a higher likelihood of user enjoyment.\n",
        "\n",
        "These recommendations and ratings offer a curated list for user 6958, enhancing personalized music discovery. Continuous monitoring, user feedback, and model updates will refine and optimize the recommendation system over time."
      ]
    },
    {
      "cell_type": "markdown",
      "metadata": {
        "id": "ghwEJY2e7INB"
      },
      "source": [
        "\n",
        "\n",
        "---\n",
        "\n",
        "\n",
        "**Correcting the play_counts and Ranking the above songs**"
      ]
    },
    {
      "cell_type": "code",
      "execution_count": null,
      "metadata": {
        "id": "6QMOG_bRebqK"
      },
      "outputs": [],
      "source": [
        "def ranking_songs(recommendations, final_rating):\n",
        "  # sort the songs based on play counts\n",
        "  ranked_songs = final_rating.loc[[items[0] for items in recommendations]].sort_values('play_freq', ascending=False)[['play_freq']].reset_index()\n",
        "\n",
        "  # merge with the recommended songs to get predicted play_count\n",
        "  ranked_songs = ranked_songs.merge(pd.DataFrame(recommendations, columns=['song_id', 'predicted_ratings']), on='song_id', how='inner')\n",
        "\n",
        "  # rank the songs based on corrected play_counts\n",
        "  ranked_songs['corrected_ratings'] = ranked_songs['predicted_ratings'] - 1 / np.sqrt(ranked_songs['play_freq'])\n",
        "\n",
        "  # sort the songs based on corrected play_counts\n",
        "  ranked_songs = ranked_songs.sort_values('corrected_ratings', ascending=False)\n",
        "\n",
        "  return ranked_songs"
      ]
    },
    {
      "cell_type": "code",
      "execution_count": null,
      "metadata": {
        "id": "xoiAL_vH8miC",
        "colab": {
          "base_uri": "https://localhost:8080/",
          "height": 204
        },
        "outputId": "3ed752ba-873f-4219-a9fa-0e5a72ae5cc8"
      },
      "outputs": [
        {
          "output_type": "execute_result",
          "data": {
            "text/plain": [
              "   song_id  play_freq  predicted_ratings  corrected_ratings\n",
              "3     7224        107           3.141147           3.044473\n",
              "1      614        373           2.525000           2.473222\n",
              "2     5653        108           2.514023           2.417798\n",
              "0      352        748           2.425000           2.388436\n",
              "4     6450        102           2.394927           2.295913"
            ],
            "text/html": [
              "\n",
              "  <div id=\"df-0b656455-43c1-4fdf-b1f8-421404fc0004\" class=\"colab-df-container\">\n",
              "    <div>\n",
              "<style scoped>\n",
              "    .dataframe tbody tr th:only-of-type {\n",
              "        vertical-align: middle;\n",
              "    }\n",
              "\n",
              "    .dataframe tbody tr th {\n",
              "        vertical-align: top;\n",
              "    }\n",
              "\n",
              "    .dataframe thead th {\n",
              "        text-align: right;\n",
              "    }\n",
              "</style>\n",
              "<table border=\"1\" class=\"dataframe\">\n",
              "  <thead>\n",
              "    <tr style=\"text-align: right;\">\n",
              "      <th></th>\n",
              "      <th>song_id</th>\n",
              "      <th>play_freq</th>\n",
              "      <th>predicted_ratings</th>\n",
              "      <th>corrected_ratings</th>\n",
              "    </tr>\n",
              "  </thead>\n",
              "  <tbody>\n",
              "    <tr>\n",
              "      <th>3</th>\n",
              "      <td>7224</td>\n",
              "      <td>107</td>\n",
              "      <td>3.141147</td>\n",
              "      <td>3.044473</td>\n",
              "    </tr>\n",
              "    <tr>\n",
              "      <th>1</th>\n",
              "      <td>614</td>\n",
              "      <td>373</td>\n",
              "      <td>2.525000</td>\n",
              "      <td>2.473222</td>\n",
              "    </tr>\n",
              "    <tr>\n",
              "      <th>2</th>\n",
              "      <td>5653</td>\n",
              "      <td>108</td>\n",
              "      <td>2.514023</td>\n",
              "      <td>2.417798</td>\n",
              "    </tr>\n",
              "    <tr>\n",
              "      <th>0</th>\n",
              "      <td>352</td>\n",
              "      <td>748</td>\n",
              "      <td>2.425000</td>\n",
              "      <td>2.388436</td>\n",
              "    </tr>\n",
              "    <tr>\n",
              "      <th>4</th>\n",
              "      <td>6450</td>\n",
              "      <td>102</td>\n",
              "      <td>2.394927</td>\n",
              "      <td>2.295913</td>\n",
              "    </tr>\n",
              "  </tbody>\n",
              "</table>\n",
              "</div>\n",
              "    <div class=\"colab-df-buttons\">\n",
              "\n",
              "  <div class=\"colab-df-container\">\n",
              "    <button class=\"colab-df-convert\" onclick=\"convertToInteractive('df-0b656455-43c1-4fdf-b1f8-421404fc0004')\"\n",
              "            title=\"Convert this dataframe to an interactive table.\"\n",
              "            style=\"display:none;\">\n",
              "\n",
              "  <svg xmlns=\"http://www.w3.org/2000/svg\" height=\"24px\" viewBox=\"0 -960 960 960\">\n",
              "    <path d=\"M120-120v-720h720v720H120Zm60-500h600v-160H180v160Zm220 220h160v-160H400v160Zm0 220h160v-160H400v160ZM180-400h160v-160H180v160Zm440 0h160v-160H620v160ZM180-180h160v-160H180v160Zm440 0h160v-160H620v160Z\"/>\n",
              "  </svg>\n",
              "    </button>\n",
              "\n",
              "  <style>\n",
              "    .colab-df-container {\n",
              "      display:flex;\n",
              "      gap: 12px;\n",
              "    }\n",
              "\n",
              "    .colab-df-convert {\n",
              "      background-color: #E8F0FE;\n",
              "      border: none;\n",
              "      border-radius: 50%;\n",
              "      cursor: pointer;\n",
              "      display: none;\n",
              "      fill: #1967D2;\n",
              "      height: 32px;\n",
              "      padding: 0 0 0 0;\n",
              "      width: 32px;\n",
              "    }\n",
              "\n",
              "    .colab-df-convert:hover {\n",
              "      background-color: #E2EBFA;\n",
              "      box-shadow: 0px 1px 2px rgba(60, 64, 67, 0.3), 0px 1px 3px 1px rgba(60, 64, 67, 0.15);\n",
              "      fill: #174EA6;\n",
              "    }\n",
              "\n",
              "    .colab-df-buttons div {\n",
              "      margin-bottom: 4px;\n",
              "    }\n",
              "\n",
              "    [theme=dark] .colab-df-convert {\n",
              "      background-color: #3B4455;\n",
              "      fill: #D2E3FC;\n",
              "    }\n",
              "\n",
              "    [theme=dark] .colab-df-convert:hover {\n",
              "      background-color: #434B5C;\n",
              "      box-shadow: 0px 1px 3px 1px rgba(0, 0, 0, 0.15);\n",
              "      filter: drop-shadow(0px 1px 2px rgba(0, 0, 0, 0.3));\n",
              "      fill: #FFFFFF;\n",
              "    }\n",
              "  </style>\n",
              "\n",
              "    <script>\n",
              "      const buttonEl =\n",
              "        document.querySelector('#df-0b656455-43c1-4fdf-b1f8-421404fc0004 button.colab-df-convert');\n",
              "      buttonEl.style.display =\n",
              "        google.colab.kernel.accessAllowed ? 'block' : 'none';\n",
              "\n",
              "      async function convertToInteractive(key) {\n",
              "        const element = document.querySelector('#df-0b656455-43c1-4fdf-b1f8-421404fc0004');\n",
              "        const dataTable =\n",
              "          await google.colab.kernel.invokeFunction('convertToInteractive',\n",
              "                                                    [key], {});\n",
              "        if (!dataTable) return;\n",
              "\n",
              "        const docLinkHtml = 'Like what you see? Visit the ' +\n",
              "          '<a target=\"_blank\" href=https://colab.research.google.com/notebooks/data_table.ipynb>data table notebook</a>'\n",
              "          + ' to learn more about interactive tables.';\n",
              "        element.innerHTML = '';\n",
              "        dataTable['output_type'] = 'display_data';\n",
              "        await google.colab.output.renderOutput(dataTable, element);\n",
              "        const docLink = document.createElement('div');\n",
              "        docLink.innerHTML = docLinkHtml;\n",
              "        element.appendChild(docLink);\n",
              "      }\n",
              "    </script>\n",
              "  </div>\n",
              "\n",
              "\n",
              "<div id=\"df-22a09e58-8151-4447-ba2b-3f741a3707d2\">\n",
              "  <button class=\"colab-df-quickchart\" onclick=\"quickchart('df-22a09e58-8151-4447-ba2b-3f741a3707d2')\"\n",
              "            title=\"Suggest charts\"\n",
              "            style=\"display:none;\">\n",
              "\n",
              "<svg xmlns=\"http://www.w3.org/2000/svg\" height=\"24px\"viewBox=\"0 0 24 24\"\n",
              "     width=\"24px\">\n",
              "    <g>\n",
              "        <path d=\"M19 3H5c-1.1 0-2 .9-2 2v14c0 1.1.9 2 2 2h14c1.1 0 2-.9 2-2V5c0-1.1-.9-2-2-2zM9 17H7v-7h2v7zm4 0h-2V7h2v10zm4 0h-2v-4h2v4z\"/>\n",
              "    </g>\n",
              "</svg>\n",
              "  </button>\n",
              "\n",
              "<style>\n",
              "  .colab-df-quickchart {\n",
              "      --bg-color: #E8F0FE;\n",
              "      --fill-color: #1967D2;\n",
              "      --hover-bg-color: #E2EBFA;\n",
              "      --hover-fill-color: #174EA6;\n",
              "      --disabled-fill-color: #AAA;\n",
              "      --disabled-bg-color: #DDD;\n",
              "  }\n",
              "\n",
              "  [theme=dark] .colab-df-quickchart {\n",
              "      --bg-color: #3B4455;\n",
              "      --fill-color: #D2E3FC;\n",
              "      --hover-bg-color: #434B5C;\n",
              "      --hover-fill-color: #FFFFFF;\n",
              "      --disabled-bg-color: #3B4455;\n",
              "      --disabled-fill-color: #666;\n",
              "  }\n",
              "\n",
              "  .colab-df-quickchart {\n",
              "    background-color: var(--bg-color);\n",
              "    border: none;\n",
              "    border-radius: 50%;\n",
              "    cursor: pointer;\n",
              "    display: none;\n",
              "    fill: var(--fill-color);\n",
              "    height: 32px;\n",
              "    padding: 0;\n",
              "    width: 32px;\n",
              "  }\n",
              "\n",
              "  .colab-df-quickchart:hover {\n",
              "    background-color: var(--hover-bg-color);\n",
              "    box-shadow: 0 1px 2px rgba(60, 64, 67, 0.3), 0 1px 3px 1px rgba(60, 64, 67, 0.15);\n",
              "    fill: var(--button-hover-fill-color);\n",
              "  }\n",
              "\n",
              "  .colab-df-quickchart-complete:disabled,\n",
              "  .colab-df-quickchart-complete:disabled:hover {\n",
              "    background-color: var(--disabled-bg-color);\n",
              "    fill: var(--disabled-fill-color);\n",
              "    box-shadow: none;\n",
              "  }\n",
              "\n",
              "  .colab-df-spinner {\n",
              "    border: 2px solid var(--fill-color);\n",
              "    border-color: transparent;\n",
              "    border-bottom-color: var(--fill-color);\n",
              "    animation:\n",
              "      spin 1s steps(1) infinite;\n",
              "  }\n",
              "\n",
              "  @keyframes spin {\n",
              "    0% {\n",
              "      border-color: transparent;\n",
              "      border-bottom-color: var(--fill-color);\n",
              "      border-left-color: var(--fill-color);\n",
              "    }\n",
              "    20% {\n",
              "      border-color: transparent;\n",
              "      border-left-color: var(--fill-color);\n",
              "      border-top-color: var(--fill-color);\n",
              "    }\n",
              "    30% {\n",
              "      border-color: transparent;\n",
              "      border-left-color: var(--fill-color);\n",
              "      border-top-color: var(--fill-color);\n",
              "      border-right-color: var(--fill-color);\n",
              "    }\n",
              "    40% {\n",
              "      border-color: transparent;\n",
              "      border-right-color: var(--fill-color);\n",
              "      border-top-color: var(--fill-color);\n",
              "    }\n",
              "    60% {\n",
              "      border-color: transparent;\n",
              "      border-right-color: var(--fill-color);\n",
              "    }\n",
              "    80% {\n",
              "      border-color: transparent;\n",
              "      border-right-color: var(--fill-color);\n",
              "      border-bottom-color: var(--fill-color);\n",
              "    }\n",
              "    90% {\n",
              "      border-color: transparent;\n",
              "      border-bottom-color: var(--fill-color);\n",
              "    }\n",
              "  }\n",
              "</style>\n",
              "\n",
              "  <script>\n",
              "    async function quickchart(key) {\n",
              "      const quickchartButtonEl =\n",
              "        document.querySelector('#' + key + ' button');\n",
              "      quickchartButtonEl.disabled = true;  // To prevent multiple clicks.\n",
              "      quickchartButtonEl.classList.add('colab-df-spinner');\n",
              "      try {\n",
              "        const charts = await google.colab.kernel.invokeFunction(\n",
              "            'suggestCharts', [key], {});\n",
              "      } catch (error) {\n",
              "        console.error('Error during call to suggestCharts:', error);\n",
              "      }\n",
              "      quickchartButtonEl.classList.remove('colab-df-spinner');\n",
              "      quickchartButtonEl.classList.add('colab-df-quickchart-complete');\n",
              "    }\n",
              "    (() => {\n",
              "      let quickchartButtonEl =\n",
              "        document.querySelector('#df-22a09e58-8151-4447-ba2b-3f741a3707d2 button');\n",
              "      quickchartButtonEl.style.display =\n",
              "        google.colab.kernel.accessAllowed ? 'block' : 'none';\n",
              "    })();\n",
              "  </script>\n",
              "</div>\n",
              "\n",
              "    </div>\n",
              "  </div>\n"
            ],
            "application/vnd.google.colaboratory.intrinsic+json": {
              "type": "dataframe",
              "summary": "{\n  \"name\": \"ranking_songs(recommendations, final_play)\",\n  \"rows\": 5,\n  \"fields\": [\n    {\n      \"column\": \"song_id\",\n      \"properties\": {\n        \"dtype\": \"number\",\n        \"std\": 3312,\n        \"min\": 352,\n        \"max\": 7224,\n        \"num_unique_values\": 5,\n        \"samples\": [\n          614,\n          6450,\n          5653\n        ],\n        \"semantic_type\": \"\",\n        \"description\": \"\"\n      }\n    },\n    {\n      \"column\": \"play_freq\",\n      \"properties\": {\n        \"dtype\": \"number\",\n        \"std\": 282,\n        \"min\": 102,\n        \"max\": 748,\n        \"num_unique_values\": 5,\n        \"samples\": [\n          373,\n          102,\n          108\n        ],\n        \"semantic_type\": \"\",\n        \"description\": \"\"\n      }\n    },\n    {\n      \"column\": \"predicted_ratings\",\n      \"properties\": {\n        \"dtype\": \"number\",\n        \"std\": 0.30762674204416673,\n        \"min\": 2.3949274658272426,\n        \"max\": 3.1411469741806526,\n        \"num_unique_values\": 5,\n        \"samples\": [\n          2.525,\n          2.3949274658272426,\n          2.514022912113705\n        ],\n        \"semantic_type\": \"\",\n        \"description\": \"\"\n      }\n    },\n    {\n      \"column\": \"corrected_ratings\",\n      \"properties\": {\n        \"dtype\": \"number\",\n        \"std\": 0.29797276971930325,\n        \"min\": 2.295912711529575,\n        \"max\": 3.044473325276086,\n        \"num_unique_values\": 5,\n        \"samples\": [\n          2.47322196269215,\n          2.295912711529575,\n          2.4177978672487677\n        ],\n        \"semantic_type\": \"\",\n        \"description\": \"\"\n      }\n    }\n  ]\n}"
            }
          },
          "metadata": {},
          "execution_count": 54
        }
      ],
      "source": [
        "# Rank the songs in recommendations based on the play count and frequency in final_play DataFrame\n",
        "ranking_songs(recommendations, final_play)"
      ]
    },
    {
      "cell_type": "markdown",
      "metadata": {
        "id": "KOwwGsH8toLG"
      },
      "source": [
        "**Observations and Insights:**\n",
        "\n",
        "The ranking_songs function refines initial recommendations by adjusting predicted ratings based on song play frequency. This provides a nuanced ranking that prioritizes songs both predicted to be liked by the user and frequently played by others. The final ranking balances personal predictions and general popularity."
      ]
    },
    {
      "cell_type": "markdown",
      "metadata": {
        "id": "QgbzJKk7Tsnr"
      },
      "source": [
        "#### **Item Item Similarity-based collaborative filtering recommendation systems**"
      ]
    },
    {
      "cell_type": "markdown",
      "source": [
        "Item-Item Collaborative Filtering focuses on finding similarities between items based on user interactions. It recommends items that are similar to those a user has already expressed interest in, enhancing the recommendation accuracy by leveraging item similarity."
      ],
      "metadata": {
        "id": "QWMR-i_eFYD8"
      }
    },
    {
      "cell_type": "code",
      "execution_count": null,
      "metadata": {
        "id": "W5RMcdzjTsns",
        "colab": {
          "base_uri": "https://localhost:8080/"
        },
        "outputId": "13b82d9c-e1a7-47fa-876b-f89b1261b7ea"
      },
      "outputs": [
        {
          "output_type": "stream",
          "name": "stdout",
          "text": [
            "RMSE: 1.0394\n",
            "Precision:  0.307\n",
            "Recall:  0.562\n",
            "F_1 score:  0.397\n"
          ]
        }
      ],
      "source": [
        "# Set the similarity options for item-item similarity using cosine distance\n",
        "similr_options = {'name': 'cosine', 'user_based': False}\n",
        "\n",
        "# Create an instance of the KNNBasic algorithm for item-item similarity with random_state=1\n",
        "sim_item_item_model = KNNBasic(sim_options=similr_options, verbose=False, random_state=1)\n",
        "\n",
        "# Train the algorithm on the training set and make predictions on the test set\n",
        "sim_item_item_model.fit(trainset)\n",
        "\n",
        "# Compute precision@k, recall@k, and f_1 score\n",
        "precision_recall_at_k(sim_item_item_model)"
      ]
    },
    {
      "cell_type": "markdown",
      "metadata": {
        "id": "JfdIJ6XWunx0"
      },
      "source": [
        "**Observations and Insights:**\n",
        "\n",
        "1. RMSE (1.0394): Indicates moderate predictive accuracy, with some room for improvement.\n",
        "2. Precision (0.307): Shows that 30.7% of the recommendations were relevant, highlighting the need for better accuracy.\n",
        "3. Recall (0.562): Demonstrates that the model successfully identified 56.2% of the songs users played, indicating decent coverage of relevant items.\n",
        "4. F1 Score (0.397): Reflects a lower level of overall effectiveness, suggesting significant room for improvement in balancing precision and recall.\n",
        "\n",
        "Overall, while the model is functional, it requires significant improvements for better performance."
      ]
    },
    {
      "cell_type": "markdown",
      "metadata": {
        "id": "OPfBZzlC8pF1"
      },
      "source": [
        "\n",
        "\n",
        "---\n",
        "\n",
        "\n",
        "**Predicting play_counts for a user with user id=6958 and song id=1671 as shown below.**"
      ]
    },
    {
      "cell_type": "code",
      "execution_count": null,
      "metadata": {
        "id": "5yILOxXRTsns",
        "colab": {
          "base_uri": "https://localhost:8080/"
        },
        "outputId": "26cf58ba-4e69-4c25-95c1-b36208ae6438"
      },
      "outputs": [
        {
          "output_type": "stream",
          "name": "stdout",
          "text": [
            "user: 6958       item: 1671       r_ui = 2.00   est = 1.36   {'actual_k': 20, 'was_impossible': False}\n",
            "Predicted Rating for user '6958' and song '1671': 1.3614157231762556\n"
          ]
        }
      ],
      "source": [
        "# Predicting play_count for a sample user with a listened song\n",
        "predict = sim_item_item_model.predict(6958, 1671, r_ui=2, verbose=True)\n",
        "\n",
        "# Print the prediction\n",
        "print(f\"Predicted Rating for user '6958' and song '1671': {predict.est}\") # Use user_id 6958 and song_id 1671"
      ]
    },
    {
      "cell_type": "markdown",
      "metadata": {
        "id": "UdI55YrF8pF3"
      },
      "source": [
        "**Predicting play_counts for a user with user id=6958 and song id=3232 as shown below.**"
      ]
    },
    {
      "cell_type": "code",
      "execution_count": null,
      "metadata": {
        "id": "jSn8oK3JZsTc",
        "colab": {
          "base_uri": "https://localhost:8080/"
        },
        "outputId": "b876aeb2-7dde-42d3-d3dc-0fbc9064fd23"
      },
      "outputs": [
        {
          "output_type": "stream",
          "name": "stdout",
          "text": [
            "user: 6958       item: 3232       r_ui = None   est = 1.38   {'actual_k': 20, 'was_impossible': False}\n",
            "Predicted Rating for user '6958' and song '3232': 1.377602711737415\n"
          ]
        }
      ],
      "source": [
        "# Predicting play_count for a sample user with a song not-listened by the user\n",
        "predict = sim_item_item_model.predict(6958, 3232, verbose=True)\n",
        "\n",
        "# Print the prediction\n",
        "print(f\"Predicted Rating for user '6958' and song '3232': {predict.est}\") # Use user_id 6958 and song_id 3232"
      ]
    },
    {
      "cell_type": "markdown",
      "metadata": {
        "id": "dxE9fJ8Dupby"
      },
      "source": [
        "**Observations and Insights:**\n",
        "\n",
        "1.\tPrediction for User 6958 and Song 1671:\n",
        " - Actual Rating (r_ui): The user has previously rated this song with a score of 2.00.\n",
        " - Predicted Rating (est): The item-item similarity model predicts the rating for this song as approximately 1.36.\n",
        " - Prediction Details: The prediction is based on 20 nearest neighbors, and it was possible to make this prediction ('was_impossible': False).\n",
        "\n",
        "2.\tPrediction for User 6958 and Song 3232:\n",
        " - Actual Rating (r_ui): The user has not previously rated this song (indicated by r_ui = None).\n",
        " - Predicted Rating (est): The item-item similarity model predicts the rating for this song as approximately 1.38.\n",
        " - Prediction Details: Similar to the first prediction, it is based on 20 nearest neighbors, and it was also possible to make this prediction ('was_impossible': False).\n",
        "\n",
        "The recommendation system was able to successfully predict ratings for both a previously rated song and a new song for user 6958. The predictions were based on the similarities with 20 other items or users, demonstrating the system’s ability to provide estimates for both familiar and unfamiliar items.\n"
      ]
    },
    {
      "cell_type": "markdown",
      "source": [
        "#### **Hyperparameter Tuning the Model**"
      ],
      "metadata": {
        "id": "Y65iP9DbcRR4"
      }
    },
    {
      "cell_type": "code",
      "execution_count": null,
      "metadata": {
        "id": "8s5F8j9mh16H",
        "colab": {
          "base_uri": "https://localhost:8080/"
        },
        "outputId": "308a5c8c-8979-417f-bee2-e358d74d5a22"
      },
      "outputs": [
        {
          "output_type": "stream",
          "name": "stdout",
          "text": [
            "Best RMSE Score: 1.0253740086390313\n",
            "Best Hyperparameters:\n",
            "k: 30\n",
            "min_k: 6\n",
            "sim_options: {'name': 'pearson_baseline', 'user_based': False}\n"
          ]
        }
      ],
      "source": [
        "# Define the parameter grid for hyperparameter tuning\n",
        "param_grid = {\n",
        "    'k': [10, 20, 30],       # Number of neighbors\n",
        "    'min_k': [3, 6, 9],     # Minimum number of neighbors\n",
        "    'sim_options': {\n",
        "        'name': ['cosine', 'msd', 'pearson', 'pearson_baseline'],  # Similarity measures\n",
        "        'user_based': [False]   # Item-based collaborative filtering\n",
        "    }\n",
        "}\n",
        "\n",
        "# Set up GridSearchCV for hyperparameter tuning with 3-fold cross-validation\n",
        "gr_ser = GridSearchCV(KNNBasic, param_grid, measures=['rmse'], cv=3, n_jobs=-1)\n",
        "\n",
        "# Fit the data to find the best hyperparameters\n",
        "gr_ser.fit(user_song_data)\n",
        "\n",
        "# Get the best RMSE score and combination of parameters\n",
        "bestRMSE = gr_ser.best_score['rmse']\n",
        "bestParam = gr_ser.best_params['rmse']\n",
        "\n",
        "# Display the best RMSE score and combination of parameters\n",
        "print(f\"Best RMSE Score: {bestRMSE}\")\n",
        "print(\"Best Hyperparameters:\")\n",
        "for param, value in bestParam.items():\n",
        "    print(f\"{param}: {value}\")"
      ]
    },
    {
      "cell_type": "code",
      "execution_count": null,
      "metadata": {
        "id": "dSeiM1qeTsnt",
        "colab": {
          "base_uri": "https://localhost:8080/"
        },
        "outputId": "184cbbca-5744-44f6-8b0b-84a4f078537d"
      },
      "outputs": [
        {
          "output_type": "stream",
          "name": "stdout",
          "text": [
            "RMSE: 1.0328\n",
            "Precision:  0.408\n",
            "Recall:  0.665\n",
            "F_1 score:  0.506\n"
          ]
        }
      ],
      "source": [
        "# Instantiate the KNNBasic algorithm\n",
        "similr_options = {'name': 'pearson_baseline', 'user_based': False}\n",
        "\n",
        "opt_sim_item_item_model = KNNBasic(sim_options=similr_options, k=30, min_k=6, random_state=1, verbose=False)\n",
        "\n",
        "# Train the model on the training set\n",
        "opt_sim_item_item_model.fit(trainset)\n",
        "\n",
        "# Make predictions on the test set\n",
        "precision_recall_at_k(opt_sim_item_item_model)"
      ]
    },
    {
      "cell_type": "code",
      "execution_count": null,
      "metadata": {
        "id": "VSnxU3I6_78D",
        "colab": {
          "base_uri": "https://localhost:8080/",
          "height": 452
        },
        "outputId": "41facdb9-a33d-4cf2-91c5-bf676246b4bf"
      },
      "outputs": [
        {
          "output_type": "display_data",
          "data": {
            "text/plain": [
              "<Figure size 640x480 with 1 Axes>"
            ],
            "image/png": "[encoded data removed]"
          },
          "metadata": {}
        }
      ],
      "source": [
        "rmse=1.0328\n",
        "precision=0.408\n",
        "recall=0.665\n",
        "f1=0.506\n",
        "\n",
        "# List of performance metrics to be displayed on the bar chart\n",
        "metrics = ['RMSE', 'Precision', 'Recall', 'F1 Score']\n",
        "\n",
        "# Corresponding values for each metric (e.g., RMSE value, Precision value, etc.)\n",
        "values = [rmse, precision, recall, f1]\n",
        "\n",
        "# Choose a custom cool color palette\n",
        "palette = ListedColormap(['#E6E6FA', '#D8BFD8', '#C4A7E7', '#BCA0DC'])\n",
        "\n",
        "# Create the bar chart using the chosen color palette\n",
        "bars = plt.bar(metrics, values, color=palette(range(len(metrics))))\n",
        "\n",
        "# Adding a title to the bar chart\n",
        "plt.title('Item-Item Model Performance Metrics')\n",
        "\n",
        "# Labeling the y-axis with \"Metric Value\"\n",
        "plt.ylabel('Metric Value')\n",
        "\n",
        "# Adding text labels on each bar with the rounded metric values\n",
        "for bar, value in zip(bars, values):\n",
        "    plt.text(bar.get_x() + bar.get_width() / 2, bar.get_height() / 2, round(value, 3),\n",
        "             ha='center', va='center', color='black')\n",
        "\n",
        "# Displaying the bar chart\n",
        "plt.show()"
      ]
    },
    {
      "cell_type": "markdown",
      "metadata": {
        "id": "XxXelRIluvfh"
      },
      "source": [
        "**Observations and Insights:**\n",
        "\n",
        "**Initial Model Performance:**\n",
        "\n",
        "- Evaluation Metrics:\n",
        " - RMSE: 1.0394\n",
        " - Precision: 0.307\n",
        " - Recall: 0.562\n",
        " - F1 Score: 0.397\n",
        "\n",
        "**Post Hyperparameter Tuning Performance:**\n",
        "\n",
        "- Evaluation Metrics:\n",
        " - RMSE: 1.0328\n",
        " - Precision: 0.408\n",
        " - Recall: 0.665\n",
        " - F1 Score: 0.506\n",
        "\n",
        "---\n",
        "\n",
        "\n",
        "**Comparison:**\n",
        "\n",
        "- RMSE: Improved from 1.0394 to 1.0328.\n",
        "- Precision: Increased from 0.307 to 0.408.\n",
        "- Recall: Increased from 0.562 to 0.665.\n",
        "- F1 Score: Increased from 0.397 to 0.506.\n",
        "\n",
        "Hyperparameter tuning led to improvements across all metrics. The RMSE decreased, indicating better predictive accuracy. Precision, recall, and F1 score also improved, reflecting enhanced overall performance and a better balance between precision and recall."
      ]
    },
    {
      "cell_type": "markdown",
      "metadata": {
        "id": "frpmhpJc-_c0"
      },
      "source": [
        "\n",
        "\n",
        "---\n",
        "\n",
        "\n",
        "**Predicting play_counts for a user with user id=6958 and song id=1671 as shown below.**\n"
      ]
    },
    {
      "cell_type": "code",
      "execution_count": null,
      "metadata": {
        "id": "gIBRRvdoTsnt",
        "colab": {
          "base_uri": "https://localhost:8080/"
        },
        "outputId": "e885c6e2-14dd-4505-c8f5-a0bc963f9395"
      },
      "outputs": [
        {
          "output_type": "stream",
          "name": "stdout",
          "text": [
            "user: 6958       item: 1671       r_ui = 2.00   est = 1.96   {'actual_k': 10, 'was_impossible': False}\n",
            "Predicted Rating for user '6958' and product '1671': 1.9634957386781853\n"
          ]
        }
      ],
      "source": [
        "# Predicting play_count for a sample user with a listened song\n",
        "predict = opt_sim_item_item_model.predict(6958, 1671, r_ui=2, verbose=True)\n",
        "\n",
        "# Print the prediction\n",
        "print(f\"Predicted Rating for user '6958' and product '1671': {predict.est}\") # Use user id 6958 and song_id 1671"
      ]
    },
    {
      "cell_type": "markdown",
      "metadata": {
        "id": "YwCgLc00_E2l"
      },
      "source": [
        "**Predicting play_counts for a user with user id=6958 and song id=3232 as shown below.**"
      ]
    },
    {
      "cell_type": "code",
      "execution_count": null,
      "metadata": {
        "id": "LNEgcI9PTsnu",
        "colab": {
          "base_uri": "https://localhost:8080/"
        },
        "outputId": "e3d2afe7-d2b1-4e50-e947-3a32e6e12b3f"
      },
      "outputs": [
        {
          "output_type": "stream",
          "name": "stdout",
          "text": [
            "user: 6958       item: 3232       r_ui = None   est = 1.28   {'actual_k': 10, 'was_impossible': False}\n",
            "Predicted Rating for user '6958' and song '3232': 1.2759946618244609\n"
          ]
        }
      ],
      "source": [
        "# Predicting play_count for a sample user with a song not-listened by the user\n",
        "predict = opt_sim_item_item_model.predict(6958, 3232, verbose=True)\n",
        "\n",
        "# Print the prediction\n",
        "print(f\"Predicted Rating for user '6958' and song '3232': {predict.est}\") # Use user_id 6958 and song_id 3232"
      ]
    },
    {
      "cell_type": "markdown",
      "metadata": {
        "id": "yf3kDSepuwcw"
      },
      "source": [
        "**Observations and Insights:**\n",
        "\n",
        "1. Prediction for User 6958 and Song 1671:\n",
        "\n",
        " - Actual Rating (r_ui): The user has previously rated this song with a score of 2.00.\n",
        " - Predicted Rating (est): The recommendation model predicts the rating for this song as approximately 1.96.\n",
        " - Prediction Details: The prediction is based on 10 nearest neighbors, and it was possible to make this prediction ('was_impossible': False).\n",
        "\n",
        "2. Prediction for User 6958 and Song 3232:\n",
        "\n",
        " - Actual Rating (r_ui): The user has not previously rated this song (indicated by r_ui = None).\n",
        " - Predicted Rating (est): The recommendation model predicts the rating for this song as approximately 1.28.\n",
        " - Prediction Details: The prediction is based on 10 nearest neighbors, and it was also possible to make this prediction ('was_impossible': False).\n",
        "\n",
        "\n",
        "---\n",
        "\n",
        "\n",
        "**Comparison:**\n",
        "\n",
        "1.\tListened Song (User 6958, Song 1671):\n",
        " - Initial Model Predicted Rating: 1.80\n",
        " - Post Hyperparameter Tuning Predicted Rating: 1.96\n",
        " - Improvement: The post-tuning predicted rating is closer to the actual rating of 2.00, indicating improved accuracy.\n",
        "\n",
        "2.\tNot-listened Song (User 6958, Song 3232):\n",
        " - Initial Model Predicted Rating: 1.64\n",
        " - Post Hyperparameter Tuning Predicted Rating: 1.28\n",
        " - Difference: The prediction for the not-listened song changed from 1.64 to 1.28, indicating a lower predicted rating post hyperparameter tuning.\n",
        "\n",
        "The optimized item-item similarity model predicts ratings for both a previously rated song and a new song for user 6958. For the listened song (item 1671), the predicted rating is 1.96, closely matching the actual rating of 2.00, indicating improved accuracy. For the not-listened song (item 3232), the predicted rating is 1.28. Both predictions are based on 10 nearest neighbors, demonstrating the model’s ability to provide accurate estimates for both familiar and unfamiliar items.\n"
      ]
    },
    {
      "cell_type": "markdown",
      "source": [
        "##### **Implementing the recommendation algorithm based on optimized Item-Item Collaborative Filtering model**"
      ],
      "metadata": {
        "id": "jyn0f8OgmRsL"
      }
    },
    {
      "cell_type": "code",
      "execution_count": null,
      "metadata": {
        "id": "rzoEbuZFTsnu"
      },
      "outputs": [],
      "source": [
        "# Generate recommendations using the item-item similarity model for user_id 6958, with a count of 5 recommendations\n",
        "recommendations = get_recommendations(df_final,6958, 5, sim_item_item_model)"
      ]
    },
    {
      "cell_type": "code",
      "execution_count": null,
      "metadata": {
        "id": "_kXVTiysTsnv",
        "colab": {
          "base_uri": "https://localhost:8080/",
          "height": 204
        },
        "outputId": "886f359b-4932-4207-be42-42d7edddeddb"
      },
      "outputs": [
        {
          "output_type": "execute_result",
          "data": {
            "text/plain": [
              "   song_id  predicted_ratings\n",
              "0     2842           1.650010\n",
              "1     7921           1.542349\n",
              "2     1767           1.540675\n",
              "3     4631           1.539257\n",
              "4     5417           1.538866"
            ],
            "text/html": [
              "\n",
              "  <div id=\"df-cb304063-e26f-43f8-b025-18610400741b\" class=\"colab-df-container\">\n",
              "    <div>\n",
              "<style scoped>\n",
              "    .dataframe tbody tr th:only-of-type {\n",
              "        vertical-align: middle;\n",
              "    }\n",
              "\n",
              "    .dataframe tbody tr th {\n",
              "        vertical-align: top;\n",
              "    }\n",
              "\n",
              "    .dataframe thead th {\n",
              "        text-align: right;\n",
              "    }\n",
              "</style>\n",
              "<table border=\"1\" class=\"dataframe\">\n",
              "  <thead>\n",
              "    <tr style=\"text-align: right;\">\n",
              "      <th></th>\n",
              "      <th>song_id</th>\n",
              "      <th>predicted_ratings</th>\n",
              "    </tr>\n",
              "  </thead>\n",
              "  <tbody>\n",
              "    <tr>\n",
              "      <th>0</th>\n",
              "      <td>2842</td>\n",
              "      <td>1.650010</td>\n",
              "    </tr>\n",
              "    <tr>\n",
              "      <th>1</th>\n",
              "      <td>7921</td>\n",
              "      <td>1.542349</td>\n",
              "    </tr>\n",
              "    <tr>\n",
              "      <th>2</th>\n",
              "      <td>1767</td>\n",
              "      <td>1.540675</td>\n",
              "    </tr>\n",
              "    <tr>\n",
              "      <th>3</th>\n",
              "      <td>4631</td>\n",
              "      <td>1.539257</td>\n",
              "    </tr>\n",
              "    <tr>\n",
              "      <th>4</th>\n",
              "      <td>5417</td>\n",
              "      <td>1.538866</td>\n",
              "    </tr>\n",
              "  </tbody>\n",
              "</table>\n",
              "</div>\n",
              "    <div class=\"colab-df-buttons\">\n",
              "\n",
              "  <div class=\"colab-df-container\">\n",
              "    <button class=\"colab-df-convert\" onclick=\"convertToInteractive('df-cb304063-e26f-43f8-b025-18610400741b')\"\n",
              "            title=\"Convert this dataframe to an interactive table.\"\n",
              "            style=\"display:none;\">\n",
              "\n",
              "  <svg xmlns=\"http://www.w3.org/2000/svg\" height=\"24px\" viewBox=\"0 -960 960 960\">\n",
              "    <path d=\"M120-120v-720h720v720H120Zm60-500h600v-160H180v160Zm220 220h160v-160H400v160Zm0 220h160v-160H400v160ZM180-400h160v-160H180v160Zm440 0h160v-160H620v160ZM180-180h160v-160H180v160Zm440 0h160v-160H620v160Z\"/>\n",
              "  </svg>\n",
              "    </button>\n",
              "\n",
              "  <style>\n",
              "    .colab-df-container {\n",
              "      display:flex;\n",
              "      gap: 12px;\n",
              "    }\n",
              "\n",
              "    .colab-df-convert {\n",
              "      background-color: #E8F0FE;\n",
              "      border: none;\n",
              "      border-radius: 50%;\n",
              "      cursor: pointer;\n",
              "      display: none;\n",
              "      fill: #1967D2;\n",
              "      height: 32px;\n",
              "      padding: 0 0 0 0;\n",
              "      width: 32px;\n",
              "    }\n",
              "\n",
              "    .colab-df-convert:hover {\n",
              "      background-color: #E2EBFA;\n",
              "      box-shadow: 0px 1px 2px rgba(60, 64, 67, 0.3), 0px 1px 3px 1px rgba(60, 64, 67, 0.15);\n",
              "      fill: #174EA6;\n",
              "    }\n",
              "\n",
              "    .colab-df-buttons div {\n",
              "      margin-bottom: 4px;\n",
              "    }\n",
              "\n",
              "    [theme=dark] .colab-df-convert {\n",
              "      background-color: #3B4455;\n",
              "      fill: #D2E3FC;\n",
              "    }\n",
              "\n",
              "    [theme=dark] .colab-df-convert:hover {\n",
              "      background-color: #434B5C;\n",
              "      box-shadow: 0px 1px 3px 1px rgba(0, 0, 0, 0.15);\n",
              "      filter: drop-shadow(0px 1px 2px rgba(0, 0, 0, 0.3));\n",
              "      fill: #FFFFFF;\n",
              "    }\n",
              "  </style>\n",
              "\n",
              "    <script>\n",
              "      const buttonEl =\n",
              "        document.querySelector('#df-cb304063-e26f-43f8-b025-18610400741b button.colab-df-convert');\n",
              "      buttonEl.style.display =\n",
              "        google.colab.kernel.accessAllowed ? 'block' : 'none';\n",
              "\n",
              "      async function convertToInteractive(key) {\n",
              "        const element = document.querySelector('#df-cb304063-e26f-43f8-b025-18610400741b');\n",
              "        const dataTable =\n",
              "          await google.colab.kernel.invokeFunction('convertToInteractive',\n",
              "                                                    [key], {});\n",
              "        if (!dataTable) return;\n",
              "\n",
              "        const docLinkHtml = 'Like what you see? Visit the ' +\n",
              "          '<a target=\"_blank\" href=https://colab.research.google.com/notebooks/data_table.ipynb>data table notebook</a>'\n",
              "          + ' to learn more about interactive tables.';\n",
              "        element.innerHTML = '';\n",
              "        dataTable['output_type'] = 'display_data';\n",
              "        await google.colab.output.renderOutput(dataTable, element);\n",
              "        const docLink = document.createElement('div');\n",
              "        docLink.innerHTML = docLinkHtml;\n",
              "        element.appendChild(docLink);\n",
              "      }\n",
              "    </script>\n",
              "  </div>\n",
              "\n",
              "\n",
              "<div id=\"df-a50157a6-ab21-4b48-8e89-b2201dcf326e\">\n",
              "  <button class=\"colab-df-quickchart\" onclick=\"quickchart('df-a50157a6-ab21-4b48-8e89-b2201dcf326e')\"\n",
              "            title=\"Suggest charts\"\n",
              "            style=\"display:none;\">\n",
              "\n",
              "<svg xmlns=\"http://www.w3.org/2000/svg\" height=\"24px\"viewBox=\"0 0 24 24\"\n",
              "     width=\"24px\">\n",
              "    <g>\n",
              "        <path d=\"M19 3H5c-1.1 0-2 .9-2 2v14c0 1.1.9 2 2 2h14c1.1 0 2-.9 2-2V5c0-1.1-.9-2-2-2zM9 17H7v-7h2v7zm4 0h-2V7h2v10zm4 0h-2v-4h2v4z\"/>\n",
              "    </g>\n",
              "</svg>\n",
              "  </button>\n",
              "\n",
              "<style>\n",
              "  .colab-df-quickchart {\n",
              "      --bg-color: #E8F0FE;\n",
              "      --fill-color: #1967D2;\n",
              "      --hover-bg-color: #E2EBFA;\n",
              "      --hover-fill-color: #174EA6;\n",
              "      --disabled-fill-color: #AAA;\n",
              "      --disabled-bg-color: #DDD;\n",
              "  }\n",
              "\n",
              "  [theme=dark] .colab-df-quickchart {\n",
              "      --bg-color: #3B4455;\n",
              "      --fill-color: #D2E3FC;\n",
              "      --hover-bg-color: #434B5C;\n",
              "      --hover-fill-color: #FFFFFF;\n",
              "      --disabled-bg-color: #3B4455;\n",
              "      --disabled-fill-color: #666;\n",
              "  }\n",
              "\n",
              "  .colab-df-quickchart {\n",
              "    background-color: var(--bg-color);\n",
              "    border: none;\n",
              "    border-radius: 50%;\n",
              "    cursor: pointer;\n",
              "    display: none;\n",
              "    fill: var(--fill-color);\n",
              "    height: 32px;\n",
              "    padding: 0;\n",
              "    width: 32px;\n",
              "  }\n",
              "\n",
              "  .colab-df-quickchart:hover {\n",
              "    background-color: var(--hover-bg-color);\n",
              "    box-shadow: 0 1px 2px rgba(60, 64, 67, 0.3), 0 1px 3px 1px rgba(60, 64, 67, 0.15);\n",
              "    fill: var(--button-hover-fill-color);\n",
              "  }\n",
              "\n",
              "  .colab-df-quickchart-complete:disabled,\n",
              "  .colab-df-quickchart-complete:disabled:hover {\n",
              "    background-color: var(--disabled-bg-color);\n",
              "    fill: var(--disabled-fill-color);\n",
              "    box-shadow: none;\n",
              "  }\n",
              "\n",
              "  .colab-df-spinner {\n",
              "    border: 2px solid var(--fill-color);\n",
              "    border-color: transparent;\n",
              "    border-bottom-color: var(--fill-color);\n",
              "    animation:\n",
              "      spin 1s steps(1) infinite;\n",
              "  }\n",
              "\n",
              "  @keyframes spin {\n",
              "    0% {\n",
              "      border-color: transparent;\n",
              "      border-bottom-color: var(--fill-color);\n",
              "      border-left-color: var(--fill-color);\n",
              "    }\n",
              "    20% {\n",
              "      border-color: transparent;\n",
              "      border-left-color: var(--fill-color);\n",
              "      border-top-color: var(--fill-color);\n",
              "    }\n",
              "    30% {\n",
              "      border-color: transparent;\n",
              "      border-left-color: var(--fill-color);\n",
              "      border-top-color: var(--fill-color);\n",
              "      border-right-color: var(--fill-color);\n",
              "    }\n",
              "    40% {\n",
              "      border-color: transparent;\n",
              "      border-right-color: var(--fill-color);\n",
              "      border-top-color: var(--fill-color);\n",
              "    }\n",
              "    60% {\n",
              "      border-color: transparent;\n",
              "      border-right-color: var(--fill-color);\n",
              "    }\n",
              "    80% {\n",
              "      border-color: transparent;\n",
              "      border-right-color: var(--fill-color);\n",
              "      border-bottom-color: var(--fill-color);\n",
              "    }\n",
              "    90% {\n",
              "      border-color: transparent;\n",
              "      border-bottom-color: var(--fill-color);\n",
              "    }\n",
              "  }\n",
              "</style>\n",
              "\n",
              "  <script>\n",
              "    async function quickchart(key) {\n",
              "      const quickchartButtonEl =\n",
              "        document.querySelector('#' + key + ' button');\n",
              "      quickchartButtonEl.disabled = true;  // To prevent multiple clicks.\n",
              "      quickchartButtonEl.classList.add('colab-df-spinner');\n",
              "      try {\n",
              "        const charts = await google.colab.kernel.invokeFunction(\n",
              "            'suggestCharts', [key], {});\n",
              "      } catch (error) {\n",
              "        console.error('Error during call to suggestCharts:', error);\n",
              "      }\n",
              "      quickchartButtonEl.classList.remove('colab-df-spinner');\n",
              "      quickchartButtonEl.classList.add('colab-df-quickchart-complete');\n",
              "    }\n",
              "    (() => {\n",
              "      let quickchartButtonEl =\n",
              "        document.querySelector('#df-a50157a6-ab21-4b48-8e89-b2201dcf326e button');\n",
              "      quickchartButtonEl.style.display =\n",
              "        google.colab.kernel.accessAllowed ? 'block' : 'none';\n",
              "    })();\n",
              "  </script>\n",
              "</div>\n",
              "\n",
              "    </div>\n",
              "  </div>\n"
            ],
            "application/vnd.google.colaboratory.intrinsic+json": {
              "type": "dataframe",
              "summary": "{\n  \"name\": \"pd\",\n  \"rows\": 5,\n  \"fields\": [\n    {\n      \"column\": \"song_id\",\n      \"properties\": {\n        \"dtype\": \"number\",\n        \"std\": 2386,\n        \"min\": 1767,\n        \"max\": 7921,\n        \"num_unique_values\": 5,\n        \"samples\": [\n          7921,\n          5417,\n          1767\n        ],\n        \"semantic_type\": \"\",\n        \"description\": \"\"\n      }\n    },\n    {\n      \"column\": \"predicted_ratings\",\n      \"properties\": {\n        \"dtype\": \"number\",\n        \"std\": 0.04908906409100509,\n        \"min\": 1.5388658162433617,\n        \"max\": 1.6500104288622537,\n        \"num_unique_values\": 5,\n        \"samples\": [\n          1.5423487740210162,\n          1.5388658162433617,\n          1.5406750151127577\n        ],\n        \"semantic_type\": \"\",\n        \"description\": \"\"\n      }\n    }\n  ]\n}"
            }
          },
          "metadata": {},
          "execution_count": 64
        }
      ],
      "source": [
        "# Create a DataFrame from the recommendations with columns 'song_id' and 'predicted_ratings'\n",
        "pd.DataFrame(recommendations, columns=['song_id', 'predicted_ratings'])"
      ]
    },
    {
      "cell_type": "markdown",
      "source": [
        "\n",
        "\n",
        "---\n",
        "\n",
        "\n",
        "**Correcting the play_counts and Ranking the above songs**"
      ],
      "metadata": {
        "id": "aTQrC-B4ThQy"
      }
    },
    {
      "cell_type": "code",
      "execution_count": null,
      "metadata": {
        "id": "7gewfmTATsnv",
        "colab": {
          "base_uri": "https://localhost:8080/",
          "height": 204
        },
        "outputId": "f9063d32-8237-4773-e2ec-bd36565e0a19"
      },
      "outputs": [
        {
          "output_type": "execute_result",
          "data": {
            "text/plain": [
              "   song_id  play_freq  predicted_ratings  corrected_ratings\n",
              "0     2842        232           1.650010           1.584357\n",
              "1     7921        220           1.542349           1.474929\n",
              "2     5417        135           1.538866           1.452800\n",
              "3     4631        120           1.539257           1.447970\n",
              "4     1767        112           1.540675           1.446184"
            ],
            "text/html": [
              "\n",
              "  <div id=\"df-05cd2442-33c5-4e47-b16d-7f9bde36c57f\" class=\"colab-df-container\">\n",
              "    <div>\n",
              "<style scoped>\n",
              "    .dataframe tbody tr th:only-of-type {\n",
              "        vertical-align: middle;\n",
              "    }\n",
              "\n",
              "    .dataframe tbody tr th {\n",
              "        vertical-align: top;\n",
              "    }\n",
              "\n",
              "    .dataframe thead th {\n",
              "        text-align: right;\n",
              "    }\n",
              "</style>\n",
              "<table border=\"1\" class=\"dataframe\">\n",
              "  <thead>\n",
              "    <tr style=\"text-align: right;\">\n",
              "      <th></th>\n",
              "      <th>song_id</th>\n",
              "      <th>play_freq</th>\n",
              "      <th>predicted_ratings</th>\n",
              "      <th>corrected_ratings</th>\n",
              "    </tr>\n",
              "  </thead>\n",
              "  <tbody>\n",
              "    <tr>\n",
              "      <th>0</th>\n",
              "      <td>2842</td>\n",
              "      <td>232</td>\n",
              "      <td>1.650010</td>\n",
              "      <td>1.584357</td>\n",
              "    </tr>\n",
              "    <tr>\n",
              "      <th>1</th>\n",
              "      <td>7921</td>\n",
              "      <td>220</td>\n",
              "      <td>1.542349</td>\n",
              "      <td>1.474929</td>\n",
              "    </tr>\n",
              "    <tr>\n",
              "      <th>2</th>\n",
              "      <td>5417</td>\n",
              "      <td>135</td>\n",
              "      <td>1.538866</td>\n",
              "      <td>1.452800</td>\n",
              "    </tr>\n",
              "    <tr>\n",
              "      <th>3</th>\n",
              "      <td>4631</td>\n",
              "      <td>120</td>\n",
              "      <td>1.539257</td>\n",
              "      <td>1.447970</td>\n",
              "    </tr>\n",
              "    <tr>\n",
              "      <th>4</th>\n",
              "      <td>1767</td>\n",
              "      <td>112</td>\n",
              "      <td>1.540675</td>\n",
              "      <td>1.446184</td>\n",
              "    </tr>\n",
              "  </tbody>\n",
              "</table>\n",
              "</div>\n",
              "    <div class=\"colab-df-buttons\">\n",
              "\n",
              "  <div class=\"colab-df-container\">\n",
              "    <button class=\"colab-df-convert\" onclick=\"convertToInteractive('df-05cd2442-33c5-4e47-b16d-7f9bde36c57f')\"\n",
              "            title=\"Convert this dataframe to an interactive table.\"\n",
              "            style=\"display:none;\">\n",
              "\n",
              "  <svg xmlns=\"http://www.w3.org/2000/svg\" height=\"24px\" viewBox=\"0 -960 960 960\">\n",
              "    <path d=\"M120-120v-720h720v720H120Zm60-500h600v-160H180v160Zm220 220h160v-160H400v160Zm0 220h160v-160H400v160ZM180-400h160v-160H180v160Zm440 0h160v-160H620v160ZM180-180h160v-160H180v160Zm440 0h160v-160H620v160Z\"/>\n",
              "  </svg>\n",
              "    </button>\n",
              "\n",
              "  <style>\n",
              "    .colab-df-container {\n",
              "      display:flex;\n",
              "      gap: 12px;\n",
              "    }\n",
              "\n",
              "    .colab-df-convert {\n",
              "      background-color: #E8F0FE;\n",
              "      border: none;\n",
              "      border-radius: 50%;\n",
              "      cursor: pointer;\n",
              "      display: none;\n",
              "      fill: #1967D2;\n",
              "      height: 32px;\n",
              "      padding: 0 0 0 0;\n",
              "      width: 32px;\n",
              "    }\n",
              "\n",
              "    .colab-df-convert:hover {\n",
              "      background-color: #E2EBFA;\n",
              "      box-shadow: 0px 1px 2px rgba(60, 64, 67, 0.3), 0px 1px 3px 1px rgba(60, 64, 67, 0.15);\n",
              "      fill: #174EA6;\n",
              "    }\n",
              "\n",
              "    .colab-df-buttons div {\n",
              "      margin-bottom: 4px;\n",
              "    }\n",
              "\n",
              "    [theme=dark] .colab-df-convert {\n",
              "      background-color: #3B4455;\n",
              "      fill: #D2E3FC;\n",
              "    }\n",
              "\n",
              "    [theme=dark] .colab-df-convert:hover {\n",
              "      background-color: #434B5C;\n",
              "      box-shadow: 0px 1px 3px 1px rgba(0, 0, 0, 0.15);\n",
              "      filter: drop-shadow(0px 1px 2px rgba(0, 0, 0, 0.3));\n",
              "      fill: #FFFFFF;\n",
              "    }\n",
              "  </style>\n",
              "\n",
              "    <script>\n",
              "      const buttonEl =\n",
              "        document.querySelector('#df-05cd2442-33c5-4e47-b16d-7f9bde36c57f button.colab-df-convert');\n",
              "      buttonEl.style.display =\n",
              "        google.colab.kernel.accessAllowed ? 'block' : 'none';\n",
              "\n",
              "      async function convertToInteractive(key) {\n",
              "        const element = document.querySelector('#df-05cd2442-33c5-4e47-b16d-7f9bde36c57f');\n",
              "        const dataTable =\n",
              "          await google.colab.kernel.invokeFunction('convertToInteractive',\n",
              "                                                    [key], {});\n",
              "        if (!dataTable) return;\n",
              "\n",
              "        const docLinkHtml = 'Like what you see? Visit the ' +\n",
              "          '<a target=\"_blank\" href=https://colab.research.google.com/notebooks/data_table.ipynb>data table notebook</a>'\n",
              "          + ' to learn more about interactive tables.';\n",
              "        element.innerHTML = '';\n",
              "        dataTable['output_type'] = 'display_data';\n",
              "        await google.colab.output.renderOutput(dataTable, element);\n",
              "        const docLink = document.createElement('div');\n",
              "        docLink.innerHTML = docLinkHtml;\n",
              "        element.appendChild(docLink);\n",
              "      }\n",
              "    </script>\n",
              "  </div>\n",
              "\n",
              "\n",
              "<div id=\"df-0a96bf43-5ae3-4289-84e9-d602e2d9577e\">\n",
              "  <button class=\"colab-df-quickchart\" onclick=\"quickchart('df-0a96bf43-5ae3-4289-84e9-d602e2d9577e')\"\n",
              "            title=\"Suggest charts\"\n",
              "            style=\"display:none;\">\n",
              "\n",
              "<svg xmlns=\"http://www.w3.org/2000/svg\" height=\"24px\"viewBox=\"0 0 24 24\"\n",
              "     width=\"24px\">\n",
              "    <g>\n",
              "        <path d=\"M19 3H5c-1.1 0-2 .9-2 2v14c0 1.1.9 2 2 2h14c1.1 0 2-.9 2-2V5c0-1.1-.9-2-2-2zM9 17H7v-7h2v7zm4 0h-2V7h2v10zm4 0h-2v-4h2v4z\"/>\n",
              "    </g>\n",
              "</svg>\n",
              "  </button>\n",
              "\n",
              "<style>\n",
              "  .colab-df-quickchart {\n",
              "      --bg-color: #E8F0FE;\n",
              "      --fill-color: #1967D2;\n",
              "      --hover-bg-color: #E2EBFA;\n",
              "      --hover-fill-color: #174EA6;\n",
              "      --disabled-fill-color: #AAA;\n",
              "      --disabled-bg-color: #DDD;\n",
              "  }\n",
              "\n",
              "  [theme=dark] .colab-df-quickchart {\n",
              "      --bg-color: #3B4455;\n",
              "      --fill-color: #D2E3FC;\n",
              "      --hover-bg-color: #434B5C;\n",
              "      --hover-fill-color: #FFFFFF;\n",
              "      --disabled-bg-color: #3B4455;\n",
              "      --disabled-fill-color: #666;\n",
              "  }\n",
              "\n",
              "  .colab-df-quickchart {\n",
              "    background-color: var(--bg-color);\n",
              "    border: none;\n",
              "    border-radius: 50%;\n",
              "    cursor: pointer;\n",
              "    display: none;\n",
              "    fill: var(--fill-color);\n",
              "    height: 32px;\n",
              "    padding: 0;\n",
              "    width: 32px;\n",
              "  }\n",
              "\n",
              "  .colab-df-quickchart:hover {\n",
              "    background-color: var(--hover-bg-color);\n",
              "    box-shadow: 0 1px 2px rgba(60, 64, 67, 0.3), 0 1px 3px 1px rgba(60, 64, 67, 0.15);\n",
              "    fill: var(--button-hover-fill-color);\n",
              "  }\n",
              "\n",
              "  .colab-df-quickchart-complete:disabled,\n",
              "  .colab-df-quickchart-complete:disabled:hover {\n",
              "    background-color: var(--disabled-bg-color);\n",
              "    fill: var(--disabled-fill-color);\n",
              "    box-shadow: none;\n",
              "  }\n",
              "\n",
              "  .colab-df-spinner {\n",
              "    border: 2px solid var(--fill-color);\n",
              "    border-color: transparent;\n",
              "    border-bottom-color: var(--fill-color);\n",
              "    animation:\n",
              "      spin 1s steps(1) infinite;\n",
              "  }\n",
              "\n",
              "  @keyframes spin {\n",
              "    0% {\n",
              "      border-color: transparent;\n",
              "      border-bottom-color: var(--fill-color);\n",
              "      border-left-color: var(--fill-color);\n",
              "    }\n",
              "    20% {\n",
              "      border-color: transparent;\n",
              "      border-left-color: var(--fill-color);\n",
              "      border-top-color: var(--fill-color);\n",
              "    }\n",
              "    30% {\n",
              "      border-color: transparent;\n",
              "      border-left-color: var(--fill-color);\n",
              "      border-top-color: var(--fill-color);\n",
              "      border-right-color: var(--fill-color);\n",
              "    }\n",
              "    40% {\n",
              "      border-color: transparent;\n",
              "      border-right-color: var(--fill-color);\n",
              "      border-top-color: var(--fill-color);\n",
              "    }\n",
              "    60% {\n",
              "      border-color: transparent;\n",
              "      border-right-color: var(--fill-color);\n",
              "    }\n",
              "    80% {\n",
              "      border-color: transparent;\n",
              "      border-right-color: var(--fill-color);\n",
              "      border-bottom-color: var(--fill-color);\n",
              "    }\n",
              "    90% {\n",
              "      border-color: transparent;\n",
              "      border-bottom-color: var(--fill-color);\n",
              "    }\n",
              "  }\n",
              "</style>\n",
              "\n",
              "  <script>\n",
              "    async function quickchart(key) {\n",
              "      const quickchartButtonEl =\n",
              "        document.querySelector('#' + key + ' button');\n",
              "      quickchartButtonEl.disabled = true;  // To prevent multiple clicks.\n",
              "      quickchartButtonEl.classList.add('colab-df-spinner');\n",
              "      try {\n",
              "        const charts = await google.colab.kernel.invokeFunction(\n",
              "            'suggestCharts', [key], {});\n",
              "      } catch (error) {\n",
              "        console.error('Error during call to suggestCharts:', error);\n",
              "      }\n",
              "      quickchartButtonEl.classList.remove('colab-df-spinner');\n",
              "      quickchartButtonEl.classList.add('colab-df-quickchart-complete');\n",
              "    }\n",
              "    (() => {\n",
              "      let quickchartButtonEl =\n",
              "        document.querySelector('#df-0a96bf43-5ae3-4289-84e9-d602e2d9577e button');\n",
              "      quickchartButtonEl.style.display =\n",
              "        google.colab.kernel.accessAllowed ? 'block' : 'none';\n",
              "    })();\n",
              "  </script>\n",
              "</div>\n",
              "\n",
              "    </div>\n",
              "  </div>\n"
            ],
            "application/vnd.google.colaboratory.intrinsic+json": {
              "type": "dataframe",
              "summary": "{\n  \"name\": \"ranking_songs(recommendations, final_play)\",\n  \"rows\": 5,\n  \"fields\": [\n    {\n      \"column\": \"song_id\",\n      \"properties\": {\n        \"dtype\": \"number\",\n        \"std\": 2386,\n        \"min\": 1767,\n        \"max\": 7921,\n        \"num_unique_values\": 5,\n        \"samples\": [\n          7921,\n          1767,\n          5417\n        ],\n        \"semantic_type\": \"\",\n        \"description\": \"\"\n      }\n    },\n    {\n      \"column\": \"play_freq\",\n      \"properties\": {\n        \"dtype\": \"number\",\n        \"std\": 57,\n        \"min\": 112,\n        \"max\": 232,\n        \"num_unique_values\": 5,\n        \"samples\": [\n          220,\n          112,\n          135\n        ],\n        \"semantic_type\": \"\",\n        \"description\": \"\"\n      }\n    },\n    {\n      \"column\": \"predicted_ratings\",\n      \"properties\": {\n        \"dtype\": \"number\",\n        \"std\": 0.04908906409100509,\n        \"min\": 1.5388658162433617,\n        \"max\": 1.6500104288622537,\n        \"num_unique_values\": 5,\n        \"samples\": [\n          1.5423487740210162,\n          1.5406750151127577,\n          1.5388658162433617\n        ],\n        \"semantic_type\": \"\",\n        \"description\": \"\"\n      }\n    },\n    {\n      \"column\": \"corrected_ratings\",\n      \"properties\": {\n        \"dtype\": \"number\",\n        \"std\": 0.05877436804272924,\n        \"min\": 1.446183896860451,\n        \"max\": 1.5843572124323924,\n        \"num_unique_values\": 5,\n        \"samples\": [\n          1.474928787774692,\n          1.446183896860451,\n          1.4527995196609746\n        ],\n        \"semantic_type\": \"\",\n        \"description\": \"\"\n      }\n    }\n  ]\n}"
            }
          },
          "metadata": {},
          "execution_count": 65
        }
      ],
      "source": [
        "# Rank the songs in recommendations based on the play count and frequency in final_play DataFrame\n",
        "ranking_songs(recommendations, final_play)"
      ]
    },
    {
      "cell_type": "markdown",
      "metadata": {
        "id": "Ore9XTFgv5Np"
      },
      "source": [
        "**Observations and Insights:**\n",
        "\n",
        "The ranking_songs function refines initial recommendations by adjusting predicted ratings based on song play frequency. This provides a nuanced ranking that prioritizes songs both predicted to be liked by the user and frequently played by others. The final ranking balances personal predictions and general popularity."
      ]
    },
    {
      "cell_type": "markdown",
      "metadata": {
        "id": "rKgJpSA9vOOL"
      },
      "source": [
        "#### **Model Based Collaborative Filtering - Matrix Factorization**"
      ]
    },
    {
      "cell_type": "markdown",
      "metadata": {
        "id": "hJynidJCw-ti"
      },
      "source": [
        "Matrix Factorization decomposes the user-item interaction matrix into lower-dimensional matrices, capturing latent factors that explain observed interactions. A technique like Singular Value Decomposition (SVD) is commonly used to uncover hidden patterns and improve recommendation quality."
      ]
    },
    {
      "cell_type": "code",
      "execution_count": null,
      "metadata": {
        "id": "07-2PT5Ssjqm",
        "colab": {
          "base_uri": "https://localhost:8080/"
        },
        "outputId": "dc2ce021-bf65-4013-8a1f-ca3c898184c8"
      },
      "outputs": [
        {
          "output_type": "stream",
          "name": "stdout",
          "text": [
            "RMSE: 1.0252\n",
            "Precision:  0.41\n",
            "Recall:  0.633\n",
            "F_1 score:  0.498\n"
          ]
        }
      ],
      "source": [
        "# Build a baseline recommendation model using SVD (Singular Value Decomposition)\n",
        "svd = SVD(random_state=1)\n",
        "\n",
        "# Training the algorithm on the trainset\n",
        "svd.fit(trainset)\n",
        "\n",
        "# Use the function precision_recall_at_k to compute precision@k, recall@k, F1-Score, and RMSE\n",
        "precision_recall_at_k(svd)"
      ]
    },
    {
      "cell_type": "markdown",
      "source": [
        "**Observations and Insights:**\n",
        "\n",
        "1.\tRMSE (1.0252): Indicates good predictive accuracy, with slight room for improvement.\n",
        "2.\tPrecision (0.41): Shows that 41% of the recommendations were relevant, demonstrating a nearly good accuracy.\n",
        "3.\tRecall (0.633): Demonstrates that the model successfully identified 63.3% of the songs users played, indicating good coverage of relevant items.\n",
        "4.\tF1 Score (0.498): Provides a balanced measure of precision and recall, indicating a nearly good overall effectiveness.\n",
        "\n",
        "Overall, the model performs adequately but has significant potential for enhancement."
      ],
      "metadata": {
        "id": "lZltGY-Wi0mN"
      }
    },
    {
      "cell_type": "markdown",
      "metadata": {
        "id": "jBGPTWJE_Ily"
      },
      "source": [
        "\n",
        "\n",
        "---\n",
        "\n",
        "\n",
        "**Predicting play_counts for a user with user id=6958 and song id=1671 as shown below.**"
      ]
    },
    {
      "cell_type": "code",
      "execution_count": null,
      "metadata": {
        "id": "yWIhfdxXsjqm",
        "colab": {
          "base_uri": "https://localhost:8080/"
        },
        "outputId": "8a5cfbc6-e002-42a1-ff7d-58e16337fb7f"
      },
      "outputs": [
        {
          "output_type": "stream",
          "name": "stdout",
          "text": [
            "user: 6958       item: 1671       r_ui = 2.00   est = 1.27   {'was_impossible': False}\n",
            "Predicted Rating for user '6958' and product '1671': 1.267473397214638\n"
          ]
        }
      ],
      "source": [
        "# Predicting play_count for a sample user with a listened song\n",
        "predict = svd.predict(6958, 1671, r_ui=2, verbose=True)\n",
        "\n",
        "# Print the prediction\n",
        "print(f\"Predicted Rating for user '6958' and product '1671': {predict.est}\") # Use user id 6958 and song_id 1671"
      ]
    },
    {
      "cell_type": "markdown",
      "metadata": {
        "id": "FwEHgRJk_JzZ"
      },
      "source": [
        "**Predicting play_counts for a user with user id=6958 and song id=3232 as shown below.**"
      ]
    },
    {
      "cell_type": "code",
      "execution_count": null,
      "metadata": {
        "id": "APm-uMSvcAMf",
        "colab": {
          "base_uri": "https://localhost:8080/"
        },
        "outputId": "88679caf-ffbd-4c61-8889-94e548eba1b0"
      },
      "outputs": [
        {
          "output_type": "stream",
          "name": "stdout",
          "text": [
            "user: 6958       item: 3232       r_ui = None   est = 1.56   {'was_impossible': False}\n",
            "Predicted Rating for user '6958' and song '3232': 1.5561675084403663\n"
          ]
        }
      ],
      "source": [
        "# Predicting play_count for a sample user with a song not-listened by the user\n",
        "predict = svd.predict(6958, 3232, verbose=True)\n",
        "\n",
        "# Print the prediction\n",
        "print(f\"Predicted Rating for user '6958' and song '3232': {predict.est}\") # Use user_id 6958 and song_id 3232"
      ]
    },
    {
      "cell_type": "markdown",
      "source": [
        "**Observations and Insights:**\n",
        "\n",
        "1.\tPrediction for User 6958 and Song 1671:\n",
        " - Actual Rating (r_ui): The user has previously rated this song with a score of 2.00.\n",
        " - Predicted Rating (est): The SVD model predicts the rating for this song as approximately 1.27.\n",
        " - Prediction Details: The prediction was feasible ('was_impossible': False).\n",
        "\n",
        "2.\tPrediction for User 6958 and Song 3232:\n",
        " - Actual Rating (r_ui): The user has not previously rated this song (indicated by r_ui = None).\n",
        " - Predicted Rating (est): The SVD model predicts the rating for this song as approximately 1.56.\n",
        " - Prediction Details: The prediction was feasible ('was_impossible': False).\n",
        "\n",
        "The recommendation system was able to successfully predict ratings for both a previously rated song and a new song for user 6958, demonstrating the system’s ability to provide estimates for both familiar and unfamiliar items."
      ],
      "metadata": {
        "id": "mAvkda5xjcIa"
      }
    },
    {
      "cell_type": "markdown",
      "metadata": {
        "id": "23tnRUJJxWTR"
      },
      "source": [
        "#### **Hyperparameter Tuning the Model**"
      ]
    },
    {
      "cell_type": "code",
      "execution_count": null,
      "metadata": {
        "id": "ZT477qVTx9dI",
        "colab": {
          "base_uri": "https://localhost:8080/"
        },
        "outputId": "52d98d52-c613-4ea6-8eb5-93df86e9e59c"
      },
      "outputs": [
        {
          "output_type": "stream",
          "name": "stdout",
          "text": [
            "Best RMSE Score: 1.012833657068345\n",
            "Best Hyperparameters:\n",
            "n_epochs: 30\n",
            "lr_all: 0.01\n",
            "reg_all: 0.2\n"
          ]
        }
      ],
      "source": [
        "# Define the parameter grid for hyperparameter tuning\n",
        "param_grid = {\n",
        "              'n_epochs': [10, 20, 30],       # Number of iterations of the SGD algorithm\n",
        "              'lr_all': [0.001, 0.005, 0.01], # Learning rate for all parameters\n",
        "              'reg_all': [0.2, 0.4, 0.6]      # Regularization term for all parameters\n",
        "}\n",
        "\n",
        "# Set up GridSearchCV for hyperparameter tuning with 3-fold cross-validation\n",
        "gr_ser = GridSearchCV(SVD, param_grid, measures=['rmse'], cv=3, n_jobs=-1)\n",
        "\n",
        "# Fit the data to find the best hyperparameters\n",
        "gr_ser.fit(user_song_data)\n",
        "\n",
        "# Get the best RMSE score and combination of parameters\n",
        "bestRMSE = gr_ser.best_score['rmse']\n",
        "bestParam = gr_ser.best_params['rmse']\n",
        "\n",
        "# Display the best RMSE score and combination of parameters\n",
        "print(f\"Best RMSE Score: {bestRMSE}\")\n",
        "print(\"Best Hyperparameters:\")\n",
        "for param, value in bestParam.items():\n",
        "    print(f\"{param}: {value}\")"
      ]
    },
    {
      "cell_type": "code",
      "execution_count": null,
      "metadata": {
        "id": "TA_7xe-nnhuu",
        "colab": {
          "base_uri": "https://localhost:8080/"
        },
        "outputId": "4e873dd7-1965-4650-b6d5-51c102500757"
      },
      "outputs": [
        {
          "output_type": "stream",
          "name": "stdout",
          "text": [
            "RMSE: 1.0141\n",
            "Precision:  0.415\n",
            "Recall:  0.635\n",
            "F_1 score:  0.502\n"
          ]
        }
      ],
      "source": [
        "# Building the optimized SVD model using optimal hyperparameters\n",
        "svd_options = {'n_epochs': 30, 'lr_all': 0.01, 'reg_all': 0.2}\n",
        "opt_svd_model = SVD(**svd_options, random_state=1)\n",
        "\n",
        "# Train the algorithm on the trainset\n",
        "opt_svd_model.fit(trainset)\n",
        "\n",
        "# Use the function precision_recall_at_k to compute precision@k, recall@k, F1-Score, and RMSE\n",
        "precision_recall_at_k(opt_svd_model)"
      ]
    },
    {
      "cell_type": "code",
      "execution_count": null,
      "metadata": {
        "id": "Mv_IBtIMABzk",
        "colab": {
          "base_uri": "https://localhost:8080/",
          "height": 452
        },
        "outputId": "4166637a-2d82-4036-97c8-23f554831167"
      },
      "outputs": [
        {
          "output_type": "display_data",
          "data": {
            "text/plain": [
              "<Figure size 640x480 with 1 Axes>"
            ],
            "image/png": "[encoded data removed]"
          },
          "metadata": {}
        }
      ],
      "source": [
        "rmse=1.0141\n",
        "precision=0.415\n",
        "recall=0.635\n",
        "f1=0.502\n",
        "\n",
        "# List of performance metrics to be displayed on the bar chart\n",
        "metrics = ['RMSE', 'Precision', 'Recall', 'F1 Score']\n",
        "\n",
        "# Corresponding values for each metric (e.g., RMSE value, Precision value, etc.)\n",
        "values = [rmse, precision, recall, f1]\n",
        "\n",
        "# Choose a custom cool color palette\n",
        "palette = ListedColormap(['#E6E6FA', '#D8BFD8', '#C4A7E7', '#BCA0DC'])\n",
        "\n",
        "# Create the bar chart using the chosen color palette\n",
        "bars = plt.bar(metrics, values, color=palette(range(len(metrics))))\n",
        "# Adding a title to the bar chart\n",
        "plt.title('Matrix Factorization Model Performance Metrics')\n",
        "\n",
        "# Labeling the y-axis with \"Metric Value\"\n",
        "plt.ylabel('Metric Value')\n",
        "\n",
        "# Adding text labels on each bar with the rounded metric values\n",
        "for bar, value in zip(bars, values):\n",
        "    plt.text(bar.get_x() + bar.get_width() / 2, bar.get_height() / 2, round(value, 3),\n",
        "             ha='center', va='center', color='black')\n",
        "\n",
        "# Displaying the bar chart\n",
        "plt.show()"
      ]
    },
    {
      "cell_type": "markdown",
      "metadata": {
        "id": "l3t5JdBmxz8l"
      },
      "source": [
        "**Observations and Insights:**\n",
        "\n",
        "**Initial Model Performance:**\n",
        "\n",
        "- Evaluation Metrics:\n",
        " - RMSE: 1.0252\n",
        " - Precision: 0.41\n",
        " - Recall: 0.633\n",
        " - F1 Score: 0.498\n",
        "\n",
        "**Post Hyperparameter Tuning Performance:**\n",
        "\n",
        "- Evaluation Metrics:\n",
        " - RMSE: 1.0141\n",
        " - Precision: 0.415\n",
        " - Recall: 0.635\n",
        " - F1 Score: 0.502\n",
        "\n",
        "\n",
        "---\n",
        "\n",
        "\n",
        "**Comparison:**\n",
        "\n",
        "- RMSE: Improved from 1.0252 to 1.0141.\n",
        "- Precision: Increased from 0.41 to 0.415.\n",
        "- Recall: Increased from 0.633 to 0.635.\n",
        "- F1 Score: Increased from 0.498 to 0.502.\n",
        "\n",
        "Hyperparameter tuning led to improvements across all metrics. The RMSE decreased, indicating better predictive accuracy. Precision, recall, and F1 score also improved, reflecting enhanced overall performance and a better balance between precision and recall."
      ]
    },
    {
      "cell_type": "markdown",
      "metadata": {
        "id": "P0qYKYDA_RxZ"
      },
      "source": [
        "\n",
        "\n",
        "---\n",
        "\n",
        "\n",
        "**Predicting play_counts for a user with user id=6958 and song id=1671 as shown below.**"
      ]
    },
    {
      "cell_type": "code",
      "execution_count": null,
      "metadata": {
        "id": "s6C1PAfboM8_",
        "colab": {
          "base_uri": "https://localhost:8080/"
        },
        "outputId": "c0efdb46-1650-4028-e6bd-235443931df1"
      },
      "outputs": [
        {
          "output_type": "stream",
          "name": "stdout",
          "text": [
            "user: 6958       item: 1671       r_ui = 2.00   est = 1.34   {'was_impossible': False}\n",
            "Predicted Rating for user '6958' and product '1671': 1.3432395286125098\n"
          ]
        }
      ],
      "source": [
        "# Predicting play_count for a sample user with a listened song\n",
        "predict = opt_svd_model.predict(6958, 1671, r_ui=2, verbose=True)\n",
        "\n",
        "# Print the prediction\n",
        "print(f\"Predicted Rating for user '6958' and product '1671': {predict.est}\") # Use user id 6958 and song_id 1671"
      ]
    },
    {
      "cell_type": "markdown",
      "metadata": {
        "id": "JPOddxP6_SnA"
      },
      "source": [
        "**Predicting play_counts for a user with user id=6958 and song id=3232 as shown below.**"
      ]
    },
    {
      "cell_type": "code",
      "execution_count": null,
      "metadata": {
        "id": "k1xjn3kOoQyg",
        "colab": {
          "base_uri": "https://localhost:8080/"
        },
        "outputId": "c7ee18bd-142f-4557-9f83-61a2eadc5a5e"
      },
      "outputs": [
        {
          "output_type": "stream",
          "name": "stdout",
          "text": [
            "user: 6958       item: 3232       r_ui = None   est = 1.44   {'was_impossible': False}\n",
            "Predicted Rating for user '6958' and song '3232': 1.4425484461176483\n"
          ]
        }
      ],
      "source": [
        "# Predicting play_count for a sample user with a song not-listened by the user\n",
        "predict = opt_svd_model.predict(6958, 3232, verbose=True)\n",
        "\n",
        "# Print the prediction\n",
        "print(f\"Predicted Rating for user '6958' and song '3232': {predict.est}\") # Use user_id 6958 and song_id 3232"
      ]
    },
    {
      "cell_type": "markdown",
      "metadata": {
        "id": "Qm732Wuvy76R"
      },
      "source": [
        "**Observations and Insights:**\n",
        "\n",
        "1.\tPrediction for User 6958 and Song 1671:\n",
        " - Actual Rating (r_ui): The user has previously rated this song with a score of 2.00.\n",
        " - Predicted Rating (est): The optimized SVD model predicts the rating for this song as approximately 1.34.\n",
        " - Prediction Details: The prediction was feasible ('was_impossible': False).\n",
        "\n",
        "2.\tPrediction for User 6958 and Song 3232:\n",
        " - Actual Rating (r_ui): The user has not previously rated this song (indicated by r_ui = None).\n",
        " - Predicted Rating (est): The optimized SVD model predicts the rating for this song as approximately 1.44.\n",
        " - Prediction Details: The prediction was feasible ('was_impossible': False).\n",
        "\n",
        "\n",
        "---\n",
        "\n",
        "\n",
        "**Comparison:**\n",
        "\n",
        "1.\tListened Song (User 6958, Song 1671):\n",
        " - Initial Model Predicted Rating: 1.27\n",
        " - Post Hyperparameter Tuning Predicted Rating: 1.34\n",
        " - Improvement: The post-tuning predicted rating is closer to the actual rating of 2.00, indicating improved accuracy.\n",
        "\n",
        "2.\tNot-listened Song (User 6958, Song 3232):\n",
        " - Initial Model Predicted Rating: 1.56\n",
        " - Post Hyperparameter Tuning Predicted Rating: 1.44\n",
        " - Difference: The prediction for the not-listened song changed from 1.56 to 1.44, indicating a lower predicted rating post hyperparameter tuning.\n",
        "\n",
        "Hyperparameter tuning improved the accuracy of predictions for the listened song, making it closer to the actual rating. The tuning also resulted in a lower predicted rating for the not-listened song.\n"
      ]
    },
    {
      "cell_type": "markdown",
      "source": [
        "##### **Implementing the recommendation algorithm based on optimized SVD model**"
      ],
      "metadata": {
        "id": "Wl_3cwLXmIn7"
      }
    },
    {
      "cell_type": "code",
      "execution_count": null,
      "metadata": {
        "id": "1LGeE2EB_n90"
      },
      "outputs": [],
      "source": [
        "# Getting top 5 recommendations for user_id 6958 using \"svd_optimized\" algorithm\n",
        "SVDrecommendations = get_recommendations(df_final,6958, 5, opt_svd_model)"
      ]
    },
    {
      "cell_type": "code",
      "execution_count": null,
      "metadata": {
        "id": "fMPuoX4NzNdk",
        "colab": {
          "base_uri": "https://localhost:8080/",
          "height": 204
        },
        "outputId": "f57b69f7-324b-4af3-dbce-07921dcf3266"
      },
      "outputs": [
        {
          "output_type": "execute_result",
          "data": {
            "text/plain": [
              "   song_id  predicted_ratings\n",
              "0     7224           2.601899\n",
              "1     5653           2.108728\n",
              "2     8324           2.014091\n",
              "3     6450           1.952493\n",
              "4     9942           1.940115"
            ],
            "text/html": [
              "\n",
              "  <div id=\"df-9cf56ab9-3f47-4e91-a07e-e93a36cbdf7a\" class=\"colab-df-container\">\n",
              "    <div>\n",
              "<style scoped>\n",
              "    .dataframe tbody tr th:only-of-type {\n",
              "        vertical-align: middle;\n",
              "    }\n",
              "\n",
              "    .dataframe tbody tr th {\n",
              "        vertical-align: top;\n",
              "    }\n",
              "\n",
              "    .dataframe thead th {\n",
              "        text-align: right;\n",
              "    }\n",
              "</style>\n",
              "<table border=\"1\" class=\"dataframe\">\n",
              "  <thead>\n",
              "    <tr style=\"text-align: right;\">\n",
              "      <th></th>\n",
              "      <th>song_id</th>\n",
              "      <th>predicted_ratings</th>\n",
              "    </tr>\n",
              "  </thead>\n",
              "  <tbody>\n",
              "    <tr>\n",
              "      <th>0</th>\n",
              "      <td>7224</td>\n",
              "      <td>2.601899</td>\n",
              "    </tr>\n",
              "    <tr>\n",
              "      <th>1</th>\n",
              "      <td>5653</td>\n",
              "      <td>2.108728</td>\n",
              "    </tr>\n",
              "    <tr>\n",
              "      <th>2</th>\n",
              "      <td>8324</td>\n",
              "      <td>2.014091</td>\n",
              "    </tr>\n",
              "    <tr>\n",
              "      <th>3</th>\n",
              "      <td>6450</td>\n",
              "      <td>1.952493</td>\n",
              "    </tr>\n",
              "    <tr>\n",
              "      <th>4</th>\n",
              "      <td>9942</td>\n",
              "      <td>1.940115</td>\n",
              "    </tr>\n",
              "  </tbody>\n",
              "</table>\n",
              "</div>\n",
              "    <div class=\"colab-df-buttons\">\n",
              "\n",
              "  <div class=\"colab-df-container\">\n",
              "    <button class=\"colab-df-convert\" onclick=\"convertToInteractive('df-9cf56ab9-3f47-4e91-a07e-e93a36cbdf7a')\"\n",
              "            title=\"Convert this dataframe to an interactive table.\"\n",
              "            style=\"display:none;\">\n",
              "\n",
              "  <svg xmlns=\"http://www.w3.org/2000/svg\" height=\"24px\" viewBox=\"0 -960 960 960\">\n",
              "    <path d=\"M120-120v-720h720v720H120Zm60-500h600v-160H180v160Zm220 220h160v-160H400v160Zm0 220h160v-160H400v160ZM180-400h160v-160H180v160Zm440 0h160v-160H620v160ZM180-180h160v-160H180v160Zm440 0h160v-160H620v160Z\"/>\n",
              "  </svg>\n",
              "    </button>\n",
              "\n",
              "  <style>\n",
              "    .colab-df-container {\n",
              "      display:flex;\n",
              "      gap: 12px;\n",
              "    }\n",
              "\n",
              "    .colab-df-convert {\n",
              "      background-color: #E8F0FE;\n",
              "      border: none;\n",
              "      border-radius: 50%;\n",
              "      cursor: pointer;\n",
              "      display: none;\n",
              "      fill: #1967D2;\n",
              "      height: 32px;\n",
              "      padding: 0 0 0 0;\n",
              "      width: 32px;\n",
              "    }\n",
              "\n",
              "    .colab-df-convert:hover {\n",
              "      background-color: #E2EBFA;\n",
              "      box-shadow: 0px 1px 2px rgba(60, 64, 67, 0.3), 0px 1px 3px 1px rgba(60, 64, 67, 0.15);\n",
              "      fill: #174EA6;\n",
              "    }\n",
              "\n",
              "    .colab-df-buttons div {\n",
              "      margin-bottom: 4px;\n",
              "    }\n",
              "\n",
              "    [theme=dark] .colab-df-convert {\n",
              "      background-color: #3B4455;\n",
              "      fill: #D2E3FC;\n",
              "    }\n",
              "\n",
              "    [theme=dark] .colab-df-convert:hover {\n",
              "      background-color: #434B5C;\n",
              "      box-shadow: 0px 1px 3px 1px rgba(0, 0, 0, 0.15);\n",
              "      filter: drop-shadow(0px 1px 2px rgba(0, 0, 0, 0.3));\n",
              "      fill: #FFFFFF;\n",
              "    }\n",
              "  </style>\n",
              "\n",
              "    <script>\n",
              "      const buttonEl =\n",
              "        document.querySelector('#df-9cf56ab9-3f47-4e91-a07e-e93a36cbdf7a button.colab-df-convert');\n",
              "      buttonEl.style.display =\n",
              "        google.colab.kernel.accessAllowed ? 'block' : 'none';\n",
              "\n",
              "      async function convertToInteractive(key) {\n",
              "        const element = document.querySelector('#df-9cf56ab9-3f47-4e91-a07e-e93a36cbdf7a');\n",
              "        const dataTable =\n",
              "          await google.colab.kernel.invokeFunction('convertToInteractive',\n",
              "                                                    [key], {});\n",
              "        if (!dataTable) return;\n",
              "\n",
              "        const docLinkHtml = 'Like what you see? Visit the ' +\n",
              "          '<a target=\"_blank\" href=https://colab.research.google.com/notebooks/data_table.ipynb>data table notebook</a>'\n",
              "          + ' to learn more about interactive tables.';\n",
              "        element.innerHTML = '';\n",
              "        dataTable['output_type'] = 'display_data';\n",
              "        await google.colab.output.renderOutput(dataTable, element);\n",
              "        const docLink = document.createElement('div');\n",
              "        docLink.innerHTML = docLinkHtml;\n",
              "        element.appendChild(docLink);\n",
              "      }\n",
              "    </script>\n",
              "  </div>\n",
              "\n",
              "\n",
              "<div id=\"df-ba5d3b03-b7bc-4866-88f0-0b029893b66c\">\n",
              "  <button class=\"colab-df-quickchart\" onclick=\"quickchart('df-ba5d3b03-b7bc-4866-88f0-0b029893b66c')\"\n",
              "            title=\"Suggest charts\"\n",
              "            style=\"display:none;\">\n",
              "\n",
              "<svg xmlns=\"http://www.w3.org/2000/svg\" height=\"24px\"viewBox=\"0 0 24 24\"\n",
              "     width=\"24px\">\n",
              "    <g>\n",
              "        <path d=\"M19 3H5c-1.1 0-2 .9-2 2v14c0 1.1.9 2 2 2h14c1.1 0 2-.9 2-2V5c0-1.1-.9-2-2-2zM9 17H7v-7h2v7zm4 0h-2V7h2v10zm4 0h-2v-4h2v4z\"/>\n",
              "    </g>\n",
              "</svg>\n",
              "  </button>\n",
              "\n",
              "<style>\n",
              "  .colab-df-quickchart {\n",
              "      --bg-color: #E8F0FE;\n",
              "      --fill-color: #1967D2;\n",
              "      --hover-bg-color: #E2EBFA;\n",
              "      --hover-fill-color: #174EA6;\n",
              "      --disabled-fill-color: #AAA;\n",
              "      --disabled-bg-color: #DDD;\n",
              "  }\n",
              "\n",
              "  [theme=dark] .colab-df-quickchart {\n",
              "      --bg-color: #3B4455;\n",
              "      --fill-color: #D2E3FC;\n",
              "      --hover-bg-color: #434B5C;\n",
              "      --hover-fill-color: #FFFFFF;\n",
              "      --disabled-bg-color: #3B4455;\n",
              "      --disabled-fill-color: #666;\n",
              "  }\n",
              "\n",
              "  .colab-df-quickchart {\n",
              "    background-color: var(--bg-color);\n",
              "    border: none;\n",
              "    border-radius: 50%;\n",
              "    cursor: pointer;\n",
              "    display: none;\n",
              "    fill: var(--fill-color);\n",
              "    height: 32px;\n",
              "    padding: 0;\n",
              "    width: 32px;\n",
              "  }\n",
              "\n",
              "  .colab-df-quickchart:hover {\n",
              "    background-color: var(--hover-bg-color);\n",
              "    box-shadow: 0 1px 2px rgba(60, 64, 67, 0.3), 0 1px 3px 1px rgba(60, 64, 67, 0.15);\n",
              "    fill: var(--button-hover-fill-color);\n",
              "  }\n",
              "\n",
              "  .colab-df-quickchart-complete:disabled,\n",
              "  .colab-df-quickchart-complete:disabled:hover {\n",
              "    background-color: var(--disabled-bg-color);\n",
              "    fill: var(--disabled-fill-color);\n",
              "    box-shadow: none;\n",
              "  }\n",
              "\n",
              "  .colab-df-spinner {\n",
              "    border: 2px solid var(--fill-color);\n",
              "    border-color: transparent;\n",
              "    border-bottom-color: var(--fill-color);\n",
              "    animation:\n",
              "      spin 1s steps(1) infinite;\n",
              "  }\n",
              "\n",
              "  @keyframes spin {\n",
              "    0% {\n",
              "      border-color: transparent;\n",
              "      border-bottom-color: var(--fill-color);\n",
              "      border-left-color: var(--fill-color);\n",
              "    }\n",
              "    20% {\n",
              "      border-color: transparent;\n",
              "      border-left-color: var(--fill-color);\n",
              "      border-top-color: var(--fill-color);\n",
              "    }\n",
              "    30% {\n",
              "      border-color: transparent;\n",
              "      border-left-color: var(--fill-color);\n",
              "      border-top-color: var(--fill-color);\n",
              "      border-right-color: var(--fill-color);\n",
              "    }\n",
              "    40% {\n",
              "      border-color: transparent;\n",
              "      border-right-color: var(--fill-color);\n",
              "      border-top-color: var(--fill-color);\n",
              "    }\n",
              "    60% {\n",
              "      border-color: transparent;\n",
              "      border-right-color: var(--fill-color);\n",
              "    }\n",
              "    80% {\n",
              "      border-color: transparent;\n",
              "      border-right-color: var(--fill-color);\n",
              "      border-bottom-color: var(--fill-color);\n",
              "    }\n",
              "    90% {\n",
              "      border-color: transparent;\n",
              "      border-bottom-color: var(--fill-color);\n",
              "    }\n",
              "  }\n",
              "</style>\n",
              "\n",
              "  <script>\n",
              "    async function quickchart(key) {\n",
              "      const quickchartButtonEl =\n",
              "        document.querySelector('#' + key + ' button');\n",
              "      quickchartButtonEl.disabled = true;  // To prevent multiple clicks.\n",
              "      quickchartButtonEl.classList.add('colab-df-spinner');\n",
              "      try {\n",
              "        const charts = await google.colab.kernel.invokeFunction(\n",
              "            'suggestCharts', [key], {});\n",
              "      } catch (error) {\n",
              "        console.error('Error during call to suggestCharts:', error);\n",
              "      }\n",
              "      quickchartButtonEl.classList.remove('colab-df-spinner');\n",
              "      quickchartButtonEl.classList.add('colab-df-quickchart-complete');\n",
              "    }\n",
              "    (() => {\n",
              "      let quickchartButtonEl =\n",
              "        document.querySelector('#df-ba5d3b03-b7bc-4866-88f0-0b029893b66c button');\n",
              "      quickchartButtonEl.style.display =\n",
              "        google.colab.kernel.accessAllowed ? 'block' : 'none';\n",
              "    })();\n",
              "  </script>\n",
              "</div>\n",
              "\n",
              "    </div>\n",
              "  </div>\n"
            ],
            "application/vnd.google.colaboratory.intrinsic+json": {
              "type": "dataframe",
              "summary": "{\n  \"name\": \"pd\",\n  \"rows\": 5,\n  \"fields\": [\n    {\n      \"column\": \"song_id\",\n      \"properties\": {\n        \"dtype\": \"number\",\n        \"std\": 1675,\n        \"min\": 5653,\n        \"max\": 9942,\n        \"num_unique_values\": 5,\n        \"samples\": [\n          5653,\n          9942,\n          8324\n        ],\n        \"semantic_type\": \"\",\n        \"description\": \"\"\n      }\n    },\n    {\n      \"column\": \"predicted_ratings\",\n      \"properties\": {\n        \"dtype\": \"number\",\n        \"std\": 0.2756481447211804,\n        \"min\": 1.9401146174388464,\n        \"max\": 2.601898709695318,\n        \"num_unique_values\": 5,\n        \"samples\": [\n          2.108727504933887,\n          1.9401146174388464,\n          2.014091144993034\n        ],\n        \"semantic_type\": \"\",\n        \"description\": \"\"\n      }\n    }\n  ]\n}"
            }
          },
          "metadata": {},
          "execution_count": 75
        }
      ],
      "source": [
        "# Create a DataFrame from the SVD-based recommendations with columns 'song_id' and 'predicted_ratings'\n",
        "pd.DataFrame(SVDrecommendations, columns=['song_id', 'predicted_ratings'])"
      ]
    },
    {
      "cell_type": "markdown",
      "source": [
        "\n",
        "\n",
        "---\n",
        "\n",
        "\n",
        "**Correcting the play_counts and Ranking the above songs**"
      ],
      "metadata": {
        "id": "8x0GlnncS9qu"
      }
    },
    {
      "cell_type": "code",
      "execution_count": null,
      "metadata": {
        "id": "6ngiGSJU818M",
        "colab": {
          "base_uri": "https://localhost:8080/",
          "height": 204
        },
        "outputId": "61c92326-564c-401a-8331-16401cfbf8ac"
      },
      "outputs": [
        {
          "output_type": "execute_result",
          "data": {
            "text/plain": [
              "   song_id  play_freq  predicted_ratings  corrected_ratings\n",
              "2     7224        107           2.601899           2.505225\n",
              "1     5653        108           2.108728           2.012502\n",
              "4     8324         96           2.014091           1.912029\n",
              "0     9942        150           1.940115           1.858465\n",
              "3     6450        102           1.952493           1.853478"
            ],
            "text/html": [
              "\n",
              "  <div id=\"df-e2ee1b06-1435-46fa-bd74-e0bb21bf85a7\" class=\"colab-df-container\">\n",
              "    <div>\n",
              "<style scoped>\n",
              "    .dataframe tbody tr th:only-of-type {\n",
              "        vertical-align: middle;\n",
              "    }\n",
              "\n",
              "    .dataframe tbody tr th {\n",
              "        vertical-align: top;\n",
              "    }\n",
              "\n",
              "    .dataframe thead th {\n",
              "        text-align: right;\n",
              "    }\n",
              "</style>\n",
              "<table border=\"1\" class=\"dataframe\">\n",
              "  <thead>\n",
              "    <tr style=\"text-align: right;\">\n",
              "      <th></th>\n",
              "      <th>song_id</th>\n",
              "      <th>play_freq</th>\n",
              "      <th>predicted_ratings</th>\n",
              "      <th>corrected_ratings</th>\n",
              "    </tr>\n",
              "  </thead>\n",
              "  <tbody>\n",
              "    <tr>\n",
              "      <th>2</th>\n",
              "      <td>7224</td>\n",
              "      <td>107</td>\n",
              "      <td>2.601899</td>\n",
              "      <td>2.505225</td>\n",
              "    </tr>\n",
              "    <tr>\n",
              "      <th>1</th>\n",
              "      <td>5653</td>\n",
              "      <td>108</td>\n",
              "      <td>2.108728</td>\n",
              "      <td>2.012502</td>\n",
              "    </tr>\n",
              "    <tr>\n",
              "      <th>4</th>\n",
              "      <td>8324</td>\n",
              "      <td>96</td>\n",
              "      <td>2.014091</td>\n",
              "      <td>1.912029</td>\n",
              "    </tr>\n",
              "    <tr>\n",
              "      <th>0</th>\n",
              "      <td>9942</td>\n",
              "      <td>150</td>\n",
              "      <td>1.940115</td>\n",
              "      <td>1.858465</td>\n",
              "    </tr>\n",
              "    <tr>\n",
              "      <th>3</th>\n",
              "      <td>6450</td>\n",
              "      <td>102</td>\n",
              "      <td>1.952493</td>\n",
              "      <td>1.853478</td>\n",
              "    </tr>\n",
              "  </tbody>\n",
              "</table>\n",
              "</div>\n",
              "    <div class=\"colab-df-buttons\">\n",
              "\n",
              "  <div class=\"colab-df-container\">\n",
              "    <button class=\"colab-df-convert\" onclick=\"convertToInteractive('df-e2ee1b06-1435-46fa-bd74-e0bb21bf85a7')\"\n",
              "            title=\"Convert this dataframe to an interactive table.\"\n",
              "            style=\"display:none;\">\n",
              "\n",
              "  <svg xmlns=\"http://www.w3.org/2000/svg\" height=\"24px\" viewBox=\"0 -960 960 960\">\n",
              "    <path d=\"M120-120v-720h720v720H120Zm60-500h600v-160H180v160Zm220 220h160v-160H400v160Zm0 220h160v-160H400v160ZM180-400h160v-160H180v160Zm440 0h160v-160H620v160ZM180-180h160v-160H180v160Zm440 0h160v-160H620v160Z\"/>\n",
              "  </svg>\n",
              "    </button>\n",
              "\n",
              "  <style>\n",
              "    .colab-df-container {\n",
              "      display:flex;\n",
              "      gap: 12px;\n",
              "    }\n",
              "\n",
              "    .colab-df-convert {\n",
              "      background-color: #E8F0FE;\n",
              "      border: none;\n",
              "      border-radius: 50%;\n",
              "      cursor: pointer;\n",
              "      display: none;\n",
              "      fill: #1967D2;\n",
              "      height: 32px;\n",
              "      padding: 0 0 0 0;\n",
              "      width: 32px;\n",
              "    }\n",
              "\n",
              "    .colab-df-convert:hover {\n",
              "      background-color: #E2EBFA;\n",
              "      box-shadow: 0px 1px 2px rgba(60, 64, 67, 0.3), 0px 1px 3px 1px rgba(60, 64, 67, 0.15);\n",
              "      fill: #174EA6;\n",
              "    }\n",
              "\n",
              "    .colab-df-buttons div {\n",
              "      margin-bottom: 4px;\n",
              "    }\n",
              "\n",
              "    [theme=dark] .colab-df-convert {\n",
              "      background-color: #3B4455;\n",
              "      fill: #D2E3FC;\n",
              "    }\n",
              "\n",
              "    [theme=dark] .colab-df-convert:hover {\n",
              "      background-color: #434B5C;\n",
              "      box-shadow: 0px 1px 3px 1px rgba(0, 0, 0, 0.15);\n",
              "      filter: drop-shadow(0px 1px 2px rgba(0, 0, 0, 0.3));\n",
              "      fill: #FFFFFF;\n",
              "    }\n",
              "  </style>\n",
              "\n",
              "    <script>\n",
              "      const buttonEl =\n",
              "        document.querySelector('#df-e2ee1b06-1435-46fa-bd74-e0bb21bf85a7 button.colab-df-convert');\n",
              "      buttonEl.style.display =\n",
              "        google.colab.kernel.accessAllowed ? 'block' : 'none';\n",
              "\n",
              "      async function convertToInteractive(key) {\n",
              "        const element = document.querySelector('#df-e2ee1b06-1435-46fa-bd74-e0bb21bf85a7');\n",
              "        const dataTable =\n",
              "          await google.colab.kernel.invokeFunction('convertToInteractive',\n",
              "                                                    [key], {});\n",
              "        if (!dataTable) return;\n",
              "\n",
              "        const docLinkHtml = 'Like what you see? Visit the ' +\n",
              "          '<a target=\"_blank\" href=https://colab.research.google.com/notebooks/data_table.ipynb>data table notebook</a>'\n",
              "          + ' to learn more about interactive tables.';\n",
              "        element.innerHTML = '';\n",
              "        dataTable['output_type'] = 'display_data';\n",
              "        await google.colab.output.renderOutput(dataTable, element);\n",
              "        const docLink = document.createElement('div');\n",
              "        docLink.innerHTML = docLinkHtml;\n",
              "        element.appendChild(docLink);\n",
              "      }\n",
              "    </script>\n",
              "  </div>\n",
              "\n",
              "\n",
              "<div id=\"df-8f983326-0241-4fa2-a6c8-fe968ef8e059\">\n",
              "  <button class=\"colab-df-quickchart\" onclick=\"quickchart('df-8f983326-0241-4fa2-a6c8-fe968ef8e059')\"\n",
              "            title=\"Suggest charts\"\n",
              "            style=\"display:none;\">\n",
              "\n",
              "<svg xmlns=\"http://www.w3.org/2000/svg\" height=\"24px\"viewBox=\"0 0 24 24\"\n",
              "     width=\"24px\">\n",
              "    <g>\n",
              "        <path d=\"M19 3H5c-1.1 0-2 .9-2 2v14c0 1.1.9 2 2 2h14c1.1 0 2-.9 2-2V5c0-1.1-.9-2-2-2zM9 17H7v-7h2v7zm4 0h-2V7h2v10zm4 0h-2v-4h2v4z\"/>\n",
              "    </g>\n",
              "</svg>\n",
              "  </button>\n",
              "\n",
              "<style>\n",
              "  .colab-df-quickchart {\n",
              "      --bg-color: #E8F0FE;\n",
              "      --fill-color: #1967D2;\n",
              "      --hover-bg-color: #E2EBFA;\n",
              "      --hover-fill-color: #174EA6;\n",
              "      --disabled-fill-color: #AAA;\n",
              "      --disabled-bg-color: #DDD;\n",
              "  }\n",
              "\n",
              "  [theme=dark] .colab-df-quickchart {\n",
              "      --bg-color: #3B4455;\n",
              "      --fill-color: #D2E3FC;\n",
              "      --hover-bg-color: #434B5C;\n",
              "      --hover-fill-color: #FFFFFF;\n",
              "      --disabled-bg-color: #3B4455;\n",
              "      --disabled-fill-color: #666;\n",
              "  }\n",
              "\n",
              "  .colab-df-quickchart {\n",
              "    background-color: var(--bg-color);\n",
              "    border: none;\n",
              "    border-radius: 50%;\n",
              "    cursor: pointer;\n",
              "    display: none;\n",
              "    fill: var(--fill-color);\n",
              "    height: 32px;\n",
              "    padding: 0;\n",
              "    width: 32px;\n",
              "  }\n",
              "\n",
              "  .colab-df-quickchart:hover {\n",
              "    background-color: var(--hover-bg-color);\n",
              "    box-shadow: 0 1px 2px rgba(60, 64, 67, 0.3), 0 1px 3px 1px rgba(60, 64, 67, 0.15);\n",
              "    fill: var(--button-hover-fill-color);\n",
              "  }\n",
              "\n",
              "  .colab-df-quickchart-complete:disabled,\n",
              "  .colab-df-quickchart-complete:disabled:hover {\n",
              "    background-color: var(--disabled-bg-color);\n",
              "    fill: var(--disabled-fill-color);\n",
              "    box-shadow: none;\n",
              "  }\n",
              "\n",
              "  .colab-df-spinner {\n",
              "    border: 2px solid var(--fill-color);\n",
              "    border-color: transparent;\n",
              "    border-bottom-color: var(--fill-color);\n",
              "    animation:\n",
              "      spin 1s steps(1) infinite;\n",
              "  }\n",
              "\n",
              "  @keyframes spin {\n",
              "    0% {\n",
              "      border-color: transparent;\n",
              "      border-bottom-color: var(--fill-color);\n",
              "      border-left-color: var(--fill-color);\n",
              "    }\n",
              "    20% {\n",
              "      border-color: transparent;\n",
              "      border-left-color: var(--fill-color);\n",
              "      border-top-color: var(--fill-color);\n",
              "    }\n",
              "    30% {\n",
              "      border-color: transparent;\n",
              "      border-left-color: var(--fill-color);\n",
              "      border-top-color: var(--fill-color);\n",
              "      border-right-color: var(--fill-color);\n",
              "    }\n",
              "    40% {\n",
              "      border-color: transparent;\n",
              "      border-right-color: var(--fill-color);\n",
              "      border-top-color: var(--fill-color);\n",
              "    }\n",
              "    60% {\n",
              "      border-color: transparent;\n",
              "      border-right-color: var(--fill-color);\n",
              "    }\n",
              "    80% {\n",
              "      border-color: transparent;\n",
              "      border-right-color: var(--fill-color);\n",
              "      border-bottom-color: var(--fill-color);\n",
              "    }\n",
              "    90% {\n",
              "      border-color: transparent;\n",
              "      border-bottom-color: var(--fill-color);\n",
              "    }\n",
              "  }\n",
              "</style>\n",
              "\n",
              "  <script>\n",
              "    async function quickchart(key) {\n",
              "      const quickchartButtonEl =\n",
              "        document.querySelector('#' + key + ' button');\n",
              "      quickchartButtonEl.disabled = true;  // To prevent multiple clicks.\n",
              "      quickchartButtonEl.classList.add('colab-df-spinner');\n",
              "      try {\n",
              "        const charts = await google.colab.kernel.invokeFunction(\n",
              "            'suggestCharts', [key], {});\n",
              "      } catch (error) {\n",
              "        console.error('Error during call to suggestCharts:', error);\n",
              "      }\n",
              "      quickchartButtonEl.classList.remove('colab-df-spinner');\n",
              "      quickchartButtonEl.classList.add('colab-df-quickchart-complete');\n",
              "    }\n",
              "    (() => {\n",
              "      let quickchartButtonEl =\n",
              "        document.querySelector('#df-8f983326-0241-4fa2-a6c8-fe968ef8e059 button');\n",
              "      quickchartButtonEl.style.display =\n",
              "        google.colab.kernel.accessAllowed ? 'block' : 'none';\n",
              "    })();\n",
              "  </script>\n",
              "</div>\n",
              "\n",
              "    </div>\n",
              "  </div>\n"
            ],
            "application/vnd.google.colaboratory.intrinsic+json": {
              "type": "dataframe",
              "summary": "{\n  \"name\": \"ranking_songs(SVDrecommendations, final_play)\",\n  \"rows\": 5,\n  \"fields\": [\n    {\n      \"column\": \"song_id\",\n      \"properties\": {\n        \"dtype\": \"number\",\n        \"std\": 1675,\n        \"min\": 5653,\n        \"max\": 9942,\n        \"num_unique_values\": 5,\n        \"samples\": [\n          5653,\n          6450,\n          8324\n        ],\n        \"semantic_type\": \"\",\n        \"description\": \"\"\n      }\n    },\n    {\n      \"column\": \"play_freq\",\n      \"properties\": {\n        \"dtype\": \"number\",\n        \"std\": 21,\n        \"min\": 96,\n        \"max\": 150,\n        \"num_unique_values\": 5,\n        \"samples\": [\n          108,\n          102,\n          96\n        ],\n        \"semantic_type\": \"\",\n        \"description\": \"\"\n      }\n    },\n    {\n      \"column\": \"predicted_ratings\",\n      \"properties\": {\n        \"dtype\": \"number\",\n        \"std\": 0.2756481447211803,\n        \"min\": 1.9401146174388464,\n        \"max\": 2.601898709695318,\n        \"num_unique_values\": 5,\n        \"samples\": [\n          2.108727504933887,\n          1.952492524218337,\n          2.014091144993034\n        ],\n        \"semantic_type\": \"\",\n        \"description\": \"\"\n      }\n    },\n    {\n      \"column\": \"corrected_ratings\",\n      \"properties\": {\n        \"dtype\": \"number\",\n        \"std\": 0.2741499360324433,\n        \"min\": 1.8534777699206697,\n        \"max\": 2.5052250607907514,\n        \"num_unique_values\": 5,\n        \"samples\": [\n          2.0125024600689496,\n          1.8534777699206697,\n          1.9120290723770683\n        ],\n        \"semantic_type\": \"\",\n        \"description\": \"\"\n      }\n    }\n  ]\n}"
            }
          },
          "metadata": {},
          "execution_count": 76
        }
      ],
      "source": [
        "# Ranking songs based on above recommendations\n",
        "ranking_songs(SVDrecommendations, final_play)"
      ]
    },
    {
      "cell_type": "markdown",
      "metadata": {
        "id": "SepUU1Efy_9Z"
      },
      "source": [
        "**Observations and Insights:**\n",
        "\n",
        "The ranking_songs function refines initial recommendations by adjusting predicted ratings based on song play frequency. This provides a nuanced ranking that prioritizes songs both predicted to be liked by the user and frequently played by others. The final ranking balances personal predictions and general popularity."
      ]
    },
    {
      "cell_type": "markdown",
      "metadata": {
        "id": "57b31de5"
      },
      "source": [
        "#### **Cluster Based Recommendation System**"
      ]
    },
    {
      "cell_type": "markdown",
      "metadata": {
        "id": "9Xv2AZCszCdN"
      },
      "source": [
        "Cluster Based Recommendation Systems group users or items into clusters based on similarity. Recommendations are generated by suggesting items popular within the cluster, leveraging group-level patterns to enhance recommendation accuracy."
      ]
    },
    {
      "cell_type": "code",
      "execution_count": null,
      "metadata": {
        "id": "0c4b20e4",
        "colab": {
          "base_uri": "https://localhost:8080/"
        },
        "outputId": "4b30b99c-95cd-4d6f-c2a4-82780138e5b2"
      },
      "outputs": [
        {
          "output_type": "stream",
          "name": "stdout",
          "text": [
            "RMSE: 1.0487\n",
            "Precision:  0.397\n",
            "Recall:  0.582\n",
            "F_1 score:  0.472\n"
          ]
        }
      ],
      "source": [
        "# Make baseline clustering model\n",
        "clust_model = CoClustering(random_state=1)\n",
        "\n",
        "# Training the algorithm on the trainset\n",
        "clust_model.fit(trainset)\n",
        "\n",
        "# Let us compute precision@k and recall@k with k = 30.\n",
        "precision_recall_at_k(clust_model)"
      ]
    },
    {
      "cell_type": "markdown",
      "source": [
        "**Observations and Insights:**\n",
        "\n",
        "1.\tRMSE (1.0487): Indicates moderate predictive accuracy, with some room for improvement.\n",
        "2.\tPrecision (0.397): Shows that 39.7% of the recommendations were relevant, highlighting the need for better accuracy.\n",
        "3.\tRecall (0.582): Demonstrates that the model successfully identified 58.2% of the songs users played, indicating decent coverage of relevant items.\n",
        "4.\tF1 Score (0.472): Provides a balanced measure of precision and recall, indicating a nearly good overall effectiveness.\n",
        "\n",
        "Overall, while the model is functional, it requires significant improvements for better performance."
      ],
      "metadata": {
        "id": "AIiyFvVMUzJf"
      }
    },
    {
      "cell_type": "markdown",
      "source": [
        "\n",
        "\n",
        "---\n",
        "\n",
        "\n",
        "**Predicting play_counts for a user with user id=6958 and song id=1671 as shown below.**"
      ],
      "metadata": {
        "id": "wb_t7g1QTyvE"
      }
    },
    {
      "cell_type": "code",
      "execution_count": null,
      "metadata": {
        "id": "11dbdc0f",
        "colab": {
          "base_uri": "https://localhost:8080/"
        },
        "outputId": "c250c825-1211-452e-83f8-a399f32ffa07"
      },
      "outputs": [
        {
          "output_type": "stream",
          "name": "stdout",
          "text": [
            "user: 6958       item: 1671       r_ui = 2.00   est = 1.29   {'was_impossible': False}\n",
            "Predicted Rating for user '6958' and product '1671': 1.2941824757363074\n"
          ]
        }
      ],
      "source": [
        "# Making prediction for user_id 6958 and song_id 1671\n",
        "predict = clust_model.predict(6958, 1671, r_ui=2, verbose=True)\n",
        "\n",
        "# Print the prediction\n",
        "print(f\"Predicted Rating for user '6958' and product '1671': {predict.est}\") # Use user id 6958 and song_id 1671"
      ]
    },
    {
      "cell_type": "markdown",
      "source": [
        "**Predicting play_counts for a user with user id=6958 and song id=3232 as shown below.**"
      ],
      "metadata": {
        "id": "hhn4O2kjT0n6"
      }
    },
    {
      "cell_type": "code",
      "execution_count": null,
      "metadata": {
        "id": "dab1aaed",
        "colab": {
          "base_uri": "https://localhost:8080/"
        },
        "outputId": "7caf27e4-1a7b-4660-eda2-dcd92abceb57"
      },
      "outputs": [
        {
          "output_type": "stream",
          "name": "stdout",
          "text": [
            "user: 6958       item: 3232       r_ui = None   est = 1.48   {'was_impossible': False}\n",
            "Predicted Rating for user '6958' and song '3232': 1.4785259100797417\n"
          ]
        }
      ],
      "source": [
        "# Making prediction for user (userid 6958) for a song(song_id 3232) not heard by the user\n",
        "predict = clust_model.predict(6958, 3232, verbose=True)\n",
        "\n",
        "# Print the prediction\n",
        "print(f\"Predicted Rating for user '6958' and song '3232': {predict.est}\") # Use user_id 6958 and song_id 3232"
      ]
    },
    {
      "cell_type": "markdown",
      "source": [
        "**Observations and Insights:**\n",
        "\n",
        "1.\tPrediction for User 6958 and Song 1671:\n",
        " - Actual Rating (r_ui): The user has previously rated this song with a score of 2.00.\n",
        " - Predicted Rating (est): The CoClustering model predicts the rating for this song as approximately 1.29.\n",
        " - Prediction Details: The prediction was feasible ('was_impossible': False).\n",
        "\n",
        "2.\tPrediction for User 6958 and Song 3232:\n",
        " - Actual Rating (r_ui): The user has not previously rated this song (indicated by r_ui = None).\n",
        " - Predicted Rating (est): The CoClustering model predicts the rating for this song as approximately 1.48.\n",
        " - Prediction Details: The prediction was feasible ('was_impossible': False).\n",
        "\n",
        "\n",
        " The CoClustering model was able to successfully predict ratings for both a previously rated song and a new song for user 6958. This demonstrates the model’s capability to provide estimates for both familiar and unfamiliar items."
      ],
      "metadata": {
        "id": "BeTySm1jU41z"
      }
    },
    {
      "cell_type": "markdown",
      "metadata": {
        "id": "c2fd66f5"
      },
      "source": [
        "#### **Hyperparameter Tuning the Model**"
      ]
    },
    {
      "cell_type": "code",
      "execution_count": null,
      "metadata": {
        "id": "Z4qLUZKv0Uc5",
        "colab": {
          "base_uri": "https://localhost:8080/"
        },
        "outputId": "ade9a483-e782-4944-c5f7-785f3d896f0d"
      },
      "outputs": [
        {
          "output_type": "stream",
          "name": "stdout",
          "text": [
            "Best RMSE Score: 1.058472321779191\n",
            "Best Hyperparameters:\n",
            "n_cltr_u: 5\n",
            "n_cltr_i: 5\n",
            "n_epochs: 10\n"
          ]
        }
      ],
      "source": [
        "# Set up the parameter grid for hyperparameter tuning\n",
        "param_grid = {\n",
        "              'n_cltr_u': [5, 6, 7, 8],       # Number of iterations of the SGD algorithm\n",
        "              'n_cltr_i': [5, 6, 7, 8],       # Learning rate for all parameters\n",
        "              'n_epochs': [10, 20, 30]        # Regularization term for all parameters\n",
        "}\n",
        "\n",
        "# Set up GridSearchCV to perform hyperparameter tuning with 3-fold cross-validation\n",
        "gr_ser = GridSearchCV(CoClustering, param_grid, measures=['rmse'], cv=3, n_jobs=-1)\n",
        "\n",
        "# Fit the data to find the best hyperparameters\n",
        "gr_ser.fit(user_song_data)\n",
        "\n",
        "# Get the best RMSE score and combination of parameters\n",
        "bestRMSE = gr_ser.best_score['rmse']\n",
        "bestParam = gr_ser.best_params['rmse']\n",
        "\n",
        "# Display the best RMSE score and combination of parameters\n",
        "print(f\"Best RMSE Score: {bestRMSE}\")\n",
        "print(\"Best Hyperparameters:\")\n",
        "for param, value in bestParam.items():\n",
        "    print(f\"{param}: {value}\")"
      ]
    },
    {
      "cell_type": "code",
      "execution_count": null,
      "metadata": {
        "id": "5a7a8a30",
        "colab": {
          "base_uri": "https://localhost:8080/"
        },
        "outputId": "61a6cfb4-c1e1-4d75-bb14-e31485f139b0"
      },
      "outputs": [
        {
          "output_type": "stream",
          "name": "stdout",
          "text": [
            "RMSE: 1.0696\n",
            "Precision:  0.393\n",
            "Recall:  0.559\n",
            "F_1 score:  0.462\n"
          ]
        }
      ],
      "source": [
        "# Building the optimized Clustering model using optimal hyperparameters\n",
        "clust_options = {'n_cltr_u': 5, 'n_cltr_i': 5, 'n_epochs': 20}\n",
        "\n",
        "# Train the tuned Coclustering algorithm\n",
        "opt_clust_model = CoClustering(**clust_options, random_state=1)\n",
        "\n",
        "# Training the algorithm on the trainset\n",
        "opt_clust_model.fit(trainset)\n",
        "\n",
        "# Let us compute precision@k and recall@k with k = 30.\n",
        "precision_recall_at_k(opt_clust_model)"
      ]
    },
    {
      "cell_type": "code",
      "execution_count": null,
      "metadata": {
        "id": "qaKSiKfQAGAW",
        "colab": {
          "base_uri": "https://localhost:8080/",
          "height": 452
        },
        "outputId": "24af4ad7-98d4-4b6e-83ce-d09a1e94f108"
      },
      "outputs": [
        {
          "output_type": "display_data",
          "data": {
            "text/plain": [
              "<Figure size 640x480 with 1 Axes>"
            ],
            "image/png": "[encoded data removed]"
          },
          "metadata": {}
        }
      ],
      "source": [
        "rmse=1.0696\n",
        "precision=0.393\n",
        "recall=0.559\n",
        "f1=0.462\n",
        "\n",
        "# List of performance metrics to be displayed on the bar chart\n",
        "metrics = ['RMSE', 'Precision', 'Recall', 'F1 Score']\n",
        "\n",
        "# Corresponding values for each metric (e.g., RMSE value, Precision value, etc.)\n",
        "values = [rmse, precision, recall, f1]\n",
        "\n",
        "# Choose a custom cool color palette\n",
        "palette = ListedColormap(['#E6E6FA', '#D8BFD8', '#C4A7E7', '#BCA0DC'])\n",
        "\n",
        "# Create the bar chart using the chosen color palette\n",
        "bars = plt.bar(metrics, values, color=palette(range(len(metrics))))\n",
        "\n",
        "# Adding a title to the bar chart\n",
        "plt.title('Cluster-Based Model Performance Metrics')\n",
        "\n",
        "# Labeling the y-axis with \"Metric Value\"\n",
        "plt.ylabel('Metric Value')\n",
        "\n",
        "# Adding text labels on each bar with the rounded metric values\n",
        "for bar, value in zip(bars, values):\n",
        "    plt.text(bar.get_x() + bar.get_width() / 2, bar.get_height() / 2, round(value, 3),\n",
        "             ha='center', va='center', color='black')\n",
        "\n",
        "# Displaying the bar chart\n",
        "plt.show()"
      ]
    },
    {
      "cell_type": "markdown",
      "metadata": {
        "id": "l-Jvce1gznKa"
      },
      "source": [
        "**Observations and Insights:**\n",
        "\n",
        "**Initial Model Performance:**\n",
        "\n",
        "-mEvaluation Metrics:\n",
        " - RMSE: 1.0487\n",
        " - Precision: 0.397\n",
        " - Recall: 0.582\n",
        " - F1 Score: 0.472\n",
        "\n",
        "**Post Hyperparameter Tuning Performance:**\n",
        "\n",
        "- Evaluation Metrics:\n",
        " - RMSE: 1.0696\n",
        " - Precision: 0.393\n",
        " - Recall: 0.559\n",
        " - F1 Score: 0.462\n",
        "\n",
        "\n",
        "---\n",
        "\n",
        "\n",
        "**Comparison:**\n",
        "\n",
        "- RMSE: Increased from 1.0487 to 1.0696.\n",
        "- Precision: Decreased from 0.397 to 0.393.\n",
        "- Recall: Decreased from 0.582 to 0.559.\n",
        "- F1 Score: Decreased from 0.472 to 0.462.\n",
        "\n",
        "\n",
        "Hyperparameter tuning led to a decline in all metrics. The RMSE increased, indicating reduced predictive accuracy. Precision, recall, and F1 score all decreased, reflecting a decrease in overall performance."
      ]
    },
    {
      "cell_type": "markdown",
      "source": [
        "\n",
        "\n",
        "---\n",
        "\n",
        "\n",
        "**Predicting play_counts for a user with user id=6958 and song id=1671 as shown below.**"
      ],
      "metadata": {
        "id": "fJrDf9OzT7rW"
      }
    },
    {
      "cell_type": "code",
      "execution_count": null,
      "metadata": {
        "id": "6ba5b26b",
        "colab": {
          "base_uri": "https://localhost:8080/"
        },
        "outputId": "ef2efbb4-91f8-40af-f5b2-d54e8796a715"
      },
      "outputs": [
        {
          "output_type": "stream",
          "name": "stdout",
          "text": [
            "user: 6958       item: 1671       r_ui = 2.00   est = 1.19   {'was_impossible': False}\n",
            "Predicted Rating for user '6958' and product '1671': 1.187138103563827\n"
          ]
        }
      ],
      "source": [
        "# Using co_clustering_optimized model to recommend for userId 6958 and song_id 1671\n",
        "predict = opt_clust_model.predict(6958, 1671, r_ui=2, verbose=True)\n",
        "\n",
        "# Print the prediction\n",
        "print(f\"Predicted Rating for user '6958' and product '1671': {predict.est}\") # Use user id 6958 and song_id 1671"
      ]
    },
    {
      "cell_type": "markdown",
      "source": [
        "**Predicting play_counts for a user with user id=6958 and song id=3232 as shown below.**"
      ],
      "metadata": {
        "id": "r4mA9_n2UA0_"
      }
    },
    {
      "cell_type": "code",
      "execution_count": null,
      "metadata": {
        "id": "ec582940",
        "colab": {
          "base_uri": "https://localhost:8080/"
        },
        "outputId": "30774531-e488-4b6f-c7f0-9b67e160a44b"
      },
      "outputs": [
        {
          "output_type": "stream",
          "name": "stdout",
          "text": [
            "user: 6958       item: 3232       r_ui = None   est = 1.98   {'was_impossible': False}\n",
            "Predicted Rating for user '6958' and song '3232': 1.983911230116967\n"
          ]
        }
      ],
      "source": [
        "# Use Co_clustering based optimized model to recommend for userId 6958 and song_id 3232 with unknown baseline rating\n",
        "predict = opt_clust_model.predict(6958, 3232, verbose=True)\n",
        "\n",
        "# Print the prediction\n",
        "print(f\"Predicted Rating for user '6958' and song '3232': {predict.est}\") # Use user_id 6958 and song_id 3232"
      ]
    },
    {
      "cell_type": "markdown",
      "metadata": {
        "id": "rjGUSMqrzoDH"
      },
      "source": [
        "**Observations and Insights:**\n",
        "\n",
        "1.\tPrediction for User 6958 and Song 1671:\n",
        " - Actual Rating (r_ui): The user has previously rated this song with a score of 2.00.\n",
        " - Predicted Rating (est): The optimized Co-Clustering model predicts the rating for this song as approximately 1.19.\n",
        " - Prediction Details: The prediction was feasible ('was_impossible': False).\n",
        "\n",
        "2.\tPrediction for User 6958 and Song 3232:\n",
        " - Actual Rating (r_ui): The user has not previously rated this song (indicated by r_ui = None).\n",
        " - Predicted Rating (est): The optimized Co-Clustering model predicts the rating for this song as approximately 1.98.\n",
        " - Prediction Details: The prediction was feasible ('was_impossible': False).\n",
        "\n",
        "\n",
        "---\n",
        "\n",
        "\n",
        "Comparison:\n",
        "\n",
        "1.\tListened Song (User 6958, Song 1671):\n",
        " - Initial Model Predicted Rating: 1.29\n",
        " - Post Hyperparameter Tuning Predicted Rating: 1.19\n",
        " - Difference: The post-tuning predicted rating is lower, indicating a decrease in predicted rating accuracy.\n",
        "\n",
        "2.\tNot-listened Song (User 6958, Song 3232):\n",
        " - Initial Model Predicted Rating: 1.48\n",
        " - Post Hyperparameter Tuning Predicted Rating: 1.98\n",
        " - Difference: The prediction for the not-listened song increased, indicating a higher predicted rating post hyperparameter tuning.\n",
        "\n",
        "Hyperparameter tuning resulted in a lower predicted rating for the listened song, making it less accurate compared to the actual rating. For the not-listened song, the tuning led to a higher predicted rating. This demonstrates the optimized model’s varying performance in providing estimates for familiar and unfamiliar items."
      ]
    },
    {
      "cell_type": "markdown",
      "metadata": {
        "id": "df9e28ba"
      },
      "source": [
        "##### **Implementing the recommendation algorithm based on optimized CoClustering model**"
      ]
    },
    {
      "cell_type": "code",
      "execution_count": null,
      "metadata": {
        "id": "e0f36e15"
      },
      "outputs": [],
      "source": [
        "# Getting top 5 recommendations for user_id 6958 using \"Co-clustering based optimized\" algorithm\n",
        "CLUSTrecommendations = get_recommendations(df_final,6958, 5, opt_clust_model)"
      ]
    },
    {
      "cell_type": "code",
      "execution_count": null,
      "metadata": {
        "id": "Ocmk2NqX1FmP",
        "colab": {
          "base_uri": "https://localhost:8080/",
          "height": 204
        },
        "outputId": "dd610178-78a7-4789-de48-b410ff13a94a"
      },
      "outputs": [
        {
          "output_type": "execute_result",
          "data": {
            "text/plain": [
              "   song_id  predicted_ratings\n",
              "0     7224           2.762167\n",
              "1      614           2.622985\n",
              "2     8831           2.479993\n",
              "3     8092           2.383471\n",
              "4     3466           2.307579"
            ],
            "text/html": [
              "\n",
              "  <div id=\"df-e282c039-c486-4f79-9876-7f4386f3836d\" class=\"colab-df-container\">\n",
              "    <div>\n",
              "<style scoped>\n",
              "    .dataframe tbody tr th:only-of-type {\n",
              "        vertical-align: middle;\n",
              "    }\n",
              "\n",
              "    .dataframe tbody tr th {\n",
              "        vertical-align: top;\n",
              "    }\n",
              "\n",
              "    .dataframe thead th {\n",
              "        text-align: right;\n",
              "    }\n",
              "</style>\n",
              "<table border=\"1\" class=\"dataframe\">\n",
              "  <thead>\n",
              "    <tr style=\"text-align: right;\">\n",
              "      <th></th>\n",
              "      <th>song_id</th>\n",
              "      <th>predicted_ratings</th>\n",
              "    </tr>\n",
              "  </thead>\n",
              "  <tbody>\n",
              "    <tr>\n",
              "      <th>0</th>\n",
              "      <td>7224</td>\n",
              "      <td>2.762167</td>\n",
              "    </tr>\n",
              "    <tr>\n",
              "      <th>1</th>\n",
              "      <td>614</td>\n",
              "      <td>2.622985</td>\n",
              "    </tr>\n",
              "    <tr>\n",
              "      <th>2</th>\n",
              "      <td>8831</td>\n",
              "      <td>2.479993</td>\n",
              "    </tr>\n",
              "    <tr>\n",
              "      <th>3</th>\n",
              "      <td>8092</td>\n",
              "      <td>2.383471</td>\n",
              "    </tr>\n",
              "    <tr>\n",
              "      <th>4</th>\n",
              "      <td>3466</td>\n",
              "      <td>2.307579</td>\n",
              "    </tr>\n",
              "  </tbody>\n",
              "</table>\n",
              "</div>\n",
              "    <div class=\"colab-df-buttons\">\n",
              "\n",
              "  <div class=\"colab-df-container\">\n",
              "    <button class=\"colab-df-convert\" onclick=\"convertToInteractive('df-e282c039-c486-4f79-9876-7f4386f3836d')\"\n",
              "            title=\"Convert this dataframe to an interactive table.\"\n",
              "            style=\"display:none;\">\n",
              "\n",
              "  <svg xmlns=\"http://www.w3.org/2000/svg\" height=\"24px\" viewBox=\"0 -960 960 960\">\n",
              "    <path d=\"M120-120v-720h720v720H120Zm60-500h600v-160H180v160Zm220 220h160v-160H400v160Zm0 220h160v-160H400v160ZM180-400h160v-160H180v160Zm440 0h160v-160H620v160ZM180-180h160v-160H180v160Zm440 0h160v-160H620v160Z\"/>\n",
              "  </svg>\n",
              "    </button>\n",
              "\n",
              "  <style>\n",
              "    .colab-df-container {\n",
              "      display:flex;\n",
              "      gap: 12px;\n",
              "    }\n",
              "\n",
              "    .colab-df-convert {\n",
              "      background-color: #E8F0FE;\n",
              "      border: none;\n",
              "      border-radius: 50%;\n",
              "      cursor: pointer;\n",
              "      display: none;\n",
              "      fill: #1967D2;\n",
              "      height: 32px;\n",
              "      padding: 0 0 0 0;\n",
              "      width: 32px;\n",
              "    }\n",
              "\n",
              "    .colab-df-convert:hover {\n",
              "      background-color: #E2EBFA;\n",
              "      box-shadow: 0px 1px 2px rgba(60, 64, 67, 0.3), 0px 1px 3px 1px rgba(60, 64, 67, 0.15);\n",
              "      fill: #174EA6;\n",
              "    }\n",
              "\n",
              "    .colab-df-buttons div {\n",
              "      margin-bottom: 4px;\n",
              "    }\n",
              "\n",
              "    [theme=dark] .colab-df-convert {\n",
              "      background-color: #3B4455;\n",
              "      fill: #D2E3FC;\n",
              "    }\n",
              "\n",
              "    [theme=dark] .colab-df-convert:hover {\n",
              "      background-color: #434B5C;\n",
              "      box-shadow: 0px 1px 3px 1px rgba(0, 0, 0, 0.15);\n",
              "      filter: drop-shadow(0px 1px 2px rgba(0, 0, 0, 0.3));\n",
              "      fill: #FFFFFF;\n",
              "    }\n",
              "  </style>\n",
              "\n",
              "    <script>\n",
              "      const buttonEl =\n",
              "        document.querySelector('#df-e282c039-c486-4f79-9876-7f4386f3836d button.colab-df-convert');\n",
              "      buttonEl.style.display =\n",
              "        google.colab.kernel.accessAllowed ? 'block' : 'none';\n",
              "\n",
              "      async function convertToInteractive(key) {\n",
              "        const element = document.querySelector('#df-e282c039-c486-4f79-9876-7f4386f3836d');\n",
              "        const dataTable =\n",
              "          await google.colab.kernel.invokeFunction('convertToInteractive',\n",
              "                                                    [key], {});\n",
              "        if (!dataTable) return;\n",
              "\n",
              "        const docLinkHtml = 'Like what you see? Visit the ' +\n",
              "          '<a target=\"_blank\" href=https://colab.research.google.com/notebooks/data_table.ipynb>data table notebook</a>'\n",
              "          + ' to learn more about interactive tables.';\n",
              "        element.innerHTML = '';\n",
              "        dataTable['output_type'] = 'display_data';\n",
              "        await google.colab.output.renderOutput(dataTable, element);\n",
              "        const docLink = document.createElement('div');\n",
              "        docLink.innerHTML = docLinkHtml;\n",
              "        element.appendChild(docLink);\n",
              "      }\n",
              "    </script>\n",
              "  </div>\n",
              "\n",
              "\n",
              "<div id=\"df-21c5d4df-5c56-4eae-ab13-ee1ed02b53ec\">\n",
              "  <button class=\"colab-df-quickchart\" onclick=\"quickchart('df-21c5d4df-5c56-4eae-ab13-ee1ed02b53ec')\"\n",
              "            title=\"Suggest charts\"\n",
              "            style=\"display:none;\">\n",
              "\n",
              "<svg xmlns=\"http://www.w3.org/2000/svg\" height=\"24px\"viewBox=\"0 0 24 24\"\n",
              "     width=\"24px\">\n",
              "    <g>\n",
              "        <path d=\"M19 3H5c-1.1 0-2 .9-2 2v14c0 1.1.9 2 2 2h14c1.1 0 2-.9 2-2V5c0-1.1-.9-2-2-2zM9 17H7v-7h2v7zm4 0h-2V7h2v10zm4 0h-2v-4h2v4z\"/>\n",
              "    </g>\n",
              "</svg>\n",
              "  </button>\n",
              "\n",
              "<style>\n",
              "  .colab-df-quickchart {\n",
              "      --bg-color: #E8F0FE;\n",
              "      --fill-color: #1967D2;\n",
              "      --hover-bg-color: #E2EBFA;\n",
              "      --hover-fill-color: #174EA6;\n",
              "      --disabled-fill-color: #AAA;\n",
              "      --disabled-bg-color: #DDD;\n",
              "  }\n",
              "\n",
              "  [theme=dark] .colab-df-quickchart {\n",
              "      --bg-color: #3B4455;\n",
              "      --fill-color: #D2E3FC;\n",
              "      --hover-bg-color: #434B5C;\n",
              "      --hover-fill-color: #FFFFFF;\n",
              "      --disabled-bg-color: #3B4455;\n",
              "      --disabled-fill-color: #666;\n",
              "  }\n",
              "\n",
              "  .colab-df-quickchart {\n",
              "    background-color: var(--bg-color);\n",
              "    border: none;\n",
              "    border-radius: 50%;\n",
              "    cursor: pointer;\n",
              "    display: none;\n",
              "    fill: var(--fill-color);\n",
              "    height: 32px;\n",
              "    padding: 0;\n",
              "    width: 32px;\n",
              "  }\n",
              "\n",
              "  .colab-df-quickchart:hover {\n",
              "    background-color: var(--hover-bg-color);\n",
              "    box-shadow: 0 1px 2px rgba(60, 64, 67, 0.3), 0 1px 3px 1px rgba(60, 64, 67, 0.15);\n",
              "    fill: var(--button-hover-fill-color);\n",
              "  }\n",
              "\n",
              "  .colab-df-quickchart-complete:disabled,\n",
              "  .colab-df-quickchart-complete:disabled:hover {\n",
              "    background-color: var(--disabled-bg-color);\n",
              "    fill: var(--disabled-fill-color);\n",
              "    box-shadow: none;\n",
              "  }\n",
              "\n",
              "  .colab-df-spinner {\n",
              "    border: 2px solid var(--fill-color);\n",
              "    border-color: transparent;\n",
              "    border-bottom-color: var(--fill-color);\n",
              "    animation:\n",
              "      spin 1s steps(1) infinite;\n",
              "  }\n",
              "\n",
              "  @keyframes spin {\n",
              "    0% {\n",
              "      border-color: transparent;\n",
              "      border-bottom-color: var(--fill-color);\n",
              "      border-left-color: var(--fill-color);\n",
              "    }\n",
              "    20% {\n",
              "      border-color: transparent;\n",
              "      border-left-color: var(--fill-color);\n",
              "      border-top-color: var(--fill-color);\n",
              "    }\n",
              "    30% {\n",
              "      border-color: transparent;\n",
              "      border-left-color: var(--fill-color);\n",
              "      border-top-color: var(--fill-color);\n",
              "      border-right-color: var(--fill-color);\n",
              "    }\n",
              "    40% {\n",
              "      border-color: transparent;\n",
              "      border-right-color: var(--fill-color);\n",
              "      border-top-color: var(--fill-color);\n",
              "    }\n",
              "    60% {\n",
              "      border-color: transparent;\n",
              "      border-right-color: var(--fill-color);\n",
              "    }\n",
              "    80% {\n",
              "      border-color: transparent;\n",
              "      border-right-color: var(--fill-color);\n",
              "      border-bottom-color: var(--fill-color);\n",
              "    }\n",
              "    90% {\n",
              "      border-color: transparent;\n",
              "      border-bottom-color: var(--fill-color);\n",
              "    }\n",
              "  }\n",
              "</style>\n",
              "\n",
              "  <script>\n",
              "    async function quickchart(key) {\n",
              "      const quickchartButtonEl =\n",
              "        document.querySelector('#' + key + ' button');\n",
              "      quickchartButtonEl.disabled = true;  // To prevent multiple clicks.\n",
              "      quickchartButtonEl.classList.add('colab-df-spinner');\n",
              "      try {\n",
              "        const charts = await google.colab.kernel.invokeFunction(\n",
              "            'suggestCharts', [key], {});\n",
              "      } catch (error) {\n",
              "        console.error('Error during call to suggestCharts:', error);\n",
              "      }\n",
              "      quickchartButtonEl.classList.remove('colab-df-spinner');\n",
              "      quickchartButtonEl.classList.add('colab-df-quickchart-complete');\n",
              "    }\n",
              "    (() => {\n",
              "      let quickchartButtonEl =\n",
              "        document.querySelector('#df-21c5d4df-5c56-4eae-ab13-ee1ed02b53ec button');\n",
              "      quickchartButtonEl.style.display =\n",
              "        google.colab.kernel.accessAllowed ? 'block' : 'none';\n",
              "    })();\n",
              "  </script>\n",
              "</div>\n",
              "\n",
              "    </div>\n",
              "  </div>\n"
            ],
            "application/vnd.google.colaboratory.intrinsic+json": {
              "type": "dataframe",
              "summary": "{\n  \"name\": \"pd\",\n  \"rows\": 5,\n  \"fields\": [\n    {\n      \"column\": \"song_id\",\n      \"properties\": {\n        \"dtype\": \"number\",\n        \"std\": 3488,\n        \"min\": 614,\n        \"max\": 8831,\n        \"num_unique_values\": 5,\n        \"samples\": [\n          614,\n          3466,\n          8831\n        ],\n        \"semantic_type\": \"\",\n        \"description\": \"\"\n      }\n    },\n    {\n      \"column\": \"predicted_ratings\",\n      \"properties\": {\n        \"dtype\": \"number\",\n        \"std\": 0.18318740393412758,\n        \"min\": 2.307578941715713,\n        \"max\": 2.762167091985844,\n        \"num_unique_values\": 5,\n        \"samples\": [\n          2.622985458640737,\n          2.307578941715713,\n          2.4799927348191613\n        ],\n        \"semantic_type\": \"\",\n        \"description\": \"\"\n      }\n    }\n  ]\n}"
            }
          },
          "metadata": {},
          "execution_count": 86
        }
      ],
      "source": [
        "# Create a DataFrame from the cluster-based recommendations with columns 'song_id' and 'predicted_ratings'\n",
        "pd.DataFrame(CLUSTrecommendations, columns=['song_id', 'predicted_ratings'])"
      ]
    },
    {
      "cell_type": "markdown",
      "metadata": {
        "id": "f1696941"
      },
      "source": [
        "\n",
        "\n",
        "---\n",
        "\n",
        "\n",
        "**Correcting the play_count and Ranking the above songs**"
      ]
    },
    {
      "cell_type": "code",
      "execution_count": null,
      "metadata": {
        "id": "c186f13b",
        "scrolled": true,
        "colab": {
          "base_uri": "https://localhost:8080/",
          "height": 204
        },
        "outputId": "17ecd3fb-0234-4fd2-811a-5035700609b5"
      },
      "outputs": [
        {
          "output_type": "execute_result",
          "data": {
            "text/plain": [
              "   song_id  play_freq  predicted_ratings  corrected_ratings\n",
              "2     7224        107           2.762167           2.665493\n",
              "1      614        373           2.622985           2.571207\n",
              "3     8831        107           2.479993           2.383319\n",
              "0     8092        550           2.383471           2.340831\n",
              "4     3466        107           2.307579           2.210905"
            ],
            "text/html": [
              "\n",
              "  <div id=\"df-888aa781-8626-4a63-ab4f-0e6688e820ed\" class=\"colab-df-container\">\n",
              "    <div>\n",
              "<style scoped>\n",
              "    .dataframe tbody tr th:only-of-type {\n",
              "        vertical-align: middle;\n",
              "    }\n",
              "\n",
              "    .dataframe tbody tr th {\n",
              "        vertical-align: top;\n",
              "    }\n",
              "\n",
              "    .dataframe thead th {\n",
              "        text-align: right;\n",
              "    }\n",
              "</style>\n",
              "<table border=\"1\" class=\"dataframe\">\n",
              "  <thead>\n",
              "    <tr style=\"text-align: right;\">\n",
              "      <th></th>\n",
              "      <th>song_id</th>\n",
              "      <th>play_freq</th>\n",
              "      <th>predicted_ratings</th>\n",
              "      <th>corrected_ratings</th>\n",
              "    </tr>\n",
              "  </thead>\n",
              "  <tbody>\n",
              "    <tr>\n",
              "      <th>2</th>\n",
              "      <td>7224</td>\n",
              "      <td>107</td>\n",
              "      <td>2.762167</td>\n",
              "      <td>2.665493</td>\n",
              "    </tr>\n",
              "    <tr>\n",
              "      <th>1</th>\n",
              "      <td>614</td>\n",
              "      <td>373</td>\n",
              "      <td>2.622985</td>\n",
              "      <td>2.571207</td>\n",
              "    </tr>\n",
              "    <tr>\n",
              "      <th>3</th>\n",
              "      <td>8831</td>\n",
              "      <td>107</td>\n",
              "      <td>2.479993</td>\n",
              "      <td>2.383319</td>\n",
              "    </tr>\n",
              "    <tr>\n",
              "      <th>0</th>\n",
              "      <td>8092</td>\n",
              "      <td>550</td>\n",
              "      <td>2.383471</td>\n",
              "      <td>2.340831</td>\n",
              "    </tr>\n",
              "    <tr>\n",
              "      <th>4</th>\n",
              "      <td>3466</td>\n",
              "      <td>107</td>\n",
              "      <td>2.307579</td>\n",
              "      <td>2.210905</td>\n",
              "    </tr>\n",
              "  </tbody>\n",
              "</table>\n",
              "</div>\n",
              "    <div class=\"colab-df-buttons\">\n",
              "\n",
              "  <div class=\"colab-df-container\">\n",
              "    <button class=\"colab-df-convert\" onclick=\"convertToInteractive('df-888aa781-8626-4a63-ab4f-0e6688e820ed')\"\n",
              "            title=\"Convert this dataframe to an interactive table.\"\n",
              "            style=\"display:none;\">\n",
              "\n",
              "  <svg xmlns=\"http://www.w3.org/2000/svg\" height=\"24px\" viewBox=\"0 -960 960 960\">\n",
              "    <path d=\"M120-120v-720h720v720H120Zm60-500h600v-160H180v160Zm220 220h160v-160H400v160Zm0 220h160v-160H400v160ZM180-400h160v-160H180v160Zm440 0h160v-160H620v160ZM180-180h160v-160H180v160Zm440 0h160v-160H620v160Z\"/>\n",
              "  </svg>\n",
              "    </button>\n",
              "\n",
              "  <style>\n",
              "    .colab-df-container {\n",
              "      display:flex;\n",
              "      gap: 12px;\n",
              "    }\n",
              "\n",
              "    .colab-df-convert {\n",
              "      background-color: #E8F0FE;\n",
              "      border: none;\n",
              "      border-radius: 50%;\n",
              "      cursor: pointer;\n",
              "      display: none;\n",
              "      fill: #1967D2;\n",
              "      height: 32px;\n",
              "      padding: 0 0 0 0;\n",
              "      width: 32px;\n",
              "    }\n",
              "\n",
              "    .colab-df-convert:hover {\n",
              "      background-color: #E2EBFA;\n",
              "      box-shadow: 0px 1px 2px rgba(60, 64, 67, 0.3), 0px 1px 3px 1px rgba(60, 64, 67, 0.15);\n",
              "      fill: #174EA6;\n",
              "    }\n",
              "\n",
              "    .colab-df-buttons div {\n",
              "      margin-bottom: 4px;\n",
              "    }\n",
              "\n",
              "    [theme=dark] .colab-df-convert {\n",
              "      background-color: #3B4455;\n",
              "      fill: #D2E3FC;\n",
              "    }\n",
              "\n",
              "    [theme=dark] .colab-df-convert:hover {\n",
              "      background-color: #434B5C;\n",
              "      box-shadow: 0px 1px 3px 1px rgba(0, 0, 0, 0.15);\n",
              "      filter: drop-shadow(0px 1px 2px rgba(0, 0, 0, 0.3));\n",
              "      fill: #FFFFFF;\n",
              "    }\n",
              "  </style>\n",
              "\n",
              "    <script>\n",
              "      const buttonEl =\n",
              "        document.querySelector('#df-888aa781-8626-4a63-ab4f-0e6688e820ed button.colab-df-convert');\n",
              "      buttonEl.style.display =\n",
              "        google.colab.kernel.accessAllowed ? 'block' : 'none';\n",
              "\n",
              "      async function convertToInteractive(key) {\n",
              "        const element = document.querySelector('#df-888aa781-8626-4a63-ab4f-0e6688e820ed');\n",
              "        const dataTable =\n",
              "          await google.colab.kernel.invokeFunction('convertToInteractive',\n",
              "                                                    [key], {});\n",
              "        if (!dataTable) return;\n",
              "\n",
              "        const docLinkHtml = 'Like what you see? Visit the ' +\n",
              "          '<a target=\"_blank\" href=https://colab.research.google.com/notebooks/data_table.ipynb>data table notebook</a>'\n",
              "          + ' to learn more about interactive tables.';\n",
              "        element.innerHTML = '';\n",
              "        dataTable['output_type'] = 'display_data';\n",
              "        await google.colab.output.renderOutput(dataTable, element);\n",
              "        const docLink = document.createElement('div');\n",
              "        docLink.innerHTML = docLinkHtml;\n",
              "        element.appendChild(docLink);\n",
              "      }\n",
              "    </script>\n",
              "  </div>\n",
              "\n",
              "\n",
              "<div id=\"df-a94118da-001f-4095-aa3d-5f8a05e46eac\">\n",
              "  <button class=\"colab-df-quickchart\" onclick=\"quickchart('df-a94118da-001f-4095-aa3d-5f8a05e46eac')\"\n",
              "            title=\"Suggest charts\"\n",
              "            style=\"display:none;\">\n",
              "\n",
              "<svg xmlns=\"http://www.w3.org/2000/svg\" height=\"24px\"viewBox=\"0 0 24 24\"\n",
              "     width=\"24px\">\n",
              "    <g>\n",
              "        <path d=\"M19 3H5c-1.1 0-2 .9-2 2v14c0 1.1.9 2 2 2h14c1.1 0 2-.9 2-2V5c0-1.1-.9-2-2-2zM9 17H7v-7h2v7zm4 0h-2V7h2v10zm4 0h-2v-4h2v4z\"/>\n",
              "    </g>\n",
              "</svg>\n",
              "  </button>\n",
              "\n",
              "<style>\n",
              "  .colab-df-quickchart {\n",
              "      --bg-color: #E8F0FE;\n",
              "      --fill-color: #1967D2;\n",
              "      --hover-bg-color: #E2EBFA;\n",
              "      --hover-fill-color: #174EA6;\n",
              "      --disabled-fill-color: #AAA;\n",
              "      --disabled-bg-color: #DDD;\n",
              "  }\n",
              "\n",
              "  [theme=dark] .colab-df-quickchart {\n",
              "      --bg-color: #3B4455;\n",
              "      --fill-color: #D2E3FC;\n",
              "      --hover-bg-color: #434B5C;\n",
              "      --hover-fill-color: #FFFFFF;\n",
              "      --disabled-bg-color: #3B4455;\n",
              "      --disabled-fill-color: #666;\n",
              "  }\n",
              "\n",
              "  .colab-df-quickchart {\n",
              "    background-color: var(--bg-color);\n",
              "    border: none;\n",
              "    border-radius: 50%;\n",
              "    cursor: pointer;\n",
              "    display: none;\n",
              "    fill: var(--fill-color);\n",
              "    height: 32px;\n",
              "    padding: 0;\n",
              "    width: 32px;\n",
              "  }\n",
              "\n",
              "  .colab-df-quickchart:hover {\n",
              "    background-color: var(--hover-bg-color);\n",
              "    box-shadow: 0 1px 2px rgba(60, 64, 67, 0.3), 0 1px 3px 1px rgba(60, 64, 67, 0.15);\n",
              "    fill: var(--button-hover-fill-color);\n",
              "  }\n",
              "\n",
              "  .colab-df-quickchart-complete:disabled,\n",
              "  .colab-df-quickchart-complete:disabled:hover {\n",
              "    background-color: var(--disabled-bg-color);\n",
              "    fill: var(--disabled-fill-color);\n",
              "    box-shadow: none;\n",
              "  }\n",
              "\n",
              "  .colab-df-spinner {\n",
              "    border: 2px solid var(--fill-color);\n",
              "    border-color: transparent;\n",
              "    border-bottom-color: var(--fill-color);\n",
              "    animation:\n",
              "      spin 1s steps(1) infinite;\n",
              "  }\n",
              "\n",
              "  @keyframes spin {\n",
              "    0% {\n",
              "      border-color: transparent;\n",
              "      border-bottom-color: var(--fill-color);\n",
              "      border-left-color: var(--fill-color);\n",
              "    }\n",
              "    20% {\n",
              "      border-color: transparent;\n",
              "      border-left-color: var(--fill-color);\n",
              "      border-top-color: var(--fill-color);\n",
              "    }\n",
              "    30% {\n",
              "      border-color: transparent;\n",
              "      border-left-color: var(--fill-color);\n",
              "      border-top-color: var(--fill-color);\n",
              "      border-right-color: var(--fill-color);\n",
              "    }\n",
              "    40% {\n",
              "      border-color: transparent;\n",
              "      border-right-color: var(--fill-color);\n",
              "      border-top-color: var(--fill-color);\n",
              "    }\n",
              "    60% {\n",
              "      border-color: transparent;\n",
              "      border-right-color: var(--fill-color);\n",
              "    }\n",
              "    80% {\n",
              "      border-color: transparent;\n",
              "      border-right-color: var(--fill-color);\n",
              "      border-bottom-color: var(--fill-color);\n",
              "    }\n",
              "    90% {\n",
              "      border-color: transparent;\n",
              "      border-bottom-color: var(--fill-color);\n",
              "    }\n",
              "  }\n",
              "</style>\n",
              "\n",
              "  <script>\n",
              "    async function quickchart(key) {\n",
              "      const quickchartButtonEl =\n",
              "        document.querySelector('#' + key + ' button');\n",
              "      quickchartButtonEl.disabled = true;  // To prevent multiple clicks.\n",
              "      quickchartButtonEl.classList.add('colab-df-spinner');\n",
              "      try {\n",
              "        const charts = await google.colab.kernel.invokeFunction(\n",
              "            'suggestCharts', [key], {});\n",
              "      } catch (error) {\n",
              "        console.error('Error during call to suggestCharts:', error);\n",
              "      }\n",
              "      quickchartButtonEl.classList.remove('colab-df-spinner');\n",
              "      quickchartButtonEl.classList.add('colab-df-quickchart-complete');\n",
              "    }\n",
              "    (() => {\n",
              "      let quickchartButtonEl =\n",
              "        document.querySelector('#df-a94118da-001f-4095-aa3d-5f8a05e46eac button');\n",
              "      quickchartButtonEl.style.display =\n",
              "        google.colab.kernel.accessAllowed ? 'block' : 'none';\n",
              "    })();\n",
              "  </script>\n",
              "</div>\n",
              "\n",
              "    </div>\n",
              "  </div>\n"
            ],
            "application/vnd.google.colaboratory.intrinsic+json": {
              "type": "dataframe",
              "summary": "{\n  \"name\": \"ranking_songs(CLUSTrecommendations, final_play)\",\n  \"rows\": 5,\n  \"fields\": [\n    {\n      \"column\": \"song_id\",\n      \"properties\": {\n        \"dtype\": \"number\",\n        \"std\": 3488,\n        \"min\": 614,\n        \"max\": 8831,\n        \"num_unique_values\": 5,\n        \"samples\": [\n          614,\n          3466,\n          8831\n        ],\n        \"semantic_type\": \"\",\n        \"description\": \"\"\n      }\n    },\n    {\n      \"column\": \"play_freq\",\n      \"properties\": {\n        \"dtype\": \"number\",\n        \"std\": 204,\n        \"min\": 107,\n        \"max\": 550,\n        \"num_unique_values\": 3,\n        \"samples\": [\n          107,\n          373,\n          550\n        ],\n        \"semantic_type\": \"\",\n        \"description\": \"\"\n      }\n    },\n    {\n      \"column\": \"predicted_ratings\",\n      \"properties\": {\n        \"dtype\": \"number\",\n        \"std\": 0.18318740393412758,\n        \"min\": 2.307578941715713,\n        \"max\": 2.762167091985844,\n        \"num_unique_values\": 5,\n        \"samples\": [\n          2.622985458640737,\n          2.307578941715713,\n          2.4799927348191613\n        ],\n        \"semantic_type\": \"\",\n        \"description\": \"\"\n      }\n    },\n    {\n      \"column\": \"corrected_ratings\",\n      \"properties\": {\n        \"dtype\": \"number\",\n        \"std\": 0.18264357474722015,\n        \"min\": 2.2109052928111463,\n        \"max\": 2.6654934430812776,\n        \"num_unique_values\": 5,\n        \"samples\": [\n          2.571207421332887,\n          2.2109052928111463,\n          2.3833190859145947\n        ],\n        \"semantic_type\": \"\",\n        \"description\": \"\"\n      }\n    }\n  ]\n}"
            }
          },
          "metadata": {},
          "execution_count": 87
        }
      ],
      "source": [
        "# Rank the songs in recommendations based on the play count and frequency in final_play DataFrame\n",
        "ranking_songs(CLUSTrecommendations, final_play)"
      ]
    },
    {
      "cell_type": "markdown",
      "metadata": {
        "id": "_uJ_nZjBzvKH"
      },
      "source": [
        "**Observations and Insights:**\n",
        "\n",
        "The ranking_songs function refines initial recommendations by adjusting predicted ratings based on song play frequency. This provides a nuanced ranking that prioritizes songs both predicted to be liked by the user and frequently played by others. The final ranking balances personal predictions and general popularity."
      ]
    },
    {
      "cell_type": "markdown",
      "metadata": {
        "id": "5U56oSNsR-F2"
      },
      "source": [
        "#### **Content Based Recommendation Systems**"
      ]
    },
    {
      "cell_type": "markdown",
      "source": [
        "Content Based Recommendation Systems use item features and user preferences to suggest similar items. They rely on analyzing item descriptions and user profiles to match items with user interests, ensuring personalized and relevant recommendations."
      ],
      "metadata": {
        "id": "_xY3wc9yFEuR"
      }
    },
    {
      "cell_type": "markdown",
      "source": [
        "##### **Creating DataFrame for Content-Based Filtering**"
      ],
      "metadata": {
        "id": "J2ScOhcT0e2Q"
      }
    },
    {
      "cell_type": "code",
      "execution_count": null,
      "metadata": {
        "id": "RhUx2jgp4frC"
      },
      "outputs": [],
      "source": [
        "# Create a new DataFrame 'df_small' by assigning the values of 'df_final'\n",
        "df_small = df_final"
      ]
    },
    {
      "cell_type": "code",
      "execution_count": null,
      "metadata": {
        "id": "UX826CsjR-F3",
        "colab": {
          "base_uri": "https://localhost:8080/",
          "height": 204
        },
        "outputId": "b7199043-099d-4019-e72d-74862c1391a5"
      },
      "outputs": [
        {
          "output_type": "execute_result",
          "data": {
            "text/plain": [
              "     user_id  song_id  play_count                            title  \\\n",
              "200     6958      447           1               Daisy And Prudence   \n",
              "202     6958      512           1  The Ballad of Michael Valentine   \n",
              "203     6958      549           1        I Stand Corrected (Album)   \n",
              "204     6958      703           1            They Might Follow You   \n",
              "205     6958      719           1                       Monkey Man   \n",
              "\n",
              "                  release      artist_name  year  \\\n",
              "200          Distillation     Erin McKeown  2000   \n",
              "202               Sawdust      The Killers  2004   \n",
              "203       Vampire Weekend  Vampire Weekend  2007   \n",
              "204           Tiny Vipers      Tiny Vipers  2007   \n",
              "205  You Know I'm No Good    Amy Winehouse  2007   \n",
              "\n",
              "                                                  text  \n",
              "200       Daisy And Prudence Distillation Erin McKeown  \n",
              "202  The Ballad of Michael Valentine Sawdust The Ki...  \n",
              "203  I Stand Corrected (Album) Vampire Weekend Vamp...  \n",
              "204      They Might Follow You Tiny Vipers Tiny Vipers  \n",
              "205      Monkey Man You Know I'm No Good Amy Winehouse  "
            ],
            "text/html": [
              "\n",
              "  <div id=\"df-bc2fa02e-d28f-4a09-9c25-6f6930920f5c\" class=\"colab-df-container\">\n",
              "    <div>\n",
              "<style scoped>\n",
              "    .dataframe tbody tr th:only-of-type {\n",
              "        vertical-align: middle;\n",
              "    }\n",
              "\n",
              "    .dataframe tbody tr th {\n",
              "        vertical-align: top;\n",
              "    }\n",
              "\n",
              "    .dataframe thead th {\n",
              "        text-align: right;\n",
              "    }\n",
              "</style>\n",
              "<table border=\"1\" class=\"dataframe\">\n",
              "  <thead>\n",
              "    <tr style=\"text-align: right;\">\n",
              "      <th></th>\n",
              "      <th>user_id</th>\n",
              "      <th>song_id</th>\n",
              "      <th>play_count</th>\n",
              "      <th>title</th>\n",
              "      <th>release</th>\n",
              "      <th>artist_name</th>\n",
              "      <th>year</th>\n",
              "      <th>text</th>\n",
              "    </tr>\n",
              "  </thead>\n",
              "  <tbody>\n",
              "    <tr>\n",
              "      <th>200</th>\n",
              "      <td>6958</td>\n",
              "      <td>447</td>\n",
              "      <td>1</td>\n",
              "      <td>Daisy And Prudence</td>\n",
              "      <td>Distillation</td>\n",
              "      <td>Erin McKeown</td>\n",
              "      <td>2000</td>\n",
              "      <td>Daisy And Prudence Distillation Erin McKeown</td>\n",
              "    </tr>\n",
              "    <tr>\n",
              "      <th>202</th>\n",
              "      <td>6958</td>\n",
              "      <td>512</td>\n",
              "      <td>1</td>\n",
              "      <td>The Ballad of Michael Valentine</td>\n",
              "      <td>Sawdust</td>\n",
              "      <td>The Killers</td>\n",
              "      <td>2004</td>\n",
              "      <td>The Ballad of Michael Valentine Sawdust The Ki...</td>\n",
              "    </tr>\n",
              "    <tr>\n",
              "      <th>203</th>\n",
              "      <td>6958</td>\n",
              "      <td>549</td>\n",
              "      <td>1</td>\n",
              "      <td>I Stand Corrected (Album)</td>\n",
              "      <td>Vampire Weekend</td>\n",
              "      <td>Vampire Weekend</td>\n",
              "      <td>2007</td>\n",
              "      <td>I Stand Corrected (Album) Vampire Weekend Vamp...</td>\n",
              "    </tr>\n",
              "    <tr>\n",
              "      <th>204</th>\n",
              "      <td>6958</td>\n",
              "      <td>703</td>\n",
              "      <td>1</td>\n",
              "      <td>They Might Follow You</td>\n",
              "      <td>Tiny Vipers</td>\n",
              "      <td>Tiny Vipers</td>\n",
              "      <td>2007</td>\n",
              "      <td>They Might Follow You Tiny Vipers Tiny Vipers</td>\n",
              "    </tr>\n",
              "    <tr>\n",
              "      <th>205</th>\n",
              "      <td>6958</td>\n",
              "      <td>719</td>\n",
              "      <td>1</td>\n",
              "      <td>Monkey Man</td>\n",
              "      <td>You Know I'm No Good</td>\n",
              "      <td>Amy Winehouse</td>\n",
              "      <td>2007</td>\n",
              "      <td>Monkey Man You Know I'm No Good Amy Winehouse</td>\n",
              "    </tr>\n",
              "  </tbody>\n",
              "</table>\n",
              "</div>\n",
              "    <div class=\"colab-df-buttons\">\n",
              "\n",
              "  <div class=\"colab-df-container\">\n",
              "    <button class=\"colab-df-convert\" onclick=\"convertToInteractive('df-bc2fa02e-d28f-4a09-9c25-6f6930920f5c')\"\n",
              "            title=\"Convert this dataframe to an interactive table.\"\n",
              "            style=\"display:none;\">\n",
              "\n",
              "  <svg xmlns=\"http://www.w3.org/2000/svg\" height=\"24px\" viewBox=\"0 -960 960 960\">\n",
              "    <path d=\"M120-120v-720h720v720H120Zm60-500h600v-160H180v160Zm220 220h160v-160H400v160Zm0 220h160v-160H400v160ZM180-400h160v-160H180v160Zm440 0h160v-160H620v160ZM180-180h160v-160H180v160Zm440 0h160v-160H620v160Z\"/>\n",
              "  </svg>\n",
              "    </button>\n",
              "\n",
              "  <style>\n",
              "    .colab-df-container {\n",
              "      display:flex;\n",
              "      gap: 12px;\n",
              "    }\n",
              "\n",
              "    .colab-df-convert {\n",
              "      background-color: #E8F0FE;\n",
              "      border: none;\n",
              "      border-radius: 50%;\n",
              "      cursor: pointer;\n",
              "      display: none;\n",
              "      fill: #1967D2;\n",
              "      height: 32px;\n",
              "      padding: 0 0 0 0;\n",
              "      width: 32px;\n",
              "    }\n",
              "\n",
              "    .colab-df-convert:hover {\n",
              "      background-color: #E2EBFA;\n",
              "      box-shadow: 0px 1px 2px rgba(60, 64, 67, 0.3), 0px 1px 3px 1px rgba(60, 64, 67, 0.15);\n",
              "      fill: #174EA6;\n",
              "    }\n",
              "\n",
              "    .colab-df-buttons div {\n",
              "      margin-bottom: 4px;\n",
              "    }\n",
              "\n",
              "    [theme=dark] .colab-df-convert {\n",
              "      background-color: #3B4455;\n",
              "      fill: #D2E3FC;\n",
              "    }\n",
              "\n",
              "    [theme=dark] .colab-df-convert:hover {\n",
              "      background-color: #434B5C;\n",
              "      box-shadow: 0px 1px 3px 1px rgba(0, 0, 0, 0.15);\n",
              "      filter: drop-shadow(0px 1px 2px rgba(0, 0, 0, 0.3));\n",
              "      fill: #FFFFFF;\n",
              "    }\n",
              "  </style>\n",
              "\n",
              "    <script>\n",
              "      const buttonEl =\n",
              "        document.querySelector('#df-bc2fa02e-d28f-4a09-9c25-6f6930920f5c button.colab-df-convert');\n",
              "      buttonEl.style.display =\n",
              "        google.colab.kernel.accessAllowed ? 'block' : 'none';\n",
              "\n",
              "      async function convertToInteractive(key) {\n",
              "        const element = document.querySelector('#df-bc2fa02e-d28f-4a09-9c25-6f6930920f5c');\n",
              "        const dataTable =\n",
              "          await google.colab.kernel.invokeFunction('convertToInteractive',\n",
              "                                                    [key], {});\n",
              "        if (!dataTable) return;\n",
              "\n",
              "        const docLinkHtml = 'Like what you see? Visit the ' +\n",
              "          '<a target=\"_blank\" href=https://colab.research.google.com/notebooks/data_table.ipynb>data table notebook</a>'\n",
              "          + ' to learn more about interactive tables.';\n",
              "        element.innerHTML = '';\n",
              "        dataTable['output_type'] = 'display_data';\n",
              "        await google.colab.output.renderOutput(dataTable, element);\n",
              "        const docLink = document.createElement('div');\n",
              "        docLink.innerHTML = docLinkHtml;\n",
              "        element.appendChild(docLink);\n",
              "      }\n",
              "    </script>\n",
              "  </div>\n",
              "\n",
              "\n",
              "<div id=\"df-49e89a74-2542-46dc-ade8-78f6c9adf21c\">\n",
              "  <button class=\"colab-df-quickchart\" onclick=\"quickchart('df-49e89a74-2542-46dc-ade8-78f6c9adf21c')\"\n",
              "            title=\"Suggest charts\"\n",
              "            style=\"display:none;\">\n",
              "\n",
              "<svg xmlns=\"http://www.w3.org/2000/svg\" height=\"24px\"viewBox=\"0 0 24 24\"\n",
              "     width=\"24px\">\n",
              "    <g>\n",
              "        <path d=\"M19 3H5c-1.1 0-2 .9-2 2v14c0 1.1.9 2 2 2h14c1.1 0 2-.9 2-2V5c0-1.1-.9-2-2-2zM9 17H7v-7h2v7zm4 0h-2V7h2v10zm4 0h-2v-4h2v4z\"/>\n",
              "    </g>\n",
              "</svg>\n",
              "  </button>\n",
              "\n",
              "<style>\n",
              "  .colab-df-quickchart {\n",
              "      --bg-color: #E8F0FE;\n",
              "      --fill-color: #1967D2;\n",
              "      --hover-bg-color: #E2EBFA;\n",
              "      --hover-fill-color: #174EA6;\n",
              "      --disabled-fill-color: #AAA;\n",
              "      --disabled-bg-color: #DDD;\n",
              "  }\n",
              "\n",
              "  [theme=dark] .colab-df-quickchart {\n",
              "      --bg-color: #3B4455;\n",
              "      --fill-color: #D2E3FC;\n",
              "      --hover-bg-color: #434B5C;\n",
              "      --hover-fill-color: #FFFFFF;\n",
              "      --disabled-bg-color: #3B4455;\n",
              "      --disabled-fill-color: #666;\n",
              "  }\n",
              "\n",
              "  .colab-df-quickchart {\n",
              "    background-color: var(--bg-color);\n",
              "    border: none;\n",
              "    border-radius: 50%;\n",
              "    cursor: pointer;\n",
              "    display: none;\n",
              "    fill: var(--fill-color);\n",
              "    height: 32px;\n",
              "    padding: 0;\n",
              "    width: 32px;\n",
              "  }\n",
              "\n",
              "  .colab-df-quickchart:hover {\n",
              "    background-color: var(--hover-bg-color);\n",
              "    box-shadow: 0 1px 2px rgba(60, 64, 67, 0.3), 0 1px 3px 1px rgba(60, 64, 67, 0.15);\n",
              "    fill: var(--button-hover-fill-color);\n",
              "  }\n",
              "\n",
              "  .colab-df-quickchart-complete:disabled,\n",
              "  .colab-df-quickchart-complete:disabled:hover {\n",
              "    background-color: var(--disabled-bg-color);\n",
              "    fill: var(--disabled-fill-color);\n",
              "    box-shadow: none;\n",
              "  }\n",
              "\n",
              "  .colab-df-spinner {\n",
              "    border: 2px solid var(--fill-color);\n",
              "    border-color: transparent;\n",
              "    border-bottom-color: var(--fill-color);\n",
              "    animation:\n",
              "      spin 1s steps(1) infinite;\n",
              "  }\n",
              "\n",
              "  @keyframes spin {\n",
              "    0% {\n",
              "      border-color: transparent;\n",
              "      border-bottom-color: var(--fill-color);\n",
              "      border-left-color: var(--fill-color);\n",
              "    }\n",
              "    20% {\n",
              "      border-color: transparent;\n",
              "      border-left-color: var(--fill-color);\n",
              "      border-top-color: var(--fill-color);\n",
              "    }\n",
              "    30% {\n",
              "      border-color: transparent;\n",
              "      border-left-color: var(--fill-color);\n",
              "      border-top-color: var(--fill-color);\n",
              "      border-right-color: var(--fill-color);\n",
              "    }\n",
              "    40% {\n",
              "      border-color: transparent;\n",
              "      border-right-color: var(--fill-color);\n",
              "      border-top-color: var(--fill-color);\n",
              "    }\n",
              "    60% {\n",
              "      border-color: transparent;\n",
              "      border-right-color: var(--fill-color);\n",
              "    }\n",
              "    80% {\n",
              "      border-color: transparent;\n",
              "      border-right-color: var(--fill-color);\n",
              "      border-bottom-color: var(--fill-color);\n",
              "    }\n",
              "    90% {\n",
              "      border-color: transparent;\n",
              "      border-bottom-color: var(--fill-color);\n",
              "    }\n",
              "  }\n",
              "</style>\n",
              "\n",
              "  <script>\n",
              "    async function quickchart(key) {\n",
              "      const quickchartButtonEl =\n",
              "        document.querySelector('#' + key + ' button');\n",
              "      quickchartButtonEl.disabled = true;  // To prevent multiple clicks.\n",
              "      quickchartButtonEl.classList.add('colab-df-spinner');\n",
              "      try {\n",
              "        const charts = await google.colab.kernel.invokeFunction(\n",
              "            'suggestCharts', [key], {});\n",
              "      } catch (error) {\n",
              "        console.error('Error during call to suggestCharts:', error);\n",
              "      }\n",
              "      quickchartButtonEl.classList.remove('colab-df-spinner');\n",
              "      quickchartButtonEl.classList.add('colab-df-quickchart-complete');\n",
              "    }\n",
              "    (() => {\n",
              "      let quickchartButtonEl =\n",
              "        document.querySelector('#df-49e89a74-2542-46dc-ade8-78f6c9adf21c button');\n",
              "      quickchartButtonEl.style.display =\n",
              "        google.colab.kernel.accessAllowed ? 'block' : 'none';\n",
              "    })();\n",
              "  </script>\n",
              "</div>\n",
              "\n",
              "    </div>\n",
              "  </div>\n"
            ],
            "application/vnd.google.colaboratory.intrinsic+json": {
              "type": "dataframe",
              "variable_name": "df_small"
            }
          },
          "metadata": {},
          "execution_count": 89
        }
      ],
      "source": [
        "# Concatenate the \"title\", \"release\", \"artist_name\" columns to create a different column named \"text\"\n",
        "df_small['text'] = df_small['title'] + ' ' + df_small['release'] + ' ' + df_small['artist_name']\n",
        "\n",
        "# Display the first few rows of df_small to verify the changes\n",
        "df_small.head()"
      ]
    },
    {
      "cell_type": "markdown",
      "source": [
        "**Observations and Insights:**\n",
        "\n",
        "Concatenating Columns for Text Representation:\n",
        " - The “title”, “release”, and “artist_name” columns were concatenated to form a new column named “text”.\n",
        " - This “text” column combines key song metadata into a single textual representation.\n",
        "\n"
      ],
      "metadata": {
        "id": "17JOro2b09hu"
      }
    },
    {
      "cell_type": "code",
      "execution_count": null,
      "metadata": {
        "id": "WdXw4U-wR-F4",
        "colab": {
          "base_uri": "https://localhost:8080/",
          "height": 235
        },
        "outputId": "3fb1ab71-5981-4d82-c743-58576d164d6f"
      },
      "outputs": [
        {
          "output_type": "execute_result",
          "data": {
            "text/plain": [
              "                                 user_id  song_id  play_count  \\\n",
              "title                                                           \n",
              "Daisy And Prudence                  6958      447           1   \n",
              "The Ballad of Michael Valentine     6958      512           1   \n",
              "I Stand Corrected (Album)           6958      549           1   \n",
              "They Might Follow You               6958      703           1   \n",
              "Monkey Man                          6958      719           1   \n",
              "\n",
              "                                                                              text  \n",
              "title                                                                               \n",
              "Daisy And Prudence                    Daisy And Prudence Distillation Erin McKeown  \n",
              "The Ballad of Michael Valentine  The Ballad of Michael Valentine Sawdust The Ki...  \n",
              "I Stand Corrected (Album)        I Stand Corrected (Album) Vampire Weekend Vamp...  \n",
              "They Might Follow You                They Might Follow You Tiny Vipers Tiny Vipers  \n",
              "Monkey Man                           Monkey Man You Know I'm No Good Amy Winehouse  "
            ],
            "text/html": [
              "\n",
              "  <div id=\"df-5105fc55-4c6a-4dda-b273-fc4563369cc1\" class=\"colab-df-container\">\n",
              "    <div>\n",
              "<style scoped>\n",
              "    .dataframe tbody tr th:only-of-type {\n",
              "        vertical-align: middle;\n",
              "    }\n",
              "\n",
              "    .dataframe tbody tr th {\n",
              "        vertical-align: top;\n",
              "    }\n",
              "\n",
              "    .dataframe thead th {\n",
              "        text-align: right;\n",
              "    }\n",
              "</style>\n",
              "<table border=\"1\" class=\"dataframe\">\n",
              "  <thead>\n",
              "    <tr style=\"text-align: right;\">\n",
              "      <th></th>\n",
              "      <th>user_id</th>\n",
              "      <th>song_id</th>\n",
              "      <th>play_count</th>\n",
              "      <th>text</th>\n",
              "    </tr>\n",
              "    <tr>\n",
              "      <th>title</th>\n",
              "      <th></th>\n",
              "      <th></th>\n",
              "      <th></th>\n",
              "      <th></th>\n",
              "    </tr>\n",
              "  </thead>\n",
              "  <tbody>\n",
              "    <tr>\n",
              "      <th>Daisy And Prudence</th>\n",
              "      <td>6958</td>\n",
              "      <td>447</td>\n",
              "      <td>1</td>\n",
              "      <td>Daisy And Prudence Distillation Erin McKeown</td>\n",
              "    </tr>\n",
              "    <tr>\n",
              "      <th>The Ballad of Michael Valentine</th>\n",
              "      <td>6958</td>\n",
              "      <td>512</td>\n",
              "      <td>1</td>\n",
              "      <td>The Ballad of Michael Valentine Sawdust The Ki...</td>\n",
              "    </tr>\n",
              "    <tr>\n",
              "      <th>I Stand Corrected (Album)</th>\n",
              "      <td>6958</td>\n",
              "      <td>549</td>\n",
              "      <td>1</td>\n",
              "      <td>I Stand Corrected (Album) Vampire Weekend Vamp...</td>\n",
              "    </tr>\n",
              "    <tr>\n",
              "      <th>They Might Follow You</th>\n",
              "      <td>6958</td>\n",
              "      <td>703</td>\n",
              "      <td>1</td>\n",
              "      <td>They Might Follow You Tiny Vipers Tiny Vipers</td>\n",
              "    </tr>\n",
              "    <tr>\n",
              "      <th>Monkey Man</th>\n",
              "      <td>6958</td>\n",
              "      <td>719</td>\n",
              "      <td>1</td>\n",
              "      <td>Monkey Man You Know I'm No Good Amy Winehouse</td>\n",
              "    </tr>\n",
              "  </tbody>\n",
              "</table>\n",
              "</div>\n",
              "    <div class=\"colab-df-buttons\">\n",
              "\n",
              "  <div class=\"colab-df-container\">\n",
              "    <button class=\"colab-df-convert\" onclick=\"convertToInteractive('df-5105fc55-4c6a-4dda-b273-fc4563369cc1')\"\n",
              "            title=\"Convert this dataframe to an interactive table.\"\n",
              "            style=\"display:none;\">\n",
              "\n",
              "  <svg xmlns=\"http://www.w3.org/2000/svg\" height=\"24px\" viewBox=\"0 -960 960 960\">\n",
              "    <path d=\"M120-120v-720h720v720H120Zm60-500h600v-160H180v160Zm220 220h160v-160H400v160Zm0 220h160v-160H400v160ZM180-400h160v-160H180v160Zm440 0h160v-160H620v160ZM180-180h160v-160H180v160Zm440 0h160v-160H620v160Z\"/>\n",
              "  </svg>\n",
              "    </button>\n",
              "\n",
              "  <style>\n",
              "    .colab-df-container {\n",
              "      display:flex;\n",
              "      gap: 12px;\n",
              "    }\n",
              "\n",
              "    .colab-df-convert {\n",
              "      background-color: #E8F0FE;\n",
              "      border: none;\n",
              "      border-radius: 50%;\n",
              "      cursor: pointer;\n",
              "      display: none;\n",
              "      fill: #1967D2;\n",
              "      height: 32px;\n",
              "      padding: 0 0 0 0;\n",
              "      width: 32px;\n",
              "    }\n",
              "\n",
              "    .colab-df-convert:hover {\n",
              "      background-color: #E2EBFA;\n",
              "      box-shadow: 0px 1px 2px rgba(60, 64, 67, 0.3), 0px 1px 3px 1px rgba(60, 64, 67, 0.15);\n",
              "      fill: #174EA6;\n",
              "    }\n",
              "\n",
              "    .colab-df-buttons div {\n",
              "      margin-bottom: 4px;\n",
              "    }\n",
              "\n",
              "    [theme=dark] .colab-df-convert {\n",
              "      background-color: #3B4455;\n",
              "      fill: #D2E3FC;\n",
              "    }\n",
              "\n",
              "    [theme=dark] .colab-df-convert:hover {\n",
              "      background-color: #434B5C;\n",
              "      box-shadow: 0px 1px 3px 1px rgba(0, 0, 0, 0.15);\n",
              "      filter: drop-shadow(0px 1px 2px rgba(0, 0, 0, 0.3));\n",
              "      fill: #FFFFFF;\n",
              "    }\n",
              "  </style>\n",
              "\n",
              "    <script>\n",
              "      const buttonEl =\n",
              "        document.querySelector('#df-5105fc55-4c6a-4dda-b273-fc4563369cc1 button.colab-df-convert');\n",
              "      buttonEl.style.display =\n",
              "        google.colab.kernel.accessAllowed ? 'block' : 'none';\n",
              "\n",
              "      async function convertToInteractive(key) {\n",
              "        const element = document.querySelector('#df-5105fc55-4c6a-4dda-b273-fc4563369cc1');\n",
              "        const dataTable =\n",
              "          await google.colab.kernel.invokeFunction('convertToInteractive',\n",
              "                                                    [key], {});\n",
              "        if (!dataTable) return;\n",
              "\n",
              "        const docLinkHtml = 'Like what you see? Visit the ' +\n",
              "          '<a target=\"_blank\" href=https://colab.research.google.com/notebooks/data_table.ipynb>data table notebook</a>'\n",
              "          + ' to learn more about interactive tables.';\n",
              "        element.innerHTML = '';\n",
              "        dataTable['output_type'] = 'display_data';\n",
              "        await google.colab.output.renderOutput(dataTable, element);\n",
              "        const docLink = document.createElement('div');\n",
              "        docLink.innerHTML = docLinkHtml;\n",
              "        element.appendChild(docLink);\n",
              "      }\n",
              "    </script>\n",
              "  </div>\n",
              "\n",
              "\n",
              "<div id=\"df-9d834c67-d9e3-41d0-9ce1-1b361c69b6cc\">\n",
              "  <button class=\"colab-df-quickchart\" onclick=\"quickchart('df-9d834c67-d9e3-41d0-9ce1-1b361c69b6cc')\"\n",
              "            title=\"Suggest charts\"\n",
              "            style=\"display:none;\">\n",
              "\n",
              "<svg xmlns=\"http://www.w3.org/2000/svg\" height=\"24px\"viewBox=\"0 0 24 24\"\n",
              "     width=\"24px\">\n",
              "    <g>\n",
              "        <path d=\"M19 3H5c-1.1 0-2 .9-2 2v14c0 1.1.9 2 2 2h14c1.1 0 2-.9 2-2V5c0-1.1-.9-2-2-2zM9 17H7v-7h2v7zm4 0h-2V7h2v10zm4 0h-2v-4h2v4z\"/>\n",
              "    </g>\n",
              "</svg>\n",
              "  </button>\n",
              "\n",
              "<style>\n",
              "  .colab-df-quickchart {\n",
              "      --bg-color: #E8F0FE;\n",
              "      --fill-color: #1967D2;\n",
              "      --hover-bg-color: #E2EBFA;\n",
              "      --hover-fill-color: #174EA6;\n",
              "      --disabled-fill-color: #AAA;\n",
              "      --disabled-bg-color: #DDD;\n",
              "  }\n",
              "\n",
              "  [theme=dark] .colab-df-quickchart {\n",
              "      --bg-color: #3B4455;\n",
              "      --fill-color: #D2E3FC;\n",
              "      --hover-bg-color: #434B5C;\n",
              "      --hover-fill-color: #FFFFFF;\n",
              "      --disabled-bg-color: #3B4455;\n",
              "      --disabled-fill-color: #666;\n",
              "  }\n",
              "\n",
              "  .colab-df-quickchart {\n",
              "    background-color: var(--bg-color);\n",
              "    border: none;\n",
              "    border-radius: 50%;\n",
              "    cursor: pointer;\n",
              "    display: none;\n",
              "    fill: var(--fill-color);\n",
              "    height: 32px;\n",
              "    padding: 0;\n",
              "    width: 32px;\n",
              "  }\n",
              "\n",
              "  .colab-df-quickchart:hover {\n",
              "    background-color: var(--hover-bg-color);\n",
              "    box-shadow: 0 1px 2px rgba(60, 64, 67, 0.3), 0 1px 3px 1px rgba(60, 64, 67, 0.15);\n",
              "    fill: var(--button-hover-fill-color);\n",
              "  }\n",
              "\n",
              "  .colab-df-quickchart-complete:disabled,\n",
              "  .colab-df-quickchart-complete:disabled:hover {\n",
              "    background-color: var(--disabled-bg-color);\n",
              "    fill: var(--disabled-fill-color);\n",
              "    box-shadow: none;\n",
              "  }\n",
              "\n",
              "  .colab-df-spinner {\n",
              "    border: 2px solid var(--fill-color);\n",
              "    border-color: transparent;\n",
              "    border-bottom-color: var(--fill-color);\n",
              "    animation:\n",
              "      spin 1s steps(1) infinite;\n",
              "  }\n",
              "\n",
              "  @keyframes spin {\n",
              "    0% {\n",
              "      border-color: transparent;\n",
              "      border-bottom-color: var(--fill-color);\n",
              "      border-left-color: var(--fill-color);\n",
              "    }\n",
              "    20% {\n",
              "      border-color: transparent;\n",
              "      border-left-color: var(--fill-color);\n",
              "      border-top-color: var(--fill-color);\n",
              "    }\n",
              "    30% {\n",
              "      border-color: transparent;\n",
              "      border-left-color: var(--fill-color);\n",
              "      border-top-color: var(--fill-color);\n",
              "      border-right-color: var(--fill-color);\n",
              "    }\n",
              "    40% {\n",
              "      border-color: transparent;\n",
              "      border-right-color: var(--fill-color);\n",
              "      border-top-color: var(--fill-color);\n",
              "    }\n",
              "    60% {\n",
              "      border-color: transparent;\n",
              "      border-right-color: var(--fill-color);\n",
              "    }\n",
              "    80% {\n",
              "      border-color: transparent;\n",
              "      border-right-color: var(--fill-color);\n",
              "      border-bottom-color: var(--fill-color);\n",
              "    }\n",
              "    90% {\n",
              "      border-color: transparent;\n",
              "      border-bottom-color: var(--fill-color);\n",
              "    }\n",
              "  }\n",
              "</style>\n",
              "\n",
              "  <script>\n",
              "    async function quickchart(key) {\n",
              "      const quickchartButtonEl =\n",
              "        document.querySelector('#' + key + ' button');\n",
              "      quickchartButtonEl.disabled = true;  // To prevent multiple clicks.\n",
              "      quickchartButtonEl.classList.add('colab-df-spinner');\n",
              "      try {\n",
              "        const charts = await google.colab.kernel.invokeFunction(\n",
              "            'suggestCharts', [key], {});\n",
              "      } catch (error) {\n",
              "        console.error('Error during call to suggestCharts:', error);\n",
              "      }\n",
              "      quickchartButtonEl.classList.remove('colab-df-spinner');\n",
              "      quickchartButtonEl.classList.add('colab-df-quickchart-complete');\n",
              "    }\n",
              "    (() => {\n",
              "      let quickchartButtonEl =\n",
              "        document.querySelector('#df-9d834c67-d9e3-41d0-9ce1-1b361c69b6cc button');\n",
              "      quickchartButtonEl.style.display =\n",
              "        google.colab.kernel.accessAllowed ? 'block' : 'none';\n",
              "    })();\n",
              "  </script>\n",
              "</div>\n",
              "\n",
              "    </div>\n",
              "  </div>\n"
            ],
            "application/vnd.google.colaboratory.intrinsic+json": {
              "type": "dataframe",
              "variable_name": "df_small_selected",
              "summary": "{\n  \"name\": \"df_small_selected\",\n  \"rows\": 561,\n  \"fields\": [\n    {\n      \"column\": \"title\",\n      \"properties\": {\n        \"dtype\": \"string\",\n        \"num_unique_values\": 561,\n        \"samples\": [\n          \"Sweet home Alabama\",\n          \"I'm Done\",\n          \"Seven Nation Army\"\n        ],\n        \"semantic_type\": \"\",\n        \"description\": \"\"\n      }\n    },\n    {\n      \"column\": \"user_id\",\n      \"properties\": {\n        \"dtype\": \"number\",\n        \"std\": 18353,\n        \"min\": 11,\n        \"max\": 75901,\n        \"num_unique_values\": 68,\n        \"samples\": [\n          27729,\n          67704,\n          49549\n        ],\n        \"semantic_type\": \"\",\n        \"description\": \"\"\n      }\n    },\n    {\n      \"column\": \"song_id\",\n      \"properties\": {\n        \"dtype\": \"number\",\n        \"std\": 2898,\n        \"min\": 21,\n        \"max\": 9989,\n        \"num_unique_values\": 561,\n        \"samples\": [\n          8411,\n          8256,\n          310\n        ],\n        \"semantic_type\": \"\",\n        \"description\": \"\"\n      }\n    },\n    {\n      \"column\": \"play_count\",\n      \"properties\": {\n        \"dtype\": \"number\",\n        \"std\": 1,\n        \"min\": 1,\n        \"max\": 5,\n        \"num_unique_values\": 5,\n        \"samples\": [\n          5,\n          4,\n          2\n        ],\n        \"semantic_type\": \"\",\n        \"description\": \"\"\n      }\n    },\n    {\n      \"column\": \"text\",\n      \"properties\": {\n        \"dtype\": \"string\",\n        \"num_unique_values\": 561,\n        \"samples\": [\n          \"Sweet home Alabama To Die For Lynyrd Skynyrd\",\n          \"I'm Done Doll Domination The Pussycat Dolls\",\n          \"Seven Nation Army Seven Nation Army The White Stripes\"\n        ],\n        \"semantic_type\": \"\",\n        \"description\": \"\"\n      }\n    }\n  ]\n}"
            }
          },
          "metadata": {},
          "execution_count": 92
        }
      ],
      "source": [
        "# Select the columns 'user_id', 'song_id', 'play_count', 'title', 'text' from df_small data\n",
        "df_small_selected = df_small[['user_id', 'song_id', 'play_count', 'title', 'text']]\n",
        "\n",
        "# Drop the duplicates from the title column\n",
        "df_small_selected = df_small_selected.drop_duplicates(subset='title')\n",
        "\n",
        "# Set the title column as the index\n",
        "df_small_selected.set_index('title', inplace=True)\n",
        "\n",
        "# See the first 5 records of the df_small dataset\n",
        "df_small_selected.head()"
      ]
    },
    {
      "cell_type": "markdown",
      "source": [
        "**Observations and Insights:**\n",
        "\n",
        "- The transformation combines important song attributes into a single column, facilitating text-based analysis and recommendations."
      ],
      "metadata": {
        "id": "w5k3KUD01xp1"
      }
    },
    {
      "cell_type": "code",
      "execution_count": null,
      "metadata": {
        "id": "qDcYHwZTR-F5",
        "colab": {
          "base_uri": "https://localhost:8080/"
        },
        "outputId": "9f48f75e-9f6c-457d-d548-6411289257cd"
      },
      "outputs": [
        {
          "output_type": "execute_result",
          "data": {
            "text/plain": [
              "Index(['Daisy And Prudence', 'The Ballad of Michael Valentine',\n",
              "       'I Stand Corrected (Album)', 'They Might Follow You', 'Monkey Man'],\n",
              "      dtype='object', name='title')"
            ]
          },
          "metadata": {},
          "execution_count": 93
        }
      ],
      "source": [
        "# Get the indices of df_small_selected DataFrame\n",
        "indices = df_small_selected.index\n",
        "\n",
        "# Display the first 5 indices\n",
        "indices[:5]"
      ]
    },
    {
      "cell_type": "code",
      "execution_count": null,
      "metadata": {
        "id": "9UINF3Nwvwfr",
        "colab": {
          "base_uri": "https://localhost:8080/"
        },
        "outputId": "448ddd33-a17f-4fc3-8b26-7ee790344a33"
      },
      "outputs": [
        {
          "output_type": "stream",
          "name": "stderr",
          "text": [
            "[nltk_data] Downloading package punkt to /root/nltk_data...\n",
            "[nltk_data]   Unzipping tokenizers/punkt.zip.\n",
            "[nltk_data] Downloading package stopwords to /root/nltk_data...\n",
            "[nltk_data]   Unzipping corpora/stopwords.zip.\n",
            "[nltk_data] Downloading package wordnet to /root/nltk_data...\n"
          ]
        }
      ],
      "source": [
        "# Importing necessary packages to work with text data\n",
        "import nltk\n",
        "\n",
        "# Download punkt library\n",
        "nltk.download(\"punkt\")\n",
        "\n",
        "# Download stopwords library\n",
        "nltk.download(\"stopwords\")\n",
        "\n",
        "# Download wordnet\n",
        "nltk.download(\"wordnet\")\n",
        "\n",
        "# Import regular expression\n",
        "import re\n",
        "\n",
        "# Import word_tokenizer\n",
        "from nltk import word_tokenize\n",
        "\n",
        "# Import WordNetLemmatizer\n",
        "from nltk.stem import WordNetLemmatizer\n",
        "\n",
        "# Import stopwords\n",
        "from nltk.corpus import stopwords\n",
        "\n",
        "# Import CountVectorizer and TfidfVectorizer\n",
        "from sklearn.feature_extraction.text import CountVectorizer, TfidfVectorizer"
      ]
    },
    {
      "cell_type": "markdown",
      "source": [
        "##### **Text Data Preprocessing**"
      ],
      "metadata": {
        "id": "q0Iyqyl9z-dT"
      }
    },
    {
      "cell_type": "markdown",
      "metadata": {
        "id": "Jt2vitlnhoEg"
      },
      "source": [
        "**Create a function to pre-process the text data:**"
      ]
    },
    {
      "cell_type": "code",
      "execution_count": null,
      "metadata": {
        "id": "xXauYOZKAjrs"
      },
      "outputs": [],
      "source": [
        "# Function to tokenize the text\n",
        "def tokenize(text):\n",
        "\n",
        "    # Remove non-alphabetic characters and convert to lowercase\n",
        "    text = re.sub(r\"[^a-zA-Z]\",\" \", text.lower())\n",
        "\n",
        "    # Tokenize the text\n",
        "    tokens = word_tokenize(text)\n",
        "\n",
        "    # Remove stopwords using the English stopwords list\n",
        "    words = [word for word in tokens if word not in stopwords.words('english')]  # Use stopwords of english\n",
        "\n",
        "    # Lemmatize the words using the WordNet Lemmatizer\n",
        "    text_lems = [WordNetLemmatizer().lemmatize(lem).strip() for lem in words]\n",
        "\n",
        "    return text_lems"
      ]
    },
    {
      "cell_type": "markdown",
      "source": [
        "##### **Vectorization and Similarity Calculation**"
      ],
      "metadata": {
        "id": "KazRspqB0MTf"
      }
    },
    {
      "cell_type": "code",
      "execution_count": null,
      "metadata": {
        "id": "KGs4gKrMF4Zc"
      },
      "outputs": [],
      "source": [
        "# Create a TF-IDF vectorizer instance\n",
        "tfidf_vectorizer = TfidfVectorizer()\n",
        "\n",
        "# Fit_transform the above vectorizer on the text column and then convert the output into an array\n",
        "tfidf_matrix = tfidf_vectorizer.fit_transform(df_small_selected['text'])\n",
        "tfidf_matrix_array = tfidf_matrix.toarray()"
      ]
    },
    {
      "cell_type": "code",
      "execution_count": null,
      "metadata": {
        "id": "Au5OuJzfF6t7"
      },
      "outputs": [],
      "source": [
        "# Compute the cosine similarity for the tfidf above output\n",
        "cosine_sim = cosine_similarity(tfidf_matrix_array, tfidf_matrix_array)"
      ]
    },
    {
      "cell_type": "markdown",
      "metadata": {
        "id": "3Jjo3UHKhoEh"
      },
      "source": [
        "**Create a function to find most similar songs to recommend for a given song.**"
      ]
    },
    {
      "cell_type": "code",
      "execution_count": null,
      "metadata": {
        "id": "rr4FPZKDF9yi"
      },
      "outputs": [],
      "source": [
        "# Function to get recommendations based on cosine similarity\n",
        "def recommend_song(title, similar_songs=cosine_sim):\n",
        "    # Get the index of the song with the given title\n",
        "    idx = indices.get_loc(title)\n",
        "\n",
        "    # Get the pairwsie similarity scores of all songs with that song\n",
        "    sim_scores = list(enumerate(similar_songs[idx]))\n",
        "\n",
        "    # Sort the songs based on the similarity scores\n",
        "    sim_scores = sorted(sim_scores, key=lambda x: x[1], reverse=True)\n",
        "\n",
        "    # Get the scores of the 10 most similar songs\n",
        "    sim_scores = sim_scores[1:11]\n",
        "\n",
        "    # Get the song indices\n",
        "    song_indices = [i[0] for i in sim_scores]\n",
        "\n",
        "    # Return the top 10 most similar songs\n",
        "    return df_small_selected.index[song_indices]"
      ]
    },
    {
      "cell_type": "markdown",
      "metadata": {
        "id": "o4EINBmkR-F8"
      },
      "source": [
        "**Recommending 10 songs similar to Learn to Fly**"
      ]
    },
    {
      "cell_type": "code",
      "execution_count": null,
      "metadata": {
        "id": "5mQxjPEiGBKu",
        "colab": {
          "base_uri": "https://localhost:8080/"
        },
        "outputId": "d43467e6-4dc1-4c6a-c081-af4ff7be4161"
      },
      "outputs": [
        {
          "output_type": "execute_result",
          "data": {
            "text/plain": [
              "Index(['From Left To Right', 'Everlong', 'The Pretender', 'Time To Pretend',\n",
              "       'If It Means A Lot To You', 'Nothing Better (Album)',\n",
              "       'Somebody To Love', 'Just Friends', 'Down To Earth', 'Clocks'],\n",
              "      dtype='object', name='title')"
            ]
          },
          "metadata": {},
          "execution_count": 99
        }
      ],
      "source": [
        "# Example: Make the recommendation for the song with title 'Learn To Fly'\n",
        "recommendations = recommend_song('Learn To Fly')\n",
        "recommendations"
      ]
    },
    {
      "cell_type": "markdown",
      "metadata": {
        "id": "UQ7iI5QJ0oem"
      },
      "source": [
        "**Observations and Insights:**\n",
        "\n",
        "- The content-based recommendation system uses additional song features to enhance personalized recommendations.\n",
        "\n",
        "- Recommendations for a song, such as “Learn to Fly,” include titles with similar textual content, appealing to users with similar preferences.\n",
        "\n",
        "- Content-Based Recommender System Identifies Similar Songs to “Learn To Fly” by Foo Fighters\n",
        "\n",
        "\t1.\tArtist Consistency:\n",
        " - Everlong and The Pretender are also by Foo Fighters, indicating a strong preference for songs by the same artist. This is a common characteristic of content-based systems that leverage artist similarity.\n",
        "\t2.\tGenre and Style Similarities:\n",
        " - Time To Pretend by MGMT shares an alternative rock style with “Learn To Fly,” albeit with more electronic influences.\n",
        " - If It Means A Lot To You by A Day To Remember and Nothing Better (Album) by Postal Service represent a blend of rock and emo/indie genres, which resonate with Foo Fighters’ alternative rock sound.\n",
        "\t3.\tLyrical and Emotional Themes:\n",
        " - Songs like Just Friends by Amy Winehouse and Clocks by Coldplay share introspective and emotionally charged lyrical themes, aligning with the reflective nature of “Learn To Fly.”\n",
        "\t4.\tProduction Quality:\n",
        " - Clocks and Foo Fighters’ songs are known for their high production quality, making them appealing to listeners who appreciate well-produced tracks.\n",
        "\t5.\tVocal and Instrumental Characteristics:\n",
        " - Somebody To Love and Down To Earth by Justin Bieber offer a different genre (pop) but maintain melodic and vocal qualities that could attract fans of “Learn To Fly.”\n",
        "\t6.\tAlbum Context:\n",
        " - Similar albums often have cohesive production styles and thematic elements, as seen with Foo Fighters’ albums.\n",
        "\n",
        "- By leveraging these similarities, the recommender system successfully identifies songs that align with various aspects of “Learn To Fly,” providing a well-rounded and appealing set of recommendations.\n",
        "\n",
        "\n",
        "This approach explores diverse features, enriching recommendation systems beyond play count by considering the content and context of songs."
      ]
    },
    {
      "cell_type": "markdown",
      "metadata": {
        "id": "VLke6eMruPd2"
      },
      "source": [
        "\n",
        "\n",
        "---\n",
        "\n",
        "\n",
        "## **Final Proposed Solution**\n",
        "\n",
        "\n",
        "\n",
        "### **Matrix Factorization and Item-Item CF: An Ensemble Approach for Music Recommendation**"
      ]
    },
    {
      "cell_type": "markdown",
      "metadata": {
        "id": "yvPbKqMXrz1c"
      },
      "source": [
        "The Voting Ensemble method in machine learning leverages the strengths of multiple models to achieve superior performance. By combining predictions from various individual models through a “voting” process, this method draws upon diverse perspectives and expertise, much like a team of experts collaborating to solve a complex problem.\n",
        "\n",
        "\n",
        "**Key Advantages of Voting Ensemble:**\n",
        "\n",
        "•\tEnhanced Accuracy: By incorporating the strengths of different models, the ensemble approach improves prediction accuracy.\n",
        "\n",
        "•\tReduced Sensitivity to Noise: By averaging out predictions, the ensemble method mitigates the impact of anomalies and errors that might affect individual models, resulting in more reliable predictions.\n",
        "\n",
        "\n",
        "•\tBalanced Recommendations: This approach effectively handles data sparsity, promoting diverse exploration and personalized refinement.\n"
      ]
    },
    {
      "cell_type": "markdown",
      "metadata": {
        "id": "AR698MXQo5uK"
      },
      "source": [
        "**Implementation Strategy:**\n",
        "\n",
        "Utilize a Voting Ensemble to combine Item-Item Collaborative Filtering (IICF) and Matrix Factorization (MF) models. This method democratizes recommendations by having each model “vote” on the best item. Hard voting selects the majority choice, while soft voting considers individual model confidence scores for a weighted average.\n",
        "\n",
        "**Objectives:**\n",
        "\n",
        "•\tImproved Accuracy: Achieve better prediction accuracy compared to single models.\n",
        "\n",
        "•\tReduced Variance: Achieve more stable and consistent predictions by combining the outputs of different models.\n",
        "\n",
        "•\tAddress Data Sparsity: Effectively recommend items even with limited data.\n",
        "\n",
        "This ensemble approach aims to deliver a music recommendation system that enhances user satisfaction through a blend of diverse exploration and personalized refinement."
      ]
    },
    {
      "cell_type": "code",
      "source": [
        "from sklearn.metrics import mean_squared_error, precision_recall_fscore_support\n",
        "import joblib\n",
        "# Define cross-validation strategy\n",
        "kf = KFold(n_splits=5, random_state=42, shuffle=True)\n",
        "\n",
        "# Function to perform cross-validation and return predictions\n",
        "def get_cv_predictions(model, data, kf):\n",
        "    all_predictions = []\n",
        "    for trainset_cv, testset_cv in kf.split(data):\n",
        "        model.fit(trainset_cv)\n",
        "        predictions = model.test(testset_cv)\n",
        "        all_predictions.extend(predictions)\n",
        "    return all_predictions\n",
        "\n",
        "# Perform cross-validation on the dataset\n",
        "item_predictions_cv = get_cv_predictions(opt_sim_item_item_model, user_song_data, kf)\n",
        "svd_predictions_cv = get_cv_predictions(opt_svd_model, user_song_data, kf)\n",
        "\n",
        "# Combine predictions from both models by averaging their estimated ratings\n",
        "voting_predictions_cv = [(item_pred.uid, item_pred.iid, (item_pred.est + svd_pred.est) / 2.0)\n",
        "                         for item_pred, svd_pred in zip(item_predictions_cv, svd_predictions_cv)]\n",
        "\n",
        "# Extract actual ratings from the predictions for comparison\n",
        "actual_ratings_cv = [pred.r_ui for pred in item_predictions_cv]\n",
        "\n",
        "# Save the combined predictions and actual ratings\n",
        "joblib.dump(voting_predictions_cv, 'voting_predictions_cv.pkl')\n",
        "joblib.dump(actual_ratings_cv, 'actual_ratings_cv.pkl')\n",
        "\n",
        "# Calculate performance metrics for cross-validated training set\n",
        "predicted_ratings_cv = [pred[2] for pred in voting_predictions_cv]\n",
        "rmse_cv = np.sqrt(mean_squared_error(actual_ratings_cv, predicted_ratings_cv))\n",
        "print(f'Ensemble Model Cross-Validated Root Mean Squared Error: {round(rmse_cv, 3)}')\n",
        "\n",
        "# Convert actual ratings and predictions to binary format (threshold = 1.5)\n",
        "actual_ratings_cv_binary = np.array(actual_ratings_cv) >= 1.5\n",
        "voting_predictions_cv_binary = np.array(predicted_ratings_cv) >= 1.5\n",
        "\n",
        "# Calculate precision, recall, and F1 score for cross-validated training set\n",
        "precision_cv, recall_cv, f1_cv, _ = precision_recall_fscore_support(\n",
        "    actual_ratings_cv_binary, voting_predictions_cv_binary, average='binary')\n",
        "\n",
        "print(f'Ensemble Model Cross-Validated Precision: {round(precision_cv, 3)}')\n",
        "print(f'Ensemble Model Cross-Validated Recall: {round(recall_cv, 3)}')\n",
        "print(f'Ensemble Model Cross-Validated F1 Score: {round(f1_cv, 3)}')\n",
        "\n",
        "# Save the trained models after cross-validation\n",
        "joblib.dump(opt_sim_item_item_model, 'opt_sim_item_item_model_cv.pkl')\n",
        "joblib.dump(opt_svd_model, 'opt_svd_model_cv.pkl')\n",
        "\n",
        "# Save the testset\n",
        "joblib.dump(testset, 'testset.pkl')"
      ],
      "metadata": {
        "colab": {
          "base_uri": "https://localhost:8080/"
        },
        "id": "tHQgKsIkDf18",
        "outputId": "036fa4a1-11c7-446c-e0bb-87b5f7628df6"
      },
      "execution_count": null,
      "outputs": [
        {
          "output_type": "stream",
          "name": "stdout",
          "text": [
            "Ensemble Model Cross-Validated Root Mean Squared Error: 0.993\n",
            "Ensemble Model Cross-Validated Precision: 0.489\n",
            "Ensemble Model Cross-Validated Recall: 0.797\n",
            "Ensemble Model Cross-Validated F1 Score: 0.606\n"
          ]
        },
        {
          "output_type": "execute_result",
          "data": {
            "text/plain": [
              "['testset.pkl']"
            ]
          },
          "metadata": {},
          "execution_count": 100
        }
      ]
    },
    {
      "cell_type": "code",
      "source": [
        "# Load the test set\n",
        "testset = joblib.load('testset.pkl')\n",
        "\n",
        "# Load the trained models\n",
        "opt_sim_item_item_model = joblib.load('opt_sim_item_item_model_cv.pkl')\n",
        "opt_svd_model = joblib.load('opt_svd_model_cv.pkl')\n",
        "\n",
        "# Get predictions on the test set from both models\n",
        "item_predictions_test = opt_sim_item_item_model.test(testset)\n",
        "svd_predictions_test = opt_svd_model.test(testset)\n",
        "\n",
        "# Combine predictions from both models by averaging their estimated ratings on the test set\n",
        "voting_predictions_test = [(item_pred.uid, item_pred.iid, (item_pred.est + svd_pred.est) / 2.0)\n",
        "                           for item_pred, svd_pred in zip(item_predictions_test, svd_predictions_test)]\n",
        "\n",
        "# Extract actual ratings from the testset for comparison\n",
        "actual_ratings_test = [rating[2] for rating in testset]\n",
        "\n",
        "# Calculate performance metrics on the test set\n",
        "predicted_ratings_test = [pred[2] for pred in voting_predictions_test]\n",
        "rmse_test = np.sqrt(mean_squared_error(actual_ratings_test, predicted_ratings_test))\n",
        "print(f'Ensemble Model Testset Root Mean Squared Error: {round(rmse_test, 3)}')\n",
        "\n",
        "# Convert actual ratings and predictions to binary format (threshold = 1.5)\n",
        "actual_ratings_test_binary = np.array(actual_ratings_test) >= 1.5\n",
        "voting_predictions_test_binary = np.array(predicted_ratings_test) >= 1.5\n",
        "\n",
        "# Calculate precision, recall, and F1 score on the test set\n",
        "precision_test, recall_test, f1_test, _ = precision_recall_fscore_support(\n",
        "    actual_ratings_test_binary, voting_predictions_test_binary, average='binary')\n",
        "\n",
        "print(f'Ensemble Model Testset Precision: {round(precision_test, 3)}')\n",
        "print(f'Ensemble Model Testset Recall: {round(recall_test, 3)}')\n",
        "print(f'Ensemble Model Testset F1 Score: {round(f1_test, 3)}')"
      ],
      "metadata": {
        "colab": {
          "base_uri": "https://localhost:8080/"
        },
        "id": "e411O3EQOw8M",
        "outputId": "15e58ad5-5f78-4598-a3b2-0f89568cddc8"
      },
      "execution_count": null,
      "outputs": [
        {
          "output_type": "stream",
          "name": "stdout",
          "text": [
            "Ensemble Model Testset Root Mean Squared Error: 0.845\n",
            "Ensemble Model Testset Precision: 0.59\n",
            "Ensemble Model Testset Recall: 0.884\n",
            "Ensemble Model Testset F1 Score: 0.708\n"
          ]
        }
      ]
    },
    {
      "cell_type": "code",
      "execution_count": null,
      "metadata": {
        "id": "pJeJRVuh8LXX",
        "colab": {
          "base_uri": "https://localhost:8080/",
          "height": 452
        },
        "outputId": "352f6986-66d9-47ff-8336-0ed96fb92205"
      },
      "outputs": [
        {
          "output_type": "display_data",
          "data": {
            "text/plain": [
              "<Figure size 640x480 with 1 Axes>"
            ],
            "image/png": "[encoded data removed]"
          },
          "metadata": {}
        }
      ],
      "source": [
        "rmse=0.845\n",
        "precision=0.59\n",
        "recall=0.884\n",
        "f1=0.708\n",
        "\n",
        "# List of performance metrics to be displayed on the bar chart\n",
        "metrics = ['RMSE', 'Precision', 'Recall', 'F1 Score']\n",
        "\n",
        "# Corresponding values for each metric (e.g., RMSE value, Precision value, etc.)\n",
        "values = [rmse, precision, recall, f1]\n",
        "\n",
        "# Use a seaborn color palette\n",
        "palette = sns.color_palette('Purples', len(metrics))\n",
        "\n",
        "# Creating a bar chart using matplotlib with specified metrics and values\n",
        "bars = plt.bar(metrics, values, color=palette)\n",
        "\n",
        "# Adding a title to the bar chart\n",
        "plt.title('Ensemble Model Performance Metrics')\n",
        "\n",
        "# Labeling the y-axis with \"Metric Value\"\n",
        "plt.ylabel('Metric Value')\n",
        "\n",
        "# Adding text labels on each bar with the rounded metric values\n",
        "for bar, value in zip(bars, values):\n",
        "    plt.text(bar.get_x() + bar.get_width() / 2, bar.get_height() / 2, round(value, 3),\n",
        "             ha='center', va='center', color='black')\n",
        "\n",
        "# Displaying the bar chart\n",
        "plt.show()"
      ]
    },
    {
      "cell_type": "markdown",
      "source": [
        "**Observations and Insights:**\n",
        "\n",
        "**RMSE (0.845):**\n",
        "\n",
        "- The ensemble model achieved a cross-validated RMSE of 0.993, indicating the average deviation of the predicted ratings from the actual ratings. This metric shows the model’s accuracy in predicting user ratings.\n",
        "\n",
        "**High Recall (0.884):**\n",
        "\n",
        "- The high recall on the test set suggests that the model is effective in recommending songs that users might enjoy, minimizing instances where potentially enjoyable songs are missed.\n",
        "\n",
        "**Moderate Precision (0.59):**\n",
        "\n",
        "- The precision, while moderate, indicates that there might be a higher rate of recommending songs that users do not find enjoyable (false positives). This shows room for improvement in the model’s ability to filter out less relevant recommendations.\n",
        "\n",
        "**F1 Score (0.708):**\n",
        "\n",
        "- The F1 score provides a balance between precision and recall. In the context of a recommendation system, a balanced F1 score suggests a moderate compromise between minimizing missed opportunities and avoiding irrelevant recommendations.\n",
        "\n",
        "\n",
        "Overall, the ensemble model combining Item-Item Collaborative Filtering and Matrix Factorization demonstrates strong performance with improvements on the test set, ensuring better music recommendations through balanced precision and recall metrics."
      ],
      "metadata": {
        "id": "WrJ9nqS5B4_A"
      }
    },
    {
      "cell_type": "code",
      "source": [
        "from sklearn.metrics import confusion_matrix\n",
        "# Calculate the confusion matrix\n",
        "conf_matrix = confusion_matrix(actual_ratings_test_binary, voting_predictions_test_binary)\n",
        "plt.figure(figsize=(8, 6))\n",
        "sns.heatmap(conf_matrix, annot=True, fmt='d', cmap='Purples', xticklabels=['Negative', 'Positive'], yticklabels=['Negative', 'Positive'])\n",
        "plt.title('Confusion Matrix for Ensemble Model')\n",
        "plt.xlabel('Predicted')\n",
        "plt.ylabel('Actual')\n",
        "plt.show()\n"
      ],
      "metadata": {
        "colab": {
          "base_uri": "https://localhost:8080/",
          "height": 564
        },
        "id": "Koc0PnwFLmYu",
        "outputId": "d1fa8483-c796-4577-ab5b-1e8d5c1f7cd2"
      },
      "execution_count": null,
      "outputs": [
        {
          "output_type": "display_data",
          "data": {
            "text/plain": [
              "<Figure size 800x600 with 2 Axes>"
            ],
            "image/png": "[encoded data removed]"
          },
          "metadata": {}
        }
      ]
    },
    {
      "cell_type": "markdown",
      "metadata": {
        "id": "cR0gEUYzS1Bb"
      },
      "source": [
        "**Observations and Insights:**\n",
        "\n",
        "**Confusion Matrix Analysis:**\n",
        "\n",
        "- True Positives (TP): 16,102\n",
        " - The model correctly identified 16,102 instances where users enjoyed the recommended songs.\n",
        "- rue Negatives (TN): 17,753\n",
        " - he model accurately recognized 17,753 cases where users did not enjoy the songs, ensuring irrelevant recommendations were minimized.\n",
        "- False Positives (FP): 11,184\n",
        " - There were 11,184 instances where the model incorrectly recommended songs that users did not enjoy, indicating room for improvement in precision.\n",
        "- False Negatives (FN): 2,112\n",
        " - The model missed 2,112 instances where users would have enjoyed the recommended songs, suggesting potential enhancement in recall.\n",
        "\n",
        "Overall, the confusion matrix provides valuable insights into the model’s performance, highlighting its strengths in accurate recommendations and areas for further refinement.\n",
        "\n"
      ]
    },
    {
      "cell_type": "markdown",
      "metadata": {
        "id": "sDgnMKhfymgS"
      },
      "source": [
        "## **Recommendations for Implementation**"
      ]
    },
    {
      "cell_type": "markdown",
      "metadata": {
        "id": "wiEKb-iiKfqb"
      },
      "source": [
        "**Recommendations for Implementation**\n",
        "\n",
        "1.\tUser-User Collaborative Filtering: Expand the dataset with diverse user information to enhance accuracy and efficacy while maintaining user privacy.\n",
        "2.\tMulti-Model Ensemble: Explore hybrid systems to leverage various modeling techniques while managing computational complexity.\n",
        "3.\tUser Feedback Loop: Establish mechanisms for user feedback to continuously improve personalization and satisfaction.\n",
        "4.\tMonitoring and Evaluation: Regularly monitor model performance to ensure sustained recommendation quality.\n"
      ]
    },
    {
      "cell_type": "markdown",
      "metadata": {
        "id": "adS7E8xdMNnQ"
      },
      "source": [
        "**Stakeholder Actionables**\n",
        "\n",
        "1.\tDevelopment Team: Regularly assess and address technical challenges.\n",
        "2.\tUser Experience Team: Implement and gather feedback to measure recommendation effectiveness.\n",
        "3.\tManagement: Allocate resources for integration and monitor key performance indicators."
      ]
    },
    {
      "cell_type": "markdown",
      "metadata": {
        "id": "JYM0fcSAOlRn"
      },
      "source": [
        "**Expected Benefits and Costs**\n",
        "\n",
        "•\tBenefits: Improved recommendation accuracy, enhanced user satisfaction, increased platform retention.\n",
        "\n",
        "•\tCosts: Development, computational resources, user feedback mechanisms, and ongoing operational costs."
      ]
    },
    {
      "cell_type": "markdown",
      "metadata": {
        "id": "kjDuPQOaNFHE"
      },
      "source": [
        "**Key Risks and Challenges**\n",
        "\n",
        "1.\tModel Degradation: Mitigate by regular performance monitoring.\n",
        "2.\tUser Adoption: Gradual rollout with clear communication of benefits."
      ]
    },
    {
      "cell_type": "markdown",
      "metadata": {
        "id": "H2woGxnJNMxf"
      },
      "source": [
        "**Further Analysis**\n",
        "\n",
        "1.\tDiversity Analysis: Ensure broad coverage of musical genres and artists.\n",
        "2.\tLong-Term User Engagement: Investigate the impact on user engagement over time.\n",
        "3.\tCold Start Problem: Address recommendations for new users or items with limited data.\n",
        "4.\tDynamic Adaptation: Explore methods for the model to adapt to evolving user preferences."
      ]
    }
  ],
  "metadata": {
    "colab": {
      "provenance": [],
      "include_colab_link": true
    },
    "kernelspec": {
      "display_name": "Python 3 (ipykernel)",
      "language": "python",
      "name": "python3"
    },
    "language_info": {
      "codemirror_mode": {
        "name": "ipython",
        "version": 3
      },
      "file_extension": ".py",
      "mimetype": "text/x-python",
      "name": "python",
      "nbconvert_exporter": "python",
      "pygments_lexer": "ipython3",
      "version": "3.11.4"
    }
  },
  "nbformat": 4,
  "nbformat_minor": 0
}